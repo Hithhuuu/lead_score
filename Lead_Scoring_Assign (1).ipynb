{
  "cells": [
    {
      "cell_type": "markdown",
      "metadata": {
        "id": "CLIWuBQIZQiF"
      },
      "source": [
        "### Problem Statement :\n",
        "\n",
        "X Education sells online courses to industry professionals.The company markets its courses on several websites and search engines like Google.\n",
        "Once these people land on the website, they might browse the courses or fill up a form for the course or watch some videos.When \n",
        "these people fill up a form providing their email address or phone number, they are classified to be a lead. Moreover, the \n",
        "company also gets leads through past referrals. \n",
        "\n",
        "Once these leads are acquired, employees from the sales team start making calls, writing emails, etc. Through this process, \n",
        "some of the leads get converted while most do not.The typical lead conversion rate at X education is around 30%. \n",
        "\n",
        "### Business Goal :\n",
        "\n",
        "X Education needs help in selecting the most promising leads, i.e. the leads that are most likely to convert into paying \n",
        "customers. \n",
        "\n",
        "The company needs a model wherein you a lead score is assigned to each of the leads such that the customers with higher lead \n",
        "score have a higher conversion chance and the customers with lower lead score have a lower conversion chance. \n",
        "\n",
        "The CEO, in particular, has given a ballpark of the target lead conversion rate to be around 80%."
      ]
    },
    {
      "cell_type": "markdown",
      "metadata": {
        "id": "NEr0ZRSJZQiO"
      },
      "source": [
        "## Step 1: Reading and Understanding the Data\n",
        "\n",
        "Let us first import NumPy and Pandas and read the dataset"
      ]
    },
    {
      "cell_type": "code",
      "execution_count": 21,
      "metadata": {
        "id": "qes8ZQsYZQiP"
      },
      "outputs": [],
      "source": [
        "# Supress Warnings\n",
        "\n",
        "import warnings\n",
        "warnings.filterwarnings('ignore')"
      ]
    },
    {
      "cell_type": "code",
      "execution_count": 22,
      "metadata": {
        "id": "GyobGS8jZQiR"
      },
      "outputs": [],
      "source": [
        "# Importing all required packages\n",
        "\n",
        "import numpy as np\n",
        "import pandas as pd\n",
        "import matplotlib.pyplot as plt\n",
        "import seaborn as sns\n",
        "\n",
        "#import pandas_profile\n",
        "\n",
        "%matplotlib inline"
      ]
    },
    {
      "cell_type": "code",
      "execution_count": 23,
      "metadata": {
        "colab": {
          "base_uri": "https://localhost:8080/",
          "height": 629
        },
        "id": "36fRPiGzZQiR",
        "outputId": "300a1656-97c3-4cff-fc3b-c164b12c1610"
      },
      "outputs": [
        {
          "output_type": "execute_result",
          "data": {
            "text/plain": [
              "                            Prospect ID  Lead Number              Lead Origin  \\\n",
              "0  7927b2df-8bba-4d29-b9a2-b6e0beafe620       660737                      API   \n",
              "1  2a272436-5132-4136-86fa-dcc88c88f482       660728                      API   \n",
              "2  8cc8c611-a219-4f35-ad23-fdfd2656bd8a       660727  Landing Page Submission   \n",
              "3  0cc2df48-7cf4-4e39-9de9-19797f9b38cc       660719  Landing Page Submission   \n",
              "4  3256f628-e534-4826-9d63-4a8b88782852       660681  Landing Page Submission   \n",
              "\n",
              "      Lead Source Do Not Email Do Not Call  Converted  TotalVisits  \\\n",
              "0      Olark Chat           No          No          0          0.0   \n",
              "1  Organic Search           No          No          0          5.0   \n",
              "2  Direct Traffic           No          No          1          2.0   \n",
              "3  Direct Traffic           No          No          0          1.0   \n",
              "4          Google           No          No          1          2.0   \n",
              "\n",
              "   Total Time Spent on Website  Page Views Per Visit  ...  \\\n",
              "0                            0                   0.0  ...   \n",
              "1                          674                   2.5  ...   \n",
              "2                         1532                   2.0  ...   \n",
              "3                          305                   1.0  ...   \n",
              "4                         1428                   1.0  ...   \n",
              "\n",
              "  Get updates on DM Content    Lead Profile    City  \\\n",
              "0                        No          Select  Select   \n",
              "1                        No          Select  Select   \n",
              "2                        No  Potential Lead  Mumbai   \n",
              "3                        No          Select  Mumbai   \n",
              "4                        No          Select  Mumbai   \n",
              "\n",
              "  Asymmetrique Activity Index Asymmetrique Profile Index  \\\n",
              "0                   02.Medium                  02.Medium   \n",
              "1                   02.Medium                  02.Medium   \n",
              "2                   02.Medium                    01.High   \n",
              "3                   02.Medium                    01.High   \n",
              "4                   02.Medium                    01.High   \n",
              "\n",
              "  Asymmetrique Activity Score Asymmetrique Profile Score  \\\n",
              "0                        15.0                       15.0   \n",
              "1                        15.0                       15.0   \n",
              "2                        14.0                       20.0   \n",
              "3                        13.0                       17.0   \n",
              "4                        15.0                       18.0   \n",
              "\n",
              "  I agree to pay the amount through cheque  \\\n",
              "0                                       No   \n",
              "1                                       No   \n",
              "2                                       No   \n",
              "3                                       No   \n",
              "4                                       No   \n",
              "\n",
              "  A free copy of Mastering The Interview Last Notable Activity  \n",
              "0                                     No              Modified  \n",
              "1                                     No          Email Opened  \n",
              "2                                    Yes          Email Opened  \n",
              "3                                     No              Modified  \n",
              "4                                     No              Modified  \n",
              "\n",
              "[5 rows x 37 columns]"
            ],
            "text/html": [
              "\n",
              "  <div id=\"df-66b74963-212b-4758-bcc8-480b0cebaba6\">\n",
              "    <div class=\"colab-df-container\">\n",
              "      <div>\n",
              "<style scoped>\n",
              "    .dataframe tbody tr th:only-of-type {\n",
              "        vertical-align: middle;\n",
              "    }\n",
              "\n",
              "    .dataframe tbody tr th {\n",
              "        vertical-align: top;\n",
              "    }\n",
              "\n",
              "    .dataframe thead th {\n",
              "        text-align: right;\n",
              "    }\n",
              "</style>\n",
              "<table border=\"1\" class=\"dataframe\">\n",
              "  <thead>\n",
              "    <tr style=\"text-align: right;\">\n",
              "      <th></th>\n",
              "      <th>Prospect ID</th>\n",
              "      <th>Lead Number</th>\n",
              "      <th>Lead Origin</th>\n",
              "      <th>Lead Source</th>\n",
              "      <th>Do Not Email</th>\n",
              "      <th>Do Not Call</th>\n",
              "      <th>Converted</th>\n",
              "      <th>TotalVisits</th>\n",
              "      <th>Total Time Spent on Website</th>\n",
              "      <th>Page Views Per Visit</th>\n",
              "      <th>...</th>\n",
              "      <th>Get updates on DM Content</th>\n",
              "      <th>Lead Profile</th>\n",
              "      <th>City</th>\n",
              "      <th>Asymmetrique Activity Index</th>\n",
              "      <th>Asymmetrique Profile Index</th>\n",
              "      <th>Asymmetrique Activity Score</th>\n",
              "      <th>Asymmetrique Profile Score</th>\n",
              "      <th>I agree to pay the amount through cheque</th>\n",
              "      <th>A free copy of Mastering The Interview</th>\n",
              "      <th>Last Notable Activity</th>\n",
              "    </tr>\n",
              "  </thead>\n",
              "  <tbody>\n",
              "    <tr>\n",
              "      <th>0</th>\n",
              "      <td>7927b2df-8bba-4d29-b9a2-b6e0beafe620</td>\n",
              "      <td>660737</td>\n",
              "      <td>API</td>\n",
              "      <td>Olark Chat</td>\n",
              "      <td>No</td>\n",
              "      <td>No</td>\n",
              "      <td>0</td>\n",
              "      <td>0.0</td>\n",
              "      <td>0</td>\n",
              "      <td>0.0</td>\n",
              "      <td>...</td>\n",
              "      <td>No</td>\n",
              "      <td>Select</td>\n",
              "      <td>Select</td>\n",
              "      <td>02.Medium</td>\n",
              "      <td>02.Medium</td>\n",
              "      <td>15.0</td>\n",
              "      <td>15.0</td>\n",
              "      <td>No</td>\n",
              "      <td>No</td>\n",
              "      <td>Modified</td>\n",
              "    </tr>\n",
              "    <tr>\n",
              "      <th>1</th>\n",
              "      <td>2a272436-5132-4136-86fa-dcc88c88f482</td>\n",
              "      <td>660728</td>\n",
              "      <td>API</td>\n",
              "      <td>Organic Search</td>\n",
              "      <td>No</td>\n",
              "      <td>No</td>\n",
              "      <td>0</td>\n",
              "      <td>5.0</td>\n",
              "      <td>674</td>\n",
              "      <td>2.5</td>\n",
              "      <td>...</td>\n",
              "      <td>No</td>\n",
              "      <td>Select</td>\n",
              "      <td>Select</td>\n",
              "      <td>02.Medium</td>\n",
              "      <td>02.Medium</td>\n",
              "      <td>15.0</td>\n",
              "      <td>15.0</td>\n",
              "      <td>No</td>\n",
              "      <td>No</td>\n",
              "      <td>Email Opened</td>\n",
              "    </tr>\n",
              "    <tr>\n",
              "      <th>2</th>\n",
              "      <td>8cc8c611-a219-4f35-ad23-fdfd2656bd8a</td>\n",
              "      <td>660727</td>\n",
              "      <td>Landing Page Submission</td>\n",
              "      <td>Direct Traffic</td>\n",
              "      <td>No</td>\n",
              "      <td>No</td>\n",
              "      <td>1</td>\n",
              "      <td>2.0</td>\n",
              "      <td>1532</td>\n",
              "      <td>2.0</td>\n",
              "      <td>...</td>\n",
              "      <td>No</td>\n",
              "      <td>Potential Lead</td>\n",
              "      <td>Mumbai</td>\n",
              "      <td>02.Medium</td>\n",
              "      <td>01.High</td>\n",
              "      <td>14.0</td>\n",
              "      <td>20.0</td>\n",
              "      <td>No</td>\n",
              "      <td>Yes</td>\n",
              "      <td>Email Opened</td>\n",
              "    </tr>\n",
              "    <tr>\n",
              "      <th>3</th>\n",
              "      <td>0cc2df48-7cf4-4e39-9de9-19797f9b38cc</td>\n",
              "      <td>660719</td>\n",
              "      <td>Landing Page Submission</td>\n",
              "      <td>Direct Traffic</td>\n",
              "      <td>No</td>\n",
              "      <td>No</td>\n",
              "      <td>0</td>\n",
              "      <td>1.0</td>\n",
              "      <td>305</td>\n",
              "      <td>1.0</td>\n",
              "      <td>...</td>\n",
              "      <td>No</td>\n",
              "      <td>Select</td>\n",
              "      <td>Mumbai</td>\n",
              "      <td>02.Medium</td>\n",
              "      <td>01.High</td>\n",
              "      <td>13.0</td>\n",
              "      <td>17.0</td>\n",
              "      <td>No</td>\n",
              "      <td>No</td>\n",
              "      <td>Modified</td>\n",
              "    </tr>\n",
              "    <tr>\n",
              "      <th>4</th>\n",
              "      <td>3256f628-e534-4826-9d63-4a8b88782852</td>\n",
              "      <td>660681</td>\n",
              "      <td>Landing Page Submission</td>\n",
              "      <td>Google</td>\n",
              "      <td>No</td>\n",
              "      <td>No</td>\n",
              "      <td>1</td>\n",
              "      <td>2.0</td>\n",
              "      <td>1428</td>\n",
              "      <td>1.0</td>\n",
              "      <td>...</td>\n",
              "      <td>No</td>\n",
              "      <td>Select</td>\n",
              "      <td>Mumbai</td>\n",
              "      <td>02.Medium</td>\n",
              "      <td>01.High</td>\n",
              "      <td>15.0</td>\n",
              "      <td>18.0</td>\n",
              "      <td>No</td>\n",
              "      <td>No</td>\n",
              "      <td>Modified</td>\n",
              "    </tr>\n",
              "  </tbody>\n",
              "</table>\n",
              "<p>5 rows × 37 columns</p>\n",
              "</div>\n",
              "      <button class=\"colab-df-convert\" onclick=\"convertToInteractive('df-66b74963-212b-4758-bcc8-480b0cebaba6')\"\n",
              "              title=\"Convert this dataframe to an interactive table.\"\n",
              "              style=\"display:none;\">\n",
              "        \n",
              "  <svg xmlns=\"http://www.w3.org/2000/svg\" height=\"24px\"viewBox=\"0 0 24 24\"\n",
              "       width=\"24px\">\n",
              "    <path d=\"M0 0h24v24H0V0z\" fill=\"none\"/>\n",
              "    <path d=\"M18.56 5.44l.94 2.06.94-2.06 2.06-.94-2.06-.94-.94-2.06-.94 2.06-2.06.94zm-11 1L8.5 8.5l.94-2.06 2.06-.94-2.06-.94L8.5 2.5l-.94 2.06-2.06.94zm10 10l.94 2.06.94-2.06 2.06-.94-2.06-.94-.94-2.06-.94 2.06-2.06.94z\"/><path d=\"M17.41 7.96l-1.37-1.37c-.4-.4-.92-.59-1.43-.59-.52 0-1.04.2-1.43.59L10.3 9.45l-7.72 7.72c-.78.78-.78 2.05 0 2.83L4 21.41c.39.39.9.59 1.41.59.51 0 1.02-.2 1.41-.59l7.78-7.78 2.81-2.81c.8-.78.8-2.07 0-2.86zM5.41 20L4 18.59l7.72-7.72 1.47 1.35L5.41 20z\"/>\n",
              "  </svg>\n",
              "      </button>\n",
              "      \n",
              "  <style>\n",
              "    .colab-df-container {\n",
              "      display:flex;\n",
              "      flex-wrap:wrap;\n",
              "      gap: 12px;\n",
              "    }\n",
              "\n",
              "    .colab-df-convert {\n",
              "      background-color: #E8F0FE;\n",
              "      border: none;\n",
              "      border-radius: 50%;\n",
              "      cursor: pointer;\n",
              "      display: none;\n",
              "      fill: #1967D2;\n",
              "      height: 32px;\n",
              "      padding: 0 0 0 0;\n",
              "      width: 32px;\n",
              "    }\n",
              "\n",
              "    .colab-df-convert:hover {\n",
              "      background-color: #E2EBFA;\n",
              "      box-shadow: 0px 1px 2px rgba(60, 64, 67, 0.3), 0px 1px 3px 1px rgba(60, 64, 67, 0.15);\n",
              "      fill: #174EA6;\n",
              "    }\n",
              "\n",
              "    [theme=dark] .colab-df-convert {\n",
              "      background-color: #3B4455;\n",
              "      fill: #D2E3FC;\n",
              "    }\n",
              "\n",
              "    [theme=dark] .colab-df-convert:hover {\n",
              "      background-color: #434B5C;\n",
              "      box-shadow: 0px 1px 3px 1px rgba(0, 0, 0, 0.15);\n",
              "      filter: drop-shadow(0px 1px 2px rgba(0, 0, 0, 0.3));\n",
              "      fill: #FFFFFF;\n",
              "    }\n",
              "  </style>\n",
              "\n",
              "      <script>\n",
              "        const buttonEl =\n",
              "          document.querySelector('#df-66b74963-212b-4758-bcc8-480b0cebaba6 button.colab-df-convert');\n",
              "        buttonEl.style.display =\n",
              "          google.colab.kernel.accessAllowed ? 'block' : 'none';\n",
              "\n",
              "        async function convertToInteractive(key) {\n",
              "          const element = document.querySelector('#df-66b74963-212b-4758-bcc8-480b0cebaba6');\n",
              "          const dataTable =\n",
              "            await google.colab.kernel.invokeFunction('convertToInteractive',\n",
              "                                                     [key], {});\n",
              "          if (!dataTable) return;\n",
              "\n",
              "          const docLinkHtml = 'Like what you see? Visit the ' +\n",
              "            '<a target=\"_blank\" href=https://colab.research.google.com/notebooks/data_table.ipynb>data table notebook</a>'\n",
              "            + ' to learn more about interactive tables.';\n",
              "          element.innerHTML = '';\n",
              "          dataTable['output_type'] = 'display_data';\n",
              "          await google.colab.output.renderOutput(dataTable, element);\n",
              "          const docLink = document.createElement('div');\n",
              "          docLink.innerHTML = docLinkHtml;\n",
              "          element.appendChild(docLink);\n",
              "        }\n",
              "      </script>\n",
              "    </div>\n",
              "  </div>\n",
              "  "
            ]
          },
          "metadata": {},
          "execution_count": 23
        }
      ],
      "source": [
        "# Importing dataset\n",
        "\n",
        "lead_df = pd.read_csv('Leads.csv', encoding = 'latin')\n",
        "lead_df.head()"
      ]
    },
    {
      "cell_type": "code",
      "execution_count": 24,
      "metadata": {
        "colab": {
          "base_uri": "https://localhost:8080/"
        },
        "id": "hbvlDG1lZQiS",
        "outputId": "a0d7afcc-d092-41a5-f60e-35fb9fc692a7"
      },
      "outputs": [
        {
          "output_type": "stream",
          "name": "stdout",
          "text": [
            "<class 'pandas.core.frame.DataFrame'>\n",
            "RangeIndex: 9240 entries, 0 to 9239\n",
            "Data columns (total 37 columns):\n",
            " #   Column                                         Non-Null Count  Dtype  \n",
            "---  ------                                         --------------  -----  \n",
            " 0   Prospect ID                                    9240 non-null   object \n",
            " 1   Lead Number                                    9240 non-null   int64  \n",
            " 2   Lead Origin                                    9240 non-null   object \n",
            " 3   Lead Source                                    9204 non-null   object \n",
            " 4   Do Not Email                                   9240 non-null   object \n",
            " 5   Do Not Call                                    9240 non-null   object \n",
            " 6   Converted                                      9240 non-null   int64  \n",
            " 7   TotalVisits                                    9103 non-null   float64\n",
            " 8   Total Time Spent on Website                    9240 non-null   int64  \n",
            " 9   Page Views Per Visit                           9103 non-null   float64\n",
            " 10  Last Activity                                  9137 non-null   object \n",
            " 11  Country                                        6779 non-null   object \n",
            " 12  Specialization                                 7802 non-null   object \n",
            " 13  How did you hear about X Education             7033 non-null   object \n",
            " 14  What is your current occupation                6550 non-null   object \n",
            " 15  What matters most to you in choosing a course  6531 non-null   object \n",
            " 16  Search                                         9240 non-null   object \n",
            " 17  Magazine                                       9240 non-null   object \n",
            " 18  Newspaper Article                              9240 non-null   object \n",
            " 19  X Education Forums                             9240 non-null   object \n",
            " 20  Newspaper                                      9240 non-null   object \n",
            " 21  Digital Advertisement                          9240 non-null   object \n",
            " 22  Through Recommendations                        9240 non-null   object \n",
            " 23  Receive More Updates About Our Courses         9240 non-null   object \n",
            " 24  Tags                                           5887 non-null   object \n",
            " 25  Lead Quality                                   4473 non-null   object \n",
            " 26  Update me on Supply Chain Content              9240 non-null   object \n",
            " 27  Get updates on DM Content                      9240 non-null   object \n",
            " 28  Lead Profile                                   6531 non-null   object \n",
            " 29  City                                           7820 non-null   object \n",
            " 30  Asymmetrique Activity Index                    5022 non-null   object \n",
            " 31  Asymmetrique Profile Index                     5022 non-null   object \n",
            " 32  Asymmetrique Activity Score                    5022 non-null   float64\n",
            " 33  Asymmetrique Profile Score                     5022 non-null   float64\n",
            " 34  I agree to pay the amount through cheque       9240 non-null   object \n",
            " 35  A free copy of Mastering The Interview         9240 non-null   object \n",
            " 36  Last Notable Activity                          9240 non-null   object \n",
            "dtypes: float64(4), int64(3), object(30)\n",
            "memory usage: 2.6+ MB\n"
          ]
        }
      ],
      "source": [
        "lead_df.info()"
      ]
    },
    {
      "cell_type": "code",
      "execution_count": 25,
      "metadata": {
        "colab": {
          "base_uri": "https://localhost:8080/"
        },
        "id": "lBdJP0CrZQiT",
        "outputId": "53469839-6ab8-409c-cc24-8c4fc1e62340"
      },
      "outputs": [
        {
          "output_type": "execute_result",
          "data": {
            "text/plain": [
              "(9240, 37)"
            ]
          },
          "metadata": {},
          "execution_count": 25
        }
      ],
      "source": [
        "lead_df.shape"
      ]
    },
    {
      "cell_type": "code",
      "execution_count": 26,
      "metadata": {
        "colab": {
          "base_uri": "https://localhost:8080/"
        },
        "id": "JpQwrbqkZQiU",
        "outputId": "0b88145e-24ca-45e9-9671-3a57e0ab4c6a"
      },
      "outputs": [
        {
          "output_type": "execute_result",
          "data": {
            "text/plain": [
              "Prospect ID                                         0\n",
              "Lead Number                                         0\n",
              "Lead Origin                                         0\n",
              "Lead Source                                        36\n",
              "Do Not Email                                        0\n",
              "Do Not Call                                         0\n",
              "Converted                                           0\n",
              "TotalVisits                                       137\n",
              "Total Time Spent on Website                         0\n",
              "Page Views Per Visit                              137\n",
              "Last Activity                                     103\n",
              "Country                                          2461\n",
              "Specialization                                   1438\n",
              "How did you hear about X Education               2207\n",
              "What is your current occupation                  2690\n",
              "What matters most to you in choosing a course    2709\n",
              "Search                                              0\n",
              "Magazine                                            0\n",
              "Newspaper Article                                   0\n",
              "X Education Forums                                  0\n",
              "Newspaper                                           0\n",
              "Digital Advertisement                               0\n",
              "Through Recommendations                             0\n",
              "Receive More Updates About Our Courses              0\n",
              "Tags                                             3353\n",
              "Lead Quality                                     4767\n",
              "Update me on Supply Chain Content                   0\n",
              "Get updates on DM Content                           0\n",
              "Lead Profile                                     2709\n",
              "City                                             1420\n",
              "Asymmetrique Activity Index                      4218\n",
              "Asymmetrique Profile Index                       4218\n",
              "Asymmetrique Activity Score                      4218\n",
              "Asymmetrique Profile Score                       4218\n",
              "I agree to pay the amount through cheque            0\n",
              "A free copy of Mastering The Interview              0\n",
              "Last Notable Activity                               0\n",
              "dtype: int64"
            ]
          },
          "metadata": {},
          "execution_count": 26
        }
      ],
      "source": [
        "lead_df.isna().sum()"
      ]
    },
    {
      "cell_type": "markdown",
      "metadata": {
        "id": "xpOm2kYJZQiU"
      },
      "source": [
        "## Step 2: Data Cleaning"
      ]
    },
    {
      "cell_type": "code",
      "execution_count": 27,
      "metadata": {
        "colab": {
          "base_uri": "https://localhost:8080/"
        },
        "id": "XfMIPLscZQiV",
        "outputId": "41c604ef-9657-419f-b21d-a924ccd6a51c"
      },
      "outputs": [
        {
          "output_type": "stream",
          "name": "stdout",
          "text": [
            "Prospect ID                                       0.00\n",
            "Lead Number                                       0.00\n",
            "Lead Origin                                       0.00\n",
            "Lead Source                                       0.39\n",
            "Do Not Email                                      0.00\n",
            "Do Not Call                                       0.00\n",
            "Converted                                         0.00\n",
            "TotalVisits                                       1.48\n",
            "Total Time Spent on Website                       0.00\n",
            "Page Views Per Visit                              1.48\n",
            "Last Activity                                     1.11\n",
            "Country                                          26.63\n",
            "Specialization                                   15.56\n",
            "How did you hear about X Education               23.89\n",
            "What is your current occupation                  29.11\n",
            "What matters most to you in choosing a course    29.32\n",
            "Search                                            0.00\n",
            "Magazine                                          0.00\n",
            "Newspaper Article                                 0.00\n",
            "X Education Forums                                0.00\n",
            "Newspaper                                         0.00\n",
            "Digital Advertisement                             0.00\n",
            "Through Recommendations                           0.00\n",
            "Receive More Updates About Our Courses            0.00\n",
            "Tags                                             36.29\n",
            "Lead Quality                                     51.59\n",
            "Update me on Supply Chain Content                 0.00\n",
            "Get updates on DM Content                         0.00\n",
            "Lead Profile                                     29.32\n",
            "City                                             15.37\n",
            "Asymmetrique Activity Index                      45.65\n",
            "Asymmetrique Profile Index                       45.65\n",
            "Asymmetrique Activity Score                      45.65\n",
            "Asymmetrique Profile Score                       45.65\n",
            "I agree to pay the amount through cheque          0.00\n",
            "A free copy of Mastering The Interview            0.00\n",
            "Last Notable Activity                             0.00\n",
            "dtype: float64\n"
          ]
        }
      ],
      "source": [
        "# check for percentage of null values in each column\n",
        "\n",
        "missing_percent = round(100*(lead_df.isnull().sum()/len(lead_df.index)), 2)\n",
        "print(missing_percent)"
      ]
    },
    {
      "cell_type": "markdown",
      "metadata": {
        "id": "ig1amyjoZQiV"
      },
      "source": [
        "There are some columns that have more than 25% null values."
      ]
    },
    {
      "cell_type": "code",
      "execution_count": 28,
      "metadata": {
        "id": "BvdDAa2uZQiW"
      },
      "outputs": [],
      "source": [
        "# Following columns have a value called select. Convert those values as nan since the customer has not selected any options for \n",
        "# these columns while entering the data.\n",
        "\n",
        "# a) Specialization\n",
        "# b) How did you hear about X Education\n",
        "# c) Lead Profile\n",
        "# d) City\n",
        "\n",
        "# Converting 'Select' values to NaN.\n",
        "\n",
        "lead_df['Specialization'] = lead_df['Specialization'].replace('Select', np.nan)\n",
        "lead_df['How did you hear about X Education'] = lead_df['How did you hear about X Education'].replace('Select', np.nan)\n",
        "lead_df['Lead Profile'] = lead_df['Lead Profile'].replace('Select', np.nan)\n",
        "lead_df['City'] = lead_df['City'].replace('Select', np.nan)"
      ]
    },
    {
      "cell_type": "code",
      "execution_count": 29,
      "metadata": {
        "colab": {
          "base_uri": "https://localhost:8080/"
        },
        "id": "6snaPCW0ZQiW",
        "outputId": "0b19111f-e133-4f2a-ab32-2d3cbf1920bc"
      },
      "outputs": [
        {
          "output_type": "stream",
          "name": "stdout",
          "text": [
            "Prospect ID                                       0.00\n",
            "Lead Number                                       0.00\n",
            "Lead Origin                                       0.00\n",
            "Lead Source                                       0.39\n",
            "Do Not Email                                      0.00\n",
            "Do Not Call                                       0.00\n",
            "Converted                                         0.00\n",
            "TotalVisits                                       1.48\n",
            "Total Time Spent on Website                       0.00\n",
            "Page Views Per Visit                              1.48\n",
            "Last Activity                                     1.11\n",
            "Country                                          26.63\n",
            "Specialization                                   36.58\n",
            "How did you hear about X Education               78.46\n",
            "What is your current occupation                  29.11\n",
            "What matters most to you in choosing a course    29.32\n",
            "Search                                            0.00\n",
            "Magazine                                          0.00\n",
            "Newspaper Article                                 0.00\n",
            "X Education Forums                                0.00\n",
            "Newspaper                                         0.00\n",
            "Digital Advertisement                             0.00\n",
            "Through Recommendations                           0.00\n",
            "Receive More Updates About Our Courses            0.00\n",
            "Tags                                             36.29\n",
            "Lead Quality                                     51.59\n",
            "Update me on Supply Chain Content                 0.00\n",
            "Get updates on DM Content                         0.00\n",
            "Lead Profile                                     74.19\n",
            "City                                             39.71\n",
            "Asymmetrique Activity Index                      45.65\n",
            "Asymmetrique Profile Index                       45.65\n",
            "Asymmetrique Activity Score                      45.65\n",
            "Asymmetrique Profile Score                       45.65\n",
            "I agree to pay the amount through cheque          0.00\n",
            "A free copy of Mastering The Interview            0.00\n",
            "Last Notable Activity                             0.00\n",
            "dtype: float64\n"
          ]
        }
      ],
      "source": [
        "# check for percentage of null values in each column\n",
        "\n",
        "missing_percent = round(100*(lead_df.isnull().sum()/len(lead_df.index)), 2)\n",
        "print(missing_percent)"
      ]
    },
    {
      "cell_type": "code",
      "execution_count": 30,
      "metadata": {
        "id": "Cyq-uPCpZQiX"
      },
      "outputs": [],
      "source": [
        "# Let us drop the following columns that have more than 30% null values\n",
        "\n",
        "# a) Specialization\n",
        "# b) How did you hear about X Education\n",
        "# c) Tags\n",
        "# d) Lead Quality\n",
        "# e) Lead Profile\n",
        "# f) City\n",
        "# g) Asymmetrique Activity Index\n",
        "# h) Asymmetrique Profile Index\n",
        "# i) Asymmetrique Activity Score\n",
        "# j) Asymmetrique Profile Score\n",
        "\n",
        "lead_df = lead_df.drop(['Specialization', 'How did you hear about X Education', 'Tags', 'Lead Quality',\n",
        "                          'Lead Profile','City', 'Asymmetrique Activity Index', 'Asymmetrique Profile Index',\n",
        "                          'Asymmetrique Activity Score', 'Asymmetrique Profile Score'], axis=1)"
      ]
    },
    {
      "cell_type": "code",
      "execution_count": 31,
      "metadata": {
        "colab": {
          "base_uri": "https://localhost:8080/"
        },
        "id": "HXAkjAUvZQiX",
        "outputId": "9300f9d2-302f-4b18-a786-1134be8b279d"
      },
      "outputs": [
        {
          "output_type": "stream",
          "name": "stdout",
          "text": [
            "Prospect ID                                       0.00\n",
            "Lead Number                                       0.00\n",
            "Lead Origin                                       0.00\n",
            "Lead Source                                       0.39\n",
            "Do Not Email                                      0.00\n",
            "Do Not Call                                       0.00\n",
            "Converted                                         0.00\n",
            "TotalVisits                                       1.48\n",
            "Total Time Spent on Website                       0.00\n",
            "Page Views Per Visit                              1.48\n",
            "Last Activity                                     1.11\n",
            "Country                                          26.63\n",
            "What is your current occupation                  29.11\n",
            "What matters most to you in choosing a course    29.32\n",
            "Search                                            0.00\n",
            "Magazine                                          0.00\n",
            "Newspaper Article                                 0.00\n",
            "X Education Forums                                0.00\n",
            "Newspaper                                         0.00\n",
            "Digital Advertisement                             0.00\n",
            "Through Recommendations                           0.00\n",
            "Receive More Updates About Our Courses            0.00\n",
            "Update me on Supply Chain Content                 0.00\n",
            "Get updates on DM Content                         0.00\n",
            "I agree to pay the amount through cheque          0.00\n",
            "A free copy of Mastering The Interview            0.00\n",
            "Last Notable Activity                             0.00\n",
            "dtype: float64\n"
          ]
        }
      ],
      "source": [
        "# check for percentage of null values in each column after dropping columns having more than 30% null values\n",
        "\n",
        "missing_percent = round(100*(lead_df.isnull().sum()/len(lead_df.index)), 2)\n",
        "print(missing_percent)"
      ]
    },
    {
      "cell_type": "code",
      "execution_count": 32,
      "metadata": {
        "colab": {
          "base_uri": "https://localhost:8080/"
        },
        "id": "lYYGdpu9ZQiY",
        "outputId": "645e5e10-c1d4-4132-a993-15242001fb83"
      },
      "outputs": [
        {
          "output_type": "execute_result",
          "data": {
            "text/plain": [
              "India                   6492\n",
              "United States             69\n",
              "United Arab Emirates      53\n",
              "Singapore                 24\n",
              "Saudi Arabia              21\n",
              "United Kingdom            15\n",
              "Australia                 13\n",
              "Qatar                     10\n",
              "Hong Kong                  7\n",
              "Bahrain                    7\n",
              "Oman                       6\n",
              "France                     6\n",
              "unknown                    5\n",
              "South Africa               4\n",
              "Nigeria                    4\n",
              "Germany                    4\n",
              "Kuwait                     4\n",
              "Canada                     4\n",
              "Sweden                     3\n",
              "China                      2\n",
              "Asia/Pacific Region        2\n",
              "Uganda                     2\n",
              "Bangladesh                 2\n",
              "Italy                      2\n",
              "Belgium                    2\n",
              "Netherlands                2\n",
              "Ghana                      2\n",
              "Philippines                2\n",
              "Russia                     1\n",
              "Switzerland                1\n",
              "Vietnam                    1\n",
              "Denmark                    1\n",
              "Tanzania                   1\n",
              "Liberia                    1\n",
              "Malaysia                   1\n",
              "Kenya                      1\n",
              "Sri Lanka                  1\n",
              "Indonesia                  1\n",
              "Name: Country, dtype: int64"
            ]
          },
          "metadata": {},
          "execution_count": 32
        }
      ],
      "source": [
        "# Lets check the value counts for each values in the country column\n",
        "\n",
        "lead_df.Country.value_counts()"
      ]
    },
    {
      "cell_type": "code",
      "execution_count": 33,
      "metadata": {
        "colab": {
          "base_uri": "https://localhost:8080/"
        },
        "id": "fCa14eF4ZQiY",
        "outputId": "ff31524b-49f2-403e-ae83-adb73a3531f2"
      },
      "outputs": [
        {
          "output_type": "stream",
          "name": "stdout",
          "text": [
            "70.26\n"
          ]
        }
      ],
      "source": [
        "# check the percentage of India as value in the country column\n",
        "\n",
        "country_percentage = round(100*len(lead_df[lead_df['Country'] == 'India'])/len(lead_df['Country']),2)\n",
        "print(country_percentage)"
      ]
    },
    {
      "cell_type": "code",
      "execution_count": 34,
      "metadata": {
        "id": "T_fb0t-CZQiZ"
      },
      "outputs": [],
      "source": [
        "# Since \"India\" occurs around 70% of times in the Country column, and country column also has around 27% as missing values, \n",
        "# we shall go ahead and drop the column\n",
        "\n",
        "lead_df = lead_df.drop(['Country'], axis=1)"
      ]
    },
    {
      "cell_type": "code",
      "execution_count": 35,
      "metadata": {
        "colab": {
          "base_uri": "https://localhost:8080/"
        },
        "id": "FkTEYINPZQiZ",
        "outputId": "8335d261-04ba-457d-b534-e9bc7f24f79c"
      },
      "outputs": [
        {
          "output_type": "execute_result",
          "data": {
            "text/plain": [
              "Google               2868\n",
              "Direct Traffic       2543\n",
              "Olark Chat           1755\n",
              "Organic Search       1154\n",
              "Reference             534\n",
              "Welingak Website      142\n",
              "Referral Sites        125\n",
              "Facebook               55\n",
              "bing                    6\n",
              "google                  5\n",
              "Click2call              4\n",
              "Press_Release           2\n",
              "Social Media            2\n",
              "Live Chat               2\n",
              "youtubechannel          1\n",
              "testone                 1\n",
              "Pay per Click Ads       1\n",
              "welearnblog_Home        1\n",
              "WeLearn                 1\n",
              "blog                    1\n",
              "NC_EDM                  1\n",
              "Name: Lead Source, dtype: int64"
            ]
          },
          "metadata": {},
          "execution_count": 35
        }
      ],
      "source": [
        "# Check the value counts for the column Lead Source\n",
        "\n",
        "lead_df['Lead Source'].value_counts()"
      ]
    },
    {
      "cell_type": "code",
      "execution_count": 36,
      "metadata": {
        "id": "aHOqEtn9ZQia"
      },
      "outputs": [],
      "source": [
        "# From the above it can be noticed that Google appears twice with different cases. Hence we shall convert all rows with value \n",
        "# \"Google\" to the same case.\n",
        "# Also since \"Google\" has the major chunk of data, we can impute the null values with Google\n",
        "\n",
        "lead_df['Lead Source'] = lead_df['Lead Source'].replace('google', 'Google')\n",
        "lead_df['Lead Source'] = lead_df['Lead Source'].replace(np.nan, 'Google')"
      ]
    },
    {
      "cell_type": "code",
      "execution_count": 37,
      "metadata": {
        "colab": {
          "base_uri": "https://localhost:8080/"
        },
        "id": "Ofw8VdkbZQia",
        "outputId": "666ae7e9-eeb7-4831-ba66-ce3c27b6dcf2"
      },
      "outputs": [
        {
          "output_type": "execute_result",
          "data": {
            "text/plain": [
              "0.0      2189\n",
              "2.0      1680\n",
              "3.0      1306\n",
              "4.0      1120\n",
              "5.0       783\n",
              "6.0       466\n",
              "1.0       395\n",
              "7.0       309\n",
              "8.0       224\n",
              "9.0       164\n",
              "10.0      114\n",
              "11.0       86\n",
              "13.0       48\n",
              "12.0       45\n",
              "14.0       36\n",
              "16.0       21\n",
              "15.0       18\n",
              "17.0       16\n",
              "18.0       15\n",
              "20.0       12\n",
              "19.0        9\n",
              "21.0        6\n",
              "23.0        6\n",
              "24.0        5\n",
              "25.0        5\n",
              "27.0        5\n",
              "22.0        3\n",
              "29.0        2\n",
              "28.0        2\n",
              "26.0        2\n",
              "141.0       1\n",
              "55.0        1\n",
              "30.0        1\n",
              "43.0        1\n",
              "74.0        1\n",
              "41.0        1\n",
              "54.0        1\n",
              "115.0       1\n",
              "251.0       1\n",
              "32.0        1\n",
              "42.0        1\n",
              "Name: TotalVisits, dtype: int64"
            ]
          },
          "metadata": {},
          "execution_count": 37
        }
      ],
      "source": [
        "# Check the value counts for the column Total Visits\n",
        "\n",
        "lead_df['TotalVisits'].value_counts()"
      ]
    },
    {
      "cell_type": "code",
      "execution_count": 38,
      "metadata": {
        "colab": {
          "base_uri": "https://localhost:8080/"
        },
        "id": "PQBLjH9LZQia",
        "outputId": "50c7172b-72da-4794-9b64-448a932ba8ff"
      },
      "outputs": [
        {
          "output_type": "execute_result",
          "data": {
            "text/plain": [
              "3.0"
            ]
          },
          "metadata": {},
          "execution_count": 38
        }
      ],
      "source": [
        "# Check the median of column \n",
        "\n",
        "lead_df['TotalVisits'].median()"
      ]
    },
    {
      "cell_type": "code",
      "execution_count": 39,
      "metadata": {
        "id": "8jFees1oZQib"
      },
      "outputs": [],
      "source": [
        "# We shall impute the null values in TotalVisits by the median value which is 3.0\n",
        "\n",
        "lead_df['TotalVisits'] = lead_df['TotalVisits'].replace(np.nan, lead_df['TotalVisits'].median())"
      ]
    },
    {
      "cell_type": "code",
      "execution_count": 40,
      "metadata": {
        "colab": {
          "base_uri": "https://localhost:8080/"
        },
        "id": "mK6Q7xS8ZQib",
        "outputId": "14e0b9b7-845c-41ef-ca33-6edef87f1ed1"
      },
      "outputs": [
        {
          "output_type": "execute_result",
          "data": {
            "text/plain": [
              "0.00    2189\n",
              "2.00    1795\n",
              "3.00    1196\n",
              "4.00     896\n",
              "1.00     651\n",
              "        ... \n",
              "3.43       1\n",
              "2.56       1\n",
              "6.33       1\n",
              "1.64       1\n",
              "2.08       1\n",
              "Name: Page Views Per Visit, Length: 114, dtype: int64"
            ]
          },
          "metadata": {},
          "execution_count": 40
        }
      ],
      "source": [
        "# Check the value counts for Page Views Per Visit\n",
        "\n",
        "lead_df['Page Views Per Visit'].value_counts()"
      ]
    },
    {
      "cell_type": "code",
      "execution_count": 41,
      "metadata": {
        "colab": {
          "base_uri": "https://localhost:8080/"
        },
        "id": "U55GhikiZQib",
        "outputId": "40853884-ce78-474a-cb95-390c7127ce0c"
      },
      "outputs": [
        {
          "output_type": "execute_result",
          "data": {
            "text/plain": [
              "2.0"
            ]
          },
          "metadata": {},
          "execution_count": 41
        }
      ],
      "source": [
        "# Check the median of the column\n",
        "\n",
        "lead_df['Page Views Per Visit'].median()"
      ]
    },
    {
      "cell_type": "code",
      "execution_count": 42,
      "metadata": {
        "id": "JdFB2HS0ZQib"
      },
      "outputs": [],
      "source": [
        "# We shall impute the null values in 'Page Views Per Visit' by the median value which is 2.0\n",
        "\n",
        "lead_df['Page Views Per Visit'] = lead_df['Page Views Per Visit'].replace(np.nan, lead_df['Page Views Per Visit'].median())"
      ]
    },
    {
      "cell_type": "code",
      "execution_count": 43,
      "metadata": {
        "colab": {
          "base_uri": "https://localhost:8080/"
        },
        "id": "-FT65J2JZQib",
        "outputId": "3c777d52-3a90-449e-f710-36b971e01953"
      },
      "outputs": [
        {
          "output_type": "execute_result",
          "data": {
            "text/plain": [
              "Email Opened                    3437\n",
              "SMS Sent                        2745\n",
              "Olark Chat Conversation          973\n",
              "Page Visited on Website          640\n",
              "Converted to Lead                428\n",
              "Email Bounced                    326\n",
              "Email Link Clicked               267\n",
              "Form Submitted on Website        116\n",
              "Unreachable                       93\n",
              "Unsubscribed                      61\n",
              "Had a Phone Conversation          30\n",
              "Approached upfront                 9\n",
              "View in browser link Clicked       6\n",
              "Email Received                     2\n",
              "Email Marked Spam                  2\n",
              "Visited Booth in Tradeshow         1\n",
              "Resubscribed to emails             1\n",
              "Name: Last Activity, dtype: int64"
            ]
          },
          "metadata": {},
          "execution_count": 43
        }
      ],
      "source": [
        "# Check the value counts for the column Last Activity\n",
        "\n",
        "lead_df['Last Activity'].value_counts()"
      ]
    },
    {
      "cell_type": "code",
      "execution_count": 44,
      "metadata": {
        "id": "zC26nUOlZQic"
      },
      "outputs": [],
      "source": [
        "# Since we do not have any information of what the last activity of the customer would have been, we can add a new category \n",
        "# called 'Not Sure' for the null values\n",
        "\n",
        "lead_df['Last Activity'] = lead_df['Last Activity'].replace(np.nan, 'Not Sure')"
      ]
    },
    {
      "cell_type": "code",
      "execution_count": 45,
      "metadata": {
        "colab": {
          "base_uri": "https://localhost:8080/"
        },
        "id": "0TwrGUkhZQic",
        "outputId": "662a3f1a-1de4-437a-8036-1d594bcb08db"
      },
      "outputs": [
        {
          "output_type": "execute_result",
          "data": {
            "text/plain": [
              "Unemployed              5600\n",
              "Working Professional     706\n",
              "Student                  210\n",
              "Other                     16\n",
              "Housewife                 10\n",
              "Businessman                8\n",
              "Name: What is your current occupation, dtype: int64"
            ]
          },
          "metadata": {},
          "execution_count": 45
        }
      ],
      "source": [
        "# Check the value counts for the column \"What is your current Occupation\"\n",
        "\n",
        "lead_df['What is your current occupation'].value_counts()"
      ]
    },
    {
      "cell_type": "code",
      "execution_count": 46,
      "metadata": {
        "id": "TiP8yTO3ZQic"
      },
      "outputs": [],
      "source": [
        "# Since no information has been provided Current Occupation, we can add a new category called No Information and set that \n",
        "# as value for the null columns\n",
        "\n",
        "lead_df['What is your current occupation'] = lead_df['What is your current occupation'].replace(np.nan, 'No Information')"
      ]
    },
    {
      "cell_type": "code",
      "execution_count": 47,
      "metadata": {
        "colab": {
          "base_uri": "https://localhost:8080/"
        },
        "id": "IWRb9BIVZQic",
        "outputId": "8fbd1d7d-1310-4f4c-b590-5d549c99260b"
      },
      "outputs": [
        {
          "output_type": "execute_result",
          "data": {
            "text/plain": [
              "Better Career Prospects      6528\n",
              "Flexibility & Convenience       2\n",
              "Other                           1\n",
              "Name: What matters most to you in choosing a course, dtype: int64"
            ]
          },
          "metadata": {},
          "execution_count": 47
        }
      ],
      "source": [
        "# Check the value counts for the column What matters most to you in choosing a course \n",
        "\n",
        "lead_df['What matters most to you in choosing a course'].value_counts()"
      ]
    },
    {
      "cell_type": "code",
      "execution_count": 48,
      "metadata": {
        "colab": {
          "base_uri": "https://localhost:8080/"
        },
        "id": "ECtwvMORZQic",
        "outputId": "06943036-cad8-4cc1-f7b2-3f44d9c4031a"
      },
      "outputs": [
        {
          "output_type": "stream",
          "name": "stdout",
          "text": [
            "70.65\n"
          ]
        }
      ],
      "source": [
        "matters_most_percentage = round(100*len(lead_df[lead_df['What matters most to you in choosing a course'] \n",
        "                            == 'Better Career Prospects'])/len(lead_df['What matters most to you in choosing a course']),2)\n",
        "print(matters_most_percentage)"
      ]
    },
    {
      "cell_type": "code",
      "execution_count": 49,
      "metadata": {
        "id": "UbiuVbKNZQic"
      },
      "outputs": [],
      "source": [
        "# Since Better Career Prospects occurs around 70% of times in the What matters most to you in choosing a course column, and\n",
        "# since the column also has around 29% as missing values, we shall go ahead and drop the column\n",
        "\n",
        "lead_df = lead_df.drop(['What matters most to you in choosing a course'], axis=1)"
      ]
    },
    {
      "cell_type": "code",
      "execution_count": 50,
      "metadata": {
        "colab": {
          "base_uri": "https://localhost:8080/"
        },
        "id": "cTNhUwjoZQid",
        "outputId": "8de52d18-4272-4486-b4d8-5b732751dc0b"
      },
      "outputs": [
        {
          "output_type": "stream",
          "name": "stdout",
          "text": [
            "Prospect ID                                 0.0\n",
            "Lead Number                                 0.0\n",
            "Lead Origin                                 0.0\n",
            "Lead Source                                 0.0\n",
            "Do Not Email                                0.0\n",
            "Do Not Call                                 0.0\n",
            "Converted                                   0.0\n",
            "TotalVisits                                 0.0\n",
            "Total Time Spent on Website                 0.0\n",
            "Page Views Per Visit                        0.0\n",
            "Last Activity                               0.0\n",
            "What is your current occupation             0.0\n",
            "Search                                      0.0\n",
            "Magazine                                    0.0\n",
            "Newspaper Article                           0.0\n",
            "X Education Forums                          0.0\n",
            "Newspaper                                   0.0\n",
            "Digital Advertisement                       0.0\n",
            "Through Recommendations                     0.0\n",
            "Receive More Updates About Our Courses      0.0\n",
            "Update me on Supply Chain Content           0.0\n",
            "Get updates on DM Content                   0.0\n",
            "I agree to pay the amount through cheque    0.0\n",
            "A free copy of Mastering The Interview      0.0\n",
            "Last Notable Activity                       0.0\n",
            "dtype: float64\n"
          ]
        }
      ],
      "source": [
        "# check for percentage of null values in each column\n",
        "\n",
        "missing_percent = round(100*(lead_df.isnull().sum()/len(lead_df.index)), 2)\n",
        "print(missing_percent)"
      ]
    },
    {
      "cell_type": "markdown",
      "metadata": {
        "id": "F1BfkMfQZQid"
      },
      "source": [
        "All the null values in the columns now have either been imputed or we have dropped the columns which have more than 70% data \n",
        "concentrated towards one value"
      ]
    },
    {
      "cell_type": "code",
      "execution_count": 51,
      "metadata": {
        "id": "x3Blqgx_ZQid"
      },
      "outputs": [],
      "source": [
        "# Since the following columns have only one value \"No\" in all the rows, we can eliminate the columns :\n",
        "\n",
        "# a) Magazine\n",
        "# b) Receive More Updates About Our Courses\n",
        "# c) Update me on Supply Chain Content\n",
        "# d) Get updates on DM Content\n",
        "# e) I agree to pay the amount through cheque\n",
        "\n",
        "lead_df = lead_df.drop(['Magazine', 'Receive More Updates About Our Courses', 'Update me on Supply Chain Content', \n",
        "                          'Get updates on DM Content', 'I agree to pay the amount through cheque'], axis=1)"
      ]
    },
    {
      "cell_type": "code",
      "execution_count": 52,
      "metadata": {
        "colab": {
          "base_uri": "https://localhost:8080/"
        },
        "id": "--udl2HuZQid",
        "outputId": "eeaa0a9d-2320-40e0-c944-09957eebcd2b"
      },
      "outputs": [
        {
          "output_type": "execute_result",
          "data": {
            "text/plain": [
              "(9240, 20)"
            ]
          },
          "metadata": {},
          "execution_count": 52
        }
      ],
      "source": [
        "lead_df.shape"
      ]
    },
    {
      "cell_type": "markdown",
      "metadata": {
        "id": "XM5ak3MlZQid"
      },
      "source": [
        "##### Outlier Treatment"
      ]
    },
    {
      "cell_type": "code",
      "execution_count": 53,
      "metadata": {
        "colab": {
          "base_uri": "https://localhost:8080/",
          "height": 394
        },
        "id": "B1ScdflKZQid",
        "outputId": "0e4df989-5e51-42e4-fe4c-ccc7f5c6a5df"
      },
      "outputs": [
        {
          "output_type": "execute_result",
          "data": {
            "text/plain": [
              "         Lead Number    Converted  TotalVisits  Total Time Spent on Website  \\\n",
              "count    9240.000000  9240.000000  9240.000000                  9240.000000   \n",
              "mean   617188.435606     0.385390     3.438636                   487.698268   \n",
              "std     23405.995698     0.486714     4.819024                   548.021466   \n",
              "min    579533.000000     0.000000     0.000000                     0.000000   \n",
              "25%    596484.500000     0.000000     1.000000                    12.000000   \n",
              "50%    615479.000000     0.000000     3.000000                   248.000000   \n",
              "75%    637387.250000     1.000000     5.000000                   936.000000   \n",
              "90%    650506.100000     1.000000     7.000000                  1380.000000   \n",
              "95%    655404.050000     1.000000    10.000000                  1562.000000   \n",
              "99%    659592.980000     1.000000    17.000000                  1840.610000   \n",
              "max    660737.000000     1.000000   251.000000                  2272.000000   \n",
              "\n",
              "       Page Views Per Visit  \n",
              "count           9240.000000  \n",
              "mean               2.357440  \n",
              "std                2.145781  \n",
              "min                0.000000  \n",
              "25%                1.000000  \n",
              "50%                2.000000  \n",
              "75%                3.000000  \n",
              "90%                5.000000  \n",
              "95%                6.000000  \n",
              "99%                9.000000  \n",
              "max               55.000000  "
            ],
            "text/html": [
              "\n",
              "  <div id=\"df-0c7501e9-edf0-44cd-8071-22b4e9e4039e\">\n",
              "    <div class=\"colab-df-container\">\n",
              "      <div>\n",
              "<style scoped>\n",
              "    .dataframe tbody tr th:only-of-type {\n",
              "        vertical-align: middle;\n",
              "    }\n",
              "\n",
              "    .dataframe tbody tr th {\n",
              "        vertical-align: top;\n",
              "    }\n",
              "\n",
              "    .dataframe thead th {\n",
              "        text-align: right;\n",
              "    }\n",
              "</style>\n",
              "<table border=\"1\" class=\"dataframe\">\n",
              "  <thead>\n",
              "    <tr style=\"text-align: right;\">\n",
              "      <th></th>\n",
              "      <th>Lead Number</th>\n",
              "      <th>Converted</th>\n",
              "      <th>TotalVisits</th>\n",
              "      <th>Total Time Spent on Website</th>\n",
              "      <th>Page Views Per Visit</th>\n",
              "    </tr>\n",
              "  </thead>\n",
              "  <tbody>\n",
              "    <tr>\n",
              "      <th>count</th>\n",
              "      <td>9240.000000</td>\n",
              "      <td>9240.000000</td>\n",
              "      <td>9240.000000</td>\n",
              "      <td>9240.000000</td>\n",
              "      <td>9240.000000</td>\n",
              "    </tr>\n",
              "    <tr>\n",
              "      <th>mean</th>\n",
              "      <td>617188.435606</td>\n",
              "      <td>0.385390</td>\n",
              "      <td>3.438636</td>\n",
              "      <td>487.698268</td>\n",
              "      <td>2.357440</td>\n",
              "    </tr>\n",
              "    <tr>\n",
              "      <th>std</th>\n",
              "      <td>23405.995698</td>\n",
              "      <td>0.486714</td>\n",
              "      <td>4.819024</td>\n",
              "      <td>548.021466</td>\n",
              "      <td>2.145781</td>\n",
              "    </tr>\n",
              "    <tr>\n",
              "      <th>min</th>\n",
              "      <td>579533.000000</td>\n",
              "      <td>0.000000</td>\n",
              "      <td>0.000000</td>\n",
              "      <td>0.000000</td>\n",
              "      <td>0.000000</td>\n",
              "    </tr>\n",
              "    <tr>\n",
              "      <th>25%</th>\n",
              "      <td>596484.500000</td>\n",
              "      <td>0.000000</td>\n",
              "      <td>1.000000</td>\n",
              "      <td>12.000000</td>\n",
              "      <td>1.000000</td>\n",
              "    </tr>\n",
              "    <tr>\n",
              "      <th>50%</th>\n",
              "      <td>615479.000000</td>\n",
              "      <td>0.000000</td>\n",
              "      <td>3.000000</td>\n",
              "      <td>248.000000</td>\n",
              "      <td>2.000000</td>\n",
              "    </tr>\n",
              "    <tr>\n",
              "      <th>75%</th>\n",
              "      <td>637387.250000</td>\n",
              "      <td>1.000000</td>\n",
              "      <td>5.000000</td>\n",
              "      <td>936.000000</td>\n",
              "      <td>3.000000</td>\n",
              "    </tr>\n",
              "    <tr>\n",
              "      <th>90%</th>\n",
              "      <td>650506.100000</td>\n",
              "      <td>1.000000</td>\n",
              "      <td>7.000000</td>\n",
              "      <td>1380.000000</td>\n",
              "      <td>5.000000</td>\n",
              "    </tr>\n",
              "    <tr>\n",
              "      <th>95%</th>\n",
              "      <td>655404.050000</td>\n",
              "      <td>1.000000</td>\n",
              "      <td>10.000000</td>\n",
              "      <td>1562.000000</td>\n",
              "      <td>6.000000</td>\n",
              "    </tr>\n",
              "    <tr>\n",
              "      <th>99%</th>\n",
              "      <td>659592.980000</td>\n",
              "      <td>1.000000</td>\n",
              "      <td>17.000000</td>\n",
              "      <td>1840.610000</td>\n",
              "      <td>9.000000</td>\n",
              "    </tr>\n",
              "    <tr>\n",
              "      <th>max</th>\n",
              "      <td>660737.000000</td>\n",
              "      <td>1.000000</td>\n",
              "      <td>251.000000</td>\n",
              "      <td>2272.000000</td>\n",
              "      <td>55.000000</td>\n",
              "    </tr>\n",
              "  </tbody>\n",
              "</table>\n",
              "</div>\n",
              "      <button class=\"colab-df-convert\" onclick=\"convertToInteractive('df-0c7501e9-edf0-44cd-8071-22b4e9e4039e')\"\n",
              "              title=\"Convert this dataframe to an interactive table.\"\n",
              "              style=\"display:none;\">\n",
              "        \n",
              "  <svg xmlns=\"http://www.w3.org/2000/svg\" height=\"24px\"viewBox=\"0 0 24 24\"\n",
              "       width=\"24px\">\n",
              "    <path d=\"M0 0h24v24H0V0z\" fill=\"none\"/>\n",
              "    <path d=\"M18.56 5.44l.94 2.06.94-2.06 2.06-.94-2.06-.94-.94-2.06-.94 2.06-2.06.94zm-11 1L8.5 8.5l.94-2.06 2.06-.94-2.06-.94L8.5 2.5l-.94 2.06-2.06.94zm10 10l.94 2.06.94-2.06 2.06-.94-2.06-.94-.94-2.06-.94 2.06-2.06.94z\"/><path d=\"M17.41 7.96l-1.37-1.37c-.4-.4-.92-.59-1.43-.59-.52 0-1.04.2-1.43.59L10.3 9.45l-7.72 7.72c-.78.78-.78 2.05 0 2.83L4 21.41c.39.39.9.59 1.41.59.51 0 1.02-.2 1.41-.59l7.78-7.78 2.81-2.81c.8-.78.8-2.07 0-2.86zM5.41 20L4 18.59l7.72-7.72 1.47 1.35L5.41 20z\"/>\n",
              "  </svg>\n",
              "      </button>\n",
              "      \n",
              "  <style>\n",
              "    .colab-df-container {\n",
              "      display:flex;\n",
              "      flex-wrap:wrap;\n",
              "      gap: 12px;\n",
              "    }\n",
              "\n",
              "    .colab-df-convert {\n",
              "      background-color: #E8F0FE;\n",
              "      border: none;\n",
              "      border-radius: 50%;\n",
              "      cursor: pointer;\n",
              "      display: none;\n",
              "      fill: #1967D2;\n",
              "      height: 32px;\n",
              "      padding: 0 0 0 0;\n",
              "      width: 32px;\n",
              "    }\n",
              "\n",
              "    .colab-df-convert:hover {\n",
              "      background-color: #E2EBFA;\n",
              "      box-shadow: 0px 1px 2px rgba(60, 64, 67, 0.3), 0px 1px 3px 1px rgba(60, 64, 67, 0.15);\n",
              "      fill: #174EA6;\n",
              "    }\n",
              "\n",
              "    [theme=dark] .colab-df-convert {\n",
              "      background-color: #3B4455;\n",
              "      fill: #D2E3FC;\n",
              "    }\n",
              "\n",
              "    [theme=dark] .colab-df-convert:hover {\n",
              "      background-color: #434B5C;\n",
              "      box-shadow: 0px 1px 3px 1px rgba(0, 0, 0, 0.15);\n",
              "      filter: drop-shadow(0px 1px 2px rgba(0, 0, 0, 0.3));\n",
              "      fill: #FFFFFF;\n",
              "    }\n",
              "  </style>\n",
              "\n",
              "      <script>\n",
              "        const buttonEl =\n",
              "          document.querySelector('#df-0c7501e9-edf0-44cd-8071-22b4e9e4039e button.colab-df-convert');\n",
              "        buttonEl.style.display =\n",
              "          google.colab.kernel.accessAllowed ? 'block' : 'none';\n",
              "\n",
              "        async function convertToInteractive(key) {\n",
              "          const element = document.querySelector('#df-0c7501e9-edf0-44cd-8071-22b4e9e4039e');\n",
              "          const dataTable =\n",
              "            await google.colab.kernel.invokeFunction('convertToInteractive',\n",
              "                                                     [key], {});\n",
              "          if (!dataTable) return;\n",
              "\n",
              "          const docLinkHtml = 'Like what you see? Visit the ' +\n",
              "            '<a target=\"_blank\" href=https://colab.research.google.com/notebooks/data_table.ipynb>data table notebook</a>'\n",
              "            + ' to learn more about interactive tables.';\n",
              "          element.innerHTML = '';\n",
              "          dataTable['output_type'] = 'display_data';\n",
              "          await google.colab.output.renderOutput(dataTable, element);\n",
              "          const docLink = document.createElement('div');\n",
              "          docLink.innerHTML = docLinkHtml;\n",
              "          element.appendChild(docLink);\n",
              "        }\n",
              "      </script>\n",
              "    </div>\n",
              "  </div>\n",
              "  "
            ]
          },
          "metadata": {},
          "execution_count": 53
        }
      ],
      "source": [
        "# Checking outliers at 25%,50%,75%,90%,95% and above\n",
        "lead_df.describe(percentiles=[.25,.5,.75,.90,.95,.99])"
      ]
    },
    {
      "cell_type": "markdown",
      "metadata": {
        "id": "ENjCkPntZQid"
      },
      "source": [
        "From the above, it can be seen that outlier exists in the columns TotalVisits and Page Views Per Visit columns."
      ]
    },
    {
      "cell_type": "code",
      "execution_count": 54,
      "metadata": {
        "colab": {
          "base_uri": "https://localhost:8080/",
          "height": 312
        },
        "id": "0p6C3EuAZQie",
        "outputId": "a6eaf38a-9d9d-4d30-ffb6-25c0fdf8b7c1"
      },
      "outputs": [
        {
          "output_type": "display_data",
          "data": {
            "text/plain": [
              "<Figure size 1440x1800 with 3 Axes>"
            ],
            "image/png": "[encoded data removed]"
          },
          "metadata": {
            "needs_background": "light"
          }
        }
      ],
      "source": [
        "# Check the outliers in all the numeric columns\n",
        "\n",
        "plt.figure(figsize=(20, 25))\n",
        "plt.subplot(4,3,1)\n",
        "sns.boxplot(y = 'TotalVisits', palette='Set3', data = lead_df)\n",
        "plt.subplot(4,3,2)\n",
        "sns.boxplot(y = 'Total Time Spent on Website', palette='Set3', data = lead_df)\n",
        "plt.subplot(4,3,3)\n",
        "sns.boxplot(y = 'Page Views Per Visit', palette='Set3', data = lead_df)\n",
        "plt.show()"
      ]
    },
    {
      "cell_type": "code",
      "execution_count": 55,
      "metadata": {
        "colab": {
          "base_uri": "https://localhost:8080/"
        },
        "id": "eqX5ao_jZQie",
        "outputId": "69be2997-1467-4973-dff5-53f73bdebd8d"
      },
      "outputs": [
        {
          "output_type": "execute_result",
          "data": {
            "text/plain": [
              "count    9141.000000\n",
              "mean        3.179740\n",
              "std         2.913631\n",
              "min         0.000000\n",
              "25%         1.000000\n",
              "50%         3.000000\n",
              "75%         5.000000\n",
              "90%         7.000000\n",
              "95%         9.000000\n",
              "99%        13.000000\n",
              "max        16.000000\n",
              "Name: TotalVisits, dtype: float64"
            ]
          },
          "metadata": {},
          "execution_count": 55
        }
      ],
      "source": [
        "# Removing values beyond 99% for Total Visits\n",
        "\n",
        "nn_quartile_total_visits = lead_df['TotalVisits'].quantile(0.99)\n",
        "lead_df = lead_df[lead_df[\"TotalVisits\"] < nn_quartile_total_visits]\n",
        "lead_df[\"TotalVisits\"].describe(percentiles=[.25,.5,.75,.90,.95,.99])"
      ]
    },
    {
      "cell_type": "code",
      "execution_count": 56,
      "metadata": {
        "colab": {
          "base_uri": "https://localhost:8080/",
          "height": 394
        },
        "id": "PKZywGFEZQie",
        "outputId": "186cee8d-cb50-41a3-c074-2fdb03c9d696"
      },
      "outputs": [
        {
          "output_type": "execute_result",
          "data": {
            "text/plain": [
              "        Lead Number    Converted  TotalVisits  Total Time Spent on Website  \\\n",
              "count    9141.00000  9141.000000  9141.000000                  9141.000000   \n",
              "mean   617233.45192     0.385406     3.179740                   486.074609   \n",
              "std     23413.72193     0.486718     2.913631                   547.856302   \n",
              "min    579533.00000     0.000000     0.000000                     0.000000   \n",
              "25%    596519.00000     0.000000     1.000000                    10.000000   \n",
              "50%    615563.00000     0.000000     3.000000                   247.000000   \n",
              "75%    637414.00000     1.000000     5.000000                   933.000000   \n",
              "90%    650514.00000     1.000000     7.000000                  1379.000000   \n",
              "95%    655406.00000     1.000000     9.000000                  1561.000000   \n",
              "99%    659592.80000     1.000000    13.000000                  1839.600000   \n",
              "max    660737.00000     1.000000    16.000000                  2272.000000   \n",
              "\n",
              "       Page Views Per Visit  \n",
              "count           9141.000000  \n",
              "mean               2.329506  \n",
              "std                2.046673  \n",
              "min                0.000000  \n",
              "25%                1.000000  \n",
              "50%                2.000000  \n",
              "75%                3.000000  \n",
              "90%                5.000000  \n",
              "95%                6.000000  \n",
              "99%                9.000000  \n",
              "max               16.000000  "
            ],
            "text/html": [
              "\n",
              "  <div id=\"df-5712d4fe-d59e-4ab2-9e8b-9a9012ed5e7d\">\n",
              "    <div class=\"colab-df-container\">\n",
              "      <div>\n",
              "<style scoped>\n",
              "    .dataframe tbody tr th:only-of-type {\n",
              "        vertical-align: middle;\n",
              "    }\n",
              "\n",
              "    .dataframe tbody tr th {\n",
              "        vertical-align: top;\n",
              "    }\n",
              "\n",
              "    .dataframe thead th {\n",
              "        text-align: right;\n",
              "    }\n",
              "</style>\n",
              "<table border=\"1\" class=\"dataframe\">\n",
              "  <thead>\n",
              "    <tr style=\"text-align: right;\">\n",
              "      <th></th>\n",
              "      <th>Lead Number</th>\n",
              "      <th>Converted</th>\n",
              "      <th>TotalVisits</th>\n",
              "      <th>Total Time Spent on Website</th>\n",
              "      <th>Page Views Per Visit</th>\n",
              "    </tr>\n",
              "  </thead>\n",
              "  <tbody>\n",
              "    <tr>\n",
              "      <th>count</th>\n",
              "      <td>9141.00000</td>\n",
              "      <td>9141.000000</td>\n",
              "      <td>9141.000000</td>\n",
              "      <td>9141.000000</td>\n",
              "      <td>9141.000000</td>\n",
              "    </tr>\n",
              "    <tr>\n",
              "      <th>mean</th>\n",
              "      <td>617233.45192</td>\n",
              "      <td>0.385406</td>\n",
              "      <td>3.179740</td>\n",
              "      <td>486.074609</td>\n",
              "      <td>2.329506</td>\n",
              "    </tr>\n",
              "    <tr>\n",
              "      <th>std</th>\n",
              "      <td>23413.72193</td>\n",
              "      <td>0.486718</td>\n",
              "      <td>2.913631</td>\n",
              "      <td>547.856302</td>\n",
              "      <td>2.046673</td>\n",
              "    </tr>\n",
              "    <tr>\n",
              "      <th>min</th>\n",
              "      <td>579533.00000</td>\n",
              "      <td>0.000000</td>\n",
              "      <td>0.000000</td>\n",
              "      <td>0.000000</td>\n",
              "      <td>0.000000</td>\n",
              "    </tr>\n",
              "    <tr>\n",
              "      <th>25%</th>\n",
              "      <td>596519.00000</td>\n",
              "      <td>0.000000</td>\n",
              "      <td>1.000000</td>\n",
              "      <td>10.000000</td>\n",
              "      <td>1.000000</td>\n",
              "    </tr>\n",
              "    <tr>\n",
              "      <th>50%</th>\n",
              "      <td>615563.00000</td>\n",
              "      <td>0.000000</td>\n",
              "      <td>3.000000</td>\n",
              "      <td>247.000000</td>\n",
              "      <td>2.000000</td>\n",
              "    </tr>\n",
              "    <tr>\n",
              "      <th>75%</th>\n",
              "      <td>637414.00000</td>\n",
              "      <td>1.000000</td>\n",
              "      <td>5.000000</td>\n",
              "      <td>933.000000</td>\n",
              "      <td>3.000000</td>\n",
              "    </tr>\n",
              "    <tr>\n",
              "      <th>90%</th>\n",
              "      <td>650514.00000</td>\n",
              "      <td>1.000000</td>\n",
              "      <td>7.000000</td>\n",
              "      <td>1379.000000</td>\n",
              "      <td>5.000000</td>\n",
              "    </tr>\n",
              "    <tr>\n",
              "      <th>95%</th>\n",
              "      <td>655406.00000</td>\n",
              "      <td>1.000000</td>\n",
              "      <td>9.000000</td>\n",
              "      <td>1561.000000</td>\n",
              "      <td>6.000000</td>\n",
              "    </tr>\n",
              "    <tr>\n",
              "      <th>99%</th>\n",
              "      <td>659592.80000</td>\n",
              "      <td>1.000000</td>\n",
              "      <td>13.000000</td>\n",
              "      <td>1839.600000</td>\n",
              "      <td>9.000000</td>\n",
              "    </tr>\n",
              "    <tr>\n",
              "      <th>max</th>\n",
              "      <td>660737.00000</td>\n",
              "      <td>1.000000</td>\n",
              "      <td>16.000000</td>\n",
              "      <td>2272.000000</td>\n",
              "      <td>16.000000</td>\n",
              "    </tr>\n",
              "  </tbody>\n",
              "</table>\n",
              "</div>\n",
              "      <button class=\"colab-df-convert\" onclick=\"convertToInteractive('df-5712d4fe-d59e-4ab2-9e8b-9a9012ed5e7d')\"\n",
              "              title=\"Convert this dataframe to an interactive table.\"\n",
              "              style=\"display:none;\">\n",
              "        \n",
              "  <svg xmlns=\"http://www.w3.org/2000/svg\" height=\"24px\"viewBox=\"0 0 24 24\"\n",
              "       width=\"24px\">\n",
              "    <path d=\"M0 0h24v24H0V0z\" fill=\"none\"/>\n",
              "    <path d=\"M18.56 5.44l.94 2.06.94-2.06 2.06-.94-2.06-.94-.94-2.06-.94 2.06-2.06.94zm-11 1L8.5 8.5l.94-2.06 2.06-.94-2.06-.94L8.5 2.5l-.94 2.06-2.06.94zm10 10l.94 2.06.94-2.06 2.06-.94-2.06-.94-.94-2.06-.94 2.06-2.06.94z\"/><path d=\"M17.41 7.96l-1.37-1.37c-.4-.4-.92-.59-1.43-.59-.52 0-1.04.2-1.43.59L10.3 9.45l-7.72 7.72c-.78.78-.78 2.05 0 2.83L4 21.41c.39.39.9.59 1.41.59.51 0 1.02-.2 1.41-.59l7.78-7.78 2.81-2.81c.8-.78.8-2.07 0-2.86zM5.41 20L4 18.59l7.72-7.72 1.47 1.35L5.41 20z\"/>\n",
              "  </svg>\n",
              "      </button>\n",
              "      \n",
              "  <style>\n",
              "    .colab-df-container {\n",
              "      display:flex;\n",
              "      flex-wrap:wrap;\n",
              "      gap: 12px;\n",
              "    }\n",
              "\n",
              "    .colab-df-convert {\n",
              "      background-color: #E8F0FE;\n",
              "      border: none;\n",
              "      border-radius: 50%;\n",
              "      cursor: pointer;\n",
              "      display: none;\n",
              "      fill: #1967D2;\n",
              "      height: 32px;\n",
              "      padding: 0 0 0 0;\n",
              "      width: 32px;\n",
              "    }\n",
              "\n",
              "    .colab-df-convert:hover {\n",
              "      background-color: #E2EBFA;\n",
              "      box-shadow: 0px 1px 2px rgba(60, 64, 67, 0.3), 0px 1px 3px 1px rgba(60, 64, 67, 0.15);\n",
              "      fill: #174EA6;\n",
              "    }\n",
              "\n",
              "    [theme=dark] .colab-df-convert {\n",
              "      background-color: #3B4455;\n",
              "      fill: #D2E3FC;\n",
              "    }\n",
              "\n",
              "    [theme=dark] .colab-df-convert:hover {\n",
              "      background-color: #434B5C;\n",
              "      box-shadow: 0px 1px 3px 1px rgba(0, 0, 0, 0.15);\n",
              "      filter: drop-shadow(0px 1px 2px rgba(0, 0, 0, 0.3));\n",
              "      fill: #FFFFFF;\n",
              "    }\n",
              "  </style>\n",
              "\n",
              "      <script>\n",
              "        const buttonEl =\n",
              "          document.querySelector('#df-5712d4fe-d59e-4ab2-9e8b-9a9012ed5e7d button.colab-df-convert');\n",
              "        buttonEl.style.display =\n",
              "          google.colab.kernel.accessAllowed ? 'block' : 'none';\n",
              "\n",
              "        async function convertToInteractive(key) {\n",
              "          const element = document.querySelector('#df-5712d4fe-d59e-4ab2-9e8b-9a9012ed5e7d');\n",
              "          const dataTable =\n",
              "            await google.colab.kernel.invokeFunction('convertToInteractive',\n",
              "                                                     [key], {});\n",
              "          if (!dataTable) return;\n",
              "\n",
              "          const docLinkHtml = 'Like what you see? Visit the ' +\n",
              "            '<a target=\"_blank\" href=https://colab.research.google.com/notebooks/data_table.ipynb>data table notebook</a>'\n",
              "            + ' to learn more about interactive tables.';\n",
              "          element.innerHTML = '';\n",
              "          dataTable['output_type'] = 'display_data';\n",
              "          await google.colab.output.renderOutput(dataTable, element);\n",
              "          const docLink = document.createElement('div');\n",
              "          docLink.innerHTML = docLinkHtml;\n",
              "          element.appendChild(docLink);\n",
              "        }\n",
              "      </script>\n",
              "    </div>\n",
              "  </div>\n",
              "  "
            ]
          },
          "metadata": {},
          "execution_count": 56
        }
      ],
      "source": [
        "# Checking outliers at 25%,50%,75%,90%,95% and above\n",
        "\n",
        "lead_df.describe(percentiles=[.25,.5,.75,.90,.95,.99])"
      ]
    },
    {
      "cell_type": "code",
      "execution_count": 57,
      "metadata": {
        "colab": {
          "base_uri": "https://localhost:8080/"
        },
        "id": "NLMSeFUHZQie",
        "outputId": "9ed3a2b4-3897-4390-b8be-ec47839b916c"
      },
      "outputs": [
        {
          "output_type": "execute_result",
          "data": {
            "text/plain": [
              "count    9029.000000\n",
              "mean        2.226383\n",
              "std         1.823395\n",
              "min         0.000000\n",
              "25%         1.000000\n",
              "50%         2.000000\n",
              "75%         3.000000\n",
              "90%         5.000000\n",
              "95%         6.000000\n",
              "99%         7.000000\n",
              "max         8.000000\n",
              "Name: Page Views Per Visit, dtype: float64"
            ]
          },
          "metadata": {},
          "execution_count": 57
        }
      ],
      "source": [
        "# Removing values beyond 99% for page Views Per Visit\n",
        "\n",
        "nn_quartile_page_visits = lead_df['Page Views Per Visit'].quantile(0.99)\n",
        "lead_df = lead_df[lead_df[\"Page Views Per Visit\"] < nn_quartile_page_visits]\n",
        "lead_df[\"Page Views Per Visit\"].describe(percentiles=[.25,.5,.75,.90,.95,.99])"
      ]
    },
    {
      "cell_type": "code",
      "execution_count": 58,
      "metadata": {
        "colab": {
          "base_uri": "https://localhost:8080/",
          "height": 394
        },
        "id": "XgpM6CzyZQie",
        "outputId": "b6156a46-1f94-4f39-ec77-1f069b56f02a"
      },
      "outputs": [
        {
          "output_type": "execute_result",
          "data": {
            "text/plain": [
              "         Lead Number    Converted  TotalVisits  Total Time Spent on Website  \\\n",
              "count    9029.000000  9029.000000  9029.000000                  9029.000000   \n",
              "mean   617223.248422     0.385092     3.087164                   483.133016   \n",
              "std     23372.383121     0.486644     2.801244                   547.420675   \n",
              "min    579533.000000     0.000000     0.000000                     0.000000   \n",
              "25%    596530.000000     0.000000     1.000000                     7.000000   \n",
              "50%    615645.000000     0.000000     3.000000                   245.000000   \n",
              "75%    637360.000000     1.000000     4.000000                   929.000000   \n",
              "90%    650463.200000     1.000000     7.000000                  1378.000000   \n",
              "95%    655351.600000     1.000000     8.000000                  1558.000000   \n",
              "99%    659577.800000     1.000000    13.000000                  1839.720000   \n",
              "max    660737.000000     1.000000    16.000000                  2272.000000   \n",
              "\n",
              "       Page Views Per Visit  \n",
              "count           9029.000000  \n",
              "mean               2.226383  \n",
              "std                1.823395  \n",
              "min                0.000000  \n",
              "25%                1.000000  \n",
              "50%                2.000000  \n",
              "75%                3.000000  \n",
              "90%                5.000000  \n",
              "95%                6.000000  \n",
              "99%                7.000000  \n",
              "max                8.000000  "
            ],
            "text/html": [
              "\n",
              "  <div id=\"df-f83d1962-1e41-487e-bbd3-81474b04d75b\">\n",
              "    <div class=\"colab-df-container\">\n",
              "      <div>\n",
              "<style scoped>\n",
              "    .dataframe tbody tr th:only-of-type {\n",
              "        vertical-align: middle;\n",
              "    }\n",
              "\n",
              "    .dataframe tbody tr th {\n",
              "        vertical-align: top;\n",
              "    }\n",
              "\n",
              "    .dataframe thead th {\n",
              "        text-align: right;\n",
              "    }\n",
              "</style>\n",
              "<table border=\"1\" class=\"dataframe\">\n",
              "  <thead>\n",
              "    <tr style=\"text-align: right;\">\n",
              "      <th></th>\n",
              "      <th>Lead Number</th>\n",
              "      <th>Converted</th>\n",
              "      <th>TotalVisits</th>\n",
              "      <th>Total Time Spent on Website</th>\n",
              "      <th>Page Views Per Visit</th>\n",
              "    </tr>\n",
              "  </thead>\n",
              "  <tbody>\n",
              "    <tr>\n",
              "      <th>count</th>\n",
              "      <td>9029.000000</td>\n",
              "      <td>9029.000000</td>\n",
              "      <td>9029.000000</td>\n",
              "      <td>9029.000000</td>\n",
              "      <td>9029.000000</td>\n",
              "    </tr>\n",
              "    <tr>\n",
              "      <th>mean</th>\n",
              "      <td>617223.248422</td>\n",
              "      <td>0.385092</td>\n",
              "      <td>3.087164</td>\n",
              "      <td>483.133016</td>\n",
              "      <td>2.226383</td>\n",
              "    </tr>\n",
              "    <tr>\n",
              "      <th>std</th>\n",
              "      <td>23372.383121</td>\n",
              "      <td>0.486644</td>\n",
              "      <td>2.801244</td>\n",
              "      <td>547.420675</td>\n",
              "      <td>1.823395</td>\n",
              "    </tr>\n",
              "    <tr>\n",
              "      <th>min</th>\n",
              "      <td>579533.000000</td>\n",
              "      <td>0.000000</td>\n",
              "      <td>0.000000</td>\n",
              "      <td>0.000000</td>\n",
              "      <td>0.000000</td>\n",
              "    </tr>\n",
              "    <tr>\n",
              "      <th>25%</th>\n",
              "      <td>596530.000000</td>\n",
              "      <td>0.000000</td>\n",
              "      <td>1.000000</td>\n",
              "      <td>7.000000</td>\n",
              "      <td>1.000000</td>\n",
              "    </tr>\n",
              "    <tr>\n",
              "      <th>50%</th>\n",
              "      <td>615645.000000</td>\n",
              "      <td>0.000000</td>\n",
              "      <td>3.000000</td>\n",
              "      <td>245.000000</td>\n",
              "      <td>2.000000</td>\n",
              "    </tr>\n",
              "    <tr>\n",
              "      <th>75%</th>\n",
              "      <td>637360.000000</td>\n",
              "      <td>1.000000</td>\n",
              "      <td>4.000000</td>\n",
              "      <td>929.000000</td>\n",
              "      <td>3.000000</td>\n",
              "    </tr>\n",
              "    <tr>\n",
              "      <th>90%</th>\n",
              "      <td>650463.200000</td>\n",
              "      <td>1.000000</td>\n",
              "      <td>7.000000</td>\n",
              "      <td>1378.000000</td>\n",
              "      <td>5.000000</td>\n",
              "    </tr>\n",
              "    <tr>\n",
              "      <th>95%</th>\n",
              "      <td>655351.600000</td>\n",
              "      <td>1.000000</td>\n",
              "      <td>8.000000</td>\n",
              "      <td>1558.000000</td>\n",
              "      <td>6.000000</td>\n",
              "    </tr>\n",
              "    <tr>\n",
              "      <th>99%</th>\n",
              "      <td>659577.800000</td>\n",
              "      <td>1.000000</td>\n",
              "      <td>13.000000</td>\n",
              "      <td>1839.720000</td>\n",
              "      <td>7.000000</td>\n",
              "    </tr>\n",
              "    <tr>\n",
              "      <th>max</th>\n",
              "      <td>660737.000000</td>\n",
              "      <td>1.000000</td>\n",
              "      <td>16.000000</td>\n",
              "      <td>2272.000000</td>\n",
              "      <td>8.000000</td>\n",
              "    </tr>\n",
              "  </tbody>\n",
              "</table>\n",
              "</div>\n",
              "      <button class=\"colab-df-convert\" onclick=\"convertToInteractive('df-f83d1962-1e41-487e-bbd3-81474b04d75b')\"\n",
              "              title=\"Convert this dataframe to an interactive table.\"\n",
              "              style=\"display:none;\">\n",
              "        \n",
              "  <svg xmlns=\"http://www.w3.org/2000/svg\" height=\"24px\"viewBox=\"0 0 24 24\"\n",
              "       width=\"24px\">\n",
              "    <path d=\"M0 0h24v24H0V0z\" fill=\"none\"/>\n",
              "    <path d=\"M18.56 5.44l.94 2.06.94-2.06 2.06-.94-2.06-.94-.94-2.06-.94 2.06-2.06.94zm-11 1L8.5 8.5l.94-2.06 2.06-.94-2.06-.94L8.5 2.5l-.94 2.06-2.06.94zm10 10l.94 2.06.94-2.06 2.06-.94-2.06-.94-.94-2.06-.94 2.06-2.06.94z\"/><path d=\"M17.41 7.96l-1.37-1.37c-.4-.4-.92-.59-1.43-.59-.52 0-1.04.2-1.43.59L10.3 9.45l-7.72 7.72c-.78.78-.78 2.05 0 2.83L4 21.41c.39.39.9.59 1.41.59.51 0 1.02-.2 1.41-.59l7.78-7.78 2.81-2.81c.8-.78.8-2.07 0-2.86zM5.41 20L4 18.59l7.72-7.72 1.47 1.35L5.41 20z\"/>\n",
              "  </svg>\n",
              "      </button>\n",
              "      \n",
              "  <style>\n",
              "    .colab-df-container {\n",
              "      display:flex;\n",
              "      flex-wrap:wrap;\n",
              "      gap: 12px;\n",
              "    }\n",
              "\n",
              "    .colab-df-convert {\n",
              "      background-color: #E8F0FE;\n",
              "      border: none;\n",
              "      border-radius: 50%;\n",
              "      cursor: pointer;\n",
              "      display: none;\n",
              "      fill: #1967D2;\n",
              "      height: 32px;\n",
              "      padding: 0 0 0 0;\n",
              "      width: 32px;\n",
              "    }\n",
              "\n",
              "    .colab-df-convert:hover {\n",
              "      background-color: #E2EBFA;\n",
              "      box-shadow: 0px 1px 2px rgba(60, 64, 67, 0.3), 0px 1px 3px 1px rgba(60, 64, 67, 0.15);\n",
              "      fill: #174EA6;\n",
              "    }\n",
              "\n",
              "    [theme=dark] .colab-df-convert {\n",
              "      background-color: #3B4455;\n",
              "      fill: #D2E3FC;\n",
              "    }\n",
              "\n",
              "    [theme=dark] .colab-df-convert:hover {\n",
              "      background-color: #434B5C;\n",
              "      box-shadow: 0px 1px 3px 1px rgba(0, 0, 0, 0.15);\n",
              "      filter: drop-shadow(0px 1px 2px rgba(0, 0, 0, 0.3));\n",
              "      fill: #FFFFFF;\n",
              "    }\n",
              "  </style>\n",
              "\n",
              "      <script>\n",
              "        const buttonEl =\n",
              "          document.querySelector('#df-f83d1962-1e41-487e-bbd3-81474b04d75b button.colab-df-convert');\n",
              "        buttonEl.style.display =\n",
              "          google.colab.kernel.accessAllowed ? 'block' : 'none';\n",
              "\n",
              "        async function convertToInteractive(key) {\n",
              "          const element = document.querySelector('#df-f83d1962-1e41-487e-bbd3-81474b04d75b');\n",
              "          const dataTable =\n",
              "            await google.colab.kernel.invokeFunction('convertToInteractive',\n",
              "                                                     [key], {});\n",
              "          if (!dataTable) return;\n",
              "\n",
              "          const docLinkHtml = 'Like what you see? Visit the ' +\n",
              "            '<a target=\"_blank\" href=https://colab.research.google.com/notebooks/data_table.ipynb>data table notebook</a>'\n",
              "            + ' to learn more about interactive tables.';\n",
              "          element.innerHTML = '';\n",
              "          dataTable['output_type'] = 'display_data';\n",
              "          await google.colab.output.renderOutput(dataTable, element);\n",
              "          const docLink = document.createElement('div');\n",
              "          docLink.innerHTML = docLinkHtml;\n",
              "          element.appendChild(docLink);\n",
              "        }\n",
              "      </script>\n",
              "    </div>\n",
              "  </div>\n",
              "  "
            ]
          },
          "metadata": {},
          "execution_count": 58
        }
      ],
      "source": [
        "# Checking outliers at 25%,50%,75%,90%,95% and above\n",
        "lead_df.describe(percentiles=[.25,.5,.75,.90,.95,.99])"
      ]
    },
    {
      "cell_type": "code",
      "execution_count": 59,
      "metadata": {
        "colab": {
          "base_uri": "https://localhost:8080/"
        },
        "id": "ThKpnN5rZQif",
        "outputId": "8f717a82-a27f-4f9a-b84a-5a457d77b30d"
      },
      "outputs": [
        {
          "output_type": "stream",
          "name": "stdout",
          "text": [
            "97.72\n"
          ]
        }
      ],
      "source": [
        "# Determine the percentage of data retained\n",
        "\n",
        "num_data = round(100*(len(lead_df)/9240),2)\n",
        "print(num_data)"
      ]
    },
    {
      "cell_type": "markdown",
      "metadata": {
        "id": "47U1UJ62ZQif"
      },
      "source": [
        "At this point, the data has been cleaned and around 98% of data has been retained"
      ]
    },
    {
      "cell_type": "markdown",
      "metadata": {
        "id": "wPipex4KZQif"
      },
      "source": [
        "### Step 3: Data Analysis\n",
        "Let us try and understand the data now based on each columns effect on the conversion rates"
      ]
    },
    {
      "cell_type": "code",
      "execution_count": 60,
      "metadata": {
        "colab": {
          "base_uri": "https://localhost:8080/",
          "height": 389
        },
        "id": "O9bmS6ESZQif",
        "outputId": "a945f6f3-1405-4a60-fa92-55827aae9e38"
      },
      "outputs": [
        {
          "output_type": "display_data",
          "data": {
            "text/plain": [
              "<Figure size 144x360 with 1 Axes>"
            ],
            "image/png": "[encoded data removed]"
          },
          "metadata": {
            "needs_background": "light"
          }
        }
      ],
      "source": [
        "# Conversion Rate \n",
        "\n",
        "plot = sns.catplot(x=\"Converted\", kind=\"count\", data=lead_df, palette=\"Set2\", aspect= 0.4);\n",
        "\n",
        "plt.title('Converted', fontsize = 14)\n",
        "plt.xlabel(\"Converted\", fontsize = 12)\n",
        "plt.ylabel(\"Count\", fontsize = 12)\n",
        "\n",
        "# Print the counts\n",
        "\n",
        "ax = plot.facet_axis(0,0)\n",
        "for p in ax.patches:        \n",
        "    ax.text(p.get_x() + p.get_width()/2., p.get_height(), p.get_height(), fontsize=12, color='blue', ha='center', va='bottom')\n",
        "    \n",
        "plt.show()"
      ]
    },
    {
      "cell_type": "markdown",
      "metadata": {
        "id": "UQdz3bFiZQif"
      },
      "source": [
        "From the above graph, there has been a overall conversion rate of around 39%"
      ]
    },
    {
      "cell_type": "code",
      "execution_count": 61,
      "metadata": {
        "colab": {
          "base_uri": "https://localhost:8080/",
          "height": 389
        },
        "id": "QUQqmfiMZQif",
        "outputId": "c6c1a5f0-28dd-4c4b-da03-506a4290c900"
      },
      "outputs": [
        {
          "output_type": "display_data",
          "data": {
            "text/plain": [
              "<Figure size 671.75x360 with 1 Axes>"
            ],
            "image/png": "[encoded data removed]"
          },
          "metadata": {
            "needs_background": "light"
          }
        }
      ],
      "source": [
        "# Lead Origin\n",
        "\n",
        "plot = sns.catplot(x=\"Lead Origin\", hue = \"Converted\", kind=\"count\", data=lead_df, palette=\"Set2\", aspect= 1.7);\n",
        "\n",
        "plt.title('Lead Origin Vs Converted', fontsize = 14)\n",
        "plt.xlabel(\"Lead Origin\", fontsize = 12)\n",
        "plt.ylabel(\"Count\", fontsize = 12)\n",
        "\n",
        "# Print the counts\n",
        "\n",
        "ax = plot.facet_axis(0,0)\n",
        "for p in ax.patches:\n",
        "    \n",
        "    if np.isnan(p.get_height()):\n",
        "        height = 0\n",
        "    else:\n",
        "        height = p.get_height()\n",
        "    \n",
        "    height = int(height)\n",
        "    ax.text(p.get_x()+p.get_width()/2., height, height, fontsize=12, color='blue', ha='center', va='bottom')\n",
        "    \n",
        "plt.show()"
      ]
    },
    {
      "cell_type": "markdown",
      "metadata": {
        "id": "bD1arAs1ZQif"
      },
      "source": [
        "From the above graph, it can be seen that the maximum conversion happened from Landing Page Submission\n",
        "Also there was only one request from quick add form which got converted."
      ]
    },
    {
      "cell_type": "code",
      "execution_count": 62,
      "metadata": {
        "colab": {
          "base_uri": "https://localhost:8080/",
          "height": 399
        },
        "id": "3WokY6MdZQig",
        "outputId": "e7ae2fb8-21cf-4966-a57c-c20305750d8a"
      },
      "outputs": [
        {
          "output_type": "display_data",
          "data": {
            "text/plain": [
              "<Figure size 1319.75x360 with 1 Axes>"
            ],
            "image/png": "[encoded data removed]"
          },
          "metadata": {
            "needs_background": "light"
          }
        }
      ],
      "source": [
        "# Lead Source\n",
        "\n",
        "plot = sns.catplot(x=\"Lead Source\", hue = \"Converted\", kind=\"count\", data=lead_df, palette=\"Set2\", aspect = 3.5);\n",
        "\n",
        "plt.title('Lead Source Vs Converted', fontsize = 14)\n",
        "plt.xlabel(\"Lead Source\", fontsize = 12)\n",
        "plt.ylabel(\"Count\", fontsize = 12)\n",
        "plt.xticks(rotation=90)\n",
        "\n",
        "# Print the counts\n",
        "\n",
        "ax = plot.facet_axis(0,0)\n",
        "for p in ax.patches:\n",
        "    \n",
        "    if np.isnan(p.get_height()):\n",
        "        height = 0\n",
        "    else:\n",
        "        height = p.get_height()\n",
        "    \n",
        "    height = int(height)\n",
        "    ax.text(p.get_x()+p.get_width()/2., height, height, fontsize=12, color='blue', ha='center', va='bottom')\n",
        "   \n",
        "plt.show()"
      ]
    },
    {
      "cell_type": "markdown",
      "metadata": {
        "id": "ATGQxRttZQig"
      },
      "source": [
        "From the above graph, it can be seen that major conversion in the lead source is from google"
      ]
    },
    {
      "cell_type": "code",
      "execution_count": 63,
      "metadata": {
        "colab": {
          "base_uri": "https://localhost:8080/",
          "height": 389
        },
        "id": "Lf0_UWZ2ZQig",
        "outputId": "cf1b5e8f-aa67-47b3-8d95-1f77cef23c62"
      },
      "outputs": [
        {
          "output_type": "display_data",
          "data": {
            "text/plain": [
              "<Figure size 275.75x360 with 1 Axes>"
            ],
            "image/png": "[encoded data removed]"
          },
          "metadata": {
            "needs_background": "light"
          }
        }
      ],
      "source": [
        "# Do not Email\n",
        "\n",
        "plot = sns.catplot(x=\"Do Not Email\", hue = \"Converted\", kind=\"count\", data=lead_df, palette=\"Set2\", aspect = 0.6);\n",
        "\n",
        "plt.title('Do Not Email Vs Converted', fontsize = 14)\n",
        "plt.xlabel(\"Do Not Email\", fontsize = 12)\n",
        "plt.ylabel(\"Count\", fontsize = 12)\n",
        "\n",
        "ax = plot.facet_axis(0,0)\n",
        "for p in ax.patches:        \n",
        "    ax.text(p.get_x() + p.get_width()/2., p.get_height(), p.get_height(), fontsize=12, color='blue', ha='center', va='bottom')\n",
        "\n",
        "plt.show()"
      ]
    },
    {
      "cell_type": "markdown",
      "metadata": {
        "id": "6Xfnkp0gZQig"
      },
      "source": [
        "Based on the above graph, major conversion has happend from the emails that have been sent"
      ]
    },
    {
      "cell_type": "code",
      "execution_count": 64,
      "metadata": {
        "colab": {
          "base_uri": "https://localhost:8080/",
          "height": 389
        },
        "id": "evGXoJX1ZQig",
        "outputId": "0a22e9d5-b64b-4d93-ca87-1802feeeb9f7"
      },
      "outputs": [
        {
          "output_type": "display_data",
          "data": {
            "text/plain": [
              "<Figure size 275.75x360 with 1 Axes>"
            ],
            "image/png": "[encoded data removed]"
          },
          "metadata": {
            "needs_background": "light"
          }
        }
      ],
      "source": [
        "# Do not Call\n",
        "\n",
        "plot = sns.catplot(x=\"Do Not Call\", hue = \"Converted\", kind=\"count\", data=lead_df, palette=\"Set2\", aspect = 0.6);\n",
        "\n",
        "plt.title('Do Not Call Vs Converted', fontsize = 14)\n",
        "plt.xlabel(\"Do Not Call\", fontsize = 12)\n",
        "plt.ylabel(\"Count\", fontsize = 12)\n",
        "\n",
        "# Print the counts\n",
        "\n",
        "ax = plot.facet_axis(0,0)\n",
        "for p in ax.patches:\n",
        "    \n",
        "    if np.isnan(p.get_height()):\n",
        "        height = 0\n",
        "    else:\n",
        "        height = p.get_height()\n",
        "    \n",
        "    height = int(height)\n",
        "    ax.text(p.get_x()+p.get_width()/2., height, height, fontsize=12, color='blue', ha='center', va='bottom')\n",
        "\n",
        "plt.show()"
      ]
    },
    {
      "cell_type": "markdown",
      "metadata": {
        "id": "x2EVemRIZQig"
      },
      "source": [
        "From the above graph , it can be noticed that major conversions happened when calls were made.\n",
        "However, it can also be seen that 2 leads opted for \"Do Not Call\", but they still got converted."
      ]
    },
    {
      "cell_type": "code",
      "execution_count": 65,
      "metadata": {
        "colab": {
          "base_uri": "https://localhost:8080/",
          "height": 502
        },
        "id": "edQtd5sbZQih",
        "outputId": "3a151aa7-52e2-4280-8728-0fc45f59031d"
      },
      "outputs": [
        {
          "output_type": "display_data",
          "data": {
            "text/plain": [
              "<Figure size 1139.75x360 with 1 Axes>"
            ],
            "image/png": "[encoded data removed]"
          },
          "metadata": {
            "needs_background": "light"
          }
        }
      ],
      "source": [
        "# Last Activity\n",
        "\n",
        "plot = sns.catplot(x=\"Last Activity\", hue = \"Converted\", kind=\"count\", data=lead_df, palette=\"Set2\", aspect = 3.0);\n",
        "\n",
        "plt.title('Last Activity Vs Converted', fontsize = 14)\n",
        "plt.xlabel(\"Last Activity\", fontsize = 12)\n",
        "plt.ylabel(\"Count\", fontsize = 12)\n",
        "plt.xticks(rotation=90)\n",
        "\n",
        "# Print the counts\n",
        "\n",
        "ax = plot.facet_axis(0,0)\n",
        "for p in ax.patches:\n",
        "    \n",
        "    if np.isnan(p.get_height()):\n",
        "        height = 0\n",
        "    else:\n",
        "        height = p.get_height()\n",
        "    \n",
        "    height = int(height)\n",
        "    ax.text(p.get_x()+p.get_width()/2., height, height, fontsize=12, color='blue', ha='center', va='bottom')\n",
        "\n",
        "plt.show()"
      ]
    },
    {
      "cell_type": "markdown",
      "metadata": {
        "id": "ufmrKfpyZQih"
      },
      "source": [
        "As per the above graph, last activity value of 'SMS Sent' had more conversion"
      ]
    },
    {
      "cell_type": "code",
      "execution_count": 66,
      "metadata": {
        "colab": {
          "base_uri": "https://localhost:8080/",
          "height": 389
        },
        "id": "qxODZBHDZQih",
        "outputId": "152186f9-f570-4e06-9d28-73b40b86a8e5"
      },
      "outputs": [
        {
          "output_type": "display_data",
          "data": {
            "text/plain": [
              "<Figure size 779.75x360 with 1 Axes>"
            ],
            "image/png": "[encoded data removed]"
          },
          "metadata": {
            "needs_background": "light"
          }
        }
      ],
      "source": [
        "# What is your current occupation\n",
        "\n",
        "plot = sns.catplot(x=\"What is your current occupation\", hue = \"Converted\", kind=\"count\", data=lead_df, palette=\"Set2\", \n",
        "                   aspect = 2.0);\n",
        "\n",
        "plt.title('Current Occupation Vs Converted', fontsize = 14)\n",
        "plt.xlabel(\"Current Occupation\", fontsize = 12)\n",
        "plt.ylabel(\"Count\", fontsize = 12)\n",
        "\n",
        "# Print the counts\n",
        "\n",
        "ax = plot.facet_axis(0,0)\n",
        "for p in ax.patches:\n",
        "    \n",
        "    if np.isnan(p.get_height()):\n",
        "        height = 0\n",
        "    else:\n",
        "        height = p.get_height()\n",
        "    \n",
        "    height = int(height)\n",
        "    ax.text(p.get_x()+p.get_width()/2., height, height, fontsize=12, color='blue', ha='center', va='bottom')\n",
        "\n",
        "plt.show()"
      ]
    },
    {
      "cell_type": "markdown",
      "metadata": {
        "id": "ha61QV_ZZQih"
      },
      "source": [
        "More conversion happend with people who are unemployed. It can also be noticed from the above data that \n",
        "    - Out of 7 business men, 4 got converted\n",
        "    - Out 10 housewives, all 10 leads got converted."
      ]
    },
    {
      "cell_type": "code",
      "execution_count": 67,
      "metadata": {
        "colab": {
          "base_uri": "https://localhost:8080/",
          "height": 389
        },
        "id": "caSdkc_RZQih",
        "outputId": "17b91610-2b45-4d2f-9ae0-a4b6222ab534"
      },
      "outputs": [
        {
          "output_type": "display_data",
          "data": {
            "text/plain": [
              "<Figure size 311.75x360 with 1 Axes>"
            ],
            "image/png": "[encoded data removed]"
          },
          "metadata": {
            "needs_background": "light"
          }
        }
      ],
      "source": [
        "# Search\n",
        "\n",
        "plot = sns.catplot(x=\"Search\", hue = \"Converted\", kind=\"count\", data=lead_df, palette=\"Set2\", aspect = 0.7);\n",
        "\n",
        "plt.title('Search Vs Converted', fontsize = 14)\n",
        "plt.xlabel(\"Search\", fontsize = 12)\n",
        "plt.ylabel(\"Count\", fontsize = 12)\n",
        "\n",
        "ax = plot.facet_axis(0,0)\n",
        "for p in ax.patches:        \n",
        "    ax.text(p.get_x() + p.get_width()/2., p.get_height(), p.get_height(), fontsize=12, color='blue', ha='center', va='bottom')\n",
        "\n",
        "plt.show()"
      ]
    },
    {
      "cell_type": "markdown",
      "metadata": {
        "id": "gNdG6vUaZQih"
      },
      "source": [
        "Conversion rate is high on leads who are not through search"
      ]
    },
    {
      "cell_type": "code",
      "execution_count": 68,
      "metadata": {
        "colab": {
          "base_uri": "https://localhost:8080/",
          "height": 389
        },
        "id": "7_tmRBDuZQii",
        "outputId": "c813271a-5324-4945-e070-f3bc2bb83d57"
      },
      "outputs": [
        {
          "output_type": "display_data",
          "data": {
            "text/plain": [
              "<Figure size 239.75x360 with 1 Axes>"
            ],
            "image/png": "[encoded data removed]"
          },
          "metadata": {
            "needs_background": "light"
          }
        }
      ],
      "source": [
        "# Newspaper Article\n",
        "\n",
        "plot = sns.catplot(x=\"Newspaper Article\", hue = \"Converted\", kind=\"count\", data=lead_df, palette=\"Set2\", aspect = 0.5);\n",
        "\n",
        "plt.title('Newspaper Article Vs Converted', fontsize = 14)\n",
        "plt.xlabel(\"Newspaper Article\", fontsize = 12)\n",
        "plt.ylabel(\"Count\", fontsize = 12)\n",
        "\n",
        "ax = plot.facet_axis(0,0)\n",
        "for p in ax.patches:        \n",
        "    ax.text(p.get_x() + p.get_width()/2., p.get_height(), p.get_height(), fontsize=12, color='blue', ha='center', va='bottom')\n",
        "\n",
        "plt.show()"
      ]
    },
    {
      "cell_type": "markdown",
      "metadata": {
        "id": "9knpyb_kZQii"
      },
      "source": [
        "Since \"Newspaper Article\" column now has only one value for all rows - \"No\" , it is safe to drop this column"
      ]
    },
    {
      "cell_type": "code",
      "execution_count": 69,
      "metadata": {
        "id": "_AHNzjb7ZQii"
      },
      "outputs": [],
      "source": [
        "# Dropping Newspaper Article\n",
        "\n",
        "lead_df = lead_df.drop(['Newspaper Article'], axis=1)"
      ]
    },
    {
      "cell_type": "code",
      "execution_count": 70,
      "metadata": {
        "colab": {
          "base_uri": "https://localhost:8080/",
          "height": 389
        },
        "id": "ld8xZNH_ZQij",
        "outputId": "e31552f8-2f06-4eb3-b009-af80cf9373a2"
      },
      "outputs": [
        {
          "output_type": "display_data",
          "data": {
            "text/plain": [
              "<Figure size 239.75x360 with 1 Axes>"
            ],
            "image/png": "[encoded data removed]"
          },
          "metadata": {
            "needs_background": "light"
          }
        }
      ],
      "source": [
        "# X Education Forums\n",
        "\n",
        "plot = sns.catplot(x=\"X Education Forums\", hue = \"Converted\", kind=\"count\", data=lead_df, palette=\"Set2\", aspect = 0.5);\n",
        "\n",
        "plt.title('X Education Forums Vs Converted', fontsize = 14)\n",
        "plt.xlabel(\"X Education Forums\", fontsize = 12)\n",
        "plt.ylabel(\"Count\", fontsize = 12)\n",
        "\n",
        "ax = plot.facet_axis(0,0)\n",
        "for p in ax.patches:        \n",
        "    ax.text(p.get_x() + p.get_width()/2., p.get_height(), p.get_height(), fontsize=12, color='blue', ha='center', va='bottom')\n",
        "\n",
        "plt.show()"
      ]
    },
    {
      "cell_type": "markdown",
      "metadata": {
        "id": "5uiLGPXRZQij"
      },
      "source": [
        "Since \"X Education Forums\" column now has only one value for all rows - \"No\" , it is safe to drop this column"
      ]
    },
    {
      "cell_type": "code",
      "execution_count": 71,
      "metadata": {
        "id": "pEasTxm-ZQik"
      },
      "outputs": [],
      "source": [
        "# Dropping X Education Forum column\n",
        "\n",
        "lead_df = lead_df.drop(['X Education Forums'], axis=1)"
      ]
    },
    {
      "cell_type": "code",
      "execution_count": 72,
      "metadata": {
        "colab": {
          "base_uri": "https://localhost:8080/",
          "height": 389
        },
        "id": "kSIArV3MZQik",
        "outputId": "4f4a2290-42c0-421b-b2da-2244410a580b"
      },
      "outputs": [
        {
          "output_type": "display_data",
          "data": {
            "text/plain": [
              "<Figure size 311.75x360 with 1 Axes>"
            ],
            "image/png": "[encoded data removed]"
          },
          "metadata": {
            "needs_background": "light"
          }
        }
      ],
      "source": [
        "plot = sns.catplot(x=\"Newspaper\", hue = \"Converted\", kind=\"count\", data=lead_df, palette=\"Set2\", aspect = 0.7);\n",
        "\n",
        "plt.title('Newspaper Vs Converted', fontsize = 14)\n",
        "plt.xlabel(\"Newspaper\", fontsize = 12)\n",
        "plt.ylabel(\"Count\", fontsize = 12)\n",
        "\n",
        "# Print the counts\n",
        "\n",
        "ax = plot.facet_axis(0,0)\n",
        "for p in ax.patches:\n",
        "    \n",
        "    if np.isnan(p.get_height()):\n",
        "        height = 0\n",
        "    else:\n",
        "        height = p.get_height()\n",
        "    \n",
        "    height = int(height)\n",
        "    ax.text(p.get_x()+p.get_width()/2., height, height, fontsize=12, color='blue', ha='center', va='bottom')\n",
        "\n",
        "plt.show()"
      ]
    },
    {
      "cell_type": "markdown",
      "metadata": {
        "id": "HTot6G4TZQik"
      },
      "source": [
        "Since Newspaper column has only one row with \"Yes\" as the value and further since this lead did not get converted and rest of all the values are \"No\", we can safely drop the column"
      ]
    },
    {
      "cell_type": "code",
      "execution_count": 73,
      "metadata": {
        "id": "cA1Xv9-FZQik"
      },
      "outputs": [],
      "source": [
        "# Dropping Newspaper column\n",
        "\n",
        "lead_df = lead_df.drop(['Newspaper'], axis=1)"
      ]
    },
    {
      "cell_type": "code",
      "execution_count": 74,
      "metadata": {
        "colab": {
          "base_uri": "https://localhost:8080/",
          "height": 389
        },
        "id": "NYyLFst7ZQik",
        "outputId": "fdbe885c-2e19-415f-fbfb-22195f1a9768"
      },
      "outputs": [
        {
          "output_type": "display_data",
          "data": {
            "text/plain": [
              "<Figure size 311.75x360 with 1 Axes>"
            ],
            "image/png": "[encoded data removed]"
          },
          "metadata": {
            "needs_background": "light"
          }
        }
      ],
      "source": [
        "# Digital Advertisement\n",
        "\n",
        "plot = sns.catplot(x=\"Digital Advertisement\", hue = \"Converted\", kind=\"count\", data=lead_df, palette=\"Set2\", aspect = 0.7);\n",
        "\n",
        "plt.title('Digital Advertisement Vs Converted', fontsize = 14)\n",
        "plt.xlabel(\"Digital Advertisement\", fontsize = 12)\n",
        "plt.ylabel(\"Count\", fontsize = 12)\n",
        "\n",
        "ax = plot.facet_axis(0,0)\n",
        "for p in ax.patches:        \n",
        "    ax.text(p.get_x() + p.get_width()/2., p.get_height(), p.get_height(), fontsize=12, color='blue', ha='center', va='bottom')\n",
        "\n",
        "plt.show()"
      ]
    },
    {
      "cell_type": "markdown",
      "metadata": {
        "id": "lP48jRXeZQik"
      },
      "source": [
        "It can be noticed above that there were 2 leads that came from digital advertisement of which one lead got converted"
      ]
    },
    {
      "cell_type": "code",
      "execution_count": 75,
      "metadata": {
        "colab": {
          "base_uri": "https://localhost:8080/",
          "height": 389
        },
        "id": "nejb4oZzZQik",
        "outputId": "74b6160d-1933-4f59-bf6a-ff66cc0706b8"
      },
      "outputs": [
        {
          "output_type": "display_data",
          "data": {
            "text/plain": [
              "<Figure size 311.75x360 with 1 Axes>"
            ],
            "image/png": "[encoded data removed]"
          },
          "metadata": {
            "needs_background": "light"
          }
        }
      ],
      "source": [
        "# Through Recommendations\n",
        "\n",
        "plot = sns.catplot(x=\"Through Recommendations\", hue = \"Converted\", kind=\"count\", data=lead_df, palette=\"Set2\", aspect = 0.7);\n",
        "\n",
        "plt.title('Through Recommendations Vs Converted', fontsize = 14)\n",
        "plt.xlabel(\"Through Recommendations\", fontsize = 12)\n",
        "plt.ylabel(\"Count\", fontsize = 12)\n",
        "\n",
        "ax = plot.facet_axis(0,0)\n",
        "for p in ax.patches:        \n",
        "    ax.text(p.get_x() + p.get_width()/2., p.get_height(), p.get_height(), fontsize=12, color='blue', ha='center', va='bottom')\n",
        "\n",
        "plt.show()"
      ]
    },
    {
      "cell_type": "markdown",
      "metadata": {
        "id": "pqFO6Or0ZQil"
      },
      "source": [
        "It can be seen that a total of 6 leads came through recommendations of which 5 leads got converted"
      ]
    },
    {
      "cell_type": "code",
      "execution_count": 76,
      "metadata": {
        "colab": {
          "base_uri": "https://localhost:8080/",
          "height": 389
        },
        "id": "JcwFTKQfZQil",
        "outputId": "c54bd050-0049-4fa1-d3a3-dfa3685b922a"
      },
      "outputs": [
        {
          "output_type": "display_data",
          "data": {
            "text/plain": [
              "<Figure size 311.75x360 with 1 Axes>"
            ],
            "image/png": "[encoded data removed]"
          },
          "metadata": {
            "needs_background": "light"
          }
        }
      ],
      "source": [
        "# A free copy of Mastering The Interview\n",
        "\n",
        "plot = sns.catplot(x=\"A free copy of Mastering The Interview\", hue = \"Converted\", kind=\"count\", data=lead_df, palette=\"Set2\",\n",
        "                   aspect = 0.7);\n",
        "\n",
        "plt.title('Mastering Interview Copy Vs Converted', fontsize = 14)\n",
        "plt.xlabel(\"Mastering Interview Copy\", fontsize = 12)\n",
        "plt.ylabel(\"Count\", fontsize = 12)\n",
        "\n",
        "ax = plot.facet_axis(0,0)\n",
        "for p in ax.patches:        \n",
        "    ax.text(p.get_x() + p.get_width()/2., p.get_height(), p.get_height(), fontsize=12, color='blue', ha='center', va='bottom')\n",
        "\n",
        "plt.show()"
      ]
    },
    {
      "cell_type": "markdown",
      "metadata": {
        "id": "8Jvfz-n3ZQil"
      },
      "source": [
        "Conversion rate is high on leads who do not want a free copy of Mastering Interviews"
      ]
    },
    {
      "cell_type": "code",
      "execution_count": 77,
      "metadata": {
        "colab": {
          "base_uri": "https://localhost:8080/",
          "height": 502
        },
        "id": "F1fT9BrSZQil",
        "outputId": "6e666d17-b473-402e-acee-d539dc1b262a"
      },
      "outputs": [
        {
          "output_type": "display_data",
          "data": {
            "text/plain": [
              "<Figure size 1139.75x360 with 1 Axes>"
            ],
            "image/png": "[encoded data removed]"
          },
          "metadata": {
            "needs_background": "light"
          }
        }
      ],
      "source": [
        "# Last Notable Activity\n",
        "\n",
        "plot = sns.catplot(x=\"Last Notable Activity\", hue = \"Converted\", kind=\"count\", data=lead_df, palette=\"Set2\", aspect = 3.0);\n",
        "\n",
        "plt.title('Last Notable Activity Vs Converted', fontsize = 14)\n",
        "plt.xlabel(\"Last Notable Activity\", fontsize = 12)\n",
        "plt.ylabel(\"Count\", fontsize = 12)\n",
        "plt.xticks(rotation=90)\n",
        "\n",
        "# Print the counts\n",
        "\n",
        "ax = plot.facet_axis(0,0)\n",
        "for p in ax.patches:\n",
        "    \n",
        "    if np.isnan(p.get_height()):\n",
        "        height = 0\n",
        "    else:\n",
        "        height = p.get_height()\n",
        "    \n",
        "    height = int(height)\n",
        "    ax.text(p.get_x()+p.get_width()/2., height, height, fontsize=12, color='blue', ha='center', va='bottom')\n",
        "\n",
        "plt.show()"
      ]
    },
    {
      "cell_type": "markdown",
      "metadata": {
        "id": "hV2MYg5hZQil"
      },
      "source": [
        "It can be noticed that the conversion rate is high for \"SMS Sent\""
      ]
    },
    {
      "cell_type": "code",
      "execution_count": 78,
      "metadata": {
        "colab": {
          "base_uri": "https://localhost:8080/",
          "height": 284
        },
        "id": "x0M8IJb6ZQil",
        "outputId": "eb488710-e1be-4bb3-cf0f-bb8f1a8f3a60"
      },
      "outputs": [
        {
          "output_type": "display_data",
          "data": {
            "text/plain": [
              "<Figure size 1440x1440 with 3 Axes>"
            ],
            "image/png": "[encoded data removed]"
          },
          "metadata": {
            "needs_background": "light"
          }
        }
      ],
      "source": [
        "# Now check the conversions for all numeric values\n",
        "\n",
        "plt.figure(figsize=(20,20))\n",
        "plt.subplot(4,3,1)\n",
        "sns.barplot(y = 'TotalVisits', x='Converted', palette='Set2', data = lead_df)\n",
        "plt.subplot(4,3,2)\n",
        "sns.barplot(y = 'Total Time Spent on Website', x='Converted', palette='Set2', data = lead_df)\n",
        "plt.subplot(4,3,3)\n",
        "sns.barplot(y = 'Page Views Per Visit', x='Converted', palette='Set2', data = lead_df)\n",
        "plt.show()"
      ]
    },
    {
      "cell_type": "markdown",
      "metadata": {
        "id": "c7PubnhPZQim"
      },
      "source": [
        "The conversion rated were high for Total Visits, Total Time Spent on Website and Page Views Per Visit"
      ]
    },
    {
      "cell_type": "markdown",
      "metadata": {
        "id": "gva2mfN5ZQim"
      },
      "source": [
        "## Step 4: Data Preparation - Creating Dummies"
      ]
    },
    {
      "cell_type": "markdown",
      "metadata": {
        "id": "nvtJdpTYZQim"
      },
      "source": [
        "Converting some binary variables (Yes/No) to 0/1"
      ]
    },
    {
      "cell_type": "code",
      "execution_count": 79,
      "metadata": {
        "id": "Zcycj2LFZQim"
      },
      "outputs": [],
      "source": [
        "variablelist =  variablelist =  ['Do Not Email', 'Do Not Call', 'Search', 'Digital Advertisement', 'Through Recommendations', \n",
        "                                 'A free copy of Mastering The Interview']\n",
        "\n",
        "# Defining the map function\n",
        "def binary_map(x):\n",
        "    return x.map({'Yes': 1, \"No\": 0})\n",
        "\n",
        "# Applying the function to the columns\n",
        "lead_df[variablelist] = lead_df[variablelist].apply(binary_map)"
      ]
    },
    {
      "cell_type": "code",
      "execution_count": 80,
      "metadata": {
        "colab": {
          "base_uri": "https://localhost:8080/",
          "height": 612
        },
        "id": "hTk9S2g8ZQim",
        "outputId": "4b2b8fa8-3998-4393-d808-bf42354955ed"
      },
      "outputs": [
        {
          "output_type": "execute_result",
          "data": {
            "text/plain": [
              "                            Prospect ID  Lead Number              Lead Origin  \\\n",
              "0  7927b2df-8bba-4d29-b9a2-b6e0beafe620       660737                      API   \n",
              "1  2a272436-5132-4136-86fa-dcc88c88f482       660728                      API   \n",
              "2  8cc8c611-a219-4f35-ad23-fdfd2656bd8a       660727  Landing Page Submission   \n",
              "3  0cc2df48-7cf4-4e39-9de9-19797f9b38cc       660719  Landing Page Submission   \n",
              "4  3256f628-e534-4826-9d63-4a8b88782852       660681  Landing Page Submission   \n",
              "\n",
              "      Lead Source  Do Not Email  Do Not Call  Converted  TotalVisits  \\\n",
              "0      Olark Chat             0            0          0          0.0   \n",
              "1  Organic Search             0            0          0          5.0   \n",
              "2  Direct Traffic             0            0          1          2.0   \n",
              "3  Direct Traffic             0            0          0          1.0   \n",
              "4          Google             0            0          1          2.0   \n",
              "\n",
              "   Total Time Spent on Website  Page Views Per Visit  ...  \\\n",
              "0                            0                   0.0  ...   \n",
              "1                          674                   2.5  ...   \n",
              "2                         1532                   2.0  ...   \n",
              "3                          305                   1.0  ...   \n",
              "4                         1428                   1.0  ...   \n",
              "\n",
              "  LastNotableActivity_Email Received  \\\n",
              "0                                  0   \n",
              "1                                  0   \n",
              "2                                  0   \n",
              "3                                  0   \n",
              "4                                  0   \n",
              "\n",
              "  LastNotableActivity_Form Submitted on Website  \\\n",
              "0                                             0   \n",
              "1                                             0   \n",
              "2                                             0   \n",
              "3                                             0   \n",
              "4                                             0   \n",
              "\n",
              "   LastNotableActivity_Had a Phone Conversation  LastNotableActivity_Modified  \\\n",
              "0                                             0                             1   \n",
              "1                                             0                             0   \n",
              "2                                             0                             0   \n",
              "3                                             0                             1   \n",
              "4                                             0                             1   \n",
              "\n",
              "   LastNotableActivity_Olark Chat Conversation  \\\n",
              "0                                            0   \n",
              "1                                            0   \n",
              "2                                            0   \n",
              "3                                            0   \n",
              "4                                            0   \n",
              "\n",
              "   LastNotableActivity_Page Visited on Website LastNotableActivity_SMS Sent  \\\n",
              "0                                            0                            0   \n",
              "1                                            0                            0   \n",
              "2                                            0                            0   \n",
              "3                                            0                            0   \n",
              "4                                            0                            0   \n",
              "\n",
              "   LastNotableActivity_Unreachable  LastNotableActivity_Unsubscribed  \\\n",
              "0                                0                                 0   \n",
              "1                                0                                 0   \n",
              "2                                0                                 0   \n",
              "3                                0                                 0   \n",
              "4                                0                                 0   \n",
              "\n",
              "   LastNotableActivity_View in browser link Clicked  \n",
              "0                                                 0  \n",
              "1                                                 0  \n",
              "2                                                 0  \n",
              "3                                                 0  \n",
              "4                                                 0  \n",
              "\n",
              "[5 rows x 78 columns]"
            ],
            "text/html": [
              "\n",
              "  <div id=\"df-b0d342f2-066a-43a7-8b8f-27a2212cc2cc\">\n",
              "    <div class=\"colab-df-container\">\n",
              "      <div>\n",
              "<style scoped>\n",
              "    .dataframe tbody tr th:only-of-type {\n",
              "        vertical-align: middle;\n",
              "    }\n",
              "\n",
              "    .dataframe tbody tr th {\n",
              "        vertical-align: top;\n",
              "    }\n",
              "\n",
              "    .dataframe thead th {\n",
              "        text-align: right;\n",
              "    }\n",
              "</style>\n",
              "<table border=\"1\" class=\"dataframe\">\n",
              "  <thead>\n",
              "    <tr style=\"text-align: right;\">\n",
              "      <th></th>\n",
              "      <th>Prospect ID</th>\n",
              "      <th>Lead Number</th>\n",
              "      <th>Lead Origin</th>\n",
              "      <th>Lead Source</th>\n",
              "      <th>Do Not Email</th>\n",
              "      <th>Do Not Call</th>\n",
              "      <th>Converted</th>\n",
              "      <th>TotalVisits</th>\n",
              "      <th>Total Time Spent on Website</th>\n",
              "      <th>Page Views Per Visit</th>\n",
              "      <th>...</th>\n",
              "      <th>LastNotableActivity_Email Received</th>\n",
              "      <th>LastNotableActivity_Form Submitted on Website</th>\n",
              "      <th>LastNotableActivity_Had a Phone Conversation</th>\n",
              "      <th>LastNotableActivity_Modified</th>\n",
              "      <th>LastNotableActivity_Olark Chat Conversation</th>\n",
              "      <th>LastNotableActivity_Page Visited on Website</th>\n",
              "      <th>LastNotableActivity_SMS Sent</th>\n",
              "      <th>LastNotableActivity_Unreachable</th>\n",
              "      <th>LastNotableActivity_Unsubscribed</th>\n",
              "      <th>LastNotableActivity_View in browser link Clicked</th>\n",
              "    </tr>\n",
              "  </thead>\n",
              "  <tbody>\n",
              "    <tr>\n",
              "      <th>0</th>\n",
              "      <td>7927b2df-8bba-4d29-b9a2-b6e0beafe620</td>\n",
              "      <td>660737</td>\n",
              "      <td>API</td>\n",
              "      <td>Olark Chat</td>\n",
              "      <td>0</td>\n",
              "      <td>0</td>\n",
              "      <td>0</td>\n",
              "      <td>0.0</td>\n",
              "      <td>0</td>\n",
              "      <td>0.0</td>\n",
              "      <td>...</td>\n",
              "      <td>0</td>\n",
              "      <td>0</td>\n",
              "      <td>0</td>\n",
              "      <td>1</td>\n",
              "      <td>0</td>\n",
              "      <td>0</td>\n",
              "      <td>0</td>\n",
              "      <td>0</td>\n",
              "      <td>0</td>\n",
              "      <td>0</td>\n",
              "    </tr>\n",
              "    <tr>\n",
              "      <th>1</th>\n",
              "      <td>2a272436-5132-4136-86fa-dcc88c88f482</td>\n",
              "      <td>660728</td>\n",
              "      <td>API</td>\n",
              "      <td>Organic Search</td>\n",
              "      <td>0</td>\n",
              "      <td>0</td>\n",
              "      <td>0</td>\n",
              "      <td>5.0</td>\n",
              "      <td>674</td>\n",
              "      <td>2.5</td>\n",
              "      <td>...</td>\n",
              "      <td>0</td>\n",
              "      <td>0</td>\n",
              "      <td>0</td>\n",
              "      <td>0</td>\n",
              "      <td>0</td>\n",
              "      <td>0</td>\n",
              "      <td>0</td>\n",
              "      <td>0</td>\n",
              "      <td>0</td>\n",
              "      <td>0</td>\n",
              "    </tr>\n",
              "    <tr>\n",
              "      <th>2</th>\n",
              "      <td>8cc8c611-a219-4f35-ad23-fdfd2656bd8a</td>\n",
              "      <td>660727</td>\n",
              "      <td>Landing Page Submission</td>\n",
              "      <td>Direct Traffic</td>\n",
              "      <td>0</td>\n",
              "      <td>0</td>\n",
              "      <td>1</td>\n",
              "      <td>2.0</td>\n",
              "      <td>1532</td>\n",
              "      <td>2.0</td>\n",
              "      <td>...</td>\n",
              "      <td>0</td>\n",
              "      <td>0</td>\n",
              "      <td>0</td>\n",
              "      <td>0</td>\n",
              "      <td>0</td>\n",
              "      <td>0</td>\n",
              "      <td>0</td>\n",
              "      <td>0</td>\n",
              "      <td>0</td>\n",
              "      <td>0</td>\n",
              "    </tr>\n",
              "    <tr>\n",
              "      <th>3</th>\n",
              "      <td>0cc2df48-7cf4-4e39-9de9-19797f9b38cc</td>\n",
              "      <td>660719</td>\n",
              "      <td>Landing Page Submission</td>\n",
              "      <td>Direct Traffic</td>\n",
              "      <td>0</td>\n",
              "      <td>0</td>\n",
              "      <td>0</td>\n",
              "      <td>1.0</td>\n",
              "      <td>305</td>\n",
              "      <td>1.0</td>\n",
              "      <td>...</td>\n",
              "      <td>0</td>\n",
              "      <td>0</td>\n",
              "      <td>0</td>\n",
              "      <td>1</td>\n",
              "      <td>0</td>\n",
              "      <td>0</td>\n",
              "      <td>0</td>\n",
              "      <td>0</td>\n",
              "      <td>0</td>\n",
              "      <td>0</td>\n",
              "    </tr>\n",
              "    <tr>\n",
              "      <th>4</th>\n",
              "      <td>3256f628-e534-4826-9d63-4a8b88782852</td>\n",
              "      <td>660681</td>\n",
              "      <td>Landing Page Submission</td>\n",
              "      <td>Google</td>\n",
              "      <td>0</td>\n",
              "      <td>0</td>\n",
              "      <td>1</td>\n",
              "      <td>2.0</td>\n",
              "      <td>1428</td>\n",
              "      <td>1.0</td>\n",
              "      <td>...</td>\n",
              "      <td>0</td>\n",
              "      <td>0</td>\n",
              "      <td>0</td>\n",
              "      <td>1</td>\n",
              "      <td>0</td>\n",
              "      <td>0</td>\n",
              "      <td>0</td>\n",
              "      <td>0</td>\n",
              "      <td>0</td>\n",
              "      <td>0</td>\n",
              "    </tr>\n",
              "  </tbody>\n",
              "</table>\n",
              "<p>5 rows × 78 columns</p>\n",
              "</div>\n",
              "      <button class=\"colab-df-convert\" onclick=\"convertToInteractive('df-b0d342f2-066a-43a7-8b8f-27a2212cc2cc')\"\n",
              "              title=\"Convert this dataframe to an interactive table.\"\n",
              "              style=\"display:none;\">\n",
              "        \n",
              "  <svg xmlns=\"http://www.w3.org/2000/svg\" height=\"24px\"viewBox=\"0 0 24 24\"\n",
              "       width=\"24px\">\n",
              "    <path d=\"M0 0h24v24H0V0z\" fill=\"none\"/>\n",
              "    <path d=\"M18.56 5.44l.94 2.06.94-2.06 2.06-.94-2.06-.94-.94-2.06-.94 2.06-2.06.94zm-11 1L8.5 8.5l.94-2.06 2.06-.94-2.06-.94L8.5 2.5l-.94 2.06-2.06.94zm10 10l.94 2.06.94-2.06 2.06-.94-2.06-.94-.94-2.06-.94 2.06-2.06.94z\"/><path d=\"M17.41 7.96l-1.37-1.37c-.4-.4-.92-.59-1.43-.59-.52 0-1.04.2-1.43.59L10.3 9.45l-7.72 7.72c-.78.78-.78 2.05 0 2.83L4 21.41c.39.39.9.59 1.41.59.51 0 1.02-.2 1.41-.59l7.78-7.78 2.81-2.81c.8-.78.8-2.07 0-2.86zM5.41 20L4 18.59l7.72-7.72 1.47 1.35L5.41 20z\"/>\n",
              "  </svg>\n",
              "      </button>\n",
              "      \n",
              "  <style>\n",
              "    .colab-df-container {\n",
              "      display:flex;\n",
              "      flex-wrap:wrap;\n",
              "      gap: 12px;\n",
              "    }\n",
              "\n",
              "    .colab-df-convert {\n",
              "      background-color: #E8F0FE;\n",
              "      border: none;\n",
              "      border-radius: 50%;\n",
              "      cursor: pointer;\n",
              "      display: none;\n",
              "      fill: #1967D2;\n",
              "      height: 32px;\n",
              "      padding: 0 0 0 0;\n",
              "      width: 32px;\n",
              "    }\n",
              "\n",
              "    .colab-df-convert:hover {\n",
              "      background-color: #E2EBFA;\n",
              "      box-shadow: 0px 1px 2px rgba(60, 64, 67, 0.3), 0px 1px 3px 1px rgba(60, 64, 67, 0.15);\n",
              "      fill: #174EA6;\n",
              "    }\n",
              "\n",
              "    [theme=dark] .colab-df-convert {\n",
              "      background-color: #3B4455;\n",
              "      fill: #D2E3FC;\n",
              "    }\n",
              "\n",
              "    [theme=dark] .colab-df-convert:hover {\n",
              "      background-color: #434B5C;\n",
              "      box-shadow: 0px 1px 3px 1px rgba(0, 0, 0, 0.15);\n",
              "      filter: drop-shadow(0px 1px 2px rgba(0, 0, 0, 0.3));\n",
              "      fill: #FFFFFF;\n",
              "    }\n",
              "  </style>\n",
              "\n",
              "      <script>\n",
              "        const buttonEl =\n",
              "          document.querySelector('#df-b0d342f2-066a-43a7-8b8f-27a2212cc2cc button.colab-df-convert');\n",
              "        buttonEl.style.display =\n",
              "          google.colab.kernel.accessAllowed ? 'block' : 'none';\n",
              "\n",
              "        async function convertToInteractive(key) {\n",
              "          const element = document.querySelector('#df-b0d342f2-066a-43a7-8b8f-27a2212cc2cc');\n",
              "          const dataTable =\n",
              "            await google.colab.kernel.invokeFunction('convertToInteractive',\n",
              "                                                     [key], {});\n",
              "          if (!dataTable) return;\n",
              "\n",
              "          const docLinkHtml = 'Like what you see? Visit the ' +\n",
              "            '<a target=\"_blank\" href=https://colab.research.google.com/notebooks/data_table.ipynb>data table notebook</a>'\n",
              "            + ' to learn more about interactive tables.';\n",
              "          element.innerHTML = '';\n",
              "          dataTable['output_type'] = 'display_data';\n",
              "          await google.colab.output.renderOutput(dataTable, element);\n",
              "          const docLink = document.createElement('div');\n",
              "          docLink.innerHTML = docLinkHtml;\n",
              "          element.appendChild(docLink);\n",
              "        }\n",
              "      </script>\n",
              "    </div>\n",
              "  </div>\n",
              "  "
            ]
          },
          "metadata": {},
          "execution_count": 80
        }
      ],
      "source": [
        "# Creating dummies for the following columns below\n",
        "\n",
        "# Lead Origin : \n",
        "\n",
        "d_lead_origin = pd.get_dummies(lead_df['Lead Origin'], prefix='LeadOrigin')\n",
        "# Dropping quick Add Form column\n",
        "d_lead_origin1 = d_lead_origin.drop(['LeadOrigin_Quick Add Form'], 1)\n",
        "#Adding the results to the master dataframe\n",
        "lead_df = pd.concat([lead_df, d_lead_origin1], axis = 1)\n",
        "\n",
        "# Lead Source :\n",
        "\n",
        "d_lead_source = pd.get_dummies(lead_df['Lead Source'], prefix='LeadSource')\n",
        "# Dropping blog column\n",
        "d_lead_source1 = d_lead_source.drop(['LeadSource_NC_EDM'], 1)\n",
        "# Adding the results to the master dataframe\n",
        "lead_df = pd.concat([lead_df,d_lead_source1], axis=1)\n",
        "\n",
        "# last Activity\n",
        "\n",
        "d_last_activity = pd.get_dummies(lead_df['Last Activity'], prefix='LastActivity')\n",
        "# Dropping Resubscribed to emails column\n",
        "d_last_activity1 = d_last_activity.drop(['LastActivity_Resubscribed to emails'], 1)\n",
        "# Adding the results to the master dataframe\n",
        "lead_df = pd.concat([lead_df,d_last_activity1], axis=1)\n",
        "\n",
        "# What is your current occupation\n",
        "\n",
        "d_curr_occupation = pd.get_dummies(lead_df['What is your current occupation'], prefix='CurrentOccupation')\n",
        "# Dropping No Information column\n",
        "d_curr_occupation1 = d_curr_occupation.drop(['CurrentOccupation_Businessman'], 1)\n",
        "# Adding the results to the master dataframe\n",
        "lead_df = pd.concat([lead_df,d_curr_occupation1], axis=1)\n",
        "\n",
        "# Last Notable Activity\n",
        "\n",
        "d_last_notable_activity = pd.get_dummies(lead_df['Last Notable Activity'], prefix='LastNotableActivity')\n",
        "# Dropping Resubscribed to emails column\n",
        "d_last_notable_activity1 = d_last_notable_activity.drop(['LastNotableActivity_Resubscribed to emails'], 1)\n",
        "# Adding the results to the master dataframe\n",
        "lead_df = pd.concat([lead_df,d_last_notable_activity1], axis=1)\n",
        "\n",
        "lead_df.head()"
      ]
    },
    {
      "cell_type": "code",
      "execution_count": 81,
      "metadata": {
        "id": "ghthkmyFZQin"
      },
      "outputs": [],
      "source": [
        "# Remove following columns from the lead_df\n",
        "\n",
        "# a) Prospect ID\n",
        "# b) Lead Numbers\n",
        "# c) Lead Origin\n",
        "# d) Lead Source\n",
        "# e) Last Activity\n",
        "# f) What is your current occupation\n",
        "# g) Last Notable Activity\n",
        "\n",
        "lead_df = lead_df.drop(['Prospect ID', 'Lead Number', 'Lead Origin', 'Lead Source', 'Last Activity',\n",
        "                          'What is your current occupation', 'Last Notable Activity'], axis=1)\n"
      ]
    },
    {
      "cell_type": "code",
      "execution_count": 82,
      "metadata": {
        "scrolled": true,
        "colab": {
          "base_uri": "https://localhost:8080/"
        },
        "id": "xXehAapsZQin",
        "outputId": "183ffed0-d7cf-4e0e-a436-1776bba51123"
      },
      "outputs": [
        {
          "output_type": "stream",
          "name": "stdout",
          "text": [
            "<class 'pandas.core.frame.DataFrame'>\n",
            "Int64Index: 9029 entries, 0 to 9239\n",
            "Data columns (total 71 columns):\n",
            " #   Column                                            Non-Null Count  Dtype  \n",
            "---  ------                                            --------------  -----  \n",
            " 0   Do Not Email                                      9029 non-null   int64  \n",
            " 1   Do Not Call                                       9029 non-null   int64  \n",
            " 2   Converted                                         9029 non-null   int64  \n",
            " 3   TotalVisits                                       9029 non-null   float64\n",
            " 4   Total Time Spent on Website                       9029 non-null   int64  \n",
            " 5   Page Views Per Visit                              9029 non-null   float64\n",
            " 6   Search                                            9029 non-null   int64  \n",
            " 7   Digital Advertisement                             9029 non-null   int64  \n",
            " 8   Through Recommendations                           9029 non-null   int64  \n",
            " 9   A free copy of Mastering The Interview            9029 non-null   int64  \n",
            " 10  LeadOrigin_API                                    9029 non-null   uint8  \n",
            " 11  LeadOrigin_Landing Page Submission                9029 non-null   uint8  \n",
            " 12  LeadOrigin_Lead Add Form                          9029 non-null   uint8  \n",
            " 13  LeadOrigin_Lead Import                            9029 non-null   uint8  \n",
            " 14  LeadSource_Click2call                             9029 non-null   uint8  \n",
            " 15  LeadSource_Direct Traffic                         9029 non-null   uint8  \n",
            " 16  LeadSource_Facebook                               9029 non-null   uint8  \n",
            " 17  LeadSource_Google                                 9029 non-null   uint8  \n",
            " 18  LeadSource_Live Chat                              9029 non-null   uint8  \n",
            " 19  LeadSource_Olark Chat                             9029 non-null   uint8  \n",
            " 20  LeadSource_Organic Search                         9029 non-null   uint8  \n",
            " 21  LeadSource_Pay per Click Ads                      9029 non-null   uint8  \n",
            " 22  LeadSource_Press_Release                          9029 non-null   uint8  \n",
            " 23  LeadSource_Reference                              9029 non-null   uint8  \n",
            " 24  LeadSource_Referral Sites                         9029 non-null   uint8  \n",
            " 25  LeadSource_Social Media                           9029 non-null   uint8  \n",
            " 26  LeadSource_WeLearn                                9029 non-null   uint8  \n",
            " 27  LeadSource_Welingak Website                       9029 non-null   uint8  \n",
            " 28  LeadSource_bing                                   9029 non-null   uint8  \n",
            " 29  LeadSource_blog                                   9029 non-null   uint8  \n",
            " 30  LeadSource_testone                                9029 non-null   uint8  \n",
            " 31  LeadSource_welearnblog_Home                       9029 non-null   uint8  \n",
            " 32  LeadSource_youtubechannel                         9029 non-null   uint8  \n",
            " 33  LastActivity_Approached upfront                   9029 non-null   uint8  \n",
            " 34  LastActivity_Converted to Lead                    9029 non-null   uint8  \n",
            " 35  LastActivity_Email Bounced                        9029 non-null   uint8  \n",
            " 36  LastActivity_Email Link Clicked                   9029 non-null   uint8  \n",
            " 37  LastActivity_Email Marked Spam                    9029 non-null   uint8  \n",
            " 38  LastActivity_Email Opened                         9029 non-null   uint8  \n",
            " 39  LastActivity_Email Received                       9029 non-null   uint8  \n",
            " 40  LastActivity_Form Submitted on Website            9029 non-null   uint8  \n",
            " 41  LastActivity_Had a Phone Conversation             9029 non-null   uint8  \n",
            " 42  LastActivity_Not Sure                             9029 non-null   uint8  \n",
            " 43  LastActivity_Olark Chat Conversation              9029 non-null   uint8  \n",
            " 44  LastActivity_Page Visited on Website              9029 non-null   uint8  \n",
            " 45  LastActivity_SMS Sent                             9029 non-null   uint8  \n",
            " 46  LastActivity_Unreachable                          9029 non-null   uint8  \n",
            " 47  LastActivity_Unsubscribed                         9029 non-null   uint8  \n",
            " 48  LastActivity_View in browser link Clicked         9029 non-null   uint8  \n",
            " 49  LastActivity_Visited Booth in Tradeshow           9029 non-null   uint8  \n",
            " 50  CurrentOccupation_Housewife                       9029 non-null   uint8  \n",
            " 51  CurrentOccupation_No Information                  9029 non-null   uint8  \n",
            " 52  CurrentOccupation_Other                           9029 non-null   uint8  \n",
            " 53  CurrentOccupation_Student                         9029 non-null   uint8  \n",
            " 54  CurrentOccupation_Unemployed                      9029 non-null   uint8  \n",
            " 55  CurrentOccupation_Working Professional            9029 non-null   uint8  \n",
            " 56  LastNotableActivity_Approached upfront            9029 non-null   uint8  \n",
            " 57  LastNotableActivity_Email Bounced                 9029 non-null   uint8  \n",
            " 58  LastNotableActivity_Email Link Clicked            9029 non-null   uint8  \n",
            " 59  LastNotableActivity_Email Marked Spam             9029 non-null   uint8  \n",
            " 60  LastNotableActivity_Email Opened                  9029 non-null   uint8  \n",
            " 61  LastNotableActivity_Email Received                9029 non-null   uint8  \n",
            " 62  LastNotableActivity_Form Submitted on Website     9029 non-null   uint8  \n",
            " 63  LastNotableActivity_Had a Phone Conversation      9029 non-null   uint8  \n",
            " 64  LastNotableActivity_Modified                      9029 non-null   uint8  \n",
            " 65  LastNotableActivity_Olark Chat Conversation       9029 non-null   uint8  \n",
            " 66  LastNotableActivity_Page Visited on Website       9029 non-null   uint8  \n",
            " 67  LastNotableActivity_SMS Sent                      9029 non-null   uint8  \n",
            " 68  LastNotableActivity_Unreachable                   9029 non-null   uint8  \n",
            " 69  LastNotableActivity_Unsubscribed                  9029 non-null   uint8  \n",
            " 70  LastNotableActivity_View in browser link Clicked  9029 non-null   uint8  \n",
            "dtypes: float64(2), int64(8), uint8(61)\n",
            "memory usage: 1.5 MB\n"
          ]
        }
      ],
      "source": [
        "lead_df.info()"
      ]
    },
    {
      "cell_type": "code",
      "execution_count": 83,
      "metadata": {
        "scrolled": true,
        "colab": {
          "base_uri": "https://localhost:8080/"
        },
        "id": "3xgy25FLZQin",
        "outputId": "f8e4cdfc-3c73-4548-bff8-57bb0c7d5a54"
      },
      "outputs": [
        {
          "output_type": "stream",
          "name": "stdout",
          "text": [
            "Do Not Email                                        0.0\n",
            "Do Not Call                                         0.0\n",
            "Converted                                           0.0\n",
            "TotalVisits                                         0.0\n",
            "Total Time Spent on Website                         0.0\n",
            "                                                   ... \n",
            "LastNotableActivity_Page Visited on Website         0.0\n",
            "LastNotableActivity_SMS Sent                        0.0\n",
            "LastNotableActivity_Unreachable                     0.0\n",
            "LastNotableActivity_Unsubscribed                    0.0\n",
            "LastNotableActivity_View in browser link Clicked    0.0\n",
            "Length: 71, dtype: float64\n"
          ]
        }
      ],
      "source": [
        "# check for percentage of null values in each column\n",
        "\n",
        "missing_percent = round(100*(lead_df.isnull().sum()/len(lead_df.index)), 2)\n",
        "print(missing_percent)"
      ]
    },
    {
      "cell_type": "code",
      "execution_count": 84,
      "metadata": {
        "colab": {
          "base_uri": "https://localhost:8080/"
        },
        "id": "1mKOHqqBZQin",
        "outputId": "30759e0d-0e25-4fa0-a9cc-59ac2f13a454"
      },
      "outputs": [
        {
          "output_type": "execute_result",
          "data": {
            "text/plain": [
              "(9029, 71)"
            ]
          },
          "metadata": {},
          "execution_count": 84
        }
      ],
      "source": [
        "# check shape of the data frame\n",
        "\n",
        "lead_df.shape"
      ]
    },
    {
      "cell_type": "markdown",
      "metadata": {
        "id": "othmh5ACZQio"
      },
      "source": [
        "Since there are around 71 columns, we will not be looking at the correlation using heat map as we will not be able to infer anything from the heat map due to huge data"
      ]
    },
    {
      "cell_type": "markdown",
      "metadata": {
        "id": "AvA1ZVqVZQio"
      },
      "source": [
        "### Step 5: Test-Train Split"
      ]
    },
    {
      "cell_type": "code",
      "execution_count": 85,
      "metadata": {
        "id": "aw0TTB8EZQio"
      },
      "outputs": [],
      "source": [
        "from sklearn.model_selection import train_test_split"
      ]
    },
    {
      "cell_type": "code",
      "execution_count": 86,
      "metadata": {
        "colab": {
          "base_uri": "https://localhost:8080/",
          "height": 0
        },
        "id": "K1fgfSbNZQio",
        "outputId": "15f9060e-9c74-4c2c-8214-65b7c47d1793"
      },
      "outputs": [
        {
          "output_type": "execute_result",
          "data": {
            "text/plain": [
              "   Do Not Email  Do Not Call  TotalVisits  Total Time Spent on Website  \\\n",
              "0             0            0          0.0                            0   \n",
              "1             0            0          5.0                          674   \n",
              "2             0            0          2.0                         1532   \n",
              "3             0            0          1.0                          305   \n",
              "4             0            0          2.0                         1428   \n",
              "\n",
              "   Page Views Per Visit  Search  Digital Advertisement  \\\n",
              "0                   0.0       0                      0   \n",
              "1                   2.5       0                      0   \n",
              "2                   2.0       0                      0   \n",
              "3                   1.0       0                      0   \n",
              "4                   1.0       0                      0   \n",
              "\n",
              "   Through Recommendations  A free copy of Mastering The Interview  \\\n",
              "0                        0                                       0   \n",
              "1                        0                                       0   \n",
              "2                        0                                       1   \n",
              "3                        0                                       0   \n",
              "4                        0                                       0   \n",
              "\n",
              "   LeadOrigin_API  ...  LastNotableActivity_Email Received  \\\n",
              "0               1  ...                                   0   \n",
              "1               1  ...                                   0   \n",
              "2               0  ...                                   0   \n",
              "3               0  ...                                   0   \n",
              "4               0  ...                                   0   \n",
              "\n",
              "   LastNotableActivity_Form Submitted on Website  \\\n",
              "0                                              0   \n",
              "1                                              0   \n",
              "2                                              0   \n",
              "3                                              0   \n",
              "4                                              0   \n",
              "\n",
              "   LastNotableActivity_Had a Phone Conversation  LastNotableActivity_Modified  \\\n",
              "0                                             0                             1   \n",
              "1                                             0                             0   \n",
              "2                                             0                             0   \n",
              "3                                             0                             1   \n",
              "4                                             0                             1   \n",
              "\n",
              "   LastNotableActivity_Olark Chat Conversation  \\\n",
              "0                                            0   \n",
              "1                                            0   \n",
              "2                                            0   \n",
              "3                                            0   \n",
              "4                                            0   \n",
              "\n",
              "   LastNotableActivity_Page Visited on Website  LastNotableActivity_SMS Sent  \\\n",
              "0                                            0                             0   \n",
              "1                                            0                             0   \n",
              "2                                            0                             0   \n",
              "3                                            0                             0   \n",
              "4                                            0                             0   \n",
              "\n",
              "   LastNotableActivity_Unreachable  LastNotableActivity_Unsubscribed  \\\n",
              "0                                0                                 0   \n",
              "1                                0                                 0   \n",
              "2                                0                                 0   \n",
              "3                                0                                 0   \n",
              "4                                0                                 0   \n",
              "\n",
              "   LastNotableActivity_View in browser link Clicked  \n",
              "0                                                 0  \n",
              "1                                                 0  \n",
              "2                                                 0  \n",
              "3                                                 0  \n",
              "4                                                 0  \n",
              "\n",
              "[5 rows x 70 columns]"
            ],
            "text/html": [
              "\n",
              "  <div id=\"df-0847c238-1ac1-4dc5-8818-7cbcd64ee6ad\">\n",
              "    <div class=\"colab-df-container\">\n",
              "      <div>\n",
              "<style scoped>\n",
              "    .dataframe tbody tr th:only-of-type {\n",
              "        vertical-align: middle;\n",
              "    }\n",
              "\n",
              "    .dataframe tbody tr th {\n",
              "        vertical-align: top;\n",
              "    }\n",
              "\n",
              "    .dataframe thead th {\n",
              "        text-align: right;\n",
              "    }\n",
              "</style>\n",
              "<table border=\"1\" class=\"dataframe\">\n",
              "  <thead>\n",
              "    <tr style=\"text-align: right;\">\n",
              "      <th></th>\n",
              "      <th>Do Not Email</th>\n",
              "      <th>Do Not Call</th>\n",
              "      <th>TotalVisits</th>\n",
              "      <th>Total Time Spent on Website</th>\n",
              "      <th>Page Views Per Visit</th>\n",
              "      <th>Search</th>\n",
              "      <th>Digital Advertisement</th>\n",
              "      <th>Through Recommendations</th>\n",
              "      <th>A free copy of Mastering The Interview</th>\n",
              "      <th>LeadOrigin_API</th>\n",
              "      <th>...</th>\n",
              "      <th>LastNotableActivity_Email Received</th>\n",
              "      <th>LastNotableActivity_Form Submitted on Website</th>\n",
              "      <th>LastNotableActivity_Had a Phone Conversation</th>\n",
              "      <th>LastNotableActivity_Modified</th>\n",
              "      <th>LastNotableActivity_Olark Chat Conversation</th>\n",
              "      <th>LastNotableActivity_Page Visited on Website</th>\n",
              "      <th>LastNotableActivity_SMS Sent</th>\n",
              "      <th>LastNotableActivity_Unreachable</th>\n",
              "      <th>LastNotableActivity_Unsubscribed</th>\n",
              "      <th>LastNotableActivity_View in browser link Clicked</th>\n",
              "    </tr>\n",
              "  </thead>\n",
              "  <tbody>\n",
              "    <tr>\n",
              "      <th>0</th>\n",
              "      <td>0</td>\n",
              "      <td>0</td>\n",
              "      <td>0.0</td>\n",
              "      <td>0</td>\n",
              "      <td>0.0</td>\n",
              "      <td>0</td>\n",
              "      <td>0</td>\n",
              "      <td>0</td>\n",
              "      <td>0</td>\n",
              "      <td>1</td>\n",
              "      <td>...</td>\n",
              "      <td>0</td>\n",
              "      <td>0</td>\n",
              "      <td>0</td>\n",
              "      <td>1</td>\n",
              "      <td>0</td>\n",
              "      <td>0</td>\n",
              "      <td>0</td>\n",
              "      <td>0</td>\n",
              "      <td>0</td>\n",
              "      <td>0</td>\n",
              "    </tr>\n",
              "    <tr>\n",
              "      <th>1</th>\n",
              "      <td>0</td>\n",
              "      <td>0</td>\n",
              "      <td>5.0</td>\n",
              "      <td>674</td>\n",
              "      <td>2.5</td>\n",
              "      <td>0</td>\n",
              "      <td>0</td>\n",
              "      <td>0</td>\n",
              "      <td>0</td>\n",
              "      <td>1</td>\n",
              "      <td>...</td>\n",
              "      <td>0</td>\n",
              "      <td>0</td>\n",
              "      <td>0</td>\n",
              "      <td>0</td>\n",
              "      <td>0</td>\n",
              "      <td>0</td>\n",
              "      <td>0</td>\n",
              "      <td>0</td>\n",
              "      <td>0</td>\n",
              "      <td>0</td>\n",
              "    </tr>\n",
              "    <tr>\n",
              "      <th>2</th>\n",
              "      <td>0</td>\n",
              "      <td>0</td>\n",
              "      <td>2.0</td>\n",
              "      <td>1532</td>\n",
              "      <td>2.0</td>\n",
              "      <td>0</td>\n",
              "      <td>0</td>\n",
              "      <td>0</td>\n",
              "      <td>1</td>\n",
              "      <td>0</td>\n",
              "      <td>...</td>\n",
              "      <td>0</td>\n",
              "      <td>0</td>\n",
              "      <td>0</td>\n",
              "      <td>0</td>\n",
              "      <td>0</td>\n",
              "      <td>0</td>\n",
              "      <td>0</td>\n",
              "      <td>0</td>\n",
              "      <td>0</td>\n",
              "      <td>0</td>\n",
              "    </tr>\n",
              "    <tr>\n",
              "      <th>3</th>\n",
              "      <td>0</td>\n",
              "      <td>0</td>\n",
              "      <td>1.0</td>\n",
              "      <td>305</td>\n",
              "      <td>1.0</td>\n",
              "      <td>0</td>\n",
              "      <td>0</td>\n",
              "      <td>0</td>\n",
              "      <td>0</td>\n",
              "      <td>0</td>\n",
              "      <td>...</td>\n",
              "      <td>0</td>\n",
              "      <td>0</td>\n",
              "      <td>0</td>\n",
              "      <td>1</td>\n",
              "      <td>0</td>\n",
              "      <td>0</td>\n",
              "      <td>0</td>\n",
              "      <td>0</td>\n",
              "      <td>0</td>\n",
              "      <td>0</td>\n",
              "    </tr>\n",
              "    <tr>\n",
              "      <th>4</th>\n",
              "      <td>0</td>\n",
              "      <td>0</td>\n",
              "      <td>2.0</td>\n",
              "      <td>1428</td>\n",
              "      <td>1.0</td>\n",
              "      <td>0</td>\n",
              "      <td>0</td>\n",
              "      <td>0</td>\n",
              "      <td>0</td>\n",
              "      <td>0</td>\n",
              "      <td>...</td>\n",
              "      <td>0</td>\n",
              "      <td>0</td>\n",
              "      <td>0</td>\n",
              "      <td>1</td>\n",
              "      <td>0</td>\n",
              "      <td>0</td>\n",
              "      <td>0</td>\n",
              "      <td>0</td>\n",
              "      <td>0</td>\n",
              "      <td>0</td>\n",
              "    </tr>\n",
              "  </tbody>\n",
              "</table>\n",
              "<p>5 rows × 70 columns</p>\n",
              "</div>\n",
              "      <button class=\"colab-df-convert\" onclick=\"convertToInteractive('df-0847c238-1ac1-4dc5-8818-7cbcd64ee6ad')\"\n",
              "              title=\"Convert this dataframe to an interactive table.\"\n",
              "              style=\"display:none;\">\n",
              "        \n",
              "  <svg xmlns=\"http://www.w3.org/2000/svg\" height=\"24px\"viewBox=\"0 0 24 24\"\n",
              "       width=\"24px\">\n",
              "    <path d=\"M0 0h24v24H0V0z\" fill=\"none\"/>\n",
              "    <path d=\"M18.56 5.44l.94 2.06.94-2.06 2.06-.94-2.06-.94-.94-2.06-.94 2.06-2.06.94zm-11 1L8.5 8.5l.94-2.06 2.06-.94-2.06-.94L8.5 2.5l-.94 2.06-2.06.94zm10 10l.94 2.06.94-2.06 2.06-.94-2.06-.94-.94-2.06-.94 2.06-2.06.94z\"/><path d=\"M17.41 7.96l-1.37-1.37c-.4-.4-.92-.59-1.43-.59-.52 0-1.04.2-1.43.59L10.3 9.45l-7.72 7.72c-.78.78-.78 2.05 0 2.83L4 21.41c.39.39.9.59 1.41.59.51 0 1.02-.2 1.41-.59l7.78-7.78 2.81-2.81c.8-.78.8-2.07 0-2.86zM5.41 20L4 18.59l7.72-7.72 1.47 1.35L5.41 20z\"/>\n",
              "  </svg>\n",
              "      </button>\n",
              "      \n",
              "  <style>\n",
              "    .colab-df-container {\n",
              "      display:flex;\n",
              "      flex-wrap:wrap;\n",
              "      gap: 12px;\n",
              "    }\n",
              "\n",
              "    .colab-df-convert {\n",
              "      background-color: #E8F0FE;\n",
              "      border: none;\n",
              "      border-radius: 50%;\n",
              "      cursor: pointer;\n",
              "      display: none;\n",
              "      fill: #1967D2;\n",
              "      height: 32px;\n",
              "      padding: 0 0 0 0;\n",
              "      width: 32px;\n",
              "    }\n",
              "\n",
              "    .colab-df-convert:hover {\n",
              "      background-color: #E2EBFA;\n",
              "      box-shadow: 0px 1px 2px rgba(60, 64, 67, 0.3), 0px 1px 3px 1px rgba(60, 64, 67, 0.15);\n",
              "      fill: #174EA6;\n",
              "    }\n",
              "\n",
              "    [theme=dark] .colab-df-convert {\n",
              "      background-color: #3B4455;\n",
              "      fill: #D2E3FC;\n",
              "    }\n",
              "\n",
              "    [theme=dark] .colab-df-convert:hover {\n",
              "      background-color: #434B5C;\n",
              "      box-shadow: 0px 1px 3px 1px rgba(0, 0, 0, 0.15);\n",
              "      filter: drop-shadow(0px 1px 2px rgba(0, 0, 0, 0.3));\n",
              "      fill: #FFFFFF;\n",
              "    }\n",
              "  </style>\n",
              "\n",
              "      <script>\n",
              "        const buttonEl =\n",
              "          document.querySelector('#df-0847c238-1ac1-4dc5-8818-7cbcd64ee6ad button.colab-df-convert');\n",
              "        buttonEl.style.display =\n",
              "          google.colab.kernel.accessAllowed ? 'block' : 'none';\n",
              "\n",
              "        async function convertToInteractive(key) {\n",
              "          const element = document.querySelector('#df-0847c238-1ac1-4dc5-8818-7cbcd64ee6ad');\n",
              "          const dataTable =\n",
              "            await google.colab.kernel.invokeFunction('convertToInteractive',\n",
              "                                                     [key], {});\n",
              "          if (!dataTable) return;\n",
              "\n",
              "          const docLinkHtml = 'Like what you see? Visit the ' +\n",
              "            '<a target=\"_blank\" href=https://colab.research.google.com/notebooks/data_table.ipynb>data table notebook</a>'\n",
              "            + ' to learn more about interactive tables.';\n",
              "          element.innerHTML = '';\n",
              "          dataTable['output_type'] = 'display_data';\n",
              "          await google.colab.output.renderOutput(dataTable, element);\n",
              "          const docLink = document.createElement('div');\n",
              "          docLink.innerHTML = docLinkHtml;\n",
              "          element.appendChild(docLink);\n",
              "        }\n",
              "      </script>\n",
              "    </div>\n",
              "  </div>\n",
              "  "
            ]
          },
          "metadata": {},
          "execution_count": 86
        }
      ],
      "source": [
        "# Putting feature variable to X\n",
        "\n",
        "X = lead_df.drop(['Converted'], axis=1)\n",
        "X.head()"
      ]
    },
    {
      "cell_type": "code",
      "execution_count": 87,
      "metadata": {
        "colab": {
          "base_uri": "https://localhost:8080/"
        },
        "id": "gvFlVmg2ZQip",
        "outputId": "dd5f6fca-9400-46be-eacd-5562e3052f25"
      },
      "outputs": [
        {
          "output_type": "execute_result",
          "data": {
            "text/plain": [
              "0    0\n",
              "1    0\n",
              "2    1\n",
              "3    0\n",
              "4    1\n",
              "Name: Converted, dtype: int64"
            ]
          },
          "metadata": {},
          "execution_count": 87
        }
      ],
      "source": [
        "# Putting response variable to y\n",
        "\n",
        "y = lead_df['Converted']\n",
        "y.head()"
      ]
    },
    {
      "cell_type": "code",
      "execution_count": 88,
      "metadata": {
        "id": "XM375B3fZQip"
      },
      "outputs": [],
      "source": [
        "# Splitting the data into train and test\n",
        "\n",
        "X_train, X_test, y_train, y_test = train_test_split(X, y, train_size=0.7, test_size=0.3, random_state=42)"
      ]
    },
    {
      "cell_type": "markdown",
      "metadata": {
        "id": "mEBOVJKIZQip"
      },
      "source": [
        "### Step 6: Rescaling the features with MinMax Scaling"
      ]
    },
    {
      "cell_type": "code",
      "execution_count": 89,
      "metadata": {
        "colab": {
          "base_uri": "https://localhost:8080/",
          "height": 0
        },
        "id": "-d2e_kc2ZQip",
        "outputId": "a09a7712-73a7-4d75-96c5-82754f698569"
      },
      "outputs": [
        {
          "output_type": "execute_result",
          "data": {
            "text/plain": [
              "      Do Not Email  Do Not Call  TotalVisits  Total Time Spent on Website  \\\n",
              "2240             0            0       0.1875                     0.898963   \n",
              "113              0            0       0.3125                     0.706360   \n",
              "4132             0            0       0.3750                     0.768155   \n",
              "5573             0            0       0.1250                     0.028868   \n",
              "1109             0            0       0.0625                     0.009021   \n",
              "\n",
              "      Page Views Per Visit  Search  Digital Advertisement  \\\n",
              "2240                 0.375       0                      0   \n",
              "113                  0.625       0                      0   \n",
              "4132                 0.750       0                      0   \n",
              "5573                 0.250       0                      0   \n",
              "1109                 0.125       0                      0   \n",
              "\n",
              "      Through Recommendations  A free copy of Mastering The Interview  \\\n",
              "2240                        0                                       0   \n",
              "113                         0                                       0   \n",
              "4132                        0                                       1   \n",
              "5573                        0                                       1   \n",
              "1109                        0                                       0   \n",
              "\n",
              "      LeadOrigin_API  ...  LastNotableActivity_Email Received  \\\n",
              "2240               0  ...                                   0   \n",
              "113                1  ...                                   0   \n",
              "4132               0  ...                                   0   \n",
              "5573               0  ...                                   0   \n",
              "1109               1  ...                                   0   \n",
              "\n",
              "      LastNotableActivity_Form Submitted on Website  \\\n",
              "2240                                              0   \n",
              "113                                               0   \n",
              "4132                                              0   \n",
              "5573                                              0   \n",
              "1109                                              0   \n",
              "\n",
              "      LastNotableActivity_Had a Phone Conversation  \\\n",
              "2240                                             0   \n",
              "113                                              0   \n",
              "4132                                             0   \n",
              "5573                                             0   \n",
              "1109                                             0   \n",
              "\n",
              "      LastNotableActivity_Modified  \\\n",
              "2240                             0   \n",
              "113                              1   \n",
              "4132                             1   \n",
              "5573                             0   \n",
              "1109                             1   \n",
              "\n",
              "      LastNotableActivity_Olark Chat Conversation  \\\n",
              "2240                                            0   \n",
              "113                                             0   \n",
              "4132                                            0   \n",
              "5573                                            0   \n",
              "1109                                            0   \n",
              "\n",
              "      LastNotableActivity_Page Visited on Website  \\\n",
              "2240                                            0   \n",
              "113                                             0   \n",
              "4132                                            0   \n",
              "5573                                            0   \n",
              "1109                                            0   \n",
              "\n",
              "      LastNotableActivity_SMS Sent  LastNotableActivity_Unreachable  \\\n",
              "2240                             0                                0   \n",
              "113                              0                                0   \n",
              "4132                             0                                0   \n",
              "5573                             0                                0   \n",
              "1109                             0                                0   \n",
              "\n",
              "      LastNotableActivity_Unsubscribed  \\\n",
              "2240                                 0   \n",
              "113                                  0   \n",
              "4132                                 0   \n",
              "5573                                 0   \n",
              "1109                                 0   \n",
              "\n",
              "      LastNotableActivity_View in browser link Clicked  \n",
              "2240                                                 0  \n",
              "113                                                  0  \n",
              "4132                                                 0  \n",
              "5573                                                 0  \n",
              "1109                                                 0  \n",
              "\n",
              "[5 rows x 70 columns]"
            ],
            "text/html": [
              "\n",
              "  <div id=\"df-70297e4b-fae4-4b64-8577-9f9bea6e786a\">\n",
              "    <div class=\"colab-df-container\">\n",
              "      <div>\n",
              "<style scoped>\n",
              "    .dataframe tbody tr th:only-of-type {\n",
              "        vertical-align: middle;\n",
              "    }\n",
              "\n",
              "    .dataframe tbody tr th {\n",
              "        vertical-align: top;\n",
              "    }\n",
              "\n",
              "    .dataframe thead th {\n",
              "        text-align: right;\n",
              "    }\n",
              "</style>\n",
              "<table border=\"1\" class=\"dataframe\">\n",
              "  <thead>\n",
              "    <tr style=\"text-align: right;\">\n",
              "      <th></th>\n",
              "      <th>Do Not Email</th>\n",
              "      <th>Do Not Call</th>\n",
              "      <th>TotalVisits</th>\n",
              "      <th>Total Time Spent on Website</th>\n",
              "      <th>Page Views Per Visit</th>\n",
              "      <th>Search</th>\n",
              "      <th>Digital Advertisement</th>\n",
              "      <th>Through Recommendations</th>\n",
              "      <th>A free copy of Mastering The Interview</th>\n",
              "      <th>LeadOrigin_API</th>\n",
              "      <th>...</th>\n",
              "      <th>LastNotableActivity_Email Received</th>\n",
              "      <th>LastNotableActivity_Form Submitted on Website</th>\n",
              "      <th>LastNotableActivity_Had a Phone Conversation</th>\n",
              "      <th>LastNotableActivity_Modified</th>\n",
              "      <th>LastNotableActivity_Olark Chat Conversation</th>\n",
              "      <th>LastNotableActivity_Page Visited on Website</th>\n",
              "      <th>LastNotableActivity_SMS Sent</th>\n",
              "      <th>LastNotableActivity_Unreachable</th>\n",
              "      <th>LastNotableActivity_Unsubscribed</th>\n",
              "      <th>LastNotableActivity_View in browser link Clicked</th>\n",
              "    </tr>\n",
              "  </thead>\n",
              "  <tbody>\n",
              "    <tr>\n",
              "      <th>2240</th>\n",
              "      <td>0</td>\n",
              "      <td>0</td>\n",
              "      <td>0.1875</td>\n",
              "      <td>0.898963</td>\n",
              "      <td>0.375</td>\n",
              "      <td>0</td>\n",
              "      <td>0</td>\n",
              "      <td>0</td>\n",
              "      <td>0</td>\n",
              "      <td>0</td>\n",
              "      <td>...</td>\n",
              "      <td>0</td>\n",
              "      <td>0</td>\n",
              "      <td>0</td>\n",
              "      <td>0</td>\n",
              "      <td>0</td>\n",
              "      <td>0</td>\n",
              "      <td>0</td>\n",
              "      <td>0</td>\n",
              "      <td>0</td>\n",
              "      <td>0</td>\n",
              "    </tr>\n",
              "    <tr>\n",
              "      <th>113</th>\n",
              "      <td>0</td>\n",
              "      <td>0</td>\n",
              "      <td>0.3125</td>\n",
              "      <td>0.706360</td>\n",
              "      <td>0.625</td>\n",
              "      <td>0</td>\n",
              "      <td>0</td>\n",
              "      <td>0</td>\n",
              "      <td>0</td>\n",
              "      <td>1</td>\n",
              "      <td>...</td>\n",
              "      <td>0</td>\n",
              "      <td>0</td>\n",
              "      <td>0</td>\n",
              "      <td>1</td>\n",
              "      <td>0</td>\n",
              "      <td>0</td>\n",
              "      <td>0</td>\n",
              "      <td>0</td>\n",
              "      <td>0</td>\n",
              "      <td>0</td>\n",
              "    </tr>\n",
              "    <tr>\n",
              "      <th>4132</th>\n",
              "      <td>0</td>\n",
              "      <td>0</td>\n",
              "      <td>0.3750</td>\n",
              "      <td>0.768155</td>\n",
              "      <td>0.750</td>\n",
              "      <td>0</td>\n",
              "      <td>0</td>\n",
              "      <td>0</td>\n",
              "      <td>1</td>\n",
              "      <td>0</td>\n",
              "      <td>...</td>\n",
              "      <td>0</td>\n",
              "      <td>0</td>\n",
              "      <td>0</td>\n",
              "      <td>1</td>\n",
              "      <td>0</td>\n",
              "      <td>0</td>\n",
              "      <td>0</td>\n",
              "      <td>0</td>\n",
              "      <td>0</td>\n",
              "      <td>0</td>\n",
              "    </tr>\n",
              "    <tr>\n",
              "      <th>5573</th>\n",
              "      <td>0</td>\n",
              "      <td>0</td>\n",
              "      <td>0.1250</td>\n",
              "      <td>0.028868</td>\n",
              "      <td>0.250</td>\n",
              "      <td>0</td>\n",
              "      <td>0</td>\n",
              "      <td>0</td>\n",
              "      <td>1</td>\n",
              "      <td>0</td>\n",
              "      <td>...</td>\n",
              "      <td>0</td>\n",
              "      <td>0</td>\n",
              "      <td>0</td>\n",
              "      <td>0</td>\n",
              "      <td>0</td>\n",
              "      <td>0</td>\n",
              "      <td>0</td>\n",
              "      <td>0</td>\n",
              "      <td>0</td>\n",
              "      <td>0</td>\n",
              "    </tr>\n",
              "    <tr>\n",
              "      <th>1109</th>\n",
              "      <td>0</td>\n",
              "      <td>0</td>\n",
              "      <td>0.0625</td>\n",
              "      <td>0.009021</td>\n",
              "      <td>0.125</td>\n",
              "      <td>0</td>\n",
              "      <td>0</td>\n",
              "      <td>0</td>\n",
              "      <td>0</td>\n",
              "      <td>1</td>\n",
              "      <td>...</td>\n",
              "      <td>0</td>\n",
              "      <td>0</td>\n",
              "      <td>0</td>\n",
              "      <td>1</td>\n",
              "      <td>0</td>\n",
              "      <td>0</td>\n",
              "      <td>0</td>\n",
              "      <td>0</td>\n",
              "      <td>0</td>\n",
              "      <td>0</td>\n",
              "    </tr>\n",
              "  </tbody>\n",
              "</table>\n",
              "<p>5 rows × 70 columns</p>\n",
              "</div>\n",
              "      <button class=\"colab-df-convert\" onclick=\"convertToInteractive('df-70297e4b-fae4-4b64-8577-9f9bea6e786a')\"\n",
              "              title=\"Convert this dataframe to an interactive table.\"\n",
              "              style=\"display:none;\">\n",
              "        \n",
              "  <svg xmlns=\"http://www.w3.org/2000/svg\" height=\"24px\"viewBox=\"0 0 24 24\"\n",
              "       width=\"24px\">\n",
              "    <path d=\"M0 0h24v24H0V0z\" fill=\"none\"/>\n",
              "    <path d=\"M18.56 5.44l.94 2.06.94-2.06 2.06-.94-2.06-.94-.94-2.06-.94 2.06-2.06.94zm-11 1L8.5 8.5l.94-2.06 2.06-.94-2.06-.94L8.5 2.5l-.94 2.06-2.06.94zm10 10l.94 2.06.94-2.06 2.06-.94-2.06-.94-.94-2.06-.94 2.06-2.06.94z\"/><path d=\"M17.41 7.96l-1.37-1.37c-.4-.4-.92-.59-1.43-.59-.52 0-1.04.2-1.43.59L10.3 9.45l-7.72 7.72c-.78.78-.78 2.05 0 2.83L4 21.41c.39.39.9.59 1.41.59.51 0 1.02-.2 1.41-.59l7.78-7.78 2.81-2.81c.8-.78.8-2.07 0-2.86zM5.41 20L4 18.59l7.72-7.72 1.47 1.35L5.41 20z\"/>\n",
              "  </svg>\n",
              "      </button>\n",
              "      \n",
              "  <style>\n",
              "    .colab-df-container {\n",
              "      display:flex;\n",
              "      flex-wrap:wrap;\n",
              "      gap: 12px;\n",
              "    }\n",
              "\n",
              "    .colab-df-convert {\n",
              "      background-color: #E8F0FE;\n",
              "      border: none;\n",
              "      border-radius: 50%;\n",
              "      cursor: pointer;\n",
              "      display: none;\n",
              "      fill: #1967D2;\n",
              "      height: 32px;\n",
              "      padding: 0 0 0 0;\n",
              "      width: 32px;\n",
              "    }\n",
              "\n",
              "    .colab-df-convert:hover {\n",
              "      background-color: #E2EBFA;\n",
              "      box-shadow: 0px 1px 2px rgba(60, 64, 67, 0.3), 0px 1px 3px 1px rgba(60, 64, 67, 0.15);\n",
              "      fill: #174EA6;\n",
              "    }\n",
              "\n",
              "    [theme=dark] .colab-df-convert {\n",
              "      background-color: #3B4455;\n",
              "      fill: #D2E3FC;\n",
              "    }\n",
              "\n",
              "    [theme=dark] .colab-df-convert:hover {\n",
              "      background-color: #434B5C;\n",
              "      box-shadow: 0px 1px 3px 1px rgba(0, 0, 0, 0.15);\n",
              "      filter: drop-shadow(0px 1px 2px rgba(0, 0, 0, 0.3));\n",
              "      fill: #FFFFFF;\n",
              "    }\n",
              "  </style>\n",
              "\n",
              "      <script>\n",
              "        const buttonEl =\n",
              "          document.querySelector('#df-70297e4b-fae4-4b64-8577-9f9bea6e786a button.colab-df-convert');\n",
              "        buttonEl.style.display =\n",
              "          google.colab.kernel.accessAllowed ? 'block' : 'none';\n",
              "\n",
              "        async function convertToInteractive(key) {\n",
              "          const element = document.querySelector('#df-70297e4b-fae4-4b64-8577-9f9bea6e786a');\n",
              "          const dataTable =\n",
              "            await google.colab.kernel.invokeFunction('convertToInteractive',\n",
              "                                                     [key], {});\n",
              "          if (!dataTable) return;\n",
              "\n",
              "          const docLinkHtml = 'Like what you see? Visit the ' +\n",
              "            '<a target=\"_blank\" href=https://colab.research.google.com/notebooks/data_table.ipynb>data table notebook</a>'\n",
              "            + ' to learn more about interactive tables.';\n",
              "          element.innerHTML = '';\n",
              "          dataTable['output_type'] = 'display_data';\n",
              "          await google.colab.output.renderOutput(dataTable, element);\n",
              "          const docLink = document.createElement('div');\n",
              "          docLink.innerHTML = docLinkHtml;\n",
              "          element.appendChild(docLink);\n",
              "        }\n",
              "      </script>\n",
              "    </div>\n",
              "  </div>\n",
              "  "
            ]
          },
          "metadata": {},
          "execution_count": 89
        }
      ],
      "source": [
        "from sklearn.preprocessing import MinMaxScaler\n",
        "\n",
        "scaler = MinMaxScaler()\n",
        "\n",
        "X_train[['TotalVisits','Total Time Spent on Website','Page Views Per Visit']] = scaler.fit_transform(X_train[['TotalVisits',\n",
        "                                                                        'Total Time Spent on Website','Page Views Per Visit']])\n",
        "\n",
        "X_train.head()"
      ]
    },
    {
      "cell_type": "code",
      "execution_count": 90,
      "metadata": {
        "colab": {
          "base_uri": "https://localhost:8080/"
        },
        "id": "9buKsfPUZQiq",
        "outputId": "2d214fd2-eeef-4046-8e33-6280b700326e"
      },
      "outputs": [
        {
          "output_type": "execute_result",
          "data": {
            "text/plain": [
              "38.50924797873519"
            ]
          },
          "metadata": {},
          "execution_count": 90
        }
      ],
      "source": [
        "### Checking the Conversion Rate percentage\n",
        "\n",
        "converted = (sum(lead_df['Converted'])/len(lead_df['Converted'].index))*100\n",
        "converted"
      ]
    },
    {
      "cell_type": "markdown",
      "metadata": {
        "id": "s8P8BgYyZQiq"
      },
      "source": [
        "#### We have almost 39% conversion rate"
      ]
    },
    {
      "cell_type": "markdown",
      "metadata": {
        "id": "sWWjXLjAZQiq"
      },
      "source": [
        "### Step 7: Model Building\n",
        "Assessing the model with StatsModels"
      ]
    },
    {
      "cell_type": "markdown",
      "metadata": {
        "id": "kYqGSG06ZQiq"
      },
      "source": [
        "#### Running the Initial Training Model"
      ]
    },
    {
      "cell_type": "code",
      "execution_count": 91,
      "metadata": {
        "id": "IOAr8FpYZQiq"
      },
      "outputs": [],
      "source": [
        "import statsmodels.api as sm"
      ]
    },
    {
      "cell_type": "code",
      "execution_count": 92,
      "metadata": {
        "colab": {
          "base_uri": "https://localhost:8080/",
          "height": 0
        },
        "id": "d2bfrA4AZQiq",
        "outputId": "d58810da-682a-4ed5-9bde-3b550e7f9d7a"
      },
      "outputs": [
        {
          "output_type": "execute_result",
          "data": {
            "text/plain": [
              "<class 'statsmodels.iolib.summary.Summary'>\n",
              "\"\"\"\n",
              "                 Generalized Linear Model Regression Results                  \n",
              "==============================================================================\n",
              "Dep. Variable:              Converted   No. Observations:                 6320\n",
              "Model:                            GLM   Df Residuals:                     6259\n",
              "Model Family:                Binomial   Df Model:                           60\n",
              "Link Function:                  logit   Scale:                          1.0000\n",
              "Method:                          IRLS   Log-Likelihood:                    nan\n",
              "Date:                Sun, 13 Nov 2022   Deviance:                   1.5040e+05\n",
              "Time:                        09:51:18   Pearson chi2:                 7.35e+18\n",
              "No. Iterations:                   100                                         \n",
              "Covariance Type:            nonrobust                                         \n",
              "====================================================================================================================\n",
              "                                                       coef    std err          z      P>|z|      [0.025      0.975]\n",
              "--------------------------------------------------------------------------------------------------------------------\n",
              "const                                              2.69e+15   6.39e+07   4.21e+07      0.000    2.69e+15    2.69e+15\n",
              "Do Not Email                                      2.226e+14   2.29e+06   9.72e+07      0.000    2.23e+14    2.23e+14\n",
              "Do Not Call                                       7.099e+15   4.76e+07   1.49e+08      0.000     7.1e+15     7.1e+15\n",
              "TotalVisits                                      -4.677e+14   4.78e+06  -9.78e+07      0.000   -4.68e+14   -4.68e+14\n",
              "Total Time Spent on Website                       8.191e+14   2.88e+06   2.84e+08      0.000    8.19e+14    8.19e+14\n",
              "Page Views Per Visit                              5.873e+14   5.75e+06   1.02e+08      0.000    5.87e+14    5.87e+14\n",
              "Search                                            2.193e+14   2.43e+07   9.03e+06      0.000    2.19e+14    2.19e+14\n",
              "Digital Advertisement                             4.112e+14   4.75e+07   8.65e+06      0.000    4.11e+14    4.11e+14\n",
              "Through Recommendations                           3.091e+14    4.2e+07   7.36e+06      0.000    3.09e+14    3.09e+14\n",
              "A free copy of Mastering The Interview            4.833e+14   2.24e+06   2.15e+08      0.000    4.83e+14    4.83e+14\n",
              "LeadOrigin_API                                   -6.272e+15   6.74e+07  -9.31e+07      0.000   -6.27e+15   -6.27e+15\n",
              "LeadOrigin_Landing Page Submission               -6.631e+15   6.74e+07  -9.84e+07      0.000   -6.63e+15   -6.63e+15\n",
              "LeadOrigin_Lead Add Form                         -5.707e+15   6.86e+07  -8.32e+07      0.000   -5.71e+15   -5.71e+15\n",
              "LeadOrigin_Lead Import                           -5.188e+15   8.27e+07  -6.28e+07      0.000   -5.19e+15   -5.19e+15\n",
              "LeadSource_Click2call                             5.237e+15   4.67e+07   1.12e+08      0.000    5.24e+15    5.24e+15\n",
              "LeadSource_Direct Traffic                         5.793e+14   1.16e+07   4.99e+07      0.000    5.79e+14    5.79e+14\n",
              "LeadSource_Facebook                               -1.71e+15   4.62e+07   -3.7e+07      0.000   -1.71e+15   -1.71e+15\n",
              "LeadSource_Google                                 6.568e+14   1.15e+07   5.72e+07      0.000    6.57e+14    6.57e+14\n",
              "LeadSource_Live Chat                              6.677e+15   4.67e+07   1.43e+08      0.000    6.68e+15    6.68e+15\n",
              "LeadSource_Olark Chat                            -2.054e+14   1.17e+07  -1.75e+07      0.000   -2.05e+14   -2.05e+14\n",
              "LeadSource_Organic Search                         4.882e+14   1.16e+07   4.21e+07      0.000    4.88e+14    4.88e+14\n",
              "LeadSource_Pay per Click Ads                        -0.7601   8.75e-08  -8.69e+06      0.000      -0.760      -0.760\n",
              "LeadSource_Press_Release                             0.0370   5.37e-08   6.89e+05      0.000       0.037       0.037\n",
              "LeadSource_Reference                              1.406e+15    1.5e+07   9.35e+07      0.000    1.41e+15    1.41e+15\n",
              "LeadSource_Referral Sites                         2.291e+14   1.35e+07    1.7e+07      0.000    2.29e+14    2.29e+14\n",
              "LeadSource_Social Media                          -2.728e+15   6.39e+07  -4.27e+07      0.000   -2.73e+15   -2.73e+15\n",
              "LeadSource_WeLearn                                   2.4701   6.62e-08   3.73e+07      0.000       2.470       2.470\n",
              "LeadSource_Welingak Website                       1.516e+15   1.58e+07   9.59e+07      0.000    1.52e+15    1.52e+15\n",
              "LeadSource_bing                                  -2.483e+15   3.04e+07  -8.18e+07      0.000   -2.48e+15   -2.48e+15\n",
              "LeadSource_blog                                  -3.157e+15   6.38e+07  -4.95e+07      0.000   -3.16e+15   -3.16e+15\n",
              "LeadSource_testone                               -1.368e+15   6.39e+07  -2.14e+07      0.000   -1.37e+15   -1.37e+15\n",
              "LeadSource_welearnblog_Home                      -2.448e+15   6.38e+07  -3.84e+07      0.000   -2.45e+15   -2.45e+15\n",
              "LeadSource_youtubechannel                            9.8637   8.89e-08   1.11e+08      0.000       9.864       9.864\n",
              "LastActivity_Approached upfront                    3.42e+15   2.72e+07   1.26e+08      0.000    3.42e+15    3.42e+15\n",
              "LastActivity_Converted to Lead                   -6.656e+13   9.33e+06  -7.13e+06      0.000   -6.66e+13   -6.66e+13\n",
              "LastActivity_Email Bounced                        -7.71e+14   9.74e+06  -7.91e+07      0.000   -7.71e+14   -7.71e+14\n",
              "LastActivity_Email Link Clicked                   3.034e+14   1.14e+07   2.66e+07      0.000    3.03e+14    3.03e+14\n",
              "LastActivity_Email Marked Spam                     2.43e+15   2.31e+07   1.05e+08      0.000    2.43e+15    2.43e+15\n",
              "LastActivity_Email Opened                         1.412e+14   9.08e+06   1.56e+07      0.000    1.41e+14    1.41e+14\n",
              "LastActivity_Email Received                       4.076e+15   6.38e+07   6.39e+07      0.000    4.08e+15    4.08e+15\n",
              "LastActivity_Form Submitted on Website            1.814e+13   1.13e+07   1.61e+06      0.000    1.81e+13    1.81e+13\n",
              "LastActivity_Had a Phone Conversation            -5.086e+14   2.26e+07  -2.25e+07      0.000   -5.09e+14   -5.09e+14\n",
              "LastActivity_Not Sure                            -1.525e+14   1.18e+07  -1.29e+07      0.000   -1.53e+14   -1.53e+14\n",
              "LastActivity_Olark Chat Conversation              8.944e+14   9.06e+06   9.87e+07      0.000    8.94e+14    8.94e+14\n",
              "LastActivity_Page Visited on Website             -1.657e+14   9.53e+06  -1.74e+07      0.000   -1.66e+14   -1.66e+14\n",
              "LastActivity_SMS Sent                            -1.004e+13    9.1e+06   -1.1e+06      0.000      -1e+13      -1e+13\n",
              "LastActivity_Unreachable                         -1.812e+14   1.29e+07   -1.4e+07      0.000   -1.81e+14   -1.81e+14\n",
              "LastActivity_Unsubscribed                        -7.827e+13   2.38e+07  -3.29e+06      0.000   -7.83e+13   -7.83e+13\n",
              "LastActivity_View in browser link Clicked        -3.738e+15   6.32e+07  -5.91e+07      0.000   -3.74e+15   -3.74e+15\n",
              "LastActivity_Visited Booth in Tradeshow          -2.921e+15   6.37e+07  -4.58e+07      0.000   -2.92e+15   -2.92e+15\n",
              "CurrentOccupation_Housewife                       6.942e+15   4.12e+07   1.69e+08      0.000    6.94e+15    6.94e+15\n",
              "CurrentOccupation_No Information                   2.01e+15   3.37e+07   5.96e+07      0.000    2.01e+15    2.01e+15\n",
              "CurrentOccupation_Other                           2.923e+15   3.89e+07   7.52e+07      0.000    2.92e+15    2.92e+15\n",
              "CurrentOccupation_Student                         2.146e+15   3.41e+07   6.29e+07      0.000    2.15e+15    2.15e+15\n",
              "CurrentOccupation_Unemployed                      2.302e+15   3.37e+07   6.83e+07      0.000     2.3e+15     2.3e+15\n",
              "CurrentOccupation_Working Professional              3.3e+15   3.38e+07   9.76e+07      0.000     3.3e+15     3.3e+15\n",
              "LastNotableActivity_Approached upfront               0.0584   7.38e-09   7.91e+06      0.000       0.058       0.058\n",
              "LastNotableActivity_Email Bounced                 8.485e+14   1.54e+07    5.5e+07      0.000    8.49e+14    8.49e+14\n",
              "LastNotableActivity_Email Link Clicked             -1.4e+14   1.45e+07  -9.62e+06      0.000    -1.4e+14    -1.4e+14\n",
              "LastNotableActivity_Email Marked Spam              2.43e+15   2.31e+07   1.05e+08      0.000    2.43e+15    2.43e+15\n",
              "LastNotableActivity_Email Opened                  2.267e+14   1.15e+07   1.97e+07      0.000    2.27e+14    2.27e+14\n",
              "LastNotableActivity_Email Received                   0.1549   3.03e-09   5.11e+07      0.000       0.155       0.155\n",
              "LastNotableActivity_Form Submitted on Website    -4.442e+15   6.33e+07  -7.02e+07      0.000   -4.44e+15   -4.44e+15\n",
              "LastNotableActivity_Had a Phone Conversation      2.317e+15   3.11e+07   7.44e+07      0.000    2.32e+15    2.32e+15\n",
              "LastNotableActivity_Modified                     -1.112e+14   1.11e+07     -1e+07      0.000   -1.11e+14   -1.11e+14\n",
              "LastNotableActivity_Olark Chat Conversation      -1.946e+14   1.26e+07  -1.54e+07      0.000   -1.95e+14   -1.95e+14\n",
              "LastNotableActivity_Page Visited on Website       2.387e+14   1.26e+07    1.9e+07      0.000    2.39e+14    2.39e+14\n",
              "LastNotableActivity_SMS Sent                      4.519e+14   1.16e+07   3.91e+07      0.000    4.52e+14    4.52e+14\n",
              "LastNotableActivity_Unreachable                   1.872e+15   1.97e+07   9.51e+07      0.000    1.87e+15    1.87e+15\n",
              "LastNotableActivity_Unsubscribed                 -6.792e+14   2.71e+07   -2.5e+07      0.000   -6.79e+14   -6.79e+14\n",
              "LastNotableActivity_View in browser link Clicked -1.279e+14   8.79e+07  -1.45e+06      0.000   -1.28e+14   -1.28e+14\n",
              "====================================================================================================================\n",
              "\"\"\""
            ],
            "text/html": [
              "<table class=\"simpletable\">\n",
              "<caption>Generalized Linear Model Regression Results</caption>\n",
              "<tr>\n",
              "  <th>Dep. Variable:</th>       <td>Converted</td>    <th>  No. Observations:  </th>   <td>  6320</td>  \n",
              "</tr>\n",
              "<tr>\n",
              "  <th>Model:</th>                  <td>GLM</td>       <th>  Df Residuals:      </th>   <td>  6259</td>  \n",
              "</tr>\n",
              "<tr>\n",
              "  <th>Model Family:</th>        <td>Binomial</td>     <th>  Df Model:          </th>   <td>    60</td>  \n",
              "</tr>\n",
              "<tr>\n",
              "  <th>Link Function:</th>         <td>logit</td>      <th>  Scale:             </th>  <td>  1.0000</td> \n",
              "</tr>\n",
              "<tr>\n",
              "  <th>Method:</th>                <td>IRLS</td>       <th>  Log-Likelihood:    </th>  <td>     nan</td> \n",
              "</tr>\n",
              "<tr>\n",
              "  <th>Date:</th>            <td>Sun, 13 Nov 2022</td> <th>  Deviance:          </th> <td>1.5040e+05</td>\n",
              "</tr>\n",
              "<tr>\n",
              "  <th>Time:</th>                <td>09:51:18</td>     <th>  Pearson chi2:      </th>  <td>7.35e+18</td> \n",
              "</tr>\n",
              "<tr>\n",
              "  <th>No. Iterations:</th>         <td>100</td>       <th>                     </th>      <td> </td>    \n",
              "</tr>\n",
              "<tr>\n",
              "  <th>Covariance Type:</th>     <td>nonrobust</td>    <th>                     </th>      <td> </td>    \n",
              "</tr>\n",
              "</table>\n",
              "<table class=\"simpletable\">\n",
              "<tr>\n",
              "                          <td></td>                            <th>coef</th>     <th>std err</th>      <th>z</th>      <th>P>|z|</th>  <th>[0.025</th>    <th>0.975]</th>  \n",
              "</tr>\n",
              "<tr>\n",
              "  <th>const</th>                                            <td>  2.69e+15</td> <td> 6.39e+07</td> <td> 4.21e+07</td> <td> 0.000</td> <td> 2.69e+15</td> <td> 2.69e+15</td>\n",
              "</tr>\n",
              "<tr>\n",
              "  <th>Do Not Email</th>                                     <td> 2.226e+14</td> <td> 2.29e+06</td> <td> 9.72e+07</td> <td> 0.000</td> <td> 2.23e+14</td> <td> 2.23e+14</td>\n",
              "</tr>\n",
              "<tr>\n",
              "  <th>Do Not Call</th>                                      <td> 7.099e+15</td> <td> 4.76e+07</td> <td> 1.49e+08</td> <td> 0.000</td> <td>  7.1e+15</td> <td>  7.1e+15</td>\n",
              "</tr>\n",
              "<tr>\n",
              "  <th>TotalVisits</th>                                      <td>-4.677e+14</td> <td> 4.78e+06</td> <td>-9.78e+07</td> <td> 0.000</td> <td>-4.68e+14</td> <td>-4.68e+14</td>\n",
              "</tr>\n",
              "<tr>\n",
              "  <th>Total Time Spent on Website</th>                      <td> 8.191e+14</td> <td> 2.88e+06</td> <td> 2.84e+08</td> <td> 0.000</td> <td> 8.19e+14</td> <td> 8.19e+14</td>\n",
              "</tr>\n",
              "<tr>\n",
              "  <th>Page Views Per Visit</th>                             <td> 5.873e+14</td> <td> 5.75e+06</td> <td> 1.02e+08</td> <td> 0.000</td> <td> 5.87e+14</td> <td> 5.87e+14</td>\n",
              "</tr>\n",
              "<tr>\n",
              "  <th>Search</th>                                           <td> 2.193e+14</td> <td> 2.43e+07</td> <td> 9.03e+06</td> <td> 0.000</td> <td> 2.19e+14</td> <td> 2.19e+14</td>\n",
              "</tr>\n",
              "<tr>\n",
              "  <th>Digital Advertisement</th>                            <td> 4.112e+14</td> <td> 4.75e+07</td> <td> 8.65e+06</td> <td> 0.000</td> <td> 4.11e+14</td> <td> 4.11e+14</td>\n",
              "</tr>\n",
              "<tr>\n",
              "  <th>Through Recommendations</th>                          <td> 3.091e+14</td> <td>  4.2e+07</td> <td> 7.36e+06</td> <td> 0.000</td> <td> 3.09e+14</td> <td> 3.09e+14</td>\n",
              "</tr>\n",
              "<tr>\n",
              "  <th>A free copy of Mastering The Interview</th>           <td> 4.833e+14</td> <td> 2.24e+06</td> <td> 2.15e+08</td> <td> 0.000</td> <td> 4.83e+14</td> <td> 4.83e+14</td>\n",
              "</tr>\n",
              "<tr>\n",
              "  <th>LeadOrigin_API</th>                                   <td>-6.272e+15</td> <td> 6.74e+07</td> <td>-9.31e+07</td> <td> 0.000</td> <td>-6.27e+15</td> <td>-6.27e+15</td>\n",
              "</tr>\n",
              "<tr>\n",
              "  <th>LeadOrigin_Landing Page Submission</th>               <td>-6.631e+15</td> <td> 6.74e+07</td> <td>-9.84e+07</td> <td> 0.000</td> <td>-6.63e+15</td> <td>-6.63e+15</td>\n",
              "</tr>\n",
              "<tr>\n",
              "  <th>LeadOrigin_Lead Add Form</th>                         <td>-5.707e+15</td> <td> 6.86e+07</td> <td>-8.32e+07</td> <td> 0.000</td> <td>-5.71e+15</td> <td>-5.71e+15</td>\n",
              "</tr>\n",
              "<tr>\n",
              "  <th>LeadOrigin_Lead Import</th>                           <td>-5.188e+15</td> <td> 8.27e+07</td> <td>-6.28e+07</td> <td> 0.000</td> <td>-5.19e+15</td> <td>-5.19e+15</td>\n",
              "</tr>\n",
              "<tr>\n",
              "  <th>LeadSource_Click2call</th>                            <td> 5.237e+15</td> <td> 4.67e+07</td> <td> 1.12e+08</td> <td> 0.000</td> <td> 5.24e+15</td> <td> 5.24e+15</td>\n",
              "</tr>\n",
              "<tr>\n",
              "  <th>LeadSource_Direct Traffic</th>                        <td> 5.793e+14</td> <td> 1.16e+07</td> <td> 4.99e+07</td> <td> 0.000</td> <td> 5.79e+14</td> <td> 5.79e+14</td>\n",
              "</tr>\n",
              "<tr>\n",
              "  <th>LeadSource_Facebook</th>                              <td> -1.71e+15</td> <td> 4.62e+07</td> <td> -3.7e+07</td> <td> 0.000</td> <td>-1.71e+15</td> <td>-1.71e+15</td>\n",
              "</tr>\n",
              "<tr>\n",
              "  <th>LeadSource_Google</th>                                <td> 6.568e+14</td> <td> 1.15e+07</td> <td> 5.72e+07</td> <td> 0.000</td> <td> 6.57e+14</td> <td> 6.57e+14</td>\n",
              "</tr>\n",
              "<tr>\n",
              "  <th>LeadSource_Live Chat</th>                             <td> 6.677e+15</td> <td> 4.67e+07</td> <td> 1.43e+08</td> <td> 0.000</td> <td> 6.68e+15</td> <td> 6.68e+15</td>\n",
              "</tr>\n",
              "<tr>\n",
              "  <th>LeadSource_Olark Chat</th>                            <td>-2.054e+14</td> <td> 1.17e+07</td> <td>-1.75e+07</td> <td> 0.000</td> <td>-2.05e+14</td> <td>-2.05e+14</td>\n",
              "</tr>\n",
              "<tr>\n",
              "  <th>LeadSource_Organic Search</th>                        <td> 4.882e+14</td> <td> 1.16e+07</td> <td> 4.21e+07</td> <td> 0.000</td> <td> 4.88e+14</td> <td> 4.88e+14</td>\n",
              "</tr>\n",
              "<tr>\n",
              "  <th>LeadSource_Pay per Click Ads</th>                     <td>   -0.7601</td> <td> 8.75e-08</td> <td>-8.69e+06</td> <td> 0.000</td> <td>   -0.760</td> <td>   -0.760</td>\n",
              "</tr>\n",
              "<tr>\n",
              "  <th>LeadSource_Press_Release</th>                         <td>    0.0370</td> <td> 5.37e-08</td> <td> 6.89e+05</td> <td> 0.000</td> <td>    0.037</td> <td>    0.037</td>\n",
              "</tr>\n",
              "<tr>\n",
              "  <th>LeadSource_Reference</th>                             <td> 1.406e+15</td> <td>  1.5e+07</td> <td> 9.35e+07</td> <td> 0.000</td> <td> 1.41e+15</td> <td> 1.41e+15</td>\n",
              "</tr>\n",
              "<tr>\n",
              "  <th>LeadSource_Referral Sites</th>                        <td> 2.291e+14</td> <td> 1.35e+07</td> <td>  1.7e+07</td> <td> 0.000</td> <td> 2.29e+14</td> <td> 2.29e+14</td>\n",
              "</tr>\n",
              "<tr>\n",
              "  <th>LeadSource_Social Media</th>                          <td>-2.728e+15</td> <td> 6.39e+07</td> <td>-4.27e+07</td> <td> 0.000</td> <td>-2.73e+15</td> <td>-2.73e+15</td>\n",
              "</tr>\n",
              "<tr>\n",
              "  <th>LeadSource_WeLearn</th>                               <td>    2.4701</td> <td> 6.62e-08</td> <td> 3.73e+07</td> <td> 0.000</td> <td>    2.470</td> <td>    2.470</td>\n",
              "</tr>\n",
              "<tr>\n",
              "  <th>LeadSource_Welingak Website</th>                      <td> 1.516e+15</td> <td> 1.58e+07</td> <td> 9.59e+07</td> <td> 0.000</td> <td> 1.52e+15</td> <td> 1.52e+15</td>\n",
              "</tr>\n",
              "<tr>\n",
              "  <th>LeadSource_bing</th>                                  <td>-2.483e+15</td> <td> 3.04e+07</td> <td>-8.18e+07</td> <td> 0.000</td> <td>-2.48e+15</td> <td>-2.48e+15</td>\n",
              "</tr>\n",
              "<tr>\n",
              "  <th>LeadSource_blog</th>                                  <td>-3.157e+15</td> <td> 6.38e+07</td> <td>-4.95e+07</td> <td> 0.000</td> <td>-3.16e+15</td> <td>-3.16e+15</td>\n",
              "</tr>\n",
              "<tr>\n",
              "  <th>LeadSource_testone</th>                               <td>-1.368e+15</td> <td> 6.39e+07</td> <td>-2.14e+07</td> <td> 0.000</td> <td>-1.37e+15</td> <td>-1.37e+15</td>\n",
              "</tr>\n",
              "<tr>\n",
              "  <th>LeadSource_welearnblog_Home</th>                      <td>-2.448e+15</td> <td> 6.38e+07</td> <td>-3.84e+07</td> <td> 0.000</td> <td>-2.45e+15</td> <td>-2.45e+15</td>\n",
              "</tr>\n",
              "<tr>\n",
              "  <th>LeadSource_youtubechannel</th>                        <td>    9.8637</td> <td> 8.89e-08</td> <td> 1.11e+08</td> <td> 0.000</td> <td>    9.864</td> <td>    9.864</td>\n",
              "</tr>\n",
              "<tr>\n",
              "  <th>LastActivity_Approached upfront</th>                  <td>  3.42e+15</td> <td> 2.72e+07</td> <td> 1.26e+08</td> <td> 0.000</td> <td> 3.42e+15</td> <td> 3.42e+15</td>\n",
              "</tr>\n",
              "<tr>\n",
              "  <th>LastActivity_Converted to Lead</th>                   <td>-6.656e+13</td> <td> 9.33e+06</td> <td>-7.13e+06</td> <td> 0.000</td> <td>-6.66e+13</td> <td>-6.66e+13</td>\n",
              "</tr>\n",
              "<tr>\n",
              "  <th>LastActivity_Email Bounced</th>                       <td> -7.71e+14</td> <td> 9.74e+06</td> <td>-7.91e+07</td> <td> 0.000</td> <td>-7.71e+14</td> <td>-7.71e+14</td>\n",
              "</tr>\n",
              "<tr>\n",
              "  <th>LastActivity_Email Link Clicked</th>                  <td> 3.034e+14</td> <td> 1.14e+07</td> <td> 2.66e+07</td> <td> 0.000</td> <td> 3.03e+14</td> <td> 3.03e+14</td>\n",
              "</tr>\n",
              "<tr>\n",
              "  <th>LastActivity_Email Marked Spam</th>                   <td>  2.43e+15</td> <td> 2.31e+07</td> <td> 1.05e+08</td> <td> 0.000</td> <td> 2.43e+15</td> <td> 2.43e+15</td>\n",
              "</tr>\n",
              "<tr>\n",
              "  <th>LastActivity_Email Opened</th>                        <td> 1.412e+14</td> <td> 9.08e+06</td> <td> 1.56e+07</td> <td> 0.000</td> <td> 1.41e+14</td> <td> 1.41e+14</td>\n",
              "</tr>\n",
              "<tr>\n",
              "  <th>LastActivity_Email Received</th>                      <td> 4.076e+15</td> <td> 6.38e+07</td> <td> 6.39e+07</td> <td> 0.000</td> <td> 4.08e+15</td> <td> 4.08e+15</td>\n",
              "</tr>\n",
              "<tr>\n",
              "  <th>LastActivity_Form Submitted on Website</th>           <td> 1.814e+13</td> <td> 1.13e+07</td> <td> 1.61e+06</td> <td> 0.000</td> <td> 1.81e+13</td> <td> 1.81e+13</td>\n",
              "</tr>\n",
              "<tr>\n",
              "  <th>LastActivity_Had a Phone Conversation</th>            <td>-5.086e+14</td> <td> 2.26e+07</td> <td>-2.25e+07</td> <td> 0.000</td> <td>-5.09e+14</td> <td>-5.09e+14</td>\n",
              "</tr>\n",
              "<tr>\n",
              "  <th>LastActivity_Not Sure</th>                            <td>-1.525e+14</td> <td> 1.18e+07</td> <td>-1.29e+07</td> <td> 0.000</td> <td>-1.53e+14</td> <td>-1.53e+14</td>\n",
              "</tr>\n",
              "<tr>\n",
              "  <th>LastActivity_Olark Chat Conversation</th>             <td> 8.944e+14</td> <td> 9.06e+06</td> <td> 9.87e+07</td> <td> 0.000</td> <td> 8.94e+14</td> <td> 8.94e+14</td>\n",
              "</tr>\n",
              "<tr>\n",
              "  <th>LastActivity_Page Visited on Website</th>             <td>-1.657e+14</td> <td> 9.53e+06</td> <td>-1.74e+07</td> <td> 0.000</td> <td>-1.66e+14</td> <td>-1.66e+14</td>\n",
              "</tr>\n",
              "<tr>\n",
              "  <th>LastActivity_SMS Sent</th>                            <td>-1.004e+13</td> <td>  9.1e+06</td> <td> -1.1e+06</td> <td> 0.000</td> <td>   -1e+13</td> <td>   -1e+13</td>\n",
              "</tr>\n",
              "<tr>\n",
              "  <th>LastActivity_Unreachable</th>                         <td>-1.812e+14</td> <td> 1.29e+07</td> <td> -1.4e+07</td> <td> 0.000</td> <td>-1.81e+14</td> <td>-1.81e+14</td>\n",
              "</tr>\n",
              "<tr>\n",
              "  <th>LastActivity_Unsubscribed</th>                        <td>-7.827e+13</td> <td> 2.38e+07</td> <td>-3.29e+06</td> <td> 0.000</td> <td>-7.83e+13</td> <td>-7.83e+13</td>\n",
              "</tr>\n",
              "<tr>\n",
              "  <th>LastActivity_View in browser link Clicked</th>        <td>-3.738e+15</td> <td> 6.32e+07</td> <td>-5.91e+07</td> <td> 0.000</td> <td>-3.74e+15</td> <td>-3.74e+15</td>\n",
              "</tr>\n",
              "<tr>\n",
              "  <th>LastActivity_Visited Booth in Tradeshow</th>          <td>-2.921e+15</td> <td> 6.37e+07</td> <td>-4.58e+07</td> <td> 0.000</td> <td>-2.92e+15</td> <td>-2.92e+15</td>\n",
              "</tr>\n",
              "<tr>\n",
              "  <th>CurrentOccupation_Housewife</th>                      <td> 6.942e+15</td> <td> 4.12e+07</td> <td> 1.69e+08</td> <td> 0.000</td> <td> 6.94e+15</td> <td> 6.94e+15</td>\n",
              "</tr>\n",
              "<tr>\n",
              "  <th>CurrentOccupation_No Information</th>                 <td>  2.01e+15</td> <td> 3.37e+07</td> <td> 5.96e+07</td> <td> 0.000</td> <td> 2.01e+15</td> <td> 2.01e+15</td>\n",
              "</tr>\n",
              "<tr>\n",
              "  <th>CurrentOccupation_Other</th>                          <td> 2.923e+15</td> <td> 3.89e+07</td> <td> 7.52e+07</td> <td> 0.000</td> <td> 2.92e+15</td> <td> 2.92e+15</td>\n",
              "</tr>\n",
              "<tr>\n",
              "  <th>CurrentOccupation_Student</th>                        <td> 2.146e+15</td> <td> 3.41e+07</td> <td> 6.29e+07</td> <td> 0.000</td> <td> 2.15e+15</td> <td> 2.15e+15</td>\n",
              "</tr>\n",
              "<tr>\n",
              "  <th>CurrentOccupation_Unemployed</th>                     <td> 2.302e+15</td> <td> 3.37e+07</td> <td> 6.83e+07</td> <td> 0.000</td> <td>  2.3e+15</td> <td>  2.3e+15</td>\n",
              "</tr>\n",
              "<tr>\n",
              "  <th>CurrentOccupation_Working Professional</th>           <td>   3.3e+15</td> <td> 3.38e+07</td> <td> 9.76e+07</td> <td> 0.000</td> <td>  3.3e+15</td> <td>  3.3e+15</td>\n",
              "</tr>\n",
              "<tr>\n",
              "  <th>LastNotableActivity_Approached upfront</th>           <td>    0.0584</td> <td> 7.38e-09</td> <td> 7.91e+06</td> <td> 0.000</td> <td>    0.058</td> <td>    0.058</td>\n",
              "</tr>\n",
              "<tr>\n",
              "  <th>LastNotableActivity_Email Bounced</th>                <td> 8.485e+14</td> <td> 1.54e+07</td> <td>  5.5e+07</td> <td> 0.000</td> <td> 8.49e+14</td> <td> 8.49e+14</td>\n",
              "</tr>\n",
              "<tr>\n",
              "  <th>LastNotableActivity_Email Link Clicked</th>           <td>  -1.4e+14</td> <td> 1.45e+07</td> <td>-9.62e+06</td> <td> 0.000</td> <td> -1.4e+14</td> <td> -1.4e+14</td>\n",
              "</tr>\n",
              "<tr>\n",
              "  <th>LastNotableActivity_Email Marked Spam</th>            <td>  2.43e+15</td> <td> 2.31e+07</td> <td> 1.05e+08</td> <td> 0.000</td> <td> 2.43e+15</td> <td> 2.43e+15</td>\n",
              "</tr>\n",
              "<tr>\n",
              "  <th>LastNotableActivity_Email Opened</th>                 <td> 2.267e+14</td> <td> 1.15e+07</td> <td> 1.97e+07</td> <td> 0.000</td> <td> 2.27e+14</td> <td> 2.27e+14</td>\n",
              "</tr>\n",
              "<tr>\n",
              "  <th>LastNotableActivity_Email Received</th>               <td>    0.1549</td> <td> 3.03e-09</td> <td> 5.11e+07</td> <td> 0.000</td> <td>    0.155</td> <td>    0.155</td>\n",
              "</tr>\n",
              "<tr>\n",
              "  <th>LastNotableActivity_Form Submitted on Website</th>    <td>-4.442e+15</td> <td> 6.33e+07</td> <td>-7.02e+07</td> <td> 0.000</td> <td>-4.44e+15</td> <td>-4.44e+15</td>\n",
              "</tr>\n",
              "<tr>\n",
              "  <th>LastNotableActivity_Had a Phone Conversation</th>     <td> 2.317e+15</td> <td> 3.11e+07</td> <td> 7.44e+07</td> <td> 0.000</td> <td> 2.32e+15</td> <td> 2.32e+15</td>\n",
              "</tr>\n",
              "<tr>\n",
              "  <th>LastNotableActivity_Modified</th>                     <td>-1.112e+14</td> <td> 1.11e+07</td> <td>   -1e+07</td> <td> 0.000</td> <td>-1.11e+14</td> <td>-1.11e+14</td>\n",
              "</tr>\n",
              "<tr>\n",
              "  <th>LastNotableActivity_Olark Chat Conversation</th>      <td>-1.946e+14</td> <td> 1.26e+07</td> <td>-1.54e+07</td> <td> 0.000</td> <td>-1.95e+14</td> <td>-1.95e+14</td>\n",
              "</tr>\n",
              "<tr>\n",
              "  <th>LastNotableActivity_Page Visited on Website</th>      <td> 2.387e+14</td> <td> 1.26e+07</td> <td>  1.9e+07</td> <td> 0.000</td> <td> 2.39e+14</td> <td> 2.39e+14</td>\n",
              "</tr>\n",
              "<tr>\n",
              "  <th>LastNotableActivity_SMS Sent</th>                     <td> 4.519e+14</td> <td> 1.16e+07</td> <td> 3.91e+07</td> <td> 0.000</td> <td> 4.52e+14</td> <td> 4.52e+14</td>\n",
              "</tr>\n",
              "<tr>\n",
              "  <th>LastNotableActivity_Unreachable</th>                  <td> 1.872e+15</td> <td> 1.97e+07</td> <td> 9.51e+07</td> <td> 0.000</td> <td> 1.87e+15</td> <td> 1.87e+15</td>\n",
              "</tr>\n",
              "<tr>\n",
              "  <th>LastNotableActivity_Unsubscribed</th>                 <td>-6.792e+14</td> <td> 2.71e+07</td> <td> -2.5e+07</td> <td> 0.000</td> <td>-6.79e+14</td> <td>-6.79e+14</td>\n",
              "</tr>\n",
              "<tr>\n",
              "  <th>LastNotableActivity_View in browser link Clicked</th> <td>-1.279e+14</td> <td> 8.79e+07</td> <td>-1.45e+06</td> <td> 0.000</td> <td>-1.28e+14</td> <td>-1.28e+14</td>\n",
              "</tr>\n",
              "</table>"
            ]
          },
          "metadata": {},
          "execution_count": 92
        }
      ],
      "source": [
        "# Logistic regression model\n",
        "logm1 = sm.GLM(y_train,(sm.add_constant(X_train)), family = sm.families.Binomial())\n",
        "logm1.fit().summary()"
      ]
    },
    {
      "cell_type": "markdown",
      "metadata": {
        "id": "quSniR4PZQir"
      },
      "source": [
        "### Step 8: Feature Selection Using RFE"
      ]
    },
    {
      "cell_type": "code",
      "execution_count": 96,
      "metadata": {
        "id": "OXESBgj8ZQir"
      },
      "outputs": [],
      "source": [
        "from sklearn.linear_model import LogisticRegression\n",
        "logreg = LogisticRegression()"
      ]
    },
    {
      "cell_type": "code",
      "execution_count": 99,
      "metadata": {
        "id": "9s7fNPK6ZQir"
      },
      "outputs": [],
      "source": [
        "from sklearn.feature_selection import RFE\n",
        "\n",
        "# running RFE with 20 variables as output\n",
        "\n",
        "rfe = RFE(estimator=logreg,n_features_to_select=20)            \n",
        "rfe = rfe.fit(X_train, y_train)"
      ]
    },
    {
      "cell_type": "code",
      "execution_count": 100,
      "metadata": {
        "colab": {
          "base_uri": "https://localhost:8080/"
        },
        "id": "kt4Jv29FZQir",
        "outputId": "ba2fdf89-c782-4e48-8752-cc5b0a08904e"
      },
      "outputs": [
        {
          "output_type": "execute_result",
          "data": {
            "text/plain": [
              "array([ True, False,  True,  True,  True,  True, False, False, False,\n",
              "       False, False,  True, False, False, False, False, False, False,\n",
              "        True, False, False, False,  True, False, False, False,  True,\n",
              "       False, False, False, False, False,  True, False, False, False,\n",
              "       False,  True, False, False,  True, False,  True, False,  True,\n",
              "       False, False, False, False,  True,  True, False, False, False,\n",
              "        True, False, False, False, False, False, False, False,  True,\n",
              "        True, False, False, False,  True, False, False])"
            ]
          },
          "metadata": {},
          "execution_count": 100
        }
      ],
      "source": [
        "rfe.support_"
      ]
    },
    {
      "cell_type": "code",
      "execution_count": 101,
      "metadata": {
        "scrolled": true,
        "colab": {
          "base_uri": "https://localhost:8080/"
        },
        "id": "v_U9vmfTZQir",
        "outputId": "13988aee-f7da-4e06-cd1d-756b9f3dfeb7"
      },
      "outputs": [
        {
          "output_type": "execute_result",
          "data": {
            "text/plain": [
              "[('Do Not Email', True, 1),\n",
              " ('Do Not Call', False, 13),\n",
              " ('TotalVisits', True, 1),\n",
              " ('Total Time Spent on Website', True, 1),\n",
              " ('Page Views Per Visit', True, 1),\n",
              " ('Search', True, 1),\n",
              " ('Digital Advertisement', False, 45),\n",
              " ('Through Recommendations', False, 30),\n",
              " ('A free copy of Mastering The Interview', False, 37),\n",
              " ('LeadOrigin_API', False, 9),\n",
              " ('LeadOrigin_Landing Page Submission', False, 8),\n",
              " ('LeadOrigin_Lead Add Form', True, 1),\n",
              " ('LeadOrigin_Lead Import', False, 20),\n",
              " ('LeadSource_Click2call', False, 29),\n",
              " ('LeadSource_Direct Traffic', False, 16),\n",
              " ('LeadSource_Facebook', False, 10),\n",
              " ('LeadSource_Google', False, 27),\n",
              " ('LeadSource_Live Chat', False, 38),\n",
              " ('LeadSource_Olark Chat', True, 1),\n",
              " ('LeadSource_Organic Search', False, 26),\n",
              " ('LeadSource_Pay per Click Ads', False, 46),\n",
              " ('LeadSource_Press_Release', False, 50),\n",
              " ('LeadSource_Reference', True, 1),\n",
              " ('LeadSource_Referral Sites', False, 25),\n",
              " ('LeadSource_Social Media', False, 41),\n",
              " ('LeadSource_WeLearn', False, 47),\n",
              " ('LeadSource_Welingak Website', True, 1),\n",
              " ('LeadSource_bing', False, 18),\n",
              " ('LeadSource_blog', False, 35),\n",
              " ('LeadSource_testone', False, 31),\n",
              " ('LeadSource_welearnblog_Home', False, 39),\n",
              " ('LeadSource_youtubechannel', False, 48),\n",
              " ('LastActivity_Approached upfront', True, 1),\n",
              " ('LastActivity_Converted to Lead', False, 19),\n",
              " ('LastActivity_Email Bounced', False, 6),\n",
              " ('LastActivity_Email Link Clicked', False, 14),\n",
              " ('LastActivity_Email Marked Spam', False, 17),\n",
              " ('LastActivity_Email Opened', True, 1),\n",
              " ('LastActivity_Email Received', False, 43),\n",
              " ('LastActivity_Form Submitted on Website', False, 34),\n",
              " ('LastActivity_Had a Phone Conversation', True, 1),\n",
              " ('LastActivity_Not Sure', False, 7),\n",
              " ('LastActivity_Olark Chat Conversation', True, 1),\n",
              " ('LastActivity_Page Visited on Website', False, 33),\n",
              " ('LastActivity_SMS Sent', True, 1),\n",
              " ('LastActivity_Unreachable', False, 28),\n",
              " ('LastActivity_Unsubscribed', False, 22),\n",
              " ('LastActivity_View in browser link Clicked', False, 24),\n",
              " ('LastActivity_Visited Booth in Tradeshow', False, 40),\n",
              " ('CurrentOccupation_Housewife', True, 1),\n",
              " ('CurrentOccupation_No Information', True, 1),\n",
              " ('CurrentOccupation_Other', False, 36),\n",
              " ('CurrentOccupation_Student', False, 11),\n",
              " ('CurrentOccupation_Unemployed', False, 12),\n",
              " ('CurrentOccupation_Working Professional', True, 1),\n",
              " ('LastNotableActivity_Approached upfront', False, 51),\n",
              " ('LastNotableActivity_Email Bounced', False, 21),\n",
              " ('LastNotableActivity_Email Link Clicked', False, 4),\n",
              " ('LastNotableActivity_Email Marked Spam', False, 15),\n",
              " ('LastNotableActivity_Email Opened', False, 2),\n",
              " ('LastNotableActivity_Email Received', False, 49),\n",
              " ('LastNotableActivity_Form Submitted on Website', False, 44),\n",
              " ('LastNotableActivity_Had a Phone Conversation', True, 1),\n",
              " ('LastNotableActivity_Modified', True, 1),\n",
              " ('LastNotableActivity_Olark Chat Conversation', False, 3),\n",
              " ('LastNotableActivity_Page Visited on Website', False, 5),\n",
              " ('LastNotableActivity_SMS Sent', False, 23),\n",
              " ('LastNotableActivity_Unreachable', True, 1),\n",
              " ('LastNotableActivity_Unsubscribed', False, 42),\n",
              " ('LastNotableActivity_View in browser link Clicked', False, 32)]"
            ]
          },
          "metadata": {},
          "execution_count": 101
        }
      ],
      "source": [
        "list(zip(X_train.columns, rfe.support_, rfe.ranking_))"
      ]
    },
    {
      "cell_type": "code",
      "execution_count": 102,
      "metadata": {
        "colab": {
          "base_uri": "https://localhost:8080/"
        },
        "id": "pMXX4-C0ZQir",
        "outputId": "955f655f-e79a-4393-cd19-5b1779c5764e"
      },
      "outputs": [
        {
          "output_type": "execute_result",
          "data": {
            "text/plain": [
              "Index(['Do Not Email', 'TotalVisits', 'Total Time Spent on Website',\n",
              "       'Page Views Per Visit', 'Search', 'LeadOrigin_Lead Add Form',\n",
              "       'LeadSource_Olark Chat', 'LeadSource_Reference',\n",
              "       'LeadSource_Welingak Website', 'LastActivity_Approached upfront',\n",
              "       'LastActivity_Email Opened', 'LastActivity_Had a Phone Conversation',\n",
              "       'LastActivity_Olark Chat Conversation', 'LastActivity_SMS Sent',\n",
              "       'CurrentOccupation_Housewife', 'CurrentOccupation_No Information',\n",
              "       'CurrentOccupation_Working Professional',\n",
              "       'LastNotableActivity_Had a Phone Conversation',\n",
              "       'LastNotableActivity_Modified', 'LastNotableActivity_Unreachable'],\n",
              "      dtype='object')"
            ]
          },
          "metadata": {},
          "execution_count": 102
        }
      ],
      "source": [
        "# variables shortlisted by RFE\n",
        "\n",
        "col = X_train.columns[rfe.support_]\n",
        "col"
      ]
    },
    {
      "cell_type": "markdown",
      "metadata": {
        "id": "xdEG0dlXZQis"
      },
      "source": [
        "#### Rebuilding Model - Model 2"
      ]
    },
    {
      "cell_type": "code",
      "execution_count": 103,
      "metadata": {
        "colab": {
          "base_uri": "https://localhost:8080/",
          "height": 701
        },
        "id": "gIybgI4JZQis",
        "outputId": "7493b6cb-f58b-4bbe-e262-66bdca8be7fe"
      },
      "outputs": [
        {
          "output_type": "execute_result",
          "data": {
            "text/plain": [
              "<class 'statsmodels.iolib.summary.Summary'>\n",
              "\"\"\"\n",
              "                 Generalized Linear Model Regression Results                  \n",
              "==============================================================================\n",
              "Dep. Variable:              Converted   No. Observations:                 6320\n",
              "Model:                            GLM   Df Residuals:                     6299\n",
              "Model Family:                Binomial   Df Model:                           20\n",
              "Link Function:                  logit   Scale:                          1.0000\n",
              "Method:                          IRLS   Log-Likelihood:                -2501.1\n",
              "Date:                Sun, 13 Nov 2022   Deviance:                       5002.3\n",
              "Time:                        09:56:03   Pearson chi2:                 6.53e+03\n",
              "No. Iterations:                    22                                         \n",
              "Covariance Type:            nonrobust                                         \n",
              "================================================================================================================\n",
              "                                                   coef    std err          z      P>|z|      [0.025      0.975]\n",
              "----------------------------------------------------------------------------------------------------------------\n",
              "const                                           -2.5570      0.153    -16.659      0.000      -2.858      -2.256\n",
              "Do Not Email                                    -1.1023      0.176     -6.276      0.000      -1.447      -0.758\n",
              "TotalVisits                                      1.7989      0.290      6.206      0.000       1.231       2.367\n",
              "Total Time Spent on Website                      4.5119      0.169     26.717      0.000       4.181       4.843\n",
              "Page Views Per Visit                            -0.8642      0.250     -3.453      0.001      -1.355      -0.374\n",
              "Search                                          -1.6356      1.011     -1.618      0.106      -3.617       0.346\n",
              "LeadOrigin_Lead Add Form                         3.0358      0.512      5.932      0.000       2.033       4.039\n",
              "LeadSource_Olark Chat                            1.4699      0.134     10.947      0.000       1.207       1.733\n",
              "LeadSource_Reference                             0.6403      0.540      1.185      0.236      -0.418       1.699\n",
              "LeadSource_Welingak Website                      2.6586      0.876      3.036      0.002       0.942       4.375\n",
              "LastActivity_Approached upfront                 23.9469   2.63e+04      0.001      0.999   -5.16e+04    5.17e+04\n",
              "LastActivity_Email Opened                        0.5394      0.117      4.599      0.000       0.310       0.769\n",
              "LastActivity_Had a Phone Conversation            1.1718      0.939      1.248      0.212      -0.668       3.011\n",
              "LastActivity_Olark Chat Conversation            -0.5893      0.190     -3.101      0.002      -0.962      -0.217\n",
              "LastActivity_SMS Sent                            1.7403      0.118     14.697      0.000       1.508       1.972\n",
              "CurrentOccupation_Housewife                     23.9667   2.43e+04      0.001      0.999   -4.76e+04    4.76e+04\n",
              "CurrentOccupation_No Information                -1.2346      0.090    -13.681      0.000      -1.411      -1.058\n",
              "CurrentOccupation_Working Professional           2.6225      0.203     12.889      0.000       2.224       3.021\n",
              "LastNotableActivity_Had a Phone Conversation     2.3799      1.501      1.585      0.113      -0.562       5.322\n",
              "LastNotableActivity_Modified                    -0.5521      0.090     -6.131      0.000      -0.729      -0.376\n",
              "LastNotableActivity_Unreachable                  2.0387      0.556      3.665      0.000       0.948       3.129\n",
              "================================================================================================================\n",
              "\"\"\""
            ],
            "text/html": [
              "<table class=\"simpletable\">\n",
              "<caption>Generalized Linear Model Regression Results</caption>\n",
              "<tr>\n",
              "  <th>Dep. Variable:</th>       <td>Converted</td>    <th>  No. Observations:  </th>  <td>  6320</td> \n",
              "</tr>\n",
              "<tr>\n",
              "  <th>Model:</th>                  <td>GLM</td>       <th>  Df Residuals:      </th>  <td>  6299</td> \n",
              "</tr>\n",
              "<tr>\n",
              "  <th>Model Family:</th>        <td>Binomial</td>     <th>  Df Model:          </th>  <td>    20</td> \n",
              "</tr>\n",
              "<tr>\n",
              "  <th>Link Function:</th>         <td>logit</td>      <th>  Scale:             </th> <td>  1.0000</td>\n",
              "</tr>\n",
              "<tr>\n",
              "  <th>Method:</th>                <td>IRLS</td>       <th>  Log-Likelihood:    </th> <td> -2501.1</td>\n",
              "</tr>\n",
              "<tr>\n",
              "  <th>Date:</th>            <td>Sun, 13 Nov 2022</td> <th>  Deviance:          </th> <td>  5002.3</td>\n",
              "</tr>\n",
              "<tr>\n",
              "  <th>Time:</th>                <td>09:56:03</td>     <th>  Pearson chi2:      </th> <td>6.53e+03</td>\n",
              "</tr>\n",
              "<tr>\n",
              "  <th>No. Iterations:</th>         <td>22</td>        <th>                     </th>     <td> </td>   \n",
              "</tr>\n",
              "<tr>\n",
              "  <th>Covariance Type:</th>     <td>nonrobust</td>    <th>                     </th>     <td> </td>   \n",
              "</tr>\n",
              "</table>\n",
              "<table class=\"simpletable\">\n",
              "<tr>\n",
              "                        <td></td>                          <th>coef</th>     <th>std err</th>      <th>z</th>      <th>P>|z|</th>  <th>[0.025</th>    <th>0.975]</th>  \n",
              "</tr>\n",
              "<tr>\n",
              "  <th>const</th>                                        <td>   -2.5570</td> <td>    0.153</td> <td>  -16.659</td> <td> 0.000</td> <td>   -2.858</td> <td>   -2.256</td>\n",
              "</tr>\n",
              "<tr>\n",
              "  <th>Do Not Email</th>                                 <td>   -1.1023</td> <td>    0.176</td> <td>   -6.276</td> <td> 0.000</td> <td>   -1.447</td> <td>   -0.758</td>\n",
              "</tr>\n",
              "<tr>\n",
              "  <th>TotalVisits</th>                                  <td>    1.7989</td> <td>    0.290</td> <td>    6.206</td> <td> 0.000</td> <td>    1.231</td> <td>    2.367</td>\n",
              "</tr>\n",
              "<tr>\n",
              "  <th>Total Time Spent on Website</th>                  <td>    4.5119</td> <td>    0.169</td> <td>   26.717</td> <td> 0.000</td> <td>    4.181</td> <td>    4.843</td>\n",
              "</tr>\n",
              "<tr>\n",
              "  <th>Page Views Per Visit</th>                         <td>   -0.8642</td> <td>    0.250</td> <td>   -3.453</td> <td> 0.001</td> <td>   -1.355</td> <td>   -0.374</td>\n",
              "</tr>\n",
              "<tr>\n",
              "  <th>Search</th>                                       <td>   -1.6356</td> <td>    1.011</td> <td>   -1.618</td> <td> 0.106</td> <td>   -3.617</td> <td>    0.346</td>\n",
              "</tr>\n",
              "<tr>\n",
              "  <th>LeadOrigin_Lead Add Form</th>                     <td>    3.0358</td> <td>    0.512</td> <td>    5.932</td> <td> 0.000</td> <td>    2.033</td> <td>    4.039</td>\n",
              "</tr>\n",
              "<tr>\n",
              "  <th>LeadSource_Olark Chat</th>                        <td>    1.4699</td> <td>    0.134</td> <td>   10.947</td> <td> 0.000</td> <td>    1.207</td> <td>    1.733</td>\n",
              "</tr>\n",
              "<tr>\n",
              "  <th>LeadSource_Reference</th>                         <td>    0.6403</td> <td>    0.540</td> <td>    1.185</td> <td> 0.236</td> <td>   -0.418</td> <td>    1.699</td>\n",
              "</tr>\n",
              "<tr>\n",
              "  <th>LeadSource_Welingak Website</th>                  <td>    2.6586</td> <td>    0.876</td> <td>    3.036</td> <td> 0.002</td> <td>    0.942</td> <td>    4.375</td>\n",
              "</tr>\n",
              "<tr>\n",
              "  <th>LastActivity_Approached upfront</th>              <td>   23.9469</td> <td> 2.63e+04</td> <td>    0.001</td> <td> 0.999</td> <td>-5.16e+04</td> <td> 5.17e+04</td>\n",
              "</tr>\n",
              "<tr>\n",
              "  <th>LastActivity_Email Opened</th>                    <td>    0.5394</td> <td>    0.117</td> <td>    4.599</td> <td> 0.000</td> <td>    0.310</td> <td>    0.769</td>\n",
              "</tr>\n",
              "<tr>\n",
              "  <th>LastActivity_Had a Phone Conversation</th>        <td>    1.1718</td> <td>    0.939</td> <td>    1.248</td> <td> 0.212</td> <td>   -0.668</td> <td>    3.011</td>\n",
              "</tr>\n",
              "<tr>\n",
              "  <th>LastActivity_Olark Chat Conversation</th>         <td>   -0.5893</td> <td>    0.190</td> <td>   -3.101</td> <td> 0.002</td> <td>   -0.962</td> <td>   -0.217</td>\n",
              "</tr>\n",
              "<tr>\n",
              "  <th>LastActivity_SMS Sent</th>                        <td>    1.7403</td> <td>    0.118</td> <td>   14.697</td> <td> 0.000</td> <td>    1.508</td> <td>    1.972</td>\n",
              "</tr>\n",
              "<tr>\n",
              "  <th>CurrentOccupation_Housewife</th>                  <td>   23.9667</td> <td> 2.43e+04</td> <td>    0.001</td> <td> 0.999</td> <td>-4.76e+04</td> <td> 4.76e+04</td>\n",
              "</tr>\n",
              "<tr>\n",
              "  <th>CurrentOccupation_No Information</th>             <td>   -1.2346</td> <td>    0.090</td> <td>  -13.681</td> <td> 0.000</td> <td>   -1.411</td> <td>   -1.058</td>\n",
              "</tr>\n",
              "<tr>\n",
              "  <th>CurrentOccupation_Working Professional</th>       <td>    2.6225</td> <td>    0.203</td> <td>   12.889</td> <td> 0.000</td> <td>    2.224</td> <td>    3.021</td>\n",
              "</tr>\n",
              "<tr>\n",
              "  <th>LastNotableActivity_Had a Phone Conversation</th> <td>    2.3799</td> <td>    1.501</td> <td>    1.585</td> <td> 0.113</td> <td>   -0.562</td> <td>    5.322</td>\n",
              "</tr>\n",
              "<tr>\n",
              "  <th>LastNotableActivity_Modified</th>                 <td>   -0.5521</td> <td>    0.090</td> <td>   -6.131</td> <td> 0.000</td> <td>   -0.729</td> <td>   -0.376</td>\n",
              "</tr>\n",
              "<tr>\n",
              "  <th>LastNotableActivity_Unreachable</th>              <td>    2.0387</td> <td>    0.556</td> <td>    3.665</td> <td> 0.000</td> <td>    0.948</td> <td>    3.129</td>\n",
              "</tr>\n",
              "</table>"
            ]
          },
          "metadata": {},
          "execution_count": 103
        }
      ],
      "source": [
        "X_train_sm = sm.add_constant(X_train[col])\n",
        "logm2 = sm.GLM(y_train,X_train_sm, family = sm.families.Binomial())\n",
        "res = logm2.fit()\n",
        "res.summary()"
      ]
    },
    {
      "cell_type": "markdown",
      "metadata": {
        "id": "-N4s_yRWZQis"
      },
      "source": [
        "Removing column LastActivity_Approached_Upfront as it has a high pvalue and hence is insignificant"
      ]
    },
    {
      "cell_type": "code",
      "execution_count": 104,
      "metadata": {
        "id": "5nsk6OmhZQis"
      },
      "outputs": [],
      "source": [
        "col = col.drop('LastActivity_Approached upfront',1)"
      ]
    },
    {
      "cell_type": "markdown",
      "metadata": {
        "id": "UshNE0yVZQis"
      },
      "source": [
        "#### Rebuilding Model - Model 3"
      ]
    },
    {
      "cell_type": "code",
      "execution_count": 105,
      "metadata": {
        "colab": {
          "base_uri": "https://localhost:8080/",
          "height": 679
        },
        "id": "no43J85VZQit",
        "outputId": "bbf9c193-6724-4993-9335-e99869b0eb37"
      },
      "outputs": [
        {
          "output_type": "execute_result",
          "data": {
            "text/plain": [
              "<class 'statsmodels.iolib.summary.Summary'>\n",
              "\"\"\"\n",
              "                 Generalized Linear Model Regression Results                  \n",
              "==============================================================================\n",
              "Dep. Variable:              Converted   No. Observations:                 6320\n",
              "Model:                            GLM   Df Residuals:                     6300\n",
              "Model Family:                Binomial   Df Model:                           19\n",
              "Link Function:                  logit   Scale:                          1.0000\n",
              "Method:                          IRLS   Log-Likelihood:                -2506.6\n",
              "Date:                Sun, 13 Nov 2022   Deviance:                       5013.2\n",
              "Time:                        09:56:10   Pearson chi2:                 6.53e+03\n",
              "No. Iterations:                    21                                         \n",
              "Covariance Type:            nonrobust                                         \n",
              "================================================================================================================\n",
              "                                                   coef    std err          z      P>|z|      [0.025      0.975]\n",
              "----------------------------------------------------------------------------------------------------------------\n",
              "const                                           -2.5414      0.153    -16.608      0.000      -2.841      -2.241\n",
              "Do Not Email                                    -1.1140      0.175     -6.350      0.000      -1.458      -0.770\n",
              "TotalVisits                                      1.7878      0.290      6.171      0.000       1.220       2.356\n",
              "Total Time Spent on Website                      4.5173      0.169     26.768      0.000       4.187       4.848\n",
              "Page Views Per Visit                            -0.8483      0.250     -3.393      0.001      -1.338      -0.358\n",
              "Search                                          -1.6363      1.012     -1.617      0.106      -3.620       0.347\n",
              "LeadOrigin_Lead Add Form                         3.0402      0.511      5.946      0.000       2.038       4.042\n",
              "LeadSource_Olark Chat                            1.4873      0.134     11.087      0.000       1.224       1.750\n",
              "LeadSource_Reference                             0.6399      0.540      1.186      0.236      -0.418       1.698\n",
              "LeadSource_Welingak Website                      2.6555      0.875      3.034      0.002       0.940       4.371\n",
              "LastActivity_Email Opened                        0.5164      0.117      4.424      0.000       0.288       0.745\n",
              "LastActivity_Had a Phone Conversation            1.1429      0.939      1.218      0.223      -0.697       2.982\n",
              "LastActivity_Olark Chat Conversation            -0.6220      0.190     -3.282      0.001      -0.994      -0.250\n",
              "LastActivity_SMS Sent                            1.7182      0.118     14.579      0.000       1.487       1.949\n",
              "CurrentOccupation_Housewife                     22.9568   1.47e+04      0.002      0.999   -2.88e+04    2.89e+04\n",
              "CurrentOccupation_No Information                -1.2409      0.090    -13.758      0.000      -1.418      -1.064\n",
              "CurrentOccupation_Working Professional           2.6161      0.203     12.868      0.000       2.218       3.015\n",
              "LastNotableActivity_Had a Phone Conversation     2.3908      1.501      1.592      0.111      -0.552       5.333\n",
              "LastNotableActivity_Modified                    -0.5431      0.090     -6.041      0.000      -0.719      -0.367\n",
              "LastNotableActivity_Unreachable                  2.0197      0.556      3.630      0.000       0.929       3.110\n",
              "================================================================================================================\n",
              "\"\"\""
            ],
            "text/html": [
              "<table class=\"simpletable\">\n",
              "<caption>Generalized Linear Model Regression Results</caption>\n",
              "<tr>\n",
              "  <th>Dep. Variable:</th>       <td>Converted</td>    <th>  No. Observations:  </th>  <td>  6320</td> \n",
              "</tr>\n",
              "<tr>\n",
              "  <th>Model:</th>                  <td>GLM</td>       <th>  Df Residuals:      </th>  <td>  6300</td> \n",
              "</tr>\n",
              "<tr>\n",
              "  <th>Model Family:</th>        <td>Binomial</td>     <th>  Df Model:          </th>  <td>    19</td> \n",
              "</tr>\n",
              "<tr>\n",
              "  <th>Link Function:</th>         <td>logit</td>      <th>  Scale:             </th> <td>  1.0000</td>\n",
              "</tr>\n",
              "<tr>\n",
              "  <th>Method:</th>                <td>IRLS</td>       <th>  Log-Likelihood:    </th> <td> -2506.6</td>\n",
              "</tr>\n",
              "<tr>\n",
              "  <th>Date:</th>            <td>Sun, 13 Nov 2022</td> <th>  Deviance:          </th> <td>  5013.2</td>\n",
              "</tr>\n",
              "<tr>\n",
              "  <th>Time:</th>                <td>09:56:10</td>     <th>  Pearson chi2:      </th> <td>6.53e+03</td>\n",
              "</tr>\n",
              "<tr>\n",
              "  <th>No. Iterations:</th>         <td>21</td>        <th>                     </th>     <td> </td>   \n",
              "</tr>\n",
              "<tr>\n",
              "  <th>Covariance Type:</th>     <td>nonrobust</td>    <th>                     </th>     <td> </td>   \n",
              "</tr>\n",
              "</table>\n",
              "<table class=\"simpletable\">\n",
              "<tr>\n",
              "                        <td></td>                          <th>coef</th>     <th>std err</th>      <th>z</th>      <th>P>|z|</th>  <th>[0.025</th>    <th>0.975]</th>  \n",
              "</tr>\n",
              "<tr>\n",
              "  <th>const</th>                                        <td>   -2.5414</td> <td>    0.153</td> <td>  -16.608</td> <td> 0.000</td> <td>   -2.841</td> <td>   -2.241</td>\n",
              "</tr>\n",
              "<tr>\n",
              "  <th>Do Not Email</th>                                 <td>   -1.1140</td> <td>    0.175</td> <td>   -6.350</td> <td> 0.000</td> <td>   -1.458</td> <td>   -0.770</td>\n",
              "</tr>\n",
              "<tr>\n",
              "  <th>TotalVisits</th>                                  <td>    1.7878</td> <td>    0.290</td> <td>    6.171</td> <td> 0.000</td> <td>    1.220</td> <td>    2.356</td>\n",
              "</tr>\n",
              "<tr>\n",
              "  <th>Total Time Spent on Website</th>                  <td>    4.5173</td> <td>    0.169</td> <td>   26.768</td> <td> 0.000</td> <td>    4.187</td> <td>    4.848</td>\n",
              "</tr>\n",
              "<tr>\n",
              "  <th>Page Views Per Visit</th>                         <td>   -0.8483</td> <td>    0.250</td> <td>   -3.393</td> <td> 0.001</td> <td>   -1.338</td> <td>   -0.358</td>\n",
              "</tr>\n",
              "<tr>\n",
              "  <th>Search</th>                                       <td>   -1.6363</td> <td>    1.012</td> <td>   -1.617</td> <td> 0.106</td> <td>   -3.620</td> <td>    0.347</td>\n",
              "</tr>\n",
              "<tr>\n",
              "  <th>LeadOrigin_Lead Add Form</th>                     <td>    3.0402</td> <td>    0.511</td> <td>    5.946</td> <td> 0.000</td> <td>    2.038</td> <td>    4.042</td>\n",
              "</tr>\n",
              "<tr>\n",
              "  <th>LeadSource_Olark Chat</th>                        <td>    1.4873</td> <td>    0.134</td> <td>   11.087</td> <td> 0.000</td> <td>    1.224</td> <td>    1.750</td>\n",
              "</tr>\n",
              "<tr>\n",
              "  <th>LeadSource_Reference</th>                         <td>    0.6399</td> <td>    0.540</td> <td>    1.186</td> <td> 0.236</td> <td>   -0.418</td> <td>    1.698</td>\n",
              "</tr>\n",
              "<tr>\n",
              "  <th>LeadSource_Welingak Website</th>                  <td>    2.6555</td> <td>    0.875</td> <td>    3.034</td> <td> 0.002</td> <td>    0.940</td> <td>    4.371</td>\n",
              "</tr>\n",
              "<tr>\n",
              "  <th>LastActivity_Email Opened</th>                    <td>    0.5164</td> <td>    0.117</td> <td>    4.424</td> <td> 0.000</td> <td>    0.288</td> <td>    0.745</td>\n",
              "</tr>\n",
              "<tr>\n",
              "  <th>LastActivity_Had a Phone Conversation</th>        <td>    1.1429</td> <td>    0.939</td> <td>    1.218</td> <td> 0.223</td> <td>   -0.697</td> <td>    2.982</td>\n",
              "</tr>\n",
              "<tr>\n",
              "  <th>LastActivity_Olark Chat Conversation</th>         <td>   -0.6220</td> <td>    0.190</td> <td>   -3.282</td> <td> 0.001</td> <td>   -0.994</td> <td>   -0.250</td>\n",
              "</tr>\n",
              "<tr>\n",
              "  <th>LastActivity_SMS Sent</th>                        <td>    1.7182</td> <td>    0.118</td> <td>   14.579</td> <td> 0.000</td> <td>    1.487</td> <td>    1.949</td>\n",
              "</tr>\n",
              "<tr>\n",
              "  <th>CurrentOccupation_Housewife</th>                  <td>   22.9568</td> <td> 1.47e+04</td> <td>    0.002</td> <td> 0.999</td> <td>-2.88e+04</td> <td> 2.89e+04</td>\n",
              "</tr>\n",
              "<tr>\n",
              "  <th>CurrentOccupation_No Information</th>             <td>   -1.2409</td> <td>    0.090</td> <td>  -13.758</td> <td> 0.000</td> <td>   -1.418</td> <td>   -1.064</td>\n",
              "</tr>\n",
              "<tr>\n",
              "  <th>CurrentOccupation_Working Professional</th>       <td>    2.6161</td> <td>    0.203</td> <td>   12.868</td> <td> 0.000</td> <td>    2.218</td> <td>    3.015</td>\n",
              "</tr>\n",
              "<tr>\n",
              "  <th>LastNotableActivity_Had a Phone Conversation</th> <td>    2.3908</td> <td>    1.501</td> <td>    1.592</td> <td> 0.111</td> <td>   -0.552</td> <td>    5.333</td>\n",
              "</tr>\n",
              "<tr>\n",
              "  <th>LastNotableActivity_Modified</th>                 <td>   -0.5431</td> <td>    0.090</td> <td>   -6.041</td> <td> 0.000</td> <td>   -0.719</td> <td>   -0.367</td>\n",
              "</tr>\n",
              "<tr>\n",
              "  <th>LastNotableActivity_Unreachable</th>              <td>    2.0197</td> <td>    0.556</td> <td>    3.630</td> <td> 0.000</td> <td>    0.929</td> <td>    3.110</td>\n",
              "</tr>\n",
              "</table>"
            ]
          },
          "metadata": {},
          "execution_count": 105
        }
      ],
      "source": [
        "X_train_sm = sm.add_constant(X_train[col])\n",
        "logm3 = sm.GLM(y_train,X_train_sm, family = sm.families.Binomial())\n",
        "res = logm3.fit()\n",
        "res.summary()"
      ]
    },
    {
      "cell_type": "markdown",
      "metadata": {
        "id": "dNycfWwlZQit"
      },
      "source": [
        "Removing column CurrentOccupation_Housewife as it has a high pvalue and hence is insignificant"
      ]
    },
    {
      "cell_type": "code",
      "execution_count": 106,
      "metadata": {
        "id": "qRNi-jkJZQit"
      },
      "outputs": [],
      "source": [
        "col = col.drop('CurrentOccupation_Housewife',1)"
      ]
    },
    {
      "cell_type": "markdown",
      "metadata": {
        "id": "6PTYpyYHZQit"
      },
      "source": [
        "#### Rebuilding Model - Model 4"
      ]
    },
    {
      "cell_type": "code",
      "execution_count": 107,
      "metadata": {
        "colab": {
          "base_uri": "https://localhost:8080/",
          "height": 658
        },
        "id": "TlsEiXCeZQit",
        "outputId": "a7a1d409-5e53-40ef-d8b9-2468e2d2608c"
      },
      "outputs": [
        {
          "output_type": "execute_result",
          "data": {
            "text/plain": [
              "<class 'statsmodels.iolib.summary.Summary'>\n",
              "\"\"\"\n",
              "                 Generalized Linear Model Regression Results                  \n",
              "==============================================================================\n",
              "Dep. Variable:              Converted   No. Observations:                 6320\n",
              "Model:                            GLM   Df Residuals:                     6301\n",
              "Model Family:                Binomial   Df Model:                           18\n",
              "Link Function:                  logit   Scale:                          1.0000\n",
              "Method:                          IRLS   Log-Likelihood:                -2513.3\n",
              "Date:                Sun, 13 Nov 2022   Deviance:                       5026.7\n",
              "Time:                        09:56:15   Pearson chi2:                 6.54e+03\n",
              "No. Iterations:                     7                                         \n",
              "Covariance Type:            nonrobust                                         \n",
              "================================================================================================================\n",
              "                                                   coef    std err          z      P>|z|      [0.025      0.975]\n",
              "----------------------------------------------------------------------------------------------------------------\n",
              "const                                           -2.5270      0.153    -16.565      0.000      -2.826      -2.228\n",
              "Do Not Email                                    -1.1188      0.175     -6.380      0.000      -1.463      -0.775\n",
              "TotalVisits                                      1.7768      0.289      6.139      0.000       1.210       2.344\n",
              "Total Time Spent on Website                      4.5123      0.169     26.772      0.000       4.182       4.843\n",
              "Page Views Per Visit                            -0.8528      0.250     -3.414      0.001      -1.342      -0.363\n",
              "Search                                          -1.6358      1.011     -1.619      0.106      -3.617       0.345\n",
              "LeadOrigin_Lead Add Form                         3.0313      0.511      5.930      0.000       2.029       4.033\n",
              "LeadSource_Olark Chat                            1.4768      0.134     11.028      0.000       1.214       1.739\n",
              "LeadSource_Reference                             0.6579      0.539      1.220      0.223      -0.399       1.715\n",
              "LeadSource_Welingak Website                      2.6524      0.875      3.030      0.002       0.937       4.368\n",
              "LastActivity_Email Opened                        0.5166      0.116      4.440      0.000       0.289       0.745\n",
              "LastActivity_Had a Phone Conversation            1.1276      0.939      1.201      0.230      -0.712       2.967\n",
              "LastActivity_Olark Chat Conversation            -0.6290      0.189     -3.322      0.001      -1.000      -0.258\n",
              "LastActivity_SMS Sent                            1.7107      0.118     14.551      0.000       1.480       1.941\n",
              "CurrentOccupation_No Information                -1.2457      0.090    -13.822      0.000      -1.422      -1.069\n",
              "CurrentOccupation_Working Professional           2.6078      0.203     12.834      0.000       2.210       3.006\n",
              "LastNotableActivity_Had a Phone Conversation     2.3999      1.501      1.598      0.110      -0.543       5.343\n",
              "LastNotableActivity_Modified                    -0.5378      0.090     -5.995      0.000      -0.714      -0.362\n",
              "LastNotableActivity_Unreachable                  2.0149      0.556      3.621      0.000       0.924       3.105\n",
              "================================================================================================================\n",
              "\"\"\""
            ],
            "text/html": [
              "<table class=\"simpletable\">\n",
              "<caption>Generalized Linear Model Regression Results</caption>\n",
              "<tr>\n",
              "  <th>Dep. Variable:</th>       <td>Converted</td>    <th>  No. Observations:  </th>  <td>  6320</td> \n",
              "</tr>\n",
              "<tr>\n",
              "  <th>Model:</th>                  <td>GLM</td>       <th>  Df Residuals:      </th>  <td>  6301</td> \n",
              "</tr>\n",
              "<tr>\n",
              "  <th>Model Family:</th>        <td>Binomial</td>     <th>  Df Model:          </th>  <td>    18</td> \n",
              "</tr>\n",
              "<tr>\n",
              "  <th>Link Function:</th>         <td>logit</td>      <th>  Scale:             </th> <td>  1.0000</td>\n",
              "</tr>\n",
              "<tr>\n",
              "  <th>Method:</th>                <td>IRLS</td>       <th>  Log-Likelihood:    </th> <td> -2513.3</td>\n",
              "</tr>\n",
              "<tr>\n",
              "  <th>Date:</th>            <td>Sun, 13 Nov 2022</td> <th>  Deviance:          </th> <td>  5026.7</td>\n",
              "</tr>\n",
              "<tr>\n",
              "  <th>Time:</th>                <td>09:56:15</td>     <th>  Pearson chi2:      </th> <td>6.54e+03</td>\n",
              "</tr>\n",
              "<tr>\n",
              "  <th>No. Iterations:</th>          <td>7</td>        <th>                     </th>     <td> </td>   \n",
              "</tr>\n",
              "<tr>\n",
              "  <th>Covariance Type:</th>     <td>nonrobust</td>    <th>                     </th>     <td> </td>   \n",
              "</tr>\n",
              "</table>\n",
              "<table class=\"simpletable\">\n",
              "<tr>\n",
              "                        <td></td>                          <th>coef</th>     <th>std err</th>      <th>z</th>      <th>P>|z|</th>  <th>[0.025</th>    <th>0.975]</th>  \n",
              "</tr>\n",
              "<tr>\n",
              "  <th>const</th>                                        <td>   -2.5270</td> <td>    0.153</td> <td>  -16.565</td> <td> 0.000</td> <td>   -2.826</td> <td>   -2.228</td>\n",
              "</tr>\n",
              "<tr>\n",
              "  <th>Do Not Email</th>                                 <td>   -1.1188</td> <td>    0.175</td> <td>   -6.380</td> <td> 0.000</td> <td>   -1.463</td> <td>   -0.775</td>\n",
              "</tr>\n",
              "<tr>\n",
              "  <th>TotalVisits</th>                                  <td>    1.7768</td> <td>    0.289</td> <td>    6.139</td> <td> 0.000</td> <td>    1.210</td> <td>    2.344</td>\n",
              "</tr>\n",
              "<tr>\n",
              "  <th>Total Time Spent on Website</th>                  <td>    4.5123</td> <td>    0.169</td> <td>   26.772</td> <td> 0.000</td> <td>    4.182</td> <td>    4.843</td>\n",
              "</tr>\n",
              "<tr>\n",
              "  <th>Page Views Per Visit</th>                         <td>   -0.8528</td> <td>    0.250</td> <td>   -3.414</td> <td> 0.001</td> <td>   -1.342</td> <td>   -0.363</td>\n",
              "</tr>\n",
              "<tr>\n",
              "  <th>Search</th>                                       <td>   -1.6358</td> <td>    1.011</td> <td>   -1.619</td> <td> 0.106</td> <td>   -3.617</td> <td>    0.345</td>\n",
              "</tr>\n",
              "<tr>\n",
              "  <th>LeadOrigin_Lead Add Form</th>                     <td>    3.0313</td> <td>    0.511</td> <td>    5.930</td> <td> 0.000</td> <td>    2.029</td> <td>    4.033</td>\n",
              "</tr>\n",
              "<tr>\n",
              "  <th>LeadSource_Olark Chat</th>                        <td>    1.4768</td> <td>    0.134</td> <td>   11.028</td> <td> 0.000</td> <td>    1.214</td> <td>    1.739</td>\n",
              "</tr>\n",
              "<tr>\n",
              "  <th>LeadSource_Reference</th>                         <td>    0.6579</td> <td>    0.539</td> <td>    1.220</td> <td> 0.223</td> <td>   -0.399</td> <td>    1.715</td>\n",
              "</tr>\n",
              "<tr>\n",
              "  <th>LeadSource_Welingak Website</th>                  <td>    2.6524</td> <td>    0.875</td> <td>    3.030</td> <td> 0.002</td> <td>    0.937</td> <td>    4.368</td>\n",
              "</tr>\n",
              "<tr>\n",
              "  <th>LastActivity_Email Opened</th>                    <td>    0.5166</td> <td>    0.116</td> <td>    4.440</td> <td> 0.000</td> <td>    0.289</td> <td>    0.745</td>\n",
              "</tr>\n",
              "<tr>\n",
              "  <th>LastActivity_Had a Phone Conversation</th>        <td>    1.1276</td> <td>    0.939</td> <td>    1.201</td> <td> 0.230</td> <td>   -0.712</td> <td>    2.967</td>\n",
              "</tr>\n",
              "<tr>\n",
              "  <th>LastActivity_Olark Chat Conversation</th>         <td>   -0.6290</td> <td>    0.189</td> <td>   -3.322</td> <td> 0.001</td> <td>   -1.000</td> <td>   -0.258</td>\n",
              "</tr>\n",
              "<tr>\n",
              "  <th>LastActivity_SMS Sent</th>                        <td>    1.7107</td> <td>    0.118</td> <td>   14.551</td> <td> 0.000</td> <td>    1.480</td> <td>    1.941</td>\n",
              "</tr>\n",
              "<tr>\n",
              "  <th>CurrentOccupation_No Information</th>             <td>   -1.2457</td> <td>    0.090</td> <td>  -13.822</td> <td> 0.000</td> <td>   -1.422</td> <td>   -1.069</td>\n",
              "</tr>\n",
              "<tr>\n",
              "  <th>CurrentOccupation_Working Professional</th>       <td>    2.6078</td> <td>    0.203</td> <td>   12.834</td> <td> 0.000</td> <td>    2.210</td> <td>    3.006</td>\n",
              "</tr>\n",
              "<tr>\n",
              "  <th>LastNotableActivity_Had a Phone Conversation</th> <td>    2.3999</td> <td>    1.501</td> <td>    1.598</td> <td> 0.110</td> <td>   -0.543</td> <td>    5.343</td>\n",
              "</tr>\n",
              "<tr>\n",
              "  <th>LastNotableActivity_Modified</th>                 <td>   -0.5378</td> <td>    0.090</td> <td>   -5.995</td> <td> 0.000</td> <td>   -0.714</td> <td>   -0.362</td>\n",
              "</tr>\n",
              "<tr>\n",
              "  <th>LastNotableActivity_Unreachable</th>              <td>    2.0149</td> <td>    0.556</td> <td>    3.621</td> <td> 0.000</td> <td>    0.924</td> <td>    3.105</td>\n",
              "</tr>\n",
              "</table>"
            ]
          },
          "metadata": {},
          "execution_count": 107
        }
      ],
      "source": [
        "X_train_sm = sm.add_constant(X_train[col])\n",
        "logm4 = sm.GLM(y_train,X_train_sm, family = sm.families.Binomial())\n",
        "res = logm4.fit()\n",
        "res.summary()"
      ]
    },
    {
      "cell_type": "markdown",
      "metadata": {
        "id": "G2AVCJjaZQit"
      },
      "source": [
        "Removing column LastActivity_Had a Phone Conversation as it has high pvalue and hence is insignificant"
      ]
    },
    {
      "cell_type": "code",
      "execution_count": 108,
      "metadata": {
        "id": "XTmoE_eZZQiu"
      },
      "outputs": [],
      "source": [
        "col = col.drop('LastActivity_Had a Phone Conversation',1)"
      ]
    },
    {
      "cell_type": "markdown",
      "metadata": {
        "id": "poMCpo5zZQiu"
      },
      "source": [
        "#### Rebuilding Model - Model 5"
      ]
    },
    {
      "cell_type": "code",
      "execution_count": 109,
      "metadata": {
        "colab": {
          "base_uri": "https://localhost:8080/",
          "height": 636
        },
        "id": "h5aXKpjBZQiu",
        "outputId": "38a81815-92e9-452a-dc35-b89e1635e562"
      },
      "outputs": [
        {
          "output_type": "execute_result",
          "data": {
            "text/plain": [
              "<class 'statsmodels.iolib.summary.Summary'>\n",
              "\"\"\"\n",
              "                 Generalized Linear Model Regression Results                  \n",
              "==============================================================================\n",
              "Dep. Variable:              Converted   No. Observations:                 6320\n",
              "Model:                            GLM   Df Residuals:                     6302\n",
              "Model Family:                Binomial   Df Model:                           17\n",
              "Link Function:                  logit   Scale:                          1.0000\n",
              "Method:                          IRLS   Log-Likelihood:                -2514.1\n",
              "Date:                Sun, 13 Nov 2022   Deviance:                       5028.2\n",
              "Time:                        09:56:20   Pearson chi2:                 6.30e+03\n",
              "No. Iterations:                     7                                         \n",
              "Covariance Type:            nonrobust                                         \n",
              "================================================================================================================\n",
              "                                                   coef    std err          z      P>|z|      [0.025      0.975]\n",
              "----------------------------------------------------------------------------------------------------------------\n",
              "const                                           -2.5174      0.152    -16.541      0.000      -2.816      -2.219\n",
              "Do Not Email                                    -1.1242      0.175     -6.414      0.000      -1.468      -0.781\n",
              "TotalVisits                                      1.7711      0.289      6.122      0.000       1.204       2.338\n",
              "Total Time Spent on Website                      4.5135      0.169     26.784      0.000       4.183       4.844\n",
              "Page Views Per Visit                            -0.8513      0.250     -3.409      0.001      -1.341      -0.362\n",
              "Search                                          -1.6344      1.011     -1.617      0.106      -3.615       0.346\n",
              "LeadOrigin_Lead Add Form                         3.0307      0.511      5.931      0.000       2.029       4.032\n",
              "LeadSource_Olark Chat                            1.4756      0.134     11.022      0.000       1.213       1.738\n",
              "LeadSource_Reference                             0.6636      0.539      1.231      0.219      -0.393       1.721\n",
              "LeadSource_Welingak Website                      2.6507      0.875      3.029      0.002       0.935       4.366\n",
              "LastActivity_Email Opened                        0.5072      0.116      4.373      0.000       0.280       0.735\n",
              "LastActivity_Olark Chat Conversation            -0.6397      0.189     -3.383      0.001      -1.010      -0.269\n",
              "LastActivity_SMS Sent                            1.7015      0.117     14.517      0.000       1.472       1.931\n",
              "CurrentOccupation_No Information                -1.2474      0.090    -13.845      0.000      -1.424      -1.071\n",
              "CurrentOccupation_Working Professional           2.6117      0.203     12.860      0.000       2.214       3.010\n",
              "LastNotableActivity_Had a Phone Conversation     3.5194      1.177      2.989      0.003       1.212       5.827\n",
              "LastNotableActivity_Modified                    -0.5343      0.090     -5.961      0.000      -0.710      -0.359\n",
              "LastNotableActivity_Unreachable                  2.0066      0.556      3.606      0.000       0.916       3.097\n",
              "================================================================================================================\n",
              "\"\"\""
            ],
            "text/html": [
              "<table class=\"simpletable\">\n",
              "<caption>Generalized Linear Model Regression Results</caption>\n",
              "<tr>\n",
              "  <th>Dep. Variable:</th>       <td>Converted</td>    <th>  No. Observations:  </th>  <td>  6320</td> \n",
              "</tr>\n",
              "<tr>\n",
              "  <th>Model:</th>                  <td>GLM</td>       <th>  Df Residuals:      </th>  <td>  6302</td> \n",
              "</tr>\n",
              "<tr>\n",
              "  <th>Model Family:</th>        <td>Binomial</td>     <th>  Df Model:          </th>  <td>    17</td> \n",
              "</tr>\n",
              "<tr>\n",
              "  <th>Link Function:</th>         <td>logit</td>      <th>  Scale:             </th> <td>  1.0000</td>\n",
              "</tr>\n",
              "<tr>\n",
              "  <th>Method:</th>                <td>IRLS</td>       <th>  Log-Likelihood:    </th> <td> -2514.1</td>\n",
              "</tr>\n",
              "<tr>\n",
              "  <th>Date:</th>            <td>Sun, 13 Nov 2022</td> <th>  Deviance:          </th> <td>  5028.2</td>\n",
              "</tr>\n",
              "<tr>\n",
              "  <th>Time:</th>                <td>09:56:20</td>     <th>  Pearson chi2:      </th> <td>6.30e+03</td>\n",
              "</tr>\n",
              "<tr>\n",
              "  <th>No. Iterations:</th>          <td>7</td>        <th>                     </th>     <td> </td>   \n",
              "</tr>\n",
              "<tr>\n",
              "  <th>Covariance Type:</th>     <td>nonrobust</td>    <th>                     </th>     <td> </td>   \n",
              "</tr>\n",
              "</table>\n",
              "<table class=\"simpletable\">\n",
              "<tr>\n",
              "                        <td></td>                          <th>coef</th>     <th>std err</th>      <th>z</th>      <th>P>|z|</th>  <th>[0.025</th>    <th>0.975]</th>  \n",
              "</tr>\n",
              "<tr>\n",
              "  <th>const</th>                                        <td>   -2.5174</td> <td>    0.152</td> <td>  -16.541</td> <td> 0.000</td> <td>   -2.816</td> <td>   -2.219</td>\n",
              "</tr>\n",
              "<tr>\n",
              "  <th>Do Not Email</th>                                 <td>   -1.1242</td> <td>    0.175</td> <td>   -6.414</td> <td> 0.000</td> <td>   -1.468</td> <td>   -0.781</td>\n",
              "</tr>\n",
              "<tr>\n",
              "  <th>TotalVisits</th>                                  <td>    1.7711</td> <td>    0.289</td> <td>    6.122</td> <td> 0.000</td> <td>    1.204</td> <td>    2.338</td>\n",
              "</tr>\n",
              "<tr>\n",
              "  <th>Total Time Spent on Website</th>                  <td>    4.5135</td> <td>    0.169</td> <td>   26.784</td> <td> 0.000</td> <td>    4.183</td> <td>    4.844</td>\n",
              "</tr>\n",
              "<tr>\n",
              "  <th>Page Views Per Visit</th>                         <td>   -0.8513</td> <td>    0.250</td> <td>   -3.409</td> <td> 0.001</td> <td>   -1.341</td> <td>   -0.362</td>\n",
              "</tr>\n",
              "<tr>\n",
              "  <th>Search</th>                                       <td>   -1.6344</td> <td>    1.011</td> <td>   -1.617</td> <td> 0.106</td> <td>   -3.615</td> <td>    0.346</td>\n",
              "</tr>\n",
              "<tr>\n",
              "  <th>LeadOrigin_Lead Add Form</th>                     <td>    3.0307</td> <td>    0.511</td> <td>    5.931</td> <td> 0.000</td> <td>    2.029</td> <td>    4.032</td>\n",
              "</tr>\n",
              "<tr>\n",
              "  <th>LeadSource_Olark Chat</th>                        <td>    1.4756</td> <td>    0.134</td> <td>   11.022</td> <td> 0.000</td> <td>    1.213</td> <td>    1.738</td>\n",
              "</tr>\n",
              "<tr>\n",
              "  <th>LeadSource_Reference</th>                         <td>    0.6636</td> <td>    0.539</td> <td>    1.231</td> <td> 0.219</td> <td>   -0.393</td> <td>    1.721</td>\n",
              "</tr>\n",
              "<tr>\n",
              "  <th>LeadSource_Welingak Website</th>                  <td>    2.6507</td> <td>    0.875</td> <td>    3.029</td> <td> 0.002</td> <td>    0.935</td> <td>    4.366</td>\n",
              "</tr>\n",
              "<tr>\n",
              "  <th>LastActivity_Email Opened</th>                    <td>    0.5072</td> <td>    0.116</td> <td>    4.373</td> <td> 0.000</td> <td>    0.280</td> <td>    0.735</td>\n",
              "</tr>\n",
              "<tr>\n",
              "  <th>LastActivity_Olark Chat Conversation</th>         <td>   -0.6397</td> <td>    0.189</td> <td>   -3.383</td> <td> 0.001</td> <td>   -1.010</td> <td>   -0.269</td>\n",
              "</tr>\n",
              "<tr>\n",
              "  <th>LastActivity_SMS Sent</th>                        <td>    1.7015</td> <td>    0.117</td> <td>   14.517</td> <td> 0.000</td> <td>    1.472</td> <td>    1.931</td>\n",
              "</tr>\n",
              "<tr>\n",
              "  <th>CurrentOccupation_No Information</th>             <td>   -1.2474</td> <td>    0.090</td> <td>  -13.845</td> <td> 0.000</td> <td>   -1.424</td> <td>   -1.071</td>\n",
              "</tr>\n",
              "<tr>\n",
              "  <th>CurrentOccupation_Working Professional</th>       <td>    2.6117</td> <td>    0.203</td> <td>   12.860</td> <td> 0.000</td> <td>    2.214</td> <td>    3.010</td>\n",
              "</tr>\n",
              "<tr>\n",
              "  <th>LastNotableActivity_Had a Phone Conversation</th> <td>    3.5194</td> <td>    1.177</td> <td>    2.989</td> <td> 0.003</td> <td>    1.212</td> <td>    5.827</td>\n",
              "</tr>\n",
              "<tr>\n",
              "  <th>LastNotableActivity_Modified</th>                 <td>   -0.5343</td> <td>    0.090</td> <td>   -5.961</td> <td> 0.000</td> <td>   -0.710</td> <td>   -0.359</td>\n",
              "</tr>\n",
              "<tr>\n",
              "  <th>LastNotableActivity_Unreachable</th>              <td>    2.0066</td> <td>    0.556</td> <td>    3.606</td> <td> 0.000</td> <td>    0.916</td> <td>    3.097</td>\n",
              "</tr>\n",
              "</table>"
            ]
          },
          "metadata": {},
          "execution_count": 109
        }
      ],
      "source": [
        "X_train_sm = sm.add_constant(X_train[col])\n",
        "logm5 = sm.GLM(y_train,X_train_sm, family = sm.families.Binomial())\n",
        "res = logm5.fit()\n",
        "res.summary()"
      ]
    },
    {
      "cell_type": "markdown",
      "metadata": {
        "id": "t3MX-4YJZQiu"
      },
      "source": [
        "Removing column LeadSource_Facebook as it has high pvalue and hence is insignificant "
      ]
    },
    {
      "cell_type": "code",
      "execution_count": 110,
      "metadata": {
        "colab": {
          "base_uri": "https://localhost:8080/",
          "height": 287
        },
        "id": "oedIf_z1ZQiu",
        "outputId": "f3004d04-e0ef-40c0-8896-925d4ed6aa24"
      },
      "outputs": [
        {
          "output_type": "error",
          "ename": "KeyError",
          "evalue": "ignored",
          "traceback": [
            "\u001b[0;31m---------------------------------------------------------------------------\u001b[0m",
            "\u001b[0;31mKeyError\u001b[0m                                  Traceback (most recent call last)",
            "\u001b[0;32m<ipython-input-110-66f2c421607e>\u001b[0m in \u001b[0;36m<module>\u001b[0;34m\u001b[0m\n\u001b[0;32m----> 1\u001b[0;31m \u001b[0mcol\u001b[0m \u001b[0;34m=\u001b[0m \u001b[0mcol\u001b[0m\u001b[0;34m.\u001b[0m\u001b[0mdrop\u001b[0m\u001b[0;34m(\u001b[0m\u001b[0;34m'LeadSource_Facebook'\u001b[0m\u001b[0;34m,\u001b[0m\u001b[0;36m1\u001b[0m\u001b[0;34m)\u001b[0m\u001b[0;34m\u001b[0m\u001b[0;34m\u001b[0m\u001b[0m\n\u001b[0m",
            "\u001b[0;32m/usr/local/lib/python3.7/dist-packages/pandas/core/indexes/base.py\u001b[0m in \u001b[0;36mdrop\u001b[0;34m(self, labels, errors)\u001b[0m\n\u001b[1;32m   6015\u001b[0m         \u001b[0;32mif\u001b[0m \u001b[0mmask\u001b[0m\u001b[0;34m.\u001b[0m\u001b[0many\u001b[0m\u001b[0;34m(\u001b[0m\u001b[0;34m)\u001b[0m\u001b[0;34m:\u001b[0m\u001b[0;34m\u001b[0m\u001b[0;34m\u001b[0m\u001b[0m\n\u001b[1;32m   6016\u001b[0m             \u001b[0;32mif\u001b[0m \u001b[0merrors\u001b[0m \u001b[0;34m!=\u001b[0m \u001b[0;34m\"ignore\"\u001b[0m\u001b[0;34m:\u001b[0m\u001b[0;34m\u001b[0m\u001b[0;34m\u001b[0m\u001b[0m\n\u001b[0;32m-> 6017\u001b[0;31m                 \u001b[0;32mraise\u001b[0m \u001b[0mKeyError\u001b[0m\u001b[0;34m(\u001b[0m\u001b[0;34mf\"{labels[mask]} not found in axis\"\u001b[0m\u001b[0;34m)\u001b[0m\u001b[0;34m\u001b[0m\u001b[0;34m\u001b[0m\u001b[0m\n\u001b[0m\u001b[1;32m   6018\u001b[0m             \u001b[0mindexer\u001b[0m \u001b[0;34m=\u001b[0m \u001b[0mindexer\u001b[0m\u001b[0;34m[\u001b[0m\u001b[0;34m~\u001b[0m\u001b[0mmask\u001b[0m\u001b[0;34m]\u001b[0m\u001b[0;34m\u001b[0m\u001b[0;34m\u001b[0m\u001b[0m\n\u001b[1;32m   6019\u001b[0m         \u001b[0;32mreturn\u001b[0m \u001b[0mself\u001b[0m\u001b[0;34m.\u001b[0m\u001b[0mdelete\u001b[0m\u001b[0;34m(\u001b[0m\u001b[0mindexer\u001b[0m\u001b[0;34m)\u001b[0m\u001b[0;34m\u001b[0m\u001b[0;34m\u001b[0m\u001b[0m\n",
            "\u001b[0;31mKeyError\u001b[0m: \"['LeadSource_Facebook'] not found in axis\""
          ]
        }
      ],
      "source": [
        "col = col.drop('LeadSource_Facebook',1)"
      ]
    },
    {
      "cell_type": "markdown",
      "metadata": {
        "id": "jVRM33DXZQiu"
      },
      "source": [
        "#### Rebuilding Model - Model 6"
      ]
    },
    {
      "cell_type": "code",
      "execution_count": 111,
      "metadata": {
        "colab": {
          "base_uri": "https://localhost:8080/",
          "height": 636
        },
        "id": "bNiv-ODkZQiu",
        "outputId": "ea46a523-f320-448f-9aaf-2bcab2b40650"
      },
      "outputs": [
        {
          "output_type": "execute_result",
          "data": {
            "text/plain": [
              "<class 'statsmodels.iolib.summary.Summary'>\n",
              "\"\"\"\n",
              "                 Generalized Linear Model Regression Results                  \n",
              "==============================================================================\n",
              "Dep. Variable:              Converted   No. Observations:                 6320\n",
              "Model:                            GLM   Df Residuals:                     6302\n",
              "Model Family:                Binomial   Df Model:                           17\n",
              "Link Function:                  logit   Scale:                          1.0000\n",
              "Method:                          IRLS   Log-Likelihood:                -2514.1\n",
              "Date:                Sun, 13 Nov 2022   Deviance:                       5028.2\n",
              "Time:                        09:56:25   Pearson chi2:                 6.30e+03\n",
              "No. Iterations:                     7                                         \n",
              "Covariance Type:            nonrobust                                         \n",
              "================================================================================================================\n",
              "                                                   coef    std err          z      P>|z|      [0.025      0.975]\n",
              "----------------------------------------------------------------------------------------------------------------\n",
              "const                                           -2.5174      0.152    -16.541      0.000      -2.816      -2.219\n",
              "Do Not Email                                    -1.1242      0.175     -6.414      0.000      -1.468      -0.781\n",
              "TotalVisits                                      1.7711      0.289      6.122      0.000       1.204       2.338\n",
              "Total Time Spent on Website                      4.5135      0.169     26.784      0.000       4.183       4.844\n",
              "Page Views Per Visit                            -0.8513      0.250     -3.409      0.001      -1.341      -0.362\n",
              "Search                                          -1.6344      1.011     -1.617      0.106      -3.615       0.346\n",
              "LeadOrigin_Lead Add Form                         3.0307      0.511      5.931      0.000       2.029       4.032\n",
              "LeadSource_Olark Chat                            1.4756      0.134     11.022      0.000       1.213       1.738\n",
              "LeadSource_Reference                             0.6636      0.539      1.231      0.219      -0.393       1.721\n",
              "LeadSource_Welingak Website                      2.6507      0.875      3.029      0.002       0.935       4.366\n",
              "LastActivity_Email Opened                        0.5072      0.116      4.373      0.000       0.280       0.735\n",
              "LastActivity_Olark Chat Conversation            -0.6397      0.189     -3.383      0.001      -1.010      -0.269\n",
              "LastActivity_SMS Sent                            1.7015      0.117     14.517      0.000       1.472       1.931\n",
              "CurrentOccupation_No Information                -1.2474      0.090    -13.845      0.000      -1.424      -1.071\n",
              "CurrentOccupation_Working Professional           2.6117      0.203     12.860      0.000       2.214       3.010\n",
              "LastNotableActivity_Had a Phone Conversation     3.5194      1.177      2.989      0.003       1.212       5.827\n",
              "LastNotableActivity_Modified                    -0.5343      0.090     -5.961      0.000      -0.710      -0.359\n",
              "LastNotableActivity_Unreachable                  2.0066      0.556      3.606      0.000       0.916       3.097\n",
              "================================================================================================================\n",
              "\"\"\""
            ],
            "text/html": [
              "<table class=\"simpletable\">\n",
              "<caption>Generalized Linear Model Regression Results</caption>\n",
              "<tr>\n",
              "  <th>Dep. Variable:</th>       <td>Converted</td>    <th>  No. Observations:  </th>  <td>  6320</td> \n",
              "</tr>\n",
              "<tr>\n",
              "  <th>Model:</th>                  <td>GLM</td>       <th>  Df Residuals:      </th>  <td>  6302</td> \n",
              "</tr>\n",
              "<tr>\n",
              "  <th>Model Family:</th>        <td>Binomial</td>     <th>  Df Model:          </th>  <td>    17</td> \n",
              "</tr>\n",
              "<tr>\n",
              "  <th>Link Function:</th>         <td>logit</td>      <th>  Scale:             </th> <td>  1.0000</td>\n",
              "</tr>\n",
              "<tr>\n",
              "  <th>Method:</th>                <td>IRLS</td>       <th>  Log-Likelihood:    </th> <td> -2514.1</td>\n",
              "</tr>\n",
              "<tr>\n",
              "  <th>Date:</th>            <td>Sun, 13 Nov 2022</td> <th>  Deviance:          </th> <td>  5028.2</td>\n",
              "</tr>\n",
              "<tr>\n",
              "  <th>Time:</th>                <td>09:56:25</td>     <th>  Pearson chi2:      </th> <td>6.30e+03</td>\n",
              "</tr>\n",
              "<tr>\n",
              "  <th>No. Iterations:</th>          <td>7</td>        <th>                     </th>     <td> </td>   \n",
              "</tr>\n",
              "<tr>\n",
              "  <th>Covariance Type:</th>     <td>nonrobust</td>    <th>                     </th>     <td> </td>   \n",
              "</tr>\n",
              "</table>\n",
              "<table class=\"simpletable\">\n",
              "<tr>\n",
              "                        <td></td>                          <th>coef</th>     <th>std err</th>      <th>z</th>      <th>P>|z|</th>  <th>[0.025</th>    <th>0.975]</th>  \n",
              "</tr>\n",
              "<tr>\n",
              "  <th>const</th>                                        <td>   -2.5174</td> <td>    0.152</td> <td>  -16.541</td> <td> 0.000</td> <td>   -2.816</td> <td>   -2.219</td>\n",
              "</tr>\n",
              "<tr>\n",
              "  <th>Do Not Email</th>                                 <td>   -1.1242</td> <td>    0.175</td> <td>   -6.414</td> <td> 0.000</td> <td>   -1.468</td> <td>   -0.781</td>\n",
              "</tr>\n",
              "<tr>\n",
              "  <th>TotalVisits</th>                                  <td>    1.7711</td> <td>    0.289</td> <td>    6.122</td> <td> 0.000</td> <td>    1.204</td> <td>    2.338</td>\n",
              "</tr>\n",
              "<tr>\n",
              "  <th>Total Time Spent on Website</th>                  <td>    4.5135</td> <td>    0.169</td> <td>   26.784</td> <td> 0.000</td> <td>    4.183</td> <td>    4.844</td>\n",
              "</tr>\n",
              "<tr>\n",
              "  <th>Page Views Per Visit</th>                         <td>   -0.8513</td> <td>    0.250</td> <td>   -3.409</td> <td> 0.001</td> <td>   -1.341</td> <td>   -0.362</td>\n",
              "</tr>\n",
              "<tr>\n",
              "  <th>Search</th>                                       <td>   -1.6344</td> <td>    1.011</td> <td>   -1.617</td> <td> 0.106</td> <td>   -3.615</td> <td>    0.346</td>\n",
              "</tr>\n",
              "<tr>\n",
              "  <th>LeadOrigin_Lead Add Form</th>                     <td>    3.0307</td> <td>    0.511</td> <td>    5.931</td> <td> 0.000</td> <td>    2.029</td> <td>    4.032</td>\n",
              "</tr>\n",
              "<tr>\n",
              "  <th>LeadSource_Olark Chat</th>                        <td>    1.4756</td> <td>    0.134</td> <td>   11.022</td> <td> 0.000</td> <td>    1.213</td> <td>    1.738</td>\n",
              "</tr>\n",
              "<tr>\n",
              "  <th>LeadSource_Reference</th>                         <td>    0.6636</td> <td>    0.539</td> <td>    1.231</td> <td> 0.219</td> <td>   -0.393</td> <td>    1.721</td>\n",
              "</tr>\n",
              "<tr>\n",
              "  <th>LeadSource_Welingak Website</th>                  <td>    2.6507</td> <td>    0.875</td> <td>    3.029</td> <td> 0.002</td> <td>    0.935</td> <td>    4.366</td>\n",
              "</tr>\n",
              "<tr>\n",
              "  <th>LastActivity_Email Opened</th>                    <td>    0.5072</td> <td>    0.116</td> <td>    4.373</td> <td> 0.000</td> <td>    0.280</td> <td>    0.735</td>\n",
              "</tr>\n",
              "<tr>\n",
              "  <th>LastActivity_Olark Chat Conversation</th>         <td>   -0.6397</td> <td>    0.189</td> <td>   -3.383</td> <td> 0.001</td> <td>   -1.010</td> <td>   -0.269</td>\n",
              "</tr>\n",
              "<tr>\n",
              "  <th>LastActivity_SMS Sent</th>                        <td>    1.7015</td> <td>    0.117</td> <td>   14.517</td> <td> 0.000</td> <td>    1.472</td> <td>    1.931</td>\n",
              "</tr>\n",
              "<tr>\n",
              "  <th>CurrentOccupation_No Information</th>             <td>   -1.2474</td> <td>    0.090</td> <td>  -13.845</td> <td> 0.000</td> <td>   -1.424</td> <td>   -1.071</td>\n",
              "</tr>\n",
              "<tr>\n",
              "  <th>CurrentOccupation_Working Professional</th>       <td>    2.6117</td> <td>    0.203</td> <td>   12.860</td> <td> 0.000</td> <td>    2.214</td> <td>    3.010</td>\n",
              "</tr>\n",
              "<tr>\n",
              "  <th>LastNotableActivity_Had a Phone Conversation</th> <td>    3.5194</td> <td>    1.177</td> <td>    2.989</td> <td> 0.003</td> <td>    1.212</td> <td>    5.827</td>\n",
              "</tr>\n",
              "<tr>\n",
              "  <th>LastNotableActivity_Modified</th>                 <td>   -0.5343</td> <td>    0.090</td> <td>   -5.961</td> <td> 0.000</td> <td>   -0.710</td> <td>   -0.359</td>\n",
              "</tr>\n",
              "<tr>\n",
              "  <th>LastNotableActivity_Unreachable</th>              <td>    2.0066</td> <td>    0.556</td> <td>    3.606</td> <td> 0.000</td> <td>    0.916</td> <td>    3.097</td>\n",
              "</tr>\n",
              "</table>"
            ]
          },
          "metadata": {},
          "execution_count": 111
        }
      ],
      "source": [
        "X_train_sm = sm.add_constant(X_train[col])\n",
        "logm6 = sm.GLM(y_train,X_train_sm, family = sm.families.Binomial())\n",
        "res = logm6.fit()\n",
        "res.summary()"
      ]
    },
    {
      "cell_type": "markdown",
      "metadata": {
        "id": "vHOHZoPbZQiu"
      },
      "source": [
        "Removing column LeadOrigin_API as it has high pvalue and hence insignificant"
      ]
    },
    {
      "cell_type": "code",
      "execution_count": null,
      "metadata": {
        "id": "uFbI7ptoZQiv"
      },
      "outputs": [],
      "source": [
        "col = col.drop('LeadOrigin_API',1)"
      ]
    },
    {
      "cell_type": "markdown",
      "metadata": {
        "id": "Qtkv_Wn2ZQiv"
      },
      "source": [
        "#### Rebuilding Model - Model 7"
      ]
    },
    {
      "cell_type": "code",
      "execution_count": 114,
      "metadata": {
        "colab": {
          "base_uri": "https://localhost:8080/",
          "height": 636
        },
        "id": "2lmYl3OPZQiv",
        "outputId": "b9e62da4-e1a4-4e5e-d199-e73c93fb55e9"
      },
      "outputs": [
        {
          "output_type": "execute_result",
          "data": {
            "text/plain": [
              "<class 'statsmodels.iolib.summary.Summary'>\n",
              "\"\"\"\n",
              "                 Generalized Linear Model Regression Results                  \n",
              "==============================================================================\n",
              "Dep. Variable:              Converted   No. Observations:                 6320\n",
              "Model:                            GLM   Df Residuals:                     6302\n",
              "Model Family:                Binomial   Df Model:                           17\n",
              "Link Function:                  logit   Scale:                          1.0000\n",
              "Method:                          IRLS   Log-Likelihood:                -2514.1\n",
              "Date:                Sun, 13 Nov 2022   Deviance:                       5028.2\n",
              "Time:                        09:56:51   Pearson chi2:                 6.30e+03\n",
              "No. Iterations:                     7                                         \n",
              "Covariance Type:            nonrobust                                         \n",
              "================================================================================================================\n",
              "                                                   coef    std err          z      P>|z|      [0.025      0.975]\n",
              "----------------------------------------------------------------------------------------------------------------\n",
              "const                                           -2.5174      0.152    -16.541      0.000      -2.816      -2.219\n",
              "Do Not Email                                    -1.1242      0.175     -6.414      0.000      -1.468      -0.781\n",
              "TotalVisits                                      1.7711      0.289      6.122      0.000       1.204       2.338\n",
              "Total Time Spent on Website                      4.5135      0.169     26.784      0.000       4.183       4.844\n",
              "Page Views Per Visit                            -0.8513      0.250     -3.409      0.001      -1.341      -0.362\n",
              "Search                                          -1.6344      1.011     -1.617      0.106      -3.615       0.346\n",
              "LeadOrigin_Lead Add Form                         3.0307      0.511      5.931      0.000       2.029       4.032\n",
              "LeadSource_Olark Chat                            1.4756      0.134     11.022      0.000       1.213       1.738\n",
              "LeadSource_Reference                             0.6636      0.539      1.231      0.219      -0.393       1.721\n",
              "LeadSource_Welingak Website                      2.6507      0.875      3.029      0.002       0.935       4.366\n",
              "LastActivity_Email Opened                        0.5072      0.116      4.373      0.000       0.280       0.735\n",
              "LastActivity_Olark Chat Conversation            -0.6397      0.189     -3.383      0.001      -1.010      -0.269\n",
              "LastActivity_SMS Sent                            1.7015      0.117     14.517      0.000       1.472       1.931\n",
              "CurrentOccupation_No Information                -1.2474      0.090    -13.845      0.000      -1.424      -1.071\n",
              "CurrentOccupation_Working Professional           2.6117      0.203     12.860      0.000       2.214       3.010\n",
              "LastNotableActivity_Had a Phone Conversation     3.5194      1.177      2.989      0.003       1.212       5.827\n",
              "LastNotableActivity_Modified                    -0.5343      0.090     -5.961      0.000      -0.710      -0.359\n",
              "LastNotableActivity_Unreachable                  2.0066      0.556      3.606      0.000       0.916       3.097\n",
              "================================================================================================================\n",
              "\"\"\""
            ],
            "text/html": [
              "<table class=\"simpletable\">\n",
              "<caption>Generalized Linear Model Regression Results</caption>\n",
              "<tr>\n",
              "  <th>Dep. Variable:</th>       <td>Converted</td>    <th>  No. Observations:  </th>  <td>  6320</td> \n",
              "</tr>\n",
              "<tr>\n",
              "  <th>Model:</th>                  <td>GLM</td>       <th>  Df Residuals:      </th>  <td>  6302</td> \n",
              "</tr>\n",
              "<tr>\n",
              "  <th>Model Family:</th>        <td>Binomial</td>     <th>  Df Model:          </th>  <td>    17</td> \n",
              "</tr>\n",
              "<tr>\n",
              "  <th>Link Function:</th>         <td>logit</td>      <th>  Scale:             </th> <td>  1.0000</td>\n",
              "</tr>\n",
              "<tr>\n",
              "  <th>Method:</th>                <td>IRLS</td>       <th>  Log-Likelihood:    </th> <td> -2514.1</td>\n",
              "</tr>\n",
              "<tr>\n",
              "  <th>Date:</th>            <td>Sun, 13 Nov 2022</td> <th>  Deviance:          </th> <td>  5028.2</td>\n",
              "</tr>\n",
              "<tr>\n",
              "  <th>Time:</th>                <td>09:56:51</td>     <th>  Pearson chi2:      </th> <td>6.30e+03</td>\n",
              "</tr>\n",
              "<tr>\n",
              "  <th>No. Iterations:</th>          <td>7</td>        <th>                     </th>     <td> </td>   \n",
              "</tr>\n",
              "<tr>\n",
              "  <th>Covariance Type:</th>     <td>nonrobust</td>    <th>                     </th>     <td> </td>   \n",
              "</tr>\n",
              "</table>\n",
              "<table class=\"simpletable\">\n",
              "<tr>\n",
              "                        <td></td>                          <th>coef</th>     <th>std err</th>      <th>z</th>      <th>P>|z|</th>  <th>[0.025</th>    <th>0.975]</th>  \n",
              "</tr>\n",
              "<tr>\n",
              "  <th>const</th>                                        <td>   -2.5174</td> <td>    0.152</td> <td>  -16.541</td> <td> 0.000</td> <td>   -2.816</td> <td>   -2.219</td>\n",
              "</tr>\n",
              "<tr>\n",
              "  <th>Do Not Email</th>                                 <td>   -1.1242</td> <td>    0.175</td> <td>   -6.414</td> <td> 0.000</td> <td>   -1.468</td> <td>   -0.781</td>\n",
              "</tr>\n",
              "<tr>\n",
              "  <th>TotalVisits</th>                                  <td>    1.7711</td> <td>    0.289</td> <td>    6.122</td> <td> 0.000</td> <td>    1.204</td> <td>    2.338</td>\n",
              "</tr>\n",
              "<tr>\n",
              "  <th>Total Time Spent on Website</th>                  <td>    4.5135</td> <td>    0.169</td> <td>   26.784</td> <td> 0.000</td> <td>    4.183</td> <td>    4.844</td>\n",
              "</tr>\n",
              "<tr>\n",
              "  <th>Page Views Per Visit</th>                         <td>   -0.8513</td> <td>    0.250</td> <td>   -3.409</td> <td> 0.001</td> <td>   -1.341</td> <td>   -0.362</td>\n",
              "</tr>\n",
              "<tr>\n",
              "  <th>Search</th>                                       <td>   -1.6344</td> <td>    1.011</td> <td>   -1.617</td> <td> 0.106</td> <td>   -3.615</td> <td>    0.346</td>\n",
              "</tr>\n",
              "<tr>\n",
              "  <th>LeadOrigin_Lead Add Form</th>                     <td>    3.0307</td> <td>    0.511</td> <td>    5.931</td> <td> 0.000</td> <td>    2.029</td> <td>    4.032</td>\n",
              "</tr>\n",
              "<tr>\n",
              "  <th>LeadSource_Olark Chat</th>                        <td>    1.4756</td> <td>    0.134</td> <td>   11.022</td> <td> 0.000</td> <td>    1.213</td> <td>    1.738</td>\n",
              "</tr>\n",
              "<tr>\n",
              "  <th>LeadSource_Reference</th>                         <td>    0.6636</td> <td>    0.539</td> <td>    1.231</td> <td> 0.219</td> <td>   -0.393</td> <td>    1.721</td>\n",
              "</tr>\n",
              "<tr>\n",
              "  <th>LeadSource_Welingak Website</th>                  <td>    2.6507</td> <td>    0.875</td> <td>    3.029</td> <td> 0.002</td> <td>    0.935</td> <td>    4.366</td>\n",
              "</tr>\n",
              "<tr>\n",
              "  <th>LastActivity_Email Opened</th>                    <td>    0.5072</td> <td>    0.116</td> <td>    4.373</td> <td> 0.000</td> <td>    0.280</td> <td>    0.735</td>\n",
              "</tr>\n",
              "<tr>\n",
              "  <th>LastActivity_Olark Chat Conversation</th>         <td>   -0.6397</td> <td>    0.189</td> <td>   -3.383</td> <td> 0.001</td> <td>   -1.010</td> <td>   -0.269</td>\n",
              "</tr>\n",
              "<tr>\n",
              "  <th>LastActivity_SMS Sent</th>                        <td>    1.7015</td> <td>    0.117</td> <td>   14.517</td> <td> 0.000</td> <td>    1.472</td> <td>    1.931</td>\n",
              "</tr>\n",
              "<tr>\n",
              "  <th>CurrentOccupation_No Information</th>             <td>   -1.2474</td> <td>    0.090</td> <td>  -13.845</td> <td> 0.000</td> <td>   -1.424</td> <td>   -1.071</td>\n",
              "</tr>\n",
              "<tr>\n",
              "  <th>CurrentOccupation_Working Professional</th>       <td>    2.6117</td> <td>    0.203</td> <td>   12.860</td> <td> 0.000</td> <td>    2.214</td> <td>    3.010</td>\n",
              "</tr>\n",
              "<tr>\n",
              "  <th>LastNotableActivity_Had a Phone Conversation</th> <td>    3.5194</td> <td>    1.177</td> <td>    2.989</td> <td> 0.003</td> <td>    1.212</td> <td>    5.827</td>\n",
              "</tr>\n",
              "<tr>\n",
              "  <th>LastNotableActivity_Modified</th>                 <td>   -0.5343</td> <td>    0.090</td> <td>   -5.961</td> <td> 0.000</td> <td>   -0.710</td> <td>   -0.359</td>\n",
              "</tr>\n",
              "<tr>\n",
              "  <th>LastNotableActivity_Unreachable</th>              <td>    2.0066</td> <td>    0.556</td> <td>    3.606</td> <td> 0.000</td> <td>    0.916</td> <td>    3.097</td>\n",
              "</tr>\n",
              "</table>"
            ]
          },
          "metadata": {},
          "execution_count": 114
        }
      ],
      "source": [
        "X_train_sm = sm.add_constant(X_train[col])\n",
        "logm7 = sm.GLM(y_train,X_train_sm, family = sm.families.Binomial())\n",
        "res = logm7.fit()\n",
        "res.summary()"
      ]
    },
    {
      "cell_type": "markdown",
      "metadata": {
        "id": "kEKtby0LZQiv"
      },
      "source": [
        "Since the Model 7 seems to be stable with significant pvalues, we shall go ahead with this model for further analysis"
      ]
    },
    {
      "cell_type": "code",
      "execution_count": 115,
      "metadata": {
        "colab": {
          "base_uri": "https://localhost:8080/"
        },
        "id": "OS-3T38SZQiv",
        "outputId": "6e31d810-4082-4e5e-d378-5d221b591fea"
      },
      "outputs": [
        {
          "output_type": "execute_result",
          "data": {
            "text/plain": [
              "2240    0.692702\n",
              "113     0.539386\n",
              "4132    0.720771\n",
              "5573    0.133389\n",
              "1109    0.014007\n",
              "2282    0.031465\n",
              "2976    0.863533\n",
              "8431    0.401482\n",
              "2770    0.759476\n",
              "5790    0.995890\n",
              "dtype: float64"
            ]
          },
          "metadata": {},
          "execution_count": 115
        }
      ],
      "source": [
        "# Getting the predicted values on the train set\n",
        "\n",
        "y_train_pred = res.predict(X_train_sm)\n",
        "y_train_pred[:10]"
      ]
    },
    {
      "cell_type": "code",
      "execution_count": 116,
      "metadata": {
        "colab": {
          "base_uri": "https://localhost:8080/"
        },
        "id": "3mfkCjAhZQiw",
        "outputId": "57a1771e-b5a3-4989-a2da-db43133cf79c"
      },
      "outputs": [
        {
          "output_type": "execute_result",
          "data": {
            "text/plain": [
              "array([0.69270159, 0.53938638, 0.72077059, 0.13338936, 0.01400685,\n",
              "       0.03146497, 0.86353284, 0.40148225, 0.75947603, 0.99588963])"
            ]
          },
          "metadata": {},
          "execution_count": 116
        }
      ],
      "source": [
        "# Reshape\n",
        "\n",
        "y_train_pred = y_train_pred.values.reshape(-1)\n",
        "y_train_pred[:10]"
      ]
    },
    {
      "cell_type": "markdown",
      "metadata": {
        "id": "v3ddfapWZQiw"
      },
      "source": [
        "##### Creating a dataframe with the actual converted flag and the predicted probabilities"
      ]
    },
    {
      "cell_type": "code",
      "execution_count": 117,
      "metadata": {
        "colab": {
          "base_uri": "https://localhost:8080/",
          "height": 206
        },
        "id": "AscjaJHCZQiw",
        "outputId": "6d8b38c1-0bbb-40c6-a8b6-6a2c021c988b"
      },
      "outputs": [
        {
          "output_type": "execute_result",
          "data": {
            "text/plain": [
              "   Converted  Converted_Prob  LeadId\n",
              "0          0        0.692702    2240\n",
              "1          0        0.539386     113\n",
              "2          1        0.720771    4132\n",
              "3          0        0.133389    5573\n",
              "4          0        0.014007    1109"
            ],
            "text/html": [
              "\n",
              "  <div id=\"df-55b7f10e-70dd-4386-a6c4-37416c451eea\">\n",
              "    <div class=\"colab-df-container\">\n",
              "      <div>\n",
              "<style scoped>\n",
              "    .dataframe tbody tr th:only-of-type {\n",
              "        vertical-align: middle;\n",
              "    }\n",
              "\n",
              "    .dataframe tbody tr th {\n",
              "        vertical-align: top;\n",
              "    }\n",
              "\n",
              "    .dataframe thead th {\n",
              "        text-align: right;\n",
              "    }\n",
              "</style>\n",
              "<table border=\"1\" class=\"dataframe\">\n",
              "  <thead>\n",
              "    <tr style=\"text-align: right;\">\n",
              "      <th></th>\n",
              "      <th>Converted</th>\n",
              "      <th>Converted_Prob</th>\n",
              "      <th>LeadId</th>\n",
              "    </tr>\n",
              "  </thead>\n",
              "  <tbody>\n",
              "    <tr>\n",
              "      <th>0</th>\n",
              "      <td>0</td>\n",
              "      <td>0.692702</td>\n",
              "      <td>2240</td>\n",
              "    </tr>\n",
              "    <tr>\n",
              "      <th>1</th>\n",
              "      <td>0</td>\n",
              "      <td>0.539386</td>\n",
              "      <td>113</td>\n",
              "    </tr>\n",
              "    <tr>\n",
              "      <th>2</th>\n",
              "      <td>1</td>\n",
              "      <td>0.720771</td>\n",
              "      <td>4132</td>\n",
              "    </tr>\n",
              "    <tr>\n",
              "      <th>3</th>\n",
              "      <td>0</td>\n",
              "      <td>0.133389</td>\n",
              "      <td>5573</td>\n",
              "    </tr>\n",
              "    <tr>\n",
              "      <th>4</th>\n",
              "      <td>0</td>\n",
              "      <td>0.014007</td>\n",
              "      <td>1109</td>\n",
              "    </tr>\n",
              "  </tbody>\n",
              "</table>\n",
              "</div>\n",
              "      <button class=\"colab-df-convert\" onclick=\"convertToInteractive('df-55b7f10e-70dd-4386-a6c4-37416c451eea')\"\n",
              "              title=\"Convert this dataframe to an interactive table.\"\n",
              "              style=\"display:none;\">\n",
              "        \n",
              "  <svg xmlns=\"http://www.w3.org/2000/svg\" height=\"24px\"viewBox=\"0 0 24 24\"\n",
              "       width=\"24px\">\n",
              "    <path d=\"M0 0h24v24H0V0z\" fill=\"none\"/>\n",
              "    <path d=\"M18.56 5.44l.94 2.06.94-2.06 2.06-.94-2.06-.94-.94-2.06-.94 2.06-2.06.94zm-11 1L8.5 8.5l.94-2.06 2.06-.94-2.06-.94L8.5 2.5l-.94 2.06-2.06.94zm10 10l.94 2.06.94-2.06 2.06-.94-2.06-.94-.94-2.06-.94 2.06-2.06.94z\"/><path d=\"M17.41 7.96l-1.37-1.37c-.4-.4-.92-.59-1.43-.59-.52 0-1.04.2-1.43.59L10.3 9.45l-7.72 7.72c-.78.78-.78 2.05 0 2.83L4 21.41c.39.39.9.59 1.41.59.51 0 1.02-.2 1.41-.59l7.78-7.78 2.81-2.81c.8-.78.8-2.07 0-2.86zM5.41 20L4 18.59l7.72-7.72 1.47 1.35L5.41 20z\"/>\n",
              "  </svg>\n",
              "      </button>\n",
              "      \n",
              "  <style>\n",
              "    .colab-df-container {\n",
              "      display:flex;\n",
              "      flex-wrap:wrap;\n",
              "      gap: 12px;\n",
              "    }\n",
              "\n",
              "    .colab-df-convert {\n",
              "      background-color: #E8F0FE;\n",
              "      border: none;\n",
              "      border-radius: 50%;\n",
              "      cursor: pointer;\n",
              "      display: none;\n",
              "      fill: #1967D2;\n",
              "      height: 32px;\n",
              "      padding: 0 0 0 0;\n",
              "      width: 32px;\n",
              "    }\n",
              "\n",
              "    .colab-df-convert:hover {\n",
              "      background-color: #E2EBFA;\n",
              "      box-shadow: 0px 1px 2px rgba(60, 64, 67, 0.3), 0px 1px 3px 1px rgba(60, 64, 67, 0.15);\n",
              "      fill: #174EA6;\n",
              "    }\n",
              "\n",
              "    [theme=dark] .colab-df-convert {\n",
              "      background-color: #3B4455;\n",
              "      fill: #D2E3FC;\n",
              "    }\n",
              "\n",
              "    [theme=dark] .colab-df-convert:hover {\n",
              "      background-color: #434B5C;\n",
              "      box-shadow: 0px 1px 3px 1px rgba(0, 0, 0, 0.15);\n",
              "      filter: drop-shadow(0px 1px 2px rgba(0, 0, 0, 0.3));\n",
              "      fill: #FFFFFF;\n",
              "    }\n",
              "  </style>\n",
              "\n",
              "      <script>\n",
              "        const buttonEl =\n",
              "          document.querySelector('#df-55b7f10e-70dd-4386-a6c4-37416c451eea button.colab-df-convert');\n",
              "        buttonEl.style.display =\n",
              "          google.colab.kernel.accessAllowed ? 'block' : 'none';\n",
              "\n",
              "        async function convertToInteractive(key) {\n",
              "          const element = document.querySelector('#df-55b7f10e-70dd-4386-a6c4-37416c451eea');\n",
              "          const dataTable =\n",
              "            await google.colab.kernel.invokeFunction('convertToInteractive',\n",
              "                                                     [key], {});\n",
              "          if (!dataTable) return;\n",
              "\n",
              "          const docLinkHtml = 'Like what you see? Visit the ' +\n",
              "            '<a target=\"_blank\" href=https://colab.research.google.com/notebooks/data_table.ipynb>data table notebook</a>'\n",
              "            + ' to learn more about interactive tables.';\n",
              "          element.innerHTML = '';\n",
              "          dataTable['output_type'] = 'display_data';\n",
              "          await google.colab.output.renderOutput(dataTable, element);\n",
              "          const docLink = document.createElement('div');\n",
              "          docLink.innerHTML = docLinkHtml;\n",
              "          element.appendChild(docLink);\n",
              "        }\n",
              "      </script>\n",
              "    </div>\n",
              "  </div>\n",
              "  "
            ]
          },
          "metadata": {},
          "execution_count": 117
        }
      ],
      "source": [
        "y_train_pred_final = pd.DataFrame({'Converted':y_train.values, 'Converted_Prob':y_train_pred})\n",
        "y_train_pred_final['LeadId'] = y_train.index\n",
        "y_train_pred_final.head()"
      ]
    },
    {
      "cell_type": "markdown",
      "metadata": {
        "id": "b1MyMWD1ZQix"
      },
      "source": [
        "##### Creating new column 'predicted' with 1 if Converted_Prob > 0.5 else 0"
      ]
    },
    {
      "cell_type": "code",
      "execution_count": 118,
      "metadata": {
        "colab": {
          "base_uri": "https://localhost:8080/",
          "height": 206
        },
        "id": "qweOtbeVZQiy",
        "outputId": "71957446-758f-4463-b021-acf5030abc0d"
      },
      "outputs": [
        {
          "output_type": "execute_result",
          "data": {
            "text/plain": [
              "   Converted  Converted_Prob  LeadId  predicted\n",
              "0          0        0.692702    2240          1\n",
              "1          0        0.539386     113          1\n",
              "2          1        0.720771    4132          1\n",
              "3          0        0.133389    5573          0\n",
              "4          0        0.014007    1109          0"
            ],
            "text/html": [
              "\n",
              "  <div id=\"df-fe04ba31-273f-4992-a97b-d07977778c1c\">\n",
              "    <div class=\"colab-df-container\">\n",
              "      <div>\n",
              "<style scoped>\n",
              "    .dataframe tbody tr th:only-of-type {\n",
              "        vertical-align: middle;\n",
              "    }\n",
              "\n",
              "    .dataframe tbody tr th {\n",
              "        vertical-align: top;\n",
              "    }\n",
              "\n",
              "    .dataframe thead th {\n",
              "        text-align: right;\n",
              "    }\n",
              "</style>\n",
              "<table border=\"1\" class=\"dataframe\">\n",
              "  <thead>\n",
              "    <tr style=\"text-align: right;\">\n",
              "      <th></th>\n",
              "      <th>Converted</th>\n",
              "      <th>Converted_Prob</th>\n",
              "      <th>LeadId</th>\n",
              "      <th>predicted</th>\n",
              "    </tr>\n",
              "  </thead>\n",
              "  <tbody>\n",
              "    <tr>\n",
              "      <th>0</th>\n",
              "      <td>0</td>\n",
              "      <td>0.692702</td>\n",
              "      <td>2240</td>\n",
              "      <td>1</td>\n",
              "    </tr>\n",
              "    <tr>\n",
              "      <th>1</th>\n",
              "      <td>0</td>\n",
              "      <td>0.539386</td>\n",
              "      <td>113</td>\n",
              "      <td>1</td>\n",
              "    </tr>\n",
              "    <tr>\n",
              "      <th>2</th>\n",
              "      <td>1</td>\n",
              "      <td>0.720771</td>\n",
              "      <td>4132</td>\n",
              "      <td>1</td>\n",
              "    </tr>\n",
              "    <tr>\n",
              "      <th>3</th>\n",
              "      <td>0</td>\n",
              "      <td>0.133389</td>\n",
              "      <td>5573</td>\n",
              "      <td>0</td>\n",
              "    </tr>\n",
              "    <tr>\n",
              "      <th>4</th>\n",
              "      <td>0</td>\n",
              "      <td>0.014007</td>\n",
              "      <td>1109</td>\n",
              "      <td>0</td>\n",
              "    </tr>\n",
              "  </tbody>\n",
              "</table>\n",
              "</div>\n",
              "      <button class=\"colab-df-convert\" onclick=\"convertToInteractive('df-fe04ba31-273f-4992-a97b-d07977778c1c')\"\n",
              "              title=\"Convert this dataframe to an interactive table.\"\n",
              "              style=\"display:none;\">\n",
              "        \n",
              "  <svg xmlns=\"http://www.w3.org/2000/svg\" height=\"24px\"viewBox=\"0 0 24 24\"\n",
              "       width=\"24px\">\n",
              "    <path d=\"M0 0h24v24H0V0z\" fill=\"none\"/>\n",
              "    <path d=\"M18.56 5.44l.94 2.06.94-2.06 2.06-.94-2.06-.94-.94-2.06-.94 2.06-2.06.94zm-11 1L8.5 8.5l.94-2.06 2.06-.94-2.06-.94L8.5 2.5l-.94 2.06-2.06.94zm10 10l.94 2.06.94-2.06 2.06-.94-2.06-.94-.94-2.06-.94 2.06-2.06.94z\"/><path d=\"M17.41 7.96l-1.37-1.37c-.4-.4-.92-.59-1.43-.59-.52 0-1.04.2-1.43.59L10.3 9.45l-7.72 7.72c-.78.78-.78 2.05 0 2.83L4 21.41c.39.39.9.59 1.41.59.51 0 1.02-.2 1.41-.59l7.78-7.78 2.81-2.81c.8-.78.8-2.07 0-2.86zM5.41 20L4 18.59l7.72-7.72 1.47 1.35L5.41 20z\"/>\n",
              "  </svg>\n",
              "      </button>\n",
              "      \n",
              "  <style>\n",
              "    .colab-df-container {\n",
              "      display:flex;\n",
              "      flex-wrap:wrap;\n",
              "      gap: 12px;\n",
              "    }\n",
              "\n",
              "    .colab-df-convert {\n",
              "      background-color: #E8F0FE;\n",
              "      border: none;\n",
              "      border-radius: 50%;\n",
              "      cursor: pointer;\n",
              "      display: none;\n",
              "      fill: #1967D2;\n",
              "      height: 32px;\n",
              "      padding: 0 0 0 0;\n",
              "      width: 32px;\n",
              "    }\n",
              "\n",
              "    .colab-df-convert:hover {\n",
              "      background-color: #E2EBFA;\n",
              "      box-shadow: 0px 1px 2px rgba(60, 64, 67, 0.3), 0px 1px 3px 1px rgba(60, 64, 67, 0.15);\n",
              "      fill: #174EA6;\n",
              "    }\n",
              "\n",
              "    [theme=dark] .colab-df-convert {\n",
              "      background-color: #3B4455;\n",
              "      fill: #D2E3FC;\n",
              "    }\n",
              "\n",
              "    [theme=dark] .colab-df-convert:hover {\n",
              "      background-color: #434B5C;\n",
              "      box-shadow: 0px 1px 3px 1px rgba(0, 0, 0, 0.15);\n",
              "      filter: drop-shadow(0px 1px 2px rgba(0, 0, 0, 0.3));\n",
              "      fill: #FFFFFF;\n",
              "    }\n",
              "  </style>\n",
              "\n",
              "      <script>\n",
              "        const buttonEl =\n",
              "          document.querySelector('#df-fe04ba31-273f-4992-a97b-d07977778c1c button.colab-df-convert');\n",
              "        buttonEl.style.display =\n",
              "          google.colab.kernel.accessAllowed ? 'block' : 'none';\n",
              "\n",
              "        async function convertToInteractive(key) {\n",
              "          const element = document.querySelector('#df-fe04ba31-273f-4992-a97b-d07977778c1c');\n",
              "          const dataTable =\n",
              "            await google.colab.kernel.invokeFunction('convertToInteractive',\n",
              "                                                     [key], {});\n",
              "          if (!dataTable) return;\n",
              "\n",
              "          const docLinkHtml = 'Like what you see? Visit the ' +\n",
              "            '<a target=\"_blank\" href=https://colab.research.google.com/notebooks/data_table.ipynb>data table notebook</a>'\n",
              "            + ' to learn more about interactive tables.';\n",
              "          element.innerHTML = '';\n",
              "          dataTable['output_type'] = 'display_data';\n",
              "          await google.colab.output.renderOutput(dataTable, element);\n",
              "          const docLink = document.createElement('div');\n",
              "          docLink.innerHTML = docLinkHtml;\n",
              "          element.appendChild(docLink);\n",
              "        }\n",
              "      </script>\n",
              "    </div>\n",
              "  </div>\n",
              "  "
            ]
          },
          "metadata": {},
          "execution_count": 118
        }
      ],
      "source": [
        "y_train_pred_final['predicted'] = y_train_pred_final.Converted_Prob.map(lambda x: 1 if x > 0.5 else 0)\n",
        "y_train_pred_final.head()"
      ]
    },
    {
      "cell_type": "markdown",
      "metadata": {
        "id": "mKv21mRIZQiy"
      },
      "source": [
        "##### Lets check the confusion metrics and accuracy"
      ]
    },
    {
      "cell_type": "code",
      "execution_count": 119,
      "metadata": {
        "id": "qDD4e-3NZQiy"
      },
      "outputs": [],
      "source": [
        "from sklearn import metrics"
      ]
    },
    {
      "cell_type": "code",
      "execution_count": 120,
      "metadata": {
        "colab": {
          "base_uri": "https://localhost:8080/"
        },
        "id": "DGjOs-9KZQiy",
        "outputId": "dfdeae9a-200a-4ef5-b95d-f822f6f9f9e3"
      },
      "outputs": [
        {
          "output_type": "stream",
          "name": "stdout",
          "text": [
            "[[3413  445]\n",
            " [ 708 1754]]\n"
          ]
        }
      ],
      "source": [
        "# Confusion matrix \n",
        "\n",
        "confusion = metrics.confusion_matrix(y_train_pred_final.Converted, y_train_pred_final.predicted )\n",
        "print(confusion)"
      ]
    },
    {
      "cell_type": "code",
      "execution_count": 121,
      "metadata": {
        "id": "QPs3VJHrZQiz"
      },
      "outputs": [],
      "source": [
        "# Predicted     not_converted    converted\n",
        "# Actual\n",
        "# not_converted        3397      461\n",
        "# converted            725       1737"
      ]
    },
    {
      "cell_type": "code",
      "execution_count": 122,
      "metadata": {
        "colab": {
          "base_uri": "https://localhost:8080/"
        },
        "id": "KsE83La3ZQiz",
        "outputId": "561f85bb-e83b-40f5-83f0-4933a133c3a8"
      },
      "outputs": [
        {
          "output_type": "stream",
          "name": "stdout",
          "text": [
            "0.8175632911392405\n"
          ]
        }
      ],
      "source": [
        "# Let's check the overall accuracy.\n",
        "\n",
        "print(metrics.accuracy_score(y_train_pred_final.Converted, y_train_pred_final.predicted))"
      ]
    },
    {
      "cell_type": "markdown",
      "metadata": {
        "id": "kcdfuSckZQiz"
      },
      "source": [
        "Accuracy rate is around 81% which is good. However we will also need to calculate the other metrics as we cannot depend only \n",
        "on the accuracy metrics"
      ]
    },
    {
      "cell_type": "markdown",
      "metadata": {
        "id": "5sCm7S2tZQiz"
      },
      "source": [
        "##### Checking VIFs"
      ]
    },
    {
      "cell_type": "code",
      "execution_count": 123,
      "metadata": {
        "colab": {
          "base_uri": "https://localhost:8080/",
          "height": 582
        },
        "id": "4XQ7T7oxZQiz",
        "outputId": "649dd0b4-e0a6-4330-fc03-bc9d635cfdc5"
      },
      "outputs": [
        {
          "output_type": "execute_result",
          "data": {
            "text/plain": [
              "                                        Features    VIF\n",
              "5                       LeadOrigin_Lead Add Form  17.27\n",
              "7                           LeadSource_Reference  13.37\n",
              "3                           Page Views Per Visit   6.11\n",
              "1                                    TotalVisits   4.71\n",
              "8                    LeadSource_Welingak Website   4.66\n",
              "9                      LastActivity_Email Opened   2.38\n",
              "2                    Total Time Spent on Website   2.14\n",
              "11                         LastActivity_SMS Sent   2.12\n",
              "6                          LeadSource_Olark Chat   2.10\n",
              "15                  LastNotableActivity_Modified   1.78\n",
              "10          LastActivity_Olark Chat Conversation   1.76\n",
              "12              CurrentOccupation_No Information   1.57\n",
              "13        CurrentOccupation_Working Professional   1.19\n",
              "0                                   Do Not Email   1.15\n",
              "16               LastNotableActivity_Unreachable   1.02\n",
              "14  LastNotableActivity_Had a Phone Conversation   1.01\n",
              "4                                         Search   1.01"
            ],
            "text/html": [
              "\n",
              "  <div id=\"df-5180d94d-c64d-4729-8587-91603610cb02\">\n",
              "    <div class=\"colab-df-container\">\n",
              "      <div>\n",
              "<style scoped>\n",
              "    .dataframe tbody tr th:only-of-type {\n",
              "        vertical-align: middle;\n",
              "    }\n",
              "\n",
              "    .dataframe tbody tr th {\n",
              "        vertical-align: top;\n",
              "    }\n",
              "\n",
              "    .dataframe thead th {\n",
              "        text-align: right;\n",
              "    }\n",
              "</style>\n",
              "<table border=\"1\" class=\"dataframe\">\n",
              "  <thead>\n",
              "    <tr style=\"text-align: right;\">\n",
              "      <th></th>\n",
              "      <th>Features</th>\n",
              "      <th>VIF</th>\n",
              "    </tr>\n",
              "  </thead>\n",
              "  <tbody>\n",
              "    <tr>\n",
              "      <th>5</th>\n",
              "      <td>LeadOrigin_Lead Add Form</td>\n",
              "      <td>17.27</td>\n",
              "    </tr>\n",
              "    <tr>\n",
              "      <th>7</th>\n",
              "      <td>LeadSource_Reference</td>\n",
              "      <td>13.37</td>\n",
              "    </tr>\n",
              "    <tr>\n",
              "      <th>3</th>\n",
              "      <td>Page Views Per Visit</td>\n",
              "      <td>6.11</td>\n",
              "    </tr>\n",
              "    <tr>\n",
              "      <th>1</th>\n",
              "      <td>TotalVisits</td>\n",
              "      <td>4.71</td>\n",
              "    </tr>\n",
              "    <tr>\n",
              "      <th>8</th>\n",
              "      <td>LeadSource_Welingak Website</td>\n",
              "      <td>4.66</td>\n",
              "    </tr>\n",
              "    <tr>\n",
              "      <th>9</th>\n",
              "      <td>LastActivity_Email Opened</td>\n",
              "      <td>2.38</td>\n",
              "    </tr>\n",
              "    <tr>\n",
              "      <th>2</th>\n",
              "      <td>Total Time Spent on Website</td>\n",
              "      <td>2.14</td>\n",
              "    </tr>\n",
              "    <tr>\n",
              "      <th>11</th>\n",
              "      <td>LastActivity_SMS Sent</td>\n",
              "      <td>2.12</td>\n",
              "    </tr>\n",
              "    <tr>\n",
              "      <th>6</th>\n",
              "      <td>LeadSource_Olark Chat</td>\n",
              "      <td>2.10</td>\n",
              "    </tr>\n",
              "    <tr>\n",
              "      <th>15</th>\n",
              "      <td>LastNotableActivity_Modified</td>\n",
              "      <td>1.78</td>\n",
              "    </tr>\n",
              "    <tr>\n",
              "      <th>10</th>\n",
              "      <td>LastActivity_Olark Chat Conversation</td>\n",
              "      <td>1.76</td>\n",
              "    </tr>\n",
              "    <tr>\n",
              "      <th>12</th>\n",
              "      <td>CurrentOccupation_No Information</td>\n",
              "      <td>1.57</td>\n",
              "    </tr>\n",
              "    <tr>\n",
              "      <th>13</th>\n",
              "      <td>CurrentOccupation_Working Professional</td>\n",
              "      <td>1.19</td>\n",
              "    </tr>\n",
              "    <tr>\n",
              "      <th>0</th>\n",
              "      <td>Do Not Email</td>\n",
              "      <td>1.15</td>\n",
              "    </tr>\n",
              "    <tr>\n",
              "      <th>16</th>\n",
              "      <td>LastNotableActivity_Unreachable</td>\n",
              "      <td>1.02</td>\n",
              "    </tr>\n",
              "    <tr>\n",
              "      <th>14</th>\n",
              "      <td>LastNotableActivity_Had a Phone Conversation</td>\n",
              "      <td>1.01</td>\n",
              "    </tr>\n",
              "    <tr>\n",
              "      <th>4</th>\n",
              "      <td>Search</td>\n",
              "      <td>1.01</td>\n",
              "    </tr>\n",
              "  </tbody>\n",
              "</table>\n",
              "</div>\n",
              "      <button class=\"colab-df-convert\" onclick=\"convertToInteractive('df-5180d94d-c64d-4729-8587-91603610cb02')\"\n",
              "              title=\"Convert this dataframe to an interactive table.\"\n",
              "              style=\"display:none;\">\n",
              "        \n",
              "  <svg xmlns=\"http://www.w3.org/2000/svg\" height=\"24px\"viewBox=\"0 0 24 24\"\n",
              "       width=\"24px\">\n",
              "    <path d=\"M0 0h24v24H0V0z\" fill=\"none\"/>\n",
              "    <path d=\"M18.56 5.44l.94 2.06.94-2.06 2.06-.94-2.06-.94-.94-2.06-.94 2.06-2.06.94zm-11 1L8.5 8.5l.94-2.06 2.06-.94-2.06-.94L8.5 2.5l-.94 2.06-2.06.94zm10 10l.94 2.06.94-2.06 2.06-.94-2.06-.94-.94-2.06-.94 2.06-2.06.94z\"/><path d=\"M17.41 7.96l-1.37-1.37c-.4-.4-.92-.59-1.43-.59-.52 0-1.04.2-1.43.59L10.3 9.45l-7.72 7.72c-.78.78-.78 2.05 0 2.83L4 21.41c.39.39.9.59 1.41.59.51 0 1.02-.2 1.41-.59l7.78-7.78 2.81-2.81c.8-.78.8-2.07 0-2.86zM5.41 20L4 18.59l7.72-7.72 1.47 1.35L5.41 20z\"/>\n",
              "  </svg>\n",
              "      </button>\n",
              "      \n",
              "  <style>\n",
              "    .colab-df-container {\n",
              "      display:flex;\n",
              "      flex-wrap:wrap;\n",
              "      gap: 12px;\n",
              "    }\n",
              "\n",
              "    .colab-df-convert {\n",
              "      background-color: #E8F0FE;\n",
              "      border: none;\n",
              "      border-radius: 50%;\n",
              "      cursor: pointer;\n",
              "      display: none;\n",
              "      fill: #1967D2;\n",
              "      height: 32px;\n",
              "      padding: 0 0 0 0;\n",
              "      width: 32px;\n",
              "    }\n",
              "\n",
              "    .colab-df-convert:hover {\n",
              "      background-color: #E2EBFA;\n",
              "      box-shadow: 0px 1px 2px rgba(60, 64, 67, 0.3), 0px 1px 3px 1px rgba(60, 64, 67, 0.15);\n",
              "      fill: #174EA6;\n",
              "    }\n",
              "\n",
              "    [theme=dark] .colab-df-convert {\n",
              "      background-color: #3B4455;\n",
              "      fill: #D2E3FC;\n",
              "    }\n",
              "\n",
              "    [theme=dark] .colab-df-convert:hover {\n",
              "      background-color: #434B5C;\n",
              "      box-shadow: 0px 1px 3px 1px rgba(0, 0, 0, 0.15);\n",
              "      filter: drop-shadow(0px 1px 2px rgba(0, 0, 0, 0.3));\n",
              "      fill: #FFFFFF;\n",
              "    }\n",
              "  </style>\n",
              "\n",
              "      <script>\n",
              "        const buttonEl =\n",
              "          document.querySelector('#df-5180d94d-c64d-4729-8587-91603610cb02 button.colab-df-convert');\n",
              "        buttonEl.style.display =\n",
              "          google.colab.kernel.accessAllowed ? 'block' : 'none';\n",
              "\n",
              "        async function convertToInteractive(key) {\n",
              "          const element = document.querySelector('#df-5180d94d-c64d-4729-8587-91603610cb02');\n",
              "          const dataTable =\n",
              "            await google.colab.kernel.invokeFunction('convertToInteractive',\n",
              "                                                     [key], {});\n",
              "          if (!dataTable) return;\n",
              "\n",
              "          const docLinkHtml = 'Like what you see? Visit the ' +\n",
              "            '<a target=\"_blank\" href=https://colab.research.google.com/notebooks/data_table.ipynb>data table notebook</a>'\n",
              "            + ' to learn more about interactive tables.';\n",
              "          element.innerHTML = '';\n",
              "          dataTable['output_type'] = 'display_data';\n",
              "          await google.colab.output.renderOutput(dataTable, element);\n",
              "          const docLink = document.createElement('div');\n",
              "          docLink.innerHTML = docLinkHtml;\n",
              "          element.appendChild(docLink);\n",
              "        }\n",
              "      </script>\n",
              "    </div>\n",
              "  </div>\n",
              "  "
            ]
          },
          "metadata": {},
          "execution_count": 123
        }
      ],
      "source": [
        "from statsmodels.stats.outliers_influence import variance_inflation_factor\n",
        "\n",
        "# Create a dataframe that will contain the names of all the feature variables and their respective VIFs\n",
        "\n",
        "vif = pd.DataFrame()\n",
        "vif['Features'] = X_train[col].columns\n",
        "vif['VIF'] = [variance_inflation_factor(X_train[col].values, i) for i in range(X_train[col].shape[1])]\n",
        "vif['VIF'] = round(vif['VIF'], 2)\n",
        "vif = vif.sort_values(by = \"VIF\", ascending = False)\n",
        "vif"
      ]
    },
    {
      "cell_type": "markdown",
      "metadata": {
        "id": "CIoasRsLZQi0"
      },
      "source": [
        "All variables have a good value of VIF. So we need not drop any more variables and we can proceed with making predictions using this model only"
      ]
    },
    {
      "cell_type": "markdown",
      "metadata": {
        "id": "uxkeAyUQZQi1"
      },
      "source": [
        "##### Metrics - Sensitivity, Specificity, False Positive Rate, Postitive Predictive Value and Negative Predictive Value"
      ]
    },
    {
      "cell_type": "code",
      "execution_count": 124,
      "metadata": {
        "id": "S9FOUCpCZQi2"
      },
      "outputs": [],
      "source": [
        "TP = confusion[1,1] # true positive \n",
        "TN = confusion[0,0] # true negatives\n",
        "FP = confusion[0,1] # false positives\n",
        "FN = confusion[1,0] # false negatives"
      ]
    },
    {
      "cell_type": "code",
      "execution_count": 125,
      "metadata": {
        "colab": {
          "base_uri": "https://localhost:8080/"
        },
        "id": "nqeFLgKnZQi2",
        "outputId": "79f9d574-7519-4f8a-ef11-17964d123c00"
      },
      "outputs": [
        {
          "output_type": "execute_result",
          "data": {
            "text/plain": [
              "0.7124289195775793"
            ]
          },
          "metadata": {},
          "execution_count": 125
        }
      ],
      "source": [
        "# Let's see the sensitivity of our logistic regression model\n",
        "\n",
        "TP / float(TP+FN)"
      ]
    },
    {
      "cell_type": "code",
      "execution_count": 126,
      "metadata": {
        "colab": {
          "base_uri": "https://localhost:8080/"
        },
        "id": "HA9s3stUZQi2",
        "outputId": "178ec0fc-0976-47ec-cb46-dce7111922ad"
      },
      "outputs": [
        {
          "output_type": "execute_result",
          "data": {
            "text/plain": [
              "0.8846552617936755"
            ]
          },
          "metadata": {},
          "execution_count": 126
        }
      ],
      "source": [
        "# Let us calculate specificity\n",
        "\n",
        "TN / float(TN+FP)"
      ]
    },
    {
      "cell_type": "code",
      "execution_count": 127,
      "metadata": {
        "colab": {
          "base_uri": "https://localhost:8080/"
        },
        "id": "1DnJK0a8ZQi3",
        "outputId": "db8863a7-884e-4c11-a07d-d2fa523c29ef"
      },
      "outputs": [
        {
          "output_type": "stream",
          "name": "stdout",
          "text": [
            "0.11534473820632452\n"
          ]
        }
      ],
      "source": [
        "# Calculate false postive rate - predicting non conversion when leads have converted\n",
        "\n",
        "print(FP/ float(TN+FP))"
      ]
    },
    {
      "cell_type": "code",
      "execution_count": 128,
      "metadata": {
        "colab": {
          "base_uri": "https://localhost:8080/"
        },
        "id": "SpFLeENNZQi3",
        "outputId": "a825e687-6921-412e-b04f-8e546c991566"
      },
      "outputs": [
        {
          "output_type": "stream",
          "name": "stdout",
          "text": [
            "0.7976352887676217\n"
          ]
        }
      ],
      "source": [
        "# positive predictive value \n",
        "\n",
        "print (TP / float(TP+FP))"
      ]
    },
    {
      "cell_type": "code",
      "execution_count": 129,
      "metadata": {
        "colab": {
          "base_uri": "https://localhost:8080/"
        },
        "id": "bnfrus_kZQi3",
        "outputId": "3578900c-3af0-4ccf-8cf9-194a7cd90f14"
      },
      "outputs": [
        {
          "output_type": "stream",
          "name": "stdout",
          "text": [
            "0.8281970395535064\n"
          ]
        }
      ],
      "source": [
        "# Negative predictive value\n",
        "\n",
        "print (TN / float(TN+ FN))"
      ]
    },
    {
      "cell_type": "markdown",
      "metadata": {
        "id": "odOYcLxJZQi3"
      },
      "source": [
        "### Step 9: Plotting the ROC Curve"
      ]
    },
    {
      "cell_type": "markdown",
      "metadata": {
        "id": "nBhbVhmfZQi4"
      },
      "source": [
        "An ROC curve demonstrates several things:\n",
        "\n",
        "- It shows the tradeoff between sensitivity and specificity (any increase in sensitivity will be accompanied by a decrease in specificity).\n",
        "- The closer the curve follows the left-hand border and then the top border of the ROC space, the more accurate the test.\n",
        "- The closer the curve comes to the 45-degree diagonal of the ROC space, the less accurate the test."
      ]
    },
    {
      "cell_type": "code",
      "execution_count": 130,
      "metadata": {
        "id": "5_KeALnpZQi4"
      },
      "outputs": [],
      "source": [
        "def draw_roc( actual, probs ):\n",
        "    fpr, tpr, thresholds = metrics.roc_curve( actual, probs,\n",
        "                                              drop_intermediate = False )\n",
        "    auc_score = metrics.roc_auc_score( actual, probs )\n",
        "    plt.figure(figsize=(5, 5))\n",
        "    plt.plot( fpr, tpr, label='ROC curve (area = %0.2f)' % auc_score )\n",
        "    plt.plot([0, 1], [0, 1], 'k--')\n",
        "    plt.xlim([0.0, 1.0])\n",
        "    plt.ylim([0.0, 1.05])\n",
        "    plt.xlabel('False Positive Rate or [1 - True Negative Rate]')\n",
        "    plt.ylabel('True Positive Rate')\n",
        "    plt.title('Receiver operating characteristic example')\n",
        "    plt.legend(loc=\"lower right\")\n",
        "    plt.show()\n",
        "\n",
        "    return None"
      ]
    },
    {
      "cell_type": "code",
      "execution_count": 131,
      "metadata": {
        "id": "hwdt3LhkZQi4"
      },
      "outputs": [],
      "source": [
        "fpr, tpr, thresholds = metrics.roc_curve( y_train_pred_final.Converted, y_train_pred_final.Converted_Prob, \n",
        "                                         drop_intermediate = False )"
      ]
    },
    {
      "cell_type": "code",
      "execution_count": 132,
      "metadata": {
        "colab": {
          "base_uri": "https://localhost:8080/",
          "height": 350
        },
        "id": "cXyjBbUhZQi4",
        "outputId": "16168bfa-968b-4807-882b-bf567f01d43a"
      },
      "outputs": [
        {
          "output_type": "display_data",
          "data": {
            "text/plain": [
              "<Figure size 360x360 with 1 Axes>"
            ],
            "image/png": "[encoded data removed]"
          },
          "metadata": {
            "needs_background": "light"
          }
        }
      ],
      "source": [
        "draw_roc(y_train_pred_final.Converted, y_train_pred_final.Converted_Prob)"
      ]
    },
    {
      "cell_type": "markdown",
      "metadata": {
        "id": "V1VCwcGRZQi5"
      },
      "source": [
        "### Step 10: Finding Optimal Cutoff Point"
      ]
    },
    {
      "cell_type": "markdown",
      "metadata": {
        "id": "yT820PWgZQi5"
      },
      "source": [
        "Optimal cut off probability is that prob where we get balanced sensitivity and specificity"
      ]
    },
    {
      "cell_type": "code",
      "execution_count": 133,
      "metadata": {
        "colab": {
          "base_uri": "https://localhost:8080/",
          "height": 206
        },
        "id": "hOseupNxZQi5",
        "outputId": "3b28506f-5ec3-4fac-9ec4-abd8a3564dc7"
      },
      "outputs": [
        {
          "output_type": "execute_result",
          "data": {
            "text/plain": [
              "   Converted  Converted_Prob  LeadId  predicted  0.0  0.1  0.2  0.3  0.4  0.5  \\\n",
              "0          0        0.692702    2240          1    1    1    1    1    1    1   \n",
              "1          0        0.539386     113          1    1    1    1    1    1    1   \n",
              "2          1        0.720771    4132          1    1    1    1    1    1    1   \n",
              "3          0        0.133389    5573          0    1    1    0    0    0    0   \n",
              "4          0        0.014007    1109          0    1    0    0    0    0    0   \n",
              "\n",
              "   0.6  0.7  0.8  0.9  \n",
              "0    1    0    0    0  \n",
              "1    0    0    0    0  \n",
              "2    1    1    0    0  \n",
              "3    0    0    0    0  \n",
              "4    0    0    0    0  "
            ],
            "text/html": [
              "\n",
              "  <div id=\"df-71be4ce7-ef15-44c3-81b8-e7572210b2bb\">\n",
              "    <div class=\"colab-df-container\">\n",
              "      <div>\n",
              "<style scoped>\n",
              "    .dataframe tbody tr th:only-of-type {\n",
              "        vertical-align: middle;\n",
              "    }\n",
              "\n",
              "    .dataframe tbody tr th {\n",
              "        vertical-align: top;\n",
              "    }\n",
              "\n",
              "    .dataframe thead th {\n",
              "        text-align: right;\n",
              "    }\n",
              "</style>\n",
              "<table border=\"1\" class=\"dataframe\">\n",
              "  <thead>\n",
              "    <tr style=\"text-align: right;\">\n",
              "      <th></th>\n",
              "      <th>Converted</th>\n",
              "      <th>Converted_Prob</th>\n",
              "      <th>LeadId</th>\n",
              "      <th>predicted</th>\n",
              "      <th>0.0</th>\n",
              "      <th>0.1</th>\n",
              "      <th>0.2</th>\n",
              "      <th>0.3</th>\n",
              "      <th>0.4</th>\n",
              "      <th>0.5</th>\n",
              "      <th>0.6</th>\n",
              "      <th>0.7</th>\n",
              "      <th>0.8</th>\n",
              "      <th>0.9</th>\n",
              "    </tr>\n",
              "  </thead>\n",
              "  <tbody>\n",
              "    <tr>\n",
              "      <th>0</th>\n",
              "      <td>0</td>\n",
              "      <td>0.692702</td>\n",
              "      <td>2240</td>\n",
              "      <td>1</td>\n",
              "      <td>1</td>\n",
              "      <td>1</td>\n",
              "      <td>1</td>\n",
              "      <td>1</td>\n",
              "      <td>1</td>\n",
              "      <td>1</td>\n",
              "      <td>1</td>\n",
              "      <td>0</td>\n",
              "      <td>0</td>\n",
              "      <td>0</td>\n",
              "    </tr>\n",
              "    <tr>\n",
              "      <th>1</th>\n",
              "      <td>0</td>\n",
              "      <td>0.539386</td>\n",
              "      <td>113</td>\n",
              "      <td>1</td>\n",
              "      <td>1</td>\n",
              "      <td>1</td>\n",
              "      <td>1</td>\n",
              "      <td>1</td>\n",
              "      <td>1</td>\n",
              "      <td>1</td>\n",
              "      <td>0</td>\n",
              "      <td>0</td>\n",
              "      <td>0</td>\n",
              "      <td>0</td>\n",
              "    </tr>\n",
              "    <tr>\n",
              "      <th>2</th>\n",
              "      <td>1</td>\n",
              "      <td>0.720771</td>\n",
              "      <td>4132</td>\n",
              "      <td>1</td>\n",
              "      <td>1</td>\n",
              "      <td>1</td>\n",
              "      <td>1</td>\n",
              "      <td>1</td>\n",
              "      <td>1</td>\n",
              "      <td>1</td>\n",
              "      <td>1</td>\n",
              "      <td>1</td>\n",
              "      <td>0</td>\n",
              "      <td>0</td>\n",
              "    </tr>\n",
              "    <tr>\n",
              "      <th>3</th>\n",
              "      <td>0</td>\n",
              "      <td>0.133389</td>\n",
              "      <td>5573</td>\n",
              "      <td>0</td>\n",
              "      <td>1</td>\n",
              "      <td>1</td>\n",
              "      <td>0</td>\n",
              "      <td>0</td>\n",
              "      <td>0</td>\n",
              "      <td>0</td>\n",
              "      <td>0</td>\n",
              "      <td>0</td>\n",
              "      <td>0</td>\n",
              "      <td>0</td>\n",
              "    </tr>\n",
              "    <tr>\n",
              "      <th>4</th>\n",
              "      <td>0</td>\n",
              "      <td>0.014007</td>\n",
              "      <td>1109</td>\n",
              "      <td>0</td>\n",
              "      <td>1</td>\n",
              "      <td>0</td>\n",
              "      <td>0</td>\n",
              "      <td>0</td>\n",
              "      <td>0</td>\n",
              "      <td>0</td>\n",
              "      <td>0</td>\n",
              "      <td>0</td>\n",
              "      <td>0</td>\n",
              "      <td>0</td>\n",
              "    </tr>\n",
              "  </tbody>\n",
              "</table>\n",
              "</div>\n",
              "      <button class=\"colab-df-convert\" onclick=\"convertToInteractive('df-71be4ce7-ef15-44c3-81b8-e7572210b2bb')\"\n",
              "              title=\"Convert this dataframe to an interactive table.\"\n",
              "              style=\"display:none;\">\n",
              "        \n",
              "  <svg xmlns=\"http://www.w3.org/2000/svg\" height=\"24px\"viewBox=\"0 0 24 24\"\n",
              "       width=\"24px\">\n",
              "    <path d=\"M0 0h24v24H0V0z\" fill=\"none\"/>\n",
              "    <path d=\"M18.56 5.44l.94 2.06.94-2.06 2.06-.94-2.06-.94-.94-2.06-.94 2.06-2.06.94zm-11 1L8.5 8.5l.94-2.06 2.06-.94-2.06-.94L8.5 2.5l-.94 2.06-2.06.94zm10 10l.94 2.06.94-2.06 2.06-.94-2.06-.94-.94-2.06-.94 2.06-2.06.94z\"/><path d=\"M17.41 7.96l-1.37-1.37c-.4-.4-.92-.59-1.43-.59-.52 0-1.04.2-1.43.59L10.3 9.45l-7.72 7.72c-.78.78-.78 2.05 0 2.83L4 21.41c.39.39.9.59 1.41.59.51 0 1.02-.2 1.41-.59l7.78-7.78 2.81-2.81c.8-.78.8-2.07 0-2.86zM5.41 20L4 18.59l7.72-7.72 1.47 1.35L5.41 20z\"/>\n",
              "  </svg>\n",
              "      </button>\n",
              "      \n",
              "  <style>\n",
              "    .colab-df-container {\n",
              "      display:flex;\n",
              "      flex-wrap:wrap;\n",
              "      gap: 12px;\n",
              "    }\n",
              "\n",
              "    .colab-df-convert {\n",
              "      background-color: #E8F0FE;\n",
              "      border: none;\n",
              "      border-radius: 50%;\n",
              "      cursor: pointer;\n",
              "      display: none;\n",
              "      fill: #1967D2;\n",
              "      height: 32px;\n",
              "      padding: 0 0 0 0;\n",
              "      width: 32px;\n",
              "    }\n",
              "\n",
              "    .colab-df-convert:hover {\n",
              "      background-color: #E2EBFA;\n",
              "      box-shadow: 0px 1px 2px rgba(60, 64, 67, 0.3), 0px 1px 3px 1px rgba(60, 64, 67, 0.15);\n",
              "      fill: #174EA6;\n",
              "    }\n",
              "\n",
              "    [theme=dark] .colab-df-convert {\n",
              "      background-color: #3B4455;\n",
              "      fill: #D2E3FC;\n",
              "    }\n",
              "\n",
              "    [theme=dark] .colab-df-convert:hover {\n",
              "      background-color: #434B5C;\n",
              "      box-shadow: 0px 1px 3px 1px rgba(0, 0, 0, 0.15);\n",
              "      filter: drop-shadow(0px 1px 2px rgba(0, 0, 0, 0.3));\n",
              "      fill: #FFFFFF;\n",
              "    }\n",
              "  </style>\n",
              "\n",
              "      <script>\n",
              "        const buttonEl =\n",
              "          document.querySelector('#df-71be4ce7-ef15-44c3-81b8-e7572210b2bb button.colab-df-convert');\n",
              "        buttonEl.style.display =\n",
              "          google.colab.kernel.accessAllowed ? 'block' : 'none';\n",
              "\n",
              "        async function convertToInteractive(key) {\n",
              "          const element = document.querySelector('#df-71be4ce7-ef15-44c3-81b8-e7572210b2bb');\n",
              "          const dataTable =\n",
              "            await google.colab.kernel.invokeFunction('convertToInteractive',\n",
              "                                                     [key], {});\n",
              "          if (!dataTable) return;\n",
              "\n",
              "          const docLinkHtml = 'Like what you see? Visit the ' +\n",
              "            '<a target=\"_blank\" href=https://colab.research.google.com/notebooks/data_table.ipynb>data table notebook</a>'\n",
              "            + ' to learn more about interactive tables.';\n",
              "          element.innerHTML = '';\n",
              "          dataTable['output_type'] = 'display_data';\n",
              "          await google.colab.output.renderOutput(dataTable, element);\n",
              "          const docLink = document.createElement('div');\n",
              "          docLink.innerHTML = docLinkHtml;\n",
              "          element.appendChild(docLink);\n",
              "        }\n",
              "      </script>\n",
              "    </div>\n",
              "  </div>\n",
              "  "
            ]
          },
          "metadata": {},
          "execution_count": 133
        }
      ],
      "source": [
        "# Let's create columns with different probability cutoffs \n",
        "numbers = [float(x)/10 for x in range(10)]\n",
        "for i in numbers:\n",
        "    y_train_pred_final[i]= y_train_pred_final.Converted_Prob.map(lambda x: 1 if x > i else 0)\n",
        "y_train_pred_final.head()"
      ]
    },
    {
      "cell_type": "code",
      "execution_count": 134,
      "metadata": {
        "colab": {
          "base_uri": "https://localhost:8080/"
        },
        "id": "QByIuB_yZQi5",
        "outputId": "f813a9a7-dc80-41fe-98e8-c84bc51ae2df"
      },
      "outputs": [
        {
          "output_type": "stream",
          "name": "stdout",
          "text": [
            "     prob  accuracy     sensi     speci\n",
            "0.0   0.0  0.389557  1.000000  0.000000\n",
            "0.1   0.1  0.659652  0.971974  0.460342\n",
            "0.2   0.2  0.760759  0.922421  0.657595\n",
            "0.3   0.3  0.802532  0.879366  0.753499\n",
            "0.4   0.4  0.816772  0.781478  0.839295\n",
            "0.5   0.5  0.817563  0.712429  0.884655\n",
            "0.6   0.6  0.811076  0.642973  0.918351\n",
            "0.7   0.7  0.785443  0.532494  0.946864\n",
            "0.8   0.8  0.762342  0.441511  0.967081\n",
            "0.9   0.9  0.720253  0.301787  0.987299\n"
          ]
        }
      ],
      "source": [
        "# Now let's calculate accuracy sensitivity and specificity for various probability cutoffs.\n",
        "\n",
        "cutoff_df = pd.DataFrame( columns = ['prob','accuracy','sensi','speci'])\n",
        "from sklearn.metrics import confusion_matrix\n",
        "\n",
        "# TP = confusion[1,1] # true positive \n",
        "# TN = confusion[0,0] # true negatives\n",
        "# FP = confusion[0,1] # false positives\n",
        "# FN = confusion[1,0] # false negatives\n",
        "\n",
        "num = [0.0,0.1,0.2,0.3,0.4,0.5,0.6,0.7,0.8,0.9]\n",
        "for i in num:\n",
        "    cm1 = metrics.confusion_matrix(y_train_pred_final.Converted, y_train_pred_final[i] )\n",
        "    total1=sum(sum(cm1))\n",
        "    accuracy = (cm1[0,0]+cm1[1,1])/total1\n",
        "    \n",
        "    speci = cm1[0,0]/(cm1[0,0]+cm1[0,1])\n",
        "    sensi = cm1[1,1]/(cm1[1,0]+cm1[1,1])\n",
        "    cutoff_df.loc[i] =[ i ,accuracy,sensi,speci]\n",
        "print(cutoff_df)"
      ]
    },
    {
      "cell_type": "code",
      "execution_count": 135,
      "metadata": {
        "colab": {
          "base_uri": "https://localhost:8080/",
          "height": 279
        },
        "id": "hmCLEkJ0ZQi6",
        "outputId": "e25993ec-cad8-4e2a-a890-c0437698af44"
      },
      "outputs": [
        {
          "output_type": "display_data",
          "data": {
            "text/plain": [
              "<Figure size 432x288 with 1 Axes>"
            ],
            "image/png": "[encoded data removed]"
          },
          "metadata": {
            "needs_background": "light"
          }
        }
      ],
      "source": [
        "# Let's plot accuracy sensitivity and specificity for various probabilities.\n",
        "\n",
        "cutoff_df.plot.line(x='prob', y=['accuracy','sensi','speci'])\n",
        "plt.show()"
      ]
    },
    {
      "cell_type": "markdown",
      "metadata": {
        "id": "hOyP_jlAZQi6"
      },
      "source": [
        "##### From the curve above, 0.37 is the optimum point to take it as a cutoff probability."
      ]
    },
    {
      "cell_type": "code",
      "execution_count": 136,
      "metadata": {
        "colab": {
          "base_uri": "https://localhost:8080/",
          "height": 206
        },
        "id": "I33-LFqdZQi7",
        "outputId": "22d40916-16dd-4273-a9e9-e184729747e9"
      },
      "outputs": [
        {
          "output_type": "execute_result",
          "data": {
            "text/plain": [
              "   Converted  Converted_Prob  LeadId  predicted  0.0  0.1  0.2  0.3  0.4  0.5  \\\n",
              "0          0        0.692702    2240          1    1    1    1    1    1    1   \n",
              "1          0        0.539386     113          1    1    1    1    1    1    1   \n",
              "2          1        0.720771    4132          1    1    1    1    1    1    1   \n",
              "3          0        0.133389    5573          0    1    1    0    0    0    0   \n",
              "4          0        0.014007    1109          0    1    0    0    0    0    0   \n",
              "\n",
              "   0.6  0.7  0.8  0.9  final_predicted  \n",
              "0    1    0    0    0                1  \n",
              "1    0    0    0    0                1  \n",
              "2    1    1    0    0                1  \n",
              "3    0    0    0    0                0  \n",
              "4    0    0    0    0                0  "
            ],
            "text/html": [
              "\n",
              "  <div id=\"df-0297a585-7a35-408c-a000-8fbc33b1dc4b\">\n",
              "    <div class=\"colab-df-container\">\n",
              "      <div>\n",
              "<style scoped>\n",
              "    .dataframe tbody tr th:only-of-type {\n",
              "        vertical-align: middle;\n",
              "    }\n",
              "\n",
              "    .dataframe tbody tr th {\n",
              "        vertical-align: top;\n",
              "    }\n",
              "\n",
              "    .dataframe thead th {\n",
              "        text-align: right;\n",
              "    }\n",
              "</style>\n",
              "<table border=\"1\" class=\"dataframe\">\n",
              "  <thead>\n",
              "    <tr style=\"text-align: right;\">\n",
              "      <th></th>\n",
              "      <th>Converted</th>\n",
              "      <th>Converted_Prob</th>\n",
              "      <th>LeadId</th>\n",
              "      <th>predicted</th>\n",
              "      <th>0.0</th>\n",
              "      <th>0.1</th>\n",
              "      <th>0.2</th>\n",
              "      <th>0.3</th>\n",
              "      <th>0.4</th>\n",
              "      <th>0.5</th>\n",
              "      <th>0.6</th>\n",
              "      <th>0.7</th>\n",
              "      <th>0.8</th>\n",
              "      <th>0.9</th>\n",
              "      <th>final_predicted</th>\n",
              "    </tr>\n",
              "  </thead>\n",
              "  <tbody>\n",
              "    <tr>\n",
              "      <th>0</th>\n",
              "      <td>0</td>\n",
              "      <td>0.692702</td>\n",
              "      <td>2240</td>\n",
              "      <td>1</td>\n",
              "      <td>1</td>\n",
              "      <td>1</td>\n",
              "      <td>1</td>\n",
              "      <td>1</td>\n",
              "      <td>1</td>\n",
              "      <td>1</td>\n",
              "      <td>1</td>\n",
              "      <td>0</td>\n",
              "      <td>0</td>\n",
              "      <td>0</td>\n",
              "      <td>1</td>\n",
              "    </tr>\n",
              "    <tr>\n",
              "      <th>1</th>\n",
              "      <td>0</td>\n",
              "      <td>0.539386</td>\n",
              "      <td>113</td>\n",
              "      <td>1</td>\n",
              "      <td>1</td>\n",
              "      <td>1</td>\n",
              "      <td>1</td>\n",
              "      <td>1</td>\n",
              "      <td>1</td>\n",
              "      <td>1</td>\n",
              "      <td>0</td>\n",
              "      <td>0</td>\n",
              "      <td>0</td>\n",
              "      <td>0</td>\n",
              "      <td>1</td>\n",
              "    </tr>\n",
              "    <tr>\n",
              "      <th>2</th>\n",
              "      <td>1</td>\n",
              "      <td>0.720771</td>\n",
              "      <td>4132</td>\n",
              "      <td>1</td>\n",
              "      <td>1</td>\n",
              "      <td>1</td>\n",
              "      <td>1</td>\n",
              "      <td>1</td>\n",
              "      <td>1</td>\n",
              "      <td>1</td>\n",
              "      <td>1</td>\n",
              "      <td>1</td>\n",
              "      <td>0</td>\n",
              "      <td>0</td>\n",
              "      <td>1</td>\n",
              "    </tr>\n",
              "    <tr>\n",
              "      <th>3</th>\n",
              "      <td>0</td>\n",
              "      <td>0.133389</td>\n",
              "      <td>5573</td>\n",
              "      <td>0</td>\n",
              "      <td>1</td>\n",
              "      <td>1</td>\n",
              "      <td>0</td>\n",
              "      <td>0</td>\n",
              "      <td>0</td>\n",
              "      <td>0</td>\n",
              "      <td>0</td>\n",
              "      <td>0</td>\n",
              "      <td>0</td>\n",
              "      <td>0</td>\n",
              "      <td>0</td>\n",
              "    </tr>\n",
              "    <tr>\n",
              "      <th>4</th>\n",
              "      <td>0</td>\n",
              "      <td>0.014007</td>\n",
              "      <td>1109</td>\n",
              "      <td>0</td>\n",
              "      <td>1</td>\n",
              "      <td>0</td>\n",
              "      <td>0</td>\n",
              "      <td>0</td>\n",
              "      <td>0</td>\n",
              "      <td>0</td>\n",
              "      <td>0</td>\n",
              "      <td>0</td>\n",
              "      <td>0</td>\n",
              "      <td>0</td>\n",
              "      <td>0</td>\n",
              "    </tr>\n",
              "  </tbody>\n",
              "</table>\n",
              "</div>\n",
              "      <button class=\"colab-df-convert\" onclick=\"convertToInteractive('df-0297a585-7a35-408c-a000-8fbc33b1dc4b')\"\n",
              "              title=\"Convert this dataframe to an interactive table.\"\n",
              "              style=\"display:none;\">\n",
              "        \n",
              "  <svg xmlns=\"http://www.w3.org/2000/svg\" height=\"24px\"viewBox=\"0 0 24 24\"\n",
              "       width=\"24px\">\n",
              "    <path d=\"M0 0h24v24H0V0z\" fill=\"none\"/>\n",
              "    <path d=\"M18.56 5.44l.94 2.06.94-2.06 2.06-.94-2.06-.94-.94-2.06-.94 2.06-2.06.94zm-11 1L8.5 8.5l.94-2.06 2.06-.94-2.06-.94L8.5 2.5l-.94 2.06-2.06.94zm10 10l.94 2.06.94-2.06 2.06-.94-2.06-.94-.94-2.06-.94 2.06-2.06.94z\"/><path d=\"M17.41 7.96l-1.37-1.37c-.4-.4-.92-.59-1.43-.59-.52 0-1.04.2-1.43.59L10.3 9.45l-7.72 7.72c-.78.78-.78 2.05 0 2.83L4 21.41c.39.39.9.59 1.41.59.51 0 1.02-.2 1.41-.59l7.78-7.78 2.81-2.81c.8-.78.8-2.07 0-2.86zM5.41 20L4 18.59l7.72-7.72 1.47 1.35L5.41 20z\"/>\n",
              "  </svg>\n",
              "      </button>\n",
              "      \n",
              "  <style>\n",
              "    .colab-df-container {\n",
              "      display:flex;\n",
              "      flex-wrap:wrap;\n",
              "      gap: 12px;\n",
              "    }\n",
              "\n",
              "    .colab-df-convert {\n",
              "      background-color: #E8F0FE;\n",
              "      border: none;\n",
              "      border-radius: 50%;\n",
              "      cursor: pointer;\n",
              "      display: none;\n",
              "      fill: #1967D2;\n",
              "      height: 32px;\n",
              "      padding: 0 0 0 0;\n",
              "      width: 32px;\n",
              "    }\n",
              "\n",
              "    .colab-df-convert:hover {\n",
              "      background-color: #E2EBFA;\n",
              "      box-shadow: 0px 1px 2px rgba(60, 64, 67, 0.3), 0px 1px 3px 1px rgba(60, 64, 67, 0.15);\n",
              "      fill: #174EA6;\n",
              "    }\n",
              "\n",
              "    [theme=dark] .colab-df-convert {\n",
              "      background-color: #3B4455;\n",
              "      fill: #D2E3FC;\n",
              "    }\n",
              "\n",
              "    [theme=dark] .colab-df-convert:hover {\n",
              "      background-color: #434B5C;\n",
              "      box-shadow: 0px 1px 3px 1px rgba(0, 0, 0, 0.15);\n",
              "      filter: drop-shadow(0px 1px 2px rgba(0, 0, 0, 0.3));\n",
              "      fill: #FFFFFF;\n",
              "    }\n",
              "  </style>\n",
              "\n",
              "      <script>\n",
              "        const buttonEl =\n",
              "          document.querySelector('#df-0297a585-7a35-408c-a000-8fbc33b1dc4b button.colab-df-convert');\n",
              "        buttonEl.style.display =\n",
              "          google.colab.kernel.accessAllowed ? 'block' : 'none';\n",
              "\n",
              "        async function convertToInteractive(key) {\n",
              "          const element = document.querySelector('#df-0297a585-7a35-408c-a000-8fbc33b1dc4b');\n",
              "          const dataTable =\n",
              "            await google.colab.kernel.invokeFunction('convertToInteractive',\n",
              "                                                     [key], {});\n",
              "          if (!dataTable) return;\n",
              "\n",
              "          const docLinkHtml = 'Like what you see? Visit the ' +\n",
              "            '<a target=\"_blank\" href=https://colab.research.google.com/notebooks/data_table.ipynb>data table notebook</a>'\n",
              "            + ' to learn more about interactive tables.';\n",
              "          element.innerHTML = '';\n",
              "          dataTable['output_type'] = 'display_data';\n",
              "          await google.colab.output.renderOutput(dataTable, element);\n",
              "          const docLink = document.createElement('div');\n",
              "          docLink.innerHTML = docLinkHtml;\n",
              "          element.appendChild(docLink);\n",
              "        }\n",
              "      </script>\n",
              "    </div>\n",
              "  </div>\n",
              "  "
            ]
          },
          "metadata": {},
          "execution_count": 136
        }
      ],
      "source": [
        "# Let us make the final prediction using 0.37 as the cut off\n",
        "\n",
        "y_train_pred_final['final_predicted'] = y_train_pred_final.Converted_Prob.map( lambda x: 1 if x > 0.37 else 0)\n",
        "y_train_pred_final.head()"
      ]
    },
    {
      "cell_type": "code",
      "execution_count": 137,
      "metadata": {
        "colab": {
          "base_uri": "https://localhost:8080/",
          "height": 677
        },
        "id": "OFWYMVoEZQi7",
        "outputId": "79902de5-c75c-4c71-8b33-79ddd3e99899"
      },
      "outputs": [
        {
          "output_type": "execute_result",
          "data": {
            "text/plain": [
              "    Converted  Converted_Prob  LeadId  predicted  0.0  0.1  0.2  0.3  0.4  \\\n",
              "0           0        0.692702    2240          1    1    1    1    1    1   \n",
              "1           0        0.539386     113          1    1    1    1    1    1   \n",
              "2           1        0.720771    4132          1    1    1    1    1    1   \n",
              "3           0        0.133389    5573          0    1    1    0    0    0   \n",
              "4           0        0.014007    1109          0    1    0    0    0    0   \n",
              "5           0        0.031465    2282          0    1    0    0    0    0   \n",
              "6           1        0.863533    2976          1    1    1    1    1    1   \n",
              "7           0        0.401482    8431          0    1    1    1    1    1   \n",
              "8           1        0.759476    2770          1    1    1    1    1    1   \n",
              "9           1        0.995890    5790          1    1    1    1    1    1   \n",
              "10          1        0.957700    2943          1    1    1    1    1    1   \n",
              "11          0        0.243817    1196          0    1    1    1    0    0   \n",
              "12          1        0.531291    8874          1    1    1    1    1    1   \n",
              "13          0        0.132675    1491          0    1    1    0    0    0   \n",
              "14          0        0.098334    7676          0    1    0    0    0    0   \n",
              "15          1        0.459267    8750          0    1    1    1    1    1   \n",
              "16          1        0.843452    5049          1    1    1    1    1    1   \n",
              "17          0        0.659184    5691          1    1    1    1    1    1   \n",
              "18          1        0.392194    5773          0    1    1    1    1    0   \n",
              "19          0        0.030376    3906          0    1    0    0    0    0   \n",
              "\n",
              "    0.5  0.6  0.7  0.8  0.9  final_predicted  lead_score  \n",
              "0     1    1    0    0    0                1          69  \n",
              "1     1    0    0    0    0                1          54  \n",
              "2     1    1    1    0    0                1          72  \n",
              "3     0    0    0    0    0                0          13  \n",
              "4     0    0    0    0    0                0           1  \n",
              "5     0    0    0    0    0                0           3  \n",
              "6     1    1    1    1    0                1          86  \n",
              "7     0    0    0    0    0                1          40  \n",
              "8     1    1    1    0    0                1          76  \n",
              "9     1    1    1    1    1                1         100  \n",
              "10    1    1    1    1    1                1          96  \n",
              "11    0    0    0    0    0                0          24  \n",
              "12    1    0    0    0    0                1          53  \n",
              "13    0    0    0    0    0                0          13  \n",
              "14    0    0    0    0    0                0          10  \n",
              "15    0    0    0    0    0                1          46  \n",
              "16    1    1    1    1    0                1          84  \n",
              "17    1    1    0    0    0                1          66  \n",
              "18    0    0    0    0    0                1          39  \n",
              "19    0    0    0    0    0                0           3  "
            ],
            "text/html": [
              "\n",
              "  <div id=\"df-c18c0b79-df31-49fe-9f12-89e595b1e7e1\">\n",
              "    <div class=\"colab-df-container\">\n",
              "      <div>\n",
              "<style scoped>\n",
              "    .dataframe tbody tr th:only-of-type {\n",
              "        vertical-align: middle;\n",
              "    }\n",
              "\n",
              "    .dataframe tbody tr th {\n",
              "        vertical-align: top;\n",
              "    }\n",
              "\n",
              "    .dataframe thead th {\n",
              "        text-align: right;\n",
              "    }\n",
              "</style>\n",
              "<table border=\"1\" class=\"dataframe\">\n",
              "  <thead>\n",
              "    <tr style=\"text-align: right;\">\n",
              "      <th></th>\n",
              "      <th>Converted</th>\n",
              "      <th>Converted_Prob</th>\n",
              "      <th>LeadId</th>\n",
              "      <th>predicted</th>\n",
              "      <th>0.0</th>\n",
              "      <th>0.1</th>\n",
              "      <th>0.2</th>\n",
              "      <th>0.3</th>\n",
              "      <th>0.4</th>\n",
              "      <th>0.5</th>\n",
              "      <th>0.6</th>\n",
              "      <th>0.7</th>\n",
              "      <th>0.8</th>\n",
              "      <th>0.9</th>\n",
              "      <th>final_predicted</th>\n",
              "      <th>lead_score</th>\n",
              "    </tr>\n",
              "  </thead>\n",
              "  <tbody>\n",
              "    <tr>\n",
              "      <th>0</th>\n",
              "      <td>0</td>\n",
              "      <td>0.692702</td>\n",
              "      <td>2240</td>\n",
              "      <td>1</td>\n",
              "      <td>1</td>\n",
              "      <td>1</td>\n",
              "      <td>1</td>\n",
              "      <td>1</td>\n",
              "      <td>1</td>\n",
              "      <td>1</td>\n",
              "      <td>1</td>\n",
              "      <td>0</td>\n",
              "      <td>0</td>\n",
              "      <td>0</td>\n",
              "      <td>1</td>\n",
              "      <td>69</td>\n",
              "    </tr>\n",
              "    <tr>\n",
              "      <th>1</th>\n",
              "      <td>0</td>\n",
              "      <td>0.539386</td>\n",
              "      <td>113</td>\n",
              "      <td>1</td>\n",
              "      <td>1</td>\n",
              "      <td>1</td>\n",
              "      <td>1</td>\n",
              "      <td>1</td>\n",
              "      <td>1</td>\n",
              "      <td>1</td>\n",
              "      <td>0</td>\n",
              "      <td>0</td>\n",
              "      <td>0</td>\n",
              "      <td>0</td>\n",
              "      <td>1</td>\n",
              "      <td>54</td>\n",
              "    </tr>\n",
              "    <tr>\n",
              "      <th>2</th>\n",
              "      <td>1</td>\n",
              "      <td>0.720771</td>\n",
              "      <td>4132</td>\n",
              "      <td>1</td>\n",
              "      <td>1</td>\n",
              "      <td>1</td>\n",
              "      <td>1</td>\n",
              "      <td>1</td>\n",
              "      <td>1</td>\n",
              "      <td>1</td>\n",
              "      <td>1</td>\n",
              "      <td>1</td>\n",
              "      <td>0</td>\n",
              "      <td>0</td>\n",
              "      <td>1</td>\n",
              "      <td>72</td>\n",
              "    </tr>\n",
              "    <tr>\n",
              "      <th>3</th>\n",
              "      <td>0</td>\n",
              "      <td>0.133389</td>\n",
              "      <td>5573</td>\n",
              "      <td>0</td>\n",
              "      <td>1</td>\n",
              "      <td>1</td>\n",
              "      <td>0</td>\n",
              "      <td>0</td>\n",
              "      <td>0</td>\n",
              "      <td>0</td>\n",
              "      <td>0</td>\n",
              "      <td>0</td>\n",
              "      <td>0</td>\n",
              "      <td>0</td>\n",
              "      <td>0</td>\n",
              "      <td>13</td>\n",
              "    </tr>\n",
              "    <tr>\n",
              "      <th>4</th>\n",
              "      <td>0</td>\n",
              "      <td>0.014007</td>\n",
              "      <td>1109</td>\n",
              "      <td>0</td>\n",
              "      <td>1</td>\n",
              "      <td>0</td>\n",
              "      <td>0</td>\n",
              "      <td>0</td>\n",
              "      <td>0</td>\n",
              "      <td>0</td>\n",
              "      <td>0</td>\n",
              "      <td>0</td>\n",
              "      <td>0</td>\n",
              "      <td>0</td>\n",
              "      <td>0</td>\n",
              "      <td>1</td>\n",
              "    </tr>\n",
              "    <tr>\n",
              "      <th>5</th>\n",
              "      <td>0</td>\n",
              "      <td>0.031465</td>\n",
              "      <td>2282</td>\n",
              "      <td>0</td>\n",
              "      <td>1</td>\n",
              "      <td>0</td>\n",
              "      <td>0</td>\n",
              "      <td>0</td>\n",
              "      <td>0</td>\n",
              "      <td>0</td>\n",
              "      <td>0</td>\n",
              "      <td>0</td>\n",
              "      <td>0</td>\n",
              "      <td>0</td>\n",
              "      <td>0</td>\n",
              "      <td>3</td>\n",
              "    </tr>\n",
              "    <tr>\n",
              "      <th>6</th>\n",
              "      <td>1</td>\n",
              "      <td>0.863533</td>\n",
              "      <td>2976</td>\n",
              "      <td>1</td>\n",
              "      <td>1</td>\n",
              "      <td>1</td>\n",
              "      <td>1</td>\n",
              "      <td>1</td>\n",
              "      <td>1</td>\n",
              "      <td>1</td>\n",
              "      <td>1</td>\n",
              "      <td>1</td>\n",
              "      <td>1</td>\n",
              "      <td>0</td>\n",
              "      <td>1</td>\n",
              "      <td>86</td>\n",
              "    </tr>\n",
              "    <tr>\n",
              "      <th>7</th>\n",
              "      <td>0</td>\n",
              "      <td>0.401482</td>\n",
              "      <td>8431</td>\n",
              "      <td>0</td>\n",
              "      <td>1</td>\n",
              "      <td>1</td>\n",
              "      <td>1</td>\n",
              "      <td>1</td>\n",
              "      <td>1</td>\n",
              "      <td>0</td>\n",
              "      <td>0</td>\n",
              "      <td>0</td>\n",
              "      <td>0</td>\n",
              "      <td>0</td>\n",
              "      <td>1</td>\n",
              "      <td>40</td>\n",
              "    </tr>\n",
              "    <tr>\n",
              "      <th>8</th>\n",
              "      <td>1</td>\n",
              "      <td>0.759476</td>\n",
              "      <td>2770</td>\n",
              "      <td>1</td>\n",
              "      <td>1</td>\n",
              "      <td>1</td>\n",
              "      <td>1</td>\n",
              "      <td>1</td>\n",
              "      <td>1</td>\n",
              "      <td>1</td>\n",
              "      <td>1</td>\n",
              "      <td>1</td>\n",
              "      <td>0</td>\n",
              "      <td>0</td>\n",
              "      <td>1</td>\n",
              "      <td>76</td>\n",
              "    </tr>\n",
              "    <tr>\n",
              "      <th>9</th>\n",
              "      <td>1</td>\n",
              "      <td>0.995890</td>\n",
              "      <td>5790</td>\n",
              "      <td>1</td>\n",
              "      <td>1</td>\n",
              "      <td>1</td>\n",
              "      <td>1</td>\n",
              "      <td>1</td>\n",
              "      <td>1</td>\n",
              "      <td>1</td>\n",
              "      <td>1</td>\n",
              "      <td>1</td>\n",
              "      <td>1</td>\n",
              "      <td>1</td>\n",
              "      <td>1</td>\n",
              "      <td>100</td>\n",
              "    </tr>\n",
              "    <tr>\n",
              "      <th>10</th>\n",
              "      <td>1</td>\n",
              "      <td>0.957700</td>\n",
              "      <td>2943</td>\n",
              "      <td>1</td>\n",
              "      <td>1</td>\n",
              "      <td>1</td>\n",
              "      <td>1</td>\n",
              "      <td>1</td>\n",
              "      <td>1</td>\n",
              "      <td>1</td>\n",
              "      <td>1</td>\n",
              "      <td>1</td>\n",
              "      <td>1</td>\n",
              "      <td>1</td>\n",
              "      <td>1</td>\n",
              "      <td>96</td>\n",
              "    </tr>\n",
              "    <tr>\n",
              "      <th>11</th>\n",
              "      <td>0</td>\n",
              "      <td>0.243817</td>\n",
              "      <td>1196</td>\n",
              "      <td>0</td>\n",
              "      <td>1</td>\n",
              "      <td>1</td>\n",
              "      <td>1</td>\n",
              "      <td>0</td>\n",
              "      <td>0</td>\n",
              "      <td>0</td>\n",
              "      <td>0</td>\n",
              "      <td>0</td>\n",
              "      <td>0</td>\n",
              "      <td>0</td>\n",
              "      <td>0</td>\n",
              "      <td>24</td>\n",
              "    </tr>\n",
              "    <tr>\n",
              "      <th>12</th>\n",
              "      <td>1</td>\n",
              "      <td>0.531291</td>\n",
              "      <td>8874</td>\n",
              "      <td>1</td>\n",
              "      <td>1</td>\n",
              "      <td>1</td>\n",
              "      <td>1</td>\n",
              "      <td>1</td>\n",
              "      <td>1</td>\n",
              "      <td>1</td>\n",
              "      <td>0</td>\n",
              "      <td>0</td>\n",
              "      <td>0</td>\n",
              "      <td>0</td>\n",
              "      <td>1</td>\n",
              "      <td>53</td>\n",
              "    </tr>\n",
              "    <tr>\n",
              "      <th>13</th>\n",
              "      <td>0</td>\n",
              "      <td>0.132675</td>\n",
              "      <td>1491</td>\n",
              "      <td>0</td>\n",
              "      <td>1</td>\n",
              "      <td>1</td>\n",
              "      <td>0</td>\n",
              "      <td>0</td>\n",
              "      <td>0</td>\n",
              "      <td>0</td>\n",
              "      <td>0</td>\n",
              "      <td>0</td>\n",
              "      <td>0</td>\n",
              "      <td>0</td>\n",
              "      <td>0</td>\n",
              "      <td>13</td>\n",
              "    </tr>\n",
              "    <tr>\n",
              "      <th>14</th>\n",
              "      <td>0</td>\n",
              "      <td>0.098334</td>\n",
              "      <td>7676</td>\n",
              "      <td>0</td>\n",
              "      <td>1</td>\n",
              "      <td>0</td>\n",
              "      <td>0</td>\n",
              "      <td>0</td>\n",
              "      <td>0</td>\n",
              "      <td>0</td>\n",
              "      <td>0</td>\n",
              "      <td>0</td>\n",
              "      <td>0</td>\n",
              "      <td>0</td>\n",
              "      <td>0</td>\n",
              "      <td>10</td>\n",
              "    </tr>\n",
              "    <tr>\n",
              "      <th>15</th>\n",
              "      <td>1</td>\n",
              "      <td>0.459267</td>\n",
              "      <td>8750</td>\n",
              "      <td>0</td>\n",
              "      <td>1</td>\n",
              "      <td>1</td>\n",
              "      <td>1</td>\n",
              "      <td>1</td>\n",
              "      <td>1</td>\n",
              "      <td>0</td>\n",
              "      <td>0</td>\n",
              "      <td>0</td>\n",
              "      <td>0</td>\n",
              "      <td>0</td>\n",
              "      <td>1</td>\n",
              "      <td>46</td>\n",
              "    </tr>\n",
              "    <tr>\n",
              "      <th>16</th>\n",
              "      <td>1</td>\n",
              "      <td>0.843452</td>\n",
              "      <td>5049</td>\n",
              "      <td>1</td>\n",
              "      <td>1</td>\n",
              "      <td>1</td>\n",
              "      <td>1</td>\n",
              "      <td>1</td>\n",
              "      <td>1</td>\n",
              "      <td>1</td>\n",
              "      <td>1</td>\n",
              "      <td>1</td>\n",
              "      <td>1</td>\n",
              "      <td>0</td>\n",
              "      <td>1</td>\n",
              "      <td>84</td>\n",
              "    </tr>\n",
              "    <tr>\n",
              "      <th>17</th>\n",
              "      <td>0</td>\n",
              "      <td>0.659184</td>\n",
              "      <td>5691</td>\n",
              "      <td>1</td>\n",
              "      <td>1</td>\n",
              "      <td>1</td>\n",
              "      <td>1</td>\n",
              "      <td>1</td>\n",
              "      <td>1</td>\n",
              "      <td>1</td>\n",
              "      <td>1</td>\n",
              "      <td>0</td>\n",
              "      <td>0</td>\n",
              "      <td>0</td>\n",
              "      <td>1</td>\n",
              "      <td>66</td>\n",
              "    </tr>\n",
              "    <tr>\n",
              "      <th>18</th>\n",
              "      <td>1</td>\n",
              "      <td>0.392194</td>\n",
              "      <td>5773</td>\n",
              "      <td>0</td>\n",
              "      <td>1</td>\n",
              "      <td>1</td>\n",
              "      <td>1</td>\n",
              "      <td>1</td>\n",
              "      <td>0</td>\n",
              "      <td>0</td>\n",
              "      <td>0</td>\n",
              "      <td>0</td>\n",
              "      <td>0</td>\n",
              "      <td>0</td>\n",
              "      <td>1</td>\n",
              "      <td>39</td>\n",
              "    </tr>\n",
              "    <tr>\n",
              "      <th>19</th>\n",
              "      <td>0</td>\n",
              "      <td>0.030376</td>\n",
              "      <td>3906</td>\n",
              "      <td>0</td>\n",
              "      <td>1</td>\n",
              "      <td>0</td>\n",
              "      <td>0</td>\n",
              "      <td>0</td>\n",
              "      <td>0</td>\n",
              "      <td>0</td>\n",
              "      <td>0</td>\n",
              "      <td>0</td>\n",
              "      <td>0</td>\n",
              "      <td>0</td>\n",
              "      <td>0</td>\n",
              "      <td>3</td>\n",
              "    </tr>\n",
              "  </tbody>\n",
              "</table>\n",
              "</div>\n",
              "      <button class=\"colab-df-convert\" onclick=\"convertToInteractive('df-c18c0b79-df31-49fe-9f12-89e595b1e7e1')\"\n",
              "              title=\"Convert this dataframe to an interactive table.\"\n",
              "              style=\"display:none;\">\n",
              "        \n",
              "  <svg xmlns=\"http://www.w3.org/2000/svg\" height=\"24px\"viewBox=\"0 0 24 24\"\n",
              "       width=\"24px\">\n",
              "    <path d=\"M0 0h24v24H0V0z\" fill=\"none\"/>\n",
              "    <path d=\"M18.56 5.44l.94 2.06.94-2.06 2.06-.94-2.06-.94-.94-2.06-.94 2.06-2.06.94zm-11 1L8.5 8.5l.94-2.06 2.06-.94-2.06-.94L8.5 2.5l-.94 2.06-2.06.94zm10 10l.94 2.06.94-2.06 2.06-.94-2.06-.94-.94-2.06-.94 2.06-2.06.94z\"/><path d=\"M17.41 7.96l-1.37-1.37c-.4-.4-.92-.59-1.43-.59-.52 0-1.04.2-1.43.59L10.3 9.45l-7.72 7.72c-.78.78-.78 2.05 0 2.83L4 21.41c.39.39.9.59 1.41.59.51 0 1.02-.2 1.41-.59l7.78-7.78 2.81-2.81c.8-.78.8-2.07 0-2.86zM5.41 20L4 18.59l7.72-7.72 1.47 1.35L5.41 20z\"/>\n",
              "  </svg>\n",
              "      </button>\n",
              "      \n",
              "  <style>\n",
              "    .colab-df-container {\n",
              "      display:flex;\n",
              "      flex-wrap:wrap;\n",
              "      gap: 12px;\n",
              "    }\n",
              "\n",
              "    .colab-df-convert {\n",
              "      background-color: #E8F0FE;\n",
              "      border: none;\n",
              "      border-radius: 50%;\n",
              "      cursor: pointer;\n",
              "      display: none;\n",
              "      fill: #1967D2;\n",
              "      height: 32px;\n",
              "      padding: 0 0 0 0;\n",
              "      width: 32px;\n",
              "    }\n",
              "\n",
              "    .colab-df-convert:hover {\n",
              "      background-color: #E2EBFA;\n",
              "      box-shadow: 0px 1px 2px rgba(60, 64, 67, 0.3), 0px 1px 3px 1px rgba(60, 64, 67, 0.15);\n",
              "      fill: #174EA6;\n",
              "    }\n",
              "\n",
              "    [theme=dark] .colab-df-convert {\n",
              "      background-color: #3B4455;\n",
              "      fill: #D2E3FC;\n",
              "    }\n",
              "\n",
              "    [theme=dark] .colab-df-convert:hover {\n",
              "      background-color: #434B5C;\n",
              "      box-shadow: 0px 1px 3px 1px rgba(0, 0, 0, 0.15);\n",
              "      filter: drop-shadow(0px 1px 2px rgba(0, 0, 0, 0.3));\n",
              "      fill: #FFFFFF;\n",
              "    }\n",
              "  </style>\n",
              "\n",
              "      <script>\n",
              "        const buttonEl =\n",
              "          document.querySelector('#df-c18c0b79-df31-49fe-9f12-89e595b1e7e1 button.colab-df-convert');\n",
              "        buttonEl.style.display =\n",
              "          google.colab.kernel.accessAllowed ? 'block' : 'none';\n",
              "\n",
              "        async function convertToInteractive(key) {\n",
              "          const element = document.querySelector('#df-c18c0b79-df31-49fe-9f12-89e595b1e7e1');\n",
              "          const dataTable =\n",
              "            await google.colab.kernel.invokeFunction('convertToInteractive',\n",
              "                                                     [key], {});\n",
              "          if (!dataTable) return;\n",
              "\n",
              "          const docLinkHtml = 'Like what you see? Visit the ' +\n",
              "            '<a target=\"_blank\" href=https://colab.research.google.com/notebooks/data_table.ipynb>data table notebook</a>'\n",
              "            + ' to learn more about interactive tables.';\n",
              "          element.innerHTML = '';\n",
              "          dataTable['output_type'] = 'display_data';\n",
              "          await google.colab.output.renderOutput(dataTable, element);\n",
              "          const docLink = document.createElement('div');\n",
              "          docLink.innerHTML = docLinkHtml;\n",
              "          element.appendChild(docLink);\n",
              "        }\n",
              "      </script>\n",
              "    </div>\n",
              "  </div>\n",
              "  "
            ]
          },
          "metadata": {},
          "execution_count": 137
        }
      ],
      "source": [
        "# Now let us calculate the lead score\n",
        "\n",
        "y_train_pred_final['lead_score'] = y_train_pred_final.Converted_Prob.map(lambda x: round(x*100))\n",
        "y_train_pred_final.head(20)"
      ]
    },
    {
      "cell_type": "code",
      "execution_count": 138,
      "metadata": {
        "colab": {
          "base_uri": "https://localhost:8080/"
        },
        "id": "Vt0pMDZ3ZQi8",
        "outputId": "200cf09f-2acf-41b3-f8a8-865d60bd2527"
      },
      "outputs": [
        {
          "output_type": "execute_result",
          "data": {
            "text/plain": [
              "1    1969\n",
              "0     493\n",
              "Name: final_predicted, dtype: int64"
            ]
          },
          "metadata": {},
          "execution_count": 138
        }
      ],
      "source": [
        "# checking if 80% cases are correctly predicted based on the converted column.\n",
        "\n",
        "# get the total of final predicted conversion / non conversion counts from the actual converted rates\n",
        "\n",
        "checking_df = y_train_pred_final.loc[y_train_pred_final['Converted']==1,['Converted','final_predicted']]\n",
        "checking_df['final_predicted'].value_counts()"
      ]
    },
    {
      "cell_type": "code",
      "execution_count": 139,
      "metadata": {
        "colab": {
          "base_uri": "https://localhost:8080/"
        },
        "id": "NFn1TifOZQi9",
        "outputId": "dfe07497-bdce-4312-b7d3-5224318f01c5"
      },
      "outputs": [
        {
          "output_type": "execute_result",
          "data": {
            "text/plain": [
              "0.7981316003249391"
            ]
          },
          "metadata": {},
          "execution_count": 139
        }
      ],
      "source": [
        "# check the precentage of final_predicted conversions\n",
        "\n",
        "1965/float(1965+497)"
      ]
    },
    {
      "cell_type": "markdown",
      "metadata": {
        "id": "8fWN7yrhZQi9"
      },
      "source": [
        "##### Hence we can see that the final prediction of conversions have a target of 80% (79.8%) conversion as per the X Educations CEO's requirement . Hence this is a good model."
      ]
    },
    {
      "cell_type": "markdown",
      "metadata": {
        "id": "72FnnBI8ZQi9"
      },
      "source": [
        "##### Overall Metrics - Accuracy, Confusion Metrics, Sensitivity, Specificity, False Postive Rate, Positive Predictive Value, Negative Predicitive Value  on final prediction on train set"
      ]
    },
    {
      "cell_type": "code",
      "execution_count": 140,
      "metadata": {
        "colab": {
          "base_uri": "https://localhost:8080/"
        },
        "id": "n0viCps_ZQi9",
        "outputId": "65a317a6-27ad-4d48-d37f-111311e45b5a"
      },
      "outputs": [
        {
          "output_type": "execute_result",
          "data": {
            "text/plain": [
              "0.8126582278481013"
            ]
          },
          "metadata": {},
          "execution_count": 140
        }
      ],
      "source": [
        "# Let's check the overall accuracy.\n",
        "\n",
        "metrics.accuracy_score(y_train_pred_final.Converted, y_train_pred_final.final_predicted)"
      ]
    },
    {
      "cell_type": "code",
      "execution_count": 141,
      "metadata": {
        "colab": {
          "base_uri": "https://localhost:8080/"
        },
        "id": "6b9wk6msZQi9",
        "outputId": "bddca47b-6d3a-4c29-eae5-430baf47b1f9"
      },
      "outputs": [
        {
          "output_type": "execute_result",
          "data": {
            "text/plain": [
              "array([[3167,  691],\n",
              "       [ 493, 1969]])"
            ]
          },
          "metadata": {},
          "execution_count": 141
        }
      ],
      "source": [
        "confusion2 = metrics.confusion_matrix(y_train_pred_final.Converted, y_train_pred_final.final_predicted )\n",
        "confusion2"
      ]
    },
    {
      "cell_type": "code",
      "execution_count": 142,
      "metadata": {
        "id": "MUa_lXYHZQi-"
      },
      "outputs": [],
      "source": [
        "TP = confusion2[1,1] # true positive \n",
        "TN = confusion2[0,0] # true negatives\n",
        "FP = confusion2[0,1] # false positives\n",
        "FN = confusion2[1,0] # false negatives"
      ]
    },
    {
      "cell_type": "code",
      "execution_count": 143,
      "metadata": {
        "colab": {
          "base_uri": "https://localhost:8080/"
        },
        "id": "nNMCjQzdZQi-",
        "outputId": "cbd028ce-a720-460f-e977-b89ea21b4eb5"
      },
      "outputs": [
        {
          "output_type": "execute_result",
          "data": {
            "text/plain": [
              "0.7997562956945573"
            ]
          },
          "metadata": {},
          "execution_count": 143
        }
      ],
      "source": [
        "# Let's see the sensitivity of our logistic regression model\n",
        "\n",
        "TP / float(TP+FN)"
      ]
    },
    {
      "cell_type": "code",
      "execution_count": 144,
      "metadata": {
        "colab": {
          "base_uri": "https://localhost:8080/"
        },
        "id": "mlHRJRulZQi-",
        "outputId": "c66b110a-b056-4362-b9d6-16e4484f99aa"
      },
      "outputs": [
        {
          "output_type": "execute_result",
          "data": {
            "text/plain": [
              "0.8208916537065837"
            ]
          },
          "metadata": {},
          "execution_count": 144
        }
      ],
      "source": [
        "# Let us calculate specificity\n",
        "\n",
        "TN / float(TN+FP)"
      ]
    },
    {
      "cell_type": "code",
      "execution_count": 145,
      "metadata": {
        "colab": {
          "base_uri": "https://localhost:8080/"
        },
        "id": "-FYpqrG7ZQi-",
        "outputId": "38e0fe13-21d2-4c4d-a643-4e7e419e8803"
      },
      "outputs": [
        {
          "output_type": "stream",
          "name": "stdout",
          "text": [
            "0.17910834629341627\n"
          ]
        }
      ],
      "source": [
        "# Calculate false postive rate - predicting conversions when leads has not converted\n",
        "\n",
        "print(FP/ float(TN+FP))"
      ]
    },
    {
      "cell_type": "code",
      "execution_count": 146,
      "metadata": {
        "colab": {
          "base_uri": "https://localhost:8080/"
        },
        "id": "KzMA4fkkZQi-",
        "outputId": "48fc5dd5-e13e-4930-bd12-9144bf0bdaf3"
      },
      "outputs": [
        {
          "output_type": "stream",
          "name": "stdout",
          "text": [
            "0.7402255639097745\n"
          ]
        }
      ],
      "source": [
        "# Positive predictive value \n",
        "\n",
        "print (TP / float(TP+FP))"
      ]
    },
    {
      "cell_type": "code",
      "execution_count": 147,
      "metadata": {
        "colab": {
          "base_uri": "https://localhost:8080/"
        },
        "id": "oyxPAjggZQi_",
        "outputId": "dc664b21-0d19-4b66-bb0b-1e0c27c4b86e"
      },
      "outputs": [
        {
          "output_type": "stream",
          "name": "stdout",
          "text": [
            "0.8653005464480874\n"
          ]
        }
      ],
      "source": [
        "# Negative predictive value\n",
        "\n",
        "print (TN / float(TN+ FN))"
      ]
    },
    {
      "cell_type": "markdown",
      "metadata": {
        "id": "R19qze_8ZQi_"
      },
      "source": [
        "##### Metrics - Precision and Recall"
      ]
    },
    {
      "cell_type": "code",
      "execution_count": 148,
      "metadata": {
        "colab": {
          "base_uri": "https://localhost:8080/"
        },
        "id": "BC1O615yZQi_",
        "outputId": "3a2e58d5-948b-4a25-e814-3e9f5107f070"
      },
      "outputs": [
        {
          "output_type": "execute_result",
          "data": {
            "text/plain": [
              "array([[3413,  445],\n",
              "       [ 708, 1754]])"
            ]
          },
          "metadata": {},
          "execution_count": 148
        }
      ],
      "source": [
        "#Looking at the confusion matrix again\n",
        "\n",
        "confusion = metrics.confusion_matrix(y_train_pred_final.Converted, y_train_pred_final.predicted )\n",
        "confusion"
      ]
    },
    {
      "cell_type": "code",
      "execution_count": 149,
      "metadata": {
        "id": "tErJ9DkWZQi_"
      },
      "outputs": [],
      "source": [
        "from sklearn.metrics import precision_score, recall_score"
      ]
    },
    {
      "cell_type": "code",
      "execution_count": 150,
      "metadata": {
        "colab": {
          "base_uri": "https://localhost:8080/"
        },
        "id": "f3Z5AGUAZQi_",
        "outputId": "30a5c0a3-ddca-41ff-d7b5-4c295452dd04"
      },
      "outputs": [
        {
          "output_type": "execute_result",
          "data": {
            "text/plain": [
              "0.7976352887676217"
            ]
          },
          "metadata": {},
          "execution_count": 150
        }
      ],
      "source": [
        "# precision\n",
        "\n",
        "precision_score(y_train_pred_final.Converted, y_train_pred_final.predicted)"
      ]
    },
    {
      "cell_type": "code",
      "execution_count": 151,
      "metadata": {
        "colab": {
          "base_uri": "https://localhost:8080/"
        },
        "id": "JMU9z4nAZQjA",
        "outputId": "69bf1b10-1481-4acd-f82b-88d9b3fd7290"
      },
      "outputs": [
        {
          "output_type": "execute_result",
          "data": {
            "text/plain": [
              "0.7124289195775793"
            ]
          },
          "metadata": {},
          "execution_count": 151
        }
      ],
      "source": [
        "# recall\n",
        "\n",
        "recall_score(y_train_pred_final.Converted, y_train_pred_final.predicted)"
      ]
    },
    {
      "cell_type": "markdown",
      "metadata": {
        "id": "qfU_rq8VZQjA"
      },
      "source": [
        "### Precision and recall tradeoff"
      ]
    },
    {
      "cell_type": "code",
      "execution_count": 152,
      "metadata": {
        "id": "i3XW78lzZQjA"
      },
      "outputs": [],
      "source": [
        "from sklearn.metrics import precision_recall_curve"
      ]
    },
    {
      "cell_type": "code",
      "execution_count": 153,
      "metadata": {
        "colab": {
          "base_uri": "https://localhost:8080/"
        },
        "id": "UhiLyZHpZQjA",
        "outputId": "bf7692af-8fd3-4012-a4a1-f8cf8d32da37"
      },
      "outputs": [
        {
          "output_type": "execute_result",
          "data": {
            "text/plain": [
              "(0       0\n",
              " 1       0\n",
              " 2       1\n",
              " 3       0\n",
              " 4       0\n",
              "        ..\n",
              " 6315    1\n",
              " 6316    1\n",
              " 6317    0\n",
              " 6318    0\n",
              " 6319    0\n",
              " Name: Converted, Length: 6320, dtype: int64, 0       1\n",
              " 1       1\n",
              " 2       1\n",
              " 3       0\n",
              " 4       0\n",
              "        ..\n",
              " 6315    0\n",
              " 6316    1\n",
              " 6317    0\n",
              " 6318    0\n",
              " 6319    0\n",
              " Name: predicted, Length: 6320, dtype: int64)"
            ]
          },
          "metadata": {},
          "execution_count": 153
        }
      ],
      "source": [
        "y_train_pred_final.Converted, y_train_pred_final.predicted"
      ]
    },
    {
      "cell_type": "code",
      "execution_count": 154,
      "metadata": {
        "id": "iXo6RtFPZQjA"
      },
      "outputs": [],
      "source": [
        "p, r, thresholds = precision_recall_curve(y_train_pred_final.Converted, y_train_pred_final.Converted_Prob)"
      ]
    },
    {
      "cell_type": "code",
      "execution_count": 155,
      "metadata": {
        "colab": {
          "base_uri": "https://localhost:8080/",
          "height": 265
        },
        "id": "j3FsNFesZQjA",
        "outputId": "dab02c08-b8a0-4826-dea9-314d5052cf25"
      },
      "outputs": [
        {
          "output_type": "display_data",
          "data": {
            "text/plain": [
              "<Figure size 432x288 with 1 Axes>"
            ],
            "image/png": "[encoded data removed]"
          },
          "metadata": {
            "needs_background": "light"
          }
        }
      ],
      "source": [
        "plt.plot(thresholds, p[:-1], \"g-\")\n",
        "plt.plot(thresholds, r[:-1], \"r-\")\n",
        "plt.show()"
      ]
    },
    {
      "cell_type": "markdown",
      "metadata": {
        "id": "ssejucSOZQjA"
      },
      "source": [
        "### Step 11: Making predictions on the test set"
      ]
    },
    {
      "cell_type": "code",
      "execution_count": 156,
      "metadata": {
        "id": "wAU2FIVsZQjA"
      },
      "outputs": [],
      "source": [
        "X_test[['TotalVisits','Total Time Spent on Website','Page Views Per Visit']] = scaler.transform(X_test[['TotalVisits',\n",
        "                                                                        'Total Time Spent on Website','Page Views Per Visit']])"
      ]
    },
    {
      "cell_type": "code",
      "execution_count": 157,
      "metadata": {
        "colab": {
          "base_uri": "https://localhost:8080/",
          "height": 340
        },
        "id": "YxiFmUEiZQjA",
        "outputId": "372f3e94-d7b0-4c1c-b3d7-9a2769bcb495"
      },
      "outputs": [
        {
          "output_type": "execute_result",
          "data": {
            "text/plain": [
              "      Do Not Email  TotalVisits  Total Time Spent on Website  \\\n",
              "2296             0       0.1875                     0.665313   \n",
              "8697             0       0.4375                     0.184032   \n",
              "7378             0       0.1250                     0.163284   \n",
              "8631             0       0.3125                     0.407307   \n",
              "4799             0       0.5000                     0.744700   \n",
              "\n",
              "      Page Views Per Visit  Search  LeadOrigin_Lead Add Form  \\\n",
              "2296               0.37500       0                         0   \n",
              "8697               0.21875       0                         0   \n",
              "7378               0.25000       0                         0   \n",
              "8631               0.62500       0                         0   \n",
              "4799               1.00000       0                         0   \n",
              "\n",
              "      LeadSource_Olark Chat  LeadSource_Reference  \\\n",
              "2296                      0                     0   \n",
              "8697                      0                     0   \n",
              "7378                      0                     0   \n",
              "8631                      0                     0   \n",
              "4799                      0                     0   \n",
              "\n",
              "      LeadSource_Welingak Website  LastActivity_Email Opened  \\\n",
              "2296                            0                          0   \n",
              "8697                            0                          0   \n",
              "7378                            0                          1   \n",
              "8631                            0                          0   \n",
              "4799                            0                          0   \n",
              "\n",
              "      LastActivity_Olark Chat Conversation  LastActivity_SMS Sent  \\\n",
              "2296                                     0                      1   \n",
              "8697                                     0                      1   \n",
              "7378                                     0                      0   \n",
              "8631                                     0                      1   \n",
              "4799                                     0                      1   \n",
              "\n",
              "      CurrentOccupation_No Information  \\\n",
              "2296                                 0   \n",
              "8697                                 0   \n",
              "7378                                 0   \n",
              "8631                                 0   \n",
              "4799                                 0   \n",
              "\n",
              "      CurrentOccupation_Working Professional  \\\n",
              "2296                                       0   \n",
              "8697                                       0   \n",
              "7378                                       0   \n",
              "8631                                       0   \n",
              "4799                                       0   \n",
              "\n",
              "      LastNotableActivity_Had a Phone Conversation  \\\n",
              "2296                                             0   \n",
              "8697                                             0   \n",
              "7378                                             0   \n",
              "8631                                             0   \n",
              "4799                                             0   \n",
              "\n",
              "      LastNotableActivity_Modified  LastNotableActivity_Unreachable  \n",
              "2296                             0                                0  \n",
              "8697                             0                                0  \n",
              "7378                             0                                0  \n",
              "8631                             1                                0  \n",
              "4799                             0                                0  "
            ],
            "text/html": [
              "\n",
              "  <div id=\"df-407142a7-28b3-4664-80ec-42089d366f8b\">\n",
              "    <div class=\"colab-df-container\">\n",
              "      <div>\n",
              "<style scoped>\n",
              "    .dataframe tbody tr th:only-of-type {\n",
              "        vertical-align: middle;\n",
              "    }\n",
              "\n",
              "    .dataframe tbody tr th {\n",
              "        vertical-align: top;\n",
              "    }\n",
              "\n",
              "    .dataframe thead th {\n",
              "        text-align: right;\n",
              "    }\n",
              "</style>\n",
              "<table border=\"1\" class=\"dataframe\">\n",
              "  <thead>\n",
              "    <tr style=\"text-align: right;\">\n",
              "      <th></th>\n",
              "      <th>Do Not Email</th>\n",
              "      <th>TotalVisits</th>\n",
              "      <th>Total Time Spent on Website</th>\n",
              "      <th>Page Views Per Visit</th>\n",
              "      <th>Search</th>\n",
              "      <th>LeadOrigin_Lead Add Form</th>\n",
              "      <th>LeadSource_Olark Chat</th>\n",
              "      <th>LeadSource_Reference</th>\n",
              "      <th>LeadSource_Welingak Website</th>\n",
              "      <th>LastActivity_Email Opened</th>\n",
              "      <th>LastActivity_Olark Chat Conversation</th>\n",
              "      <th>LastActivity_SMS Sent</th>\n",
              "      <th>CurrentOccupation_No Information</th>\n",
              "      <th>CurrentOccupation_Working Professional</th>\n",
              "      <th>LastNotableActivity_Had a Phone Conversation</th>\n",
              "      <th>LastNotableActivity_Modified</th>\n",
              "      <th>LastNotableActivity_Unreachable</th>\n",
              "    </tr>\n",
              "  </thead>\n",
              "  <tbody>\n",
              "    <tr>\n",
              "      <th>2296</th>\n",
              "      <td>0</td>\n",
              "      <td>0.1875</td>\n",
              "      <td>0.665313</td>\n",
              "      <td>0.37500</td>\n",
              "      <td>0</td>\n",
              "      <td>0</td>\n",
              "      <td>0</td>\n",
              "      <td>0</td>\n",
              "      <td>0</td>\n",
              "      <td>0</td>\n",
              "      <td>0</td>\n",
              "      <td>1</td>\n",
              "      <td>0</td>\n",
              "      <td>0</td>\n",
              "      <td>0</td>\n",
              "      <td>0</td>\n",
              "      <td>0</td>\n",
              "    </tr>\n",
              "    <tr>\n",
              "      <th>8697</th>\n",
              "      <td>0</td>\n",
              "      <td>0.4375</td>\n",
              "      <td>0.184032</td>\n",
              "      <td>0.21875</td>\n",
              "      <td>0</td>\n",
              "      <td>0</td>\n",
              "      <td>0</td>\n",
              "      <td>0</td>\n",
              "      <td>0</td>\n",
              "      <td>0</td>\n",
              "      <td>0</td>\n",
              "      <td>1</td>\n",
              "      <td>0</td>\n",
              "      <td>0</td>\n",
              "      <td>0</td>\n",
              "      <td>0</td>\n",
              "      <td>0</td>\n",
              "    </tr>\n",
              "    <tr>\n",
              "      <th>7378</th>\n",
              "      <td>0</td>\n",
              "      <td>0.1250</td>\n",
              "      <td>0.163284</td>\n",
              "      <td>0.25000</td>\n",
              "      <td>0</td>\n",
              "      <td>0</td>\n",
              "      <td>0</td>\n",
              "      <td>0</td>\n",
              "      <td>0</td>\n",
              "      <td>1</td>\n",
              "      <td>0</td>\n",
              "      <td>0</td>\n",
              "      <td>0</td>\n",
              "      <td>0</td>\n",
              "      <td>0</td>\n",
              "      <td>0</td>\n",
              "      <td>0</td>\n",
              "    </tr>\n",
              "    <tr>\n",
              "      <th>8631</th>\n",
              "      <td>0</td>\n",
              "      <td>0.3125</td>\n",
              "      <td>0.407307</td>\n",
              "      <td>0.62500</td>\n",
              "      <td>0</td>\n",
              "      <td>0</td>\n",
              "      <td>0</td>\n",
              "      <td>0</td>\n",
              "      <td>0</td>\n",
              "      <td>0</td>\n",
              "      <td>0</td>\n",
              "      <td>1</td>\n",
              "      <td>0</td>\n",
              "      <td>0</td>\n",
              "      <td>0</td>\n",
              "      <td>1</td>\n",
              "      <td>0</td>\n",
              "    </tr>\n",
              "    <tr>\n",
              "      <th>4799</th>\n",
              "      <td>0</td>\n",
              "      <td>0.5000</td>\n",
              "      <td>0.744700</td>\n",
              "      <td>1.00000</td>\n",
              "      <td>0</td>\n",
              "      <td>0</td>\n",
              "      <td>0</td>\n",
              "      <td>0</td>\n",
              "      <td>0</td>\n",
              "      <td>0</td>\n",
              "      <td>0</td>\n",
              "      <td>1</td>\n",
              "      <td>0</td>\n",
              "      <td>0</td>\n",
              "      <td>0</td>\n",
              "      <td>0</td>\n",
              "      <td>0</td>\n",
              "    </tr>\n",
              "  </tbody>\n",
              "</table>\n",
              "</div>\n",
              "      <button class=\"colab-df-convert\" onclick=\"convertToInteractive('df-407142a7-28b3-4664-80ec-42089d366f8b')\"\n",
              "              title=\"Convert this dataframe to an interactive table.\"\n",
              "              style=\"display:none;\">\n",
              "        \n",
              "  <svg xmlns=\"http://www.w3.org/2000/svg\" height=\"24px\"viewBox=\"0 0 24 24\"\n",
              "       width=\"24px\">\n",
              "    <path d=\"M0 0h24v24H0V0z\" fill=\"none\"/>\n",
              "    <path d=\"M18.56 5.44l.94 2.06.94-2.06 2.06-.94-2.06-.94-.94-2.06-.94 2.06-2.06.94zm-11 1L8.5 8.5l.94-2.06 2.06-.94-2.06-.94L8.5 2.5l-.94 2.06-2.06.94zm10 10l.94 2.06.94-2.06 2.06-.94-2.06-.94-.94-2.06-.94 2.06-2.06.94z\"/><path d=\"M17.41 7.96l-1.37-1.37c-.4-.4-.92-.59-1.43-.59-.52 0-1.04.2-1.43.59L10.3 9.45l-7.72 7.72c-.78.78-.78 2.05 0 2.83L4 21.41c.39.39.9.59 1.41.59.51 0 1.02-.2 1.41-.59l7.78-7.78 2.81-2.81c.8-.78.8-2.07 0-2.86zM5.41 20L4 18.59l7.72-7.72 1.47 1.35L5.41 20z\"/>\n",
              "  </svg>\n",
              "      </button>\n",
              "      \n",
              "  <style>\n",
              "    .colab-df-container {\n",
              "      display:flex;\n",
              "      flex-wrap:wrap;\n",
              "      gap: 12px;\n",
              "    }\n",
              "\n",
              "    .colab-df-convert {\n",
              "      background-color: #E8F0FE;\n",
              "      border: none;\n",
              "      border-radius: 50%;\n",
              "      cursor: pointer;\n",
              "      display: none;\n",
              "      fill: #1967D2;\n",
              "      height: 32px;\n",
              "      padding: 0 0 0 0;\n",
              "      width: 32px;\n",
              "    }\n",
              "\n",
              "    .colab-df-convert:hover {\n",
              "      background-color: #E2EBFA;\n",
              "      box-shadow: 0px 1px 2px rgba(60, 64, 67, 0.3), 0px 1px 3px 1px rgba(60, 64, 67, 0.15);\n",
              "      fill: #174EA6;\n",
              "    }\n",
              "\n",
              "    [theme=dark] .colab-df-convert {\n",
              "      background-color: #3B4455;\n",
              "      fill: #D2E3FC;\n",
              "    }\n",
              "\n",
              "    [theme=dark] .colab-df-convert:hover {\n",
              "      background-color: #434B5C;\n",
              "      box-shadow: 0px 1px 3px 1px rgba(0, 0, 0, 0.15);\n",
              "      filter: drop-shadow(0px 1px 2px rgba(0, 0, 0, 0.3));\n",
              "      fill: #FFFFFF;\n",
              "    }\n",
              "  </style>\n",
              "\n",
              "      <script>\n",
              "        const buttonEl =\n",
              "          document.querySelector('#df-407142a7-28b3-4664-80ec-42089d366f8b button.colab-df-convert');\n",
              "        buttonEl.style.display =\n",
              "          google.colab.kernel.accessAllowed ? 'block' : 'none';\n",
              "\n",
              "        async function convertToInteractive(key) {\n",
              "          const element = document.querySelector('#df-407142a7-28b3-4664-80ec-42089d366f8b');\n",
              "          const dataTable =\n",
              "            await google.colab.kernel.invokeFunction('convertToInteractive',\n",
              "                                                     [key], {});\n",
              "          if (!dataTable) return;\n",
              "\n",
              "          const docLinkHtml = 'Like what you see? Visit the ' +\n",
              "            '<a target=\"_blank\" href=https://colab.research.google.com/notebooks/data_table.ipynb>data table notebook</a>'\n",
              "            + ' to learn more about interactive tables.';\n",
              "          element.innerHTML = '';\n",
              "          dataTable['output_type'] = 'display_data';\n",
              "          await google.colab.output.renderOutput(dataTable, element);\n",
              "          const docLink = document.createElement('div');\n",
              "          docLink.innerHTML = docLinkHtml;\n",
              "          element.appendChild(docLink);\n",
              "        }\n",
              "      </script>\n",
              "    </div>\n",
              "  </div>\n",
              "  "
            ]
          },
          "metadata": {},
          "execution_count": 157
        }
      ],
      "source": [
        "X_test = X_test[col]\n",
        "X_test.head()"
      ]
    },
    {
      "cell_type": "code",
      "execution_count": 158,
      "metadata": {
        "id": "IaJEselVZQjB"
      },
      "outputs": [],
      "source": [
        "X_test_sm = sm.add_constant(X_test)"
      ]
    },
    {
      "cell_type": "markdown",
      "metadata": {
        "id": "JRgeLM3KZQjB"
      },
      "source": [
        "Making predictions on the test set"
      ]
    },
    {
      "cell_type": "code",
      "execution_count": 159,
      "metadata": {
        "id": "1BOPzyfXZQjB"
      },
      "outputs": [],
      "source": [
        "y_test_pred = res.predict(X_test_sm)"
      ]
    },
    {
      "cell_type": "code",
      "execution_count": 160,
      "metadata": {
        "colab": {
          "base_uri": "https://localhost:8080/"
        },
        "id": "-T9gUZj1ZQjB",
        "outputId": "5b51a423-675d-467f-a70a-afbeea00bc37"
      },
      "outputs": [
        {
          "output_type": "execute_result",
          "data": {
            "text/plain": [
              "2296    0.900237\n",
              "8697    0.646428\n",
              "7378    0.220178\n",
              "8631    0.624710\n",
              "4799    0.929538\n",
              "4503    0.357159\n",
              "7129    0.864322\n",
              "1717    0.144057\n",
              "8398    0.866519\n",
              "5116    0.255602\n",
              "dtype: float64"
            ]
          },
          "metadata": {},
          "execution_count": 160
        }
      ],
      "source": [
        "y_test_pred[:10]"
      ]
    },
    {
      "cell_type": "code",
      "execution_count": 161,
      "metadata": {
        "id": "OeyyVBkhZQjB"
      },
      "outputs": [],
      "source": [
        "# Converting y_pred to a dataframe which is an array\n",
        "\n",
        "y_pred_1 = pd.DataFrame(y_test_pred)"
      ]
    },
    {
      "cell_type": "code",
      "execution_count": 162,
      "metadata": {
        "colab": {
          "base_uri": "https://localhost:8080/",
          "height": 206
        },
        "id": "_1L_XSPDZQjB",
        "outputId": "11d9db39-20c1-442e-d91e-d6b3d5c58de3"
      },
      "outputs": [
        {
          "output_type": "execute_result",
          "data": {
            "text/plain": [
              "             0\n",
              "2296  0.900237\n",
              "8697  0.646428\n",
              "7378  0.220178\n",
              "8631  0.624710\n",
              "4799  0.929538"
            ],
            "text/html": [
              "\n",
              "  <div id=\"df-d3ceafa2-57ce-425b-9c18-20a724a31774\">\n",
              "    <div class=\"colab-df-container\">\n",
              "      <div>\n",
              "<style scoped>\n",
              "    .dataframe tbody tr th:only-of-type {\n",
              "        vertical-align: middle;\n",
              "    }\n",
              "\n",
              "    .dataframe tbody tr th {\n",
              "        vertical-align: top;\n",
              "    }\n",
              "\n",
              "    .dataframe thead th {\n",
              "        text-align: right;\n",
              "    }\n",
              "</style>\n",
              "<table border=\"1\" class=\"dataframe\">\n",
              "  <thead>\n",
              "    <tr style=\"text-align: right;\">\n",
              "      <th></th>\n",
              "      <th>0</th>\n",
              "    </tr>\n",
              "  </thead>\n",
              "  <tbody>\n",
              "    <tr>\n",
              "      <th>2296</th>\n",
              "      <td>0.900237</td>\n",
              "    </tr>\n",
              "    <tr>\n",
              "      <th>8697</th>\n",
              "      <td>0.646428</td>\n",
              "    </tr>\n",
              "    <tr>\n",
              "      <th>7378</th>\n",
              "      <td>0.220178</td>\n",
              "    </tr>\n",
              "    <tr>\n",
              "      <th>8631</th>\n",
              "      <td>0.624710</td>\n",
              "    </tr>\n",
              "    <tr>\n",
              "      <th>4799</th>\n",
              "      <td>0.929538</td>\n",
              "    </tr>\n",
              "  </tbody>\n",
              "</table>\n",
              "</div>\n",
              "      <button class=\"colab-df-convert\" onclick=\"convertToInteractive('df-d3ceafa2-57ce-425b-9c18-20a724a31774')\"\n",
              "              title=\"Convert this dataframe to an interactive table.\"\n",
              "              style=\"display:none;\">\n",
              "        \n",
              "  <svg xmlns=\"http://www.w3.org/2000/svg\" height=\"24px\"viewBox=\"0 0 24 24\"\n",
              "       width=\"24px\">\n",
              "    <path d=\"M0 0h24v24H0V0z\" fill=\"none\"/>\n",
              "    <path d=\"M18.56 5.44l.94 2.06.94-2.06 2.06-.94-2.06-.94-.94-2.06-.94 2.06-2.06.94zm-11 1L8.5 8.5l.94-2.06 2.06-.94-2.06-.94L8.5 2.5l-.94 2.06-2.06.94zm10 10l.94 2.06.94-2.06 2.06-.94-2.06-.94-.94-2.06-.94 2.06-2.06.94z\"/><path d=\"M17.41 7.96l-1.37-1.37c-.4-.4-.92-.59-1.43-.59-.52 0-1.04.2-1.43.59L10.3 9.45l-7.72 7.72c-.78.78-.78 2.05 0 2.83L4 21.41c.39.39.9.59 1.41.59.51 0 1.02-.2 1.41-.59l7.78-7.78 2.81-2.81c.8-.78.8-2.07 0-2.86zM5.41 20L4 18.59l7.72-7.72 1.47 1.35L5.41 20z\"/>\n",
              "  </svg>\n",
              "      </button>\n",
              "      \n",
              "  <style>\n",
              "    .colab-df-container {\n",
              "      display:flex;\n",
              "      flex-wrap:wrap;\n",
              "      gap: 12px;\n",
              "    }\n",
              "\n",
              "    .colab-df-convert {\n",
              "      background-color: #E8F0FE;\n",
              "      border: none;\n",
              "      border-radius: 50%;\n",
              "      cursor: pointer;\n",
              "      display: none;\n",
              "      fill: #1967D2;\n",
              "      height: 32px;\n",
              "      padding: 0 0 0 0;\n",
              "      width: 32px;\n",
              "    }\n",
              "\n",
              "    .colab-df-convert:hover {\n",
              "      background-color: #E2EBFA;\n",
              "      box-shadow: 0px 1px 2px rgba(60, 64, 67, 0.3), 0px 1px 3px 1px rgba(60, 64, 67, 0.15);\n",
              "      fill: #174EA6;\n",
              "    }\n",
              "\n",
              "    [theme=dark] .colab-df-convert {\n",
              "      background-color: #3B4455;\n",
              "      fill: #D2E3FC;\n",
              "    }\n",
              "\n",
              "    [theme=dark] .colab-df-convert:hover {\n",
              "      background-color: #434B5C;\n",
              "      box-shadow: 0px 1px 3px 1px rgba(0, 0, 0, 0.15);\n",
              "      filter: drop-shadow(0px 1px 2px rgba(0, 0, 0, 0.3));\n",
              "      fill: #FFFFFF;\n",
              "    }\n",
              "  </style>\n",
              "\n",
              "      <script>\n",
              "        const buttonEl =\n",
              "          document.querySelector('#df-d3ceafa2-57ce-425b-9c18-20a724a31774 button.colab-df-convert');\n",
              "        buttonEl.style.display =\n",
              "          google.colab.kernel.accessAllowed ? 'block' : 'none';\n",
              "\n",
              "        async function convertToInteractive(key) {\n",
              "          const element = document.querySelector('#df-d3ceafa2-57ce-425b-9c18-20a724a31774');\n",
              "          const dataTable =\n",
              "            await google.colab.kernel.invokeFunction('convertToInteractive',\n",
              "                                                     [key], {});\n",
              "          if (!dataTable) return;\n",
              "\n",
              "          const docLinkHtml = 'Like what you see? Visit the ' +\n",
              "            '<a target=\"_blank\" href=https://colab.research.google.com/notebooks/data_table.ipynb>data table notebook</a>'\n",
              "            + ' to learn more about interactive tables.';\n",
              "          element.innerHTML = '';\n",
              "          dataTable['output_type'] = 'display_data';\n",
              "          await google.colab.output.renderOutput(dataTable, element);\n",
              "          const docLink = document.createElement('div');\n",
              "          docLink.innerHTML = docLinkHtml;\n",
              "          element.appendChild(docLink);\n",
              "        }\n",
              "      </script>\n",
              "    </div>\n",
              "  </div>\n",
              "  "
            ]
          },
          "metadata": {},
          "execution_count": 162
        }
      ],
      "source": [
        "# Let's see the head\n",
        "\n",
        "y_pred_1.head()"
      ]
    },
    {
      "cell_type": "code",
      "execution_count": 163,
      "metadata": {
        "id": "fWS0QXs6ZQjB"
      },
      "outputs": [],
      "source": [
        "# Converting y_test to dataframe\n",
        "\n",
        "y_test_df = pd.DataFrame(y_test)"
      ]
    },
    {
      "cell_type": "code",
      "execution_count": 164,
      "metadata": {
        "id": "0sj32D--ZQjB"
      },
      "outputs": [],
      "source": [
        "# Putting LeadId to index\n",
        "\n",
        "y_test_df['LeadId'] = y_test_df.index"
      ]
    },
    {
      "cell_type": "code",
      "execution_count": 165,
      "metadata": {
        "id": "jcM4wA6cZQjC"
      },
      "outputs": [],
      "source": [
        "# Removing index for both dataframes to append them side by side \n",
        "\n",
        "y_pred_1.reset_index(drop=True, inplace=True)\n",
        "y_test_df.reset_index(drop=True, inplace=True)"
      ]
    },
    {
      "cell_type": "code",
      "execution_count": 166,
      "metadata": {
        "id": "KvFcyU-9ZQjC"
      },
      "outputs": [],
      "source": [
        "# Appending y_test_df and y_pred_1\n",
        "\n",
        "y_pred_final = pd.concat([y_test_df, y_pred_1],axis=1)"
      ]
    },
    {
      "cell_type": "code",
      "execution_count": 167,
      "metadata": {
        "colab": {
          "base_uri": "https://localhost:8080/",
          "height": 206
        },
        "id": "IytB8pNXZQjC",
        "outputId": "695de961-4c3c-4ca1-cd59-69370b6aa2f2"
      },
      "outputs": [
        {
          "output_type": "execute_result",
          "data": {
            "text/plain": [
              "   Converted  LeadId         0\n",
              "0          1    2296  0.900237\n",
              "1          0    8697  0.646428\n",
              "2          0    7378  0.220178\n",
              "3          0    8631  0.624710\n",
              "4          1    4799  0.929538"
            ],
            "text/html": [
              "\n",
              "  <div id=\"df-6e87edb6-624f-4671-89f9-4336b1dcbf21\">\n",
              "    <div class=\"colab-df-container\">\n",
              "      <div>\n",
              "<style scoped>\n",
              "    .dataframe tbody tr th:only-of-type {\n",
              "        vertical-align: middle;\n",
              "    }\n",
              "\n",
              "    .dataframe tbody tr th {\n",
              "        vertical-align: top;\n",
              "    }\n",
              "\n",
              "    .dataframe thead th {\n",
              "        text-align: right;\n",
              "    }\n",
              "</style>\n",
              "<table border=\"1\" class=\"dataframe\">\n",
              "  <thead>\n",
              "    <tr style=\"text-align: right;\">\n",
              "      <th></th>\n",
              "      <th>Converted</th>\n",
              "      <th>LeadId</th>\n",
              "      <th>0</th>\n",
              "    </tr>\n",
              "  </thead>\n",
              "  <tbody>\n",
              "    <tr>\n",
              "      <th>0</th>\n",
              "      <td>1</td>\n",
              "      <td>2296</td>\n",
              "      <td>0.900237</td>\n",
              "    </tr>\n",
              "    <tr>\n",
              "      <th>1</th>\n",
              "      <td>0</td>\n",
              "      <td>8697</td>\n",
              "      <td>0.646428</td>\n",
              "    </tr>\n",
              "    <tr>\n",
              "      <th>2</th>\n",
              "      <td>0</td>\n",
              "      <td>7378</td>\n",
              "      <td>0.220178</td>\n",
              "    </tr>\n",
              "    <tr>\n",
              "      <th>3</th>\n",
              "      <td>0</td>\n",
              "      <td>8631</td>\n",
              "      <td>0.624710</td>\n",
              "    </tr>\n",
              "    <tr>\n",
              "      <th>4</th>\n",
              "      <td>1</td>\n",
              "      <td>4799</td>\n",
              "      <td>0.929538</td>\n",
              "    </tr>\n",
              "  </tbody>\n",
              "</table>\n",
              "</div>\n",
              "      <button class=\"colab-df-convert\" onclick=\"convertToInteractive('df-6e87edb6-624f-4671-89f9-4336b1dcbf21')\"\n",
              "              title=\"Convert this dataframe to an interactive table.\"\n",
              "              style=\"display:none;\">\n",
              "        \n",
              "  <svg xmlns=\"http://www.w3.org/2000/svg\" height=\"24px\"viewBox=\"0 0 24 24\"\n",
              "       width=\"24px\">\n",
              "    <path d=\"M0 0h24v24H0V0z\" fill=\"none\"/>\n",
              "    <path d=\"M18.56 5.44l.94 2.06.94-2.06 2.06-.94-2.06-.94-.94-2.06-.94 2.06-2.06.94zm-11 1L8.5 8.5l.94-2.06 2.06-.94-2.06-.94L8.5 2.5l-.94 2.06-2.06.94zm10 10l.94 2.06.94-2.06 2.06-.94-2.06-.94-.94-2.06-.94 2.06-2.06.94z\"/><path d=\"M17.41 7.96l-1.37-1.37c-.4-.4-.92-.59-1.43-.59-.52 0-1.04.2-1.43.59L10.3 9.45l-7.72 7.72c-.78.78-.78 2.05 0 2.83L4 21.41c.39.39.9.59 1.41.59.51 0 1.02-.2 1.41-.59l7.78-7.78 2.81-2.81c.8-.78.8-2.07 0-2.86zM5.41 20L4 18.59l7.72-7.72 1.47 1.35L5.41 20z\"/>\n",
              "  </svg>\n",
              "      </button>\n",
              "      \n",
              "  <style>\n",
              "    .colab-df-container {\n",
              "      display:flex;\n",
              "      flex-wrap:wrap;\n",
              "      gap: 12px;\n",
              "    }\n",
              "\n",
              "    .colab-df-convert {\n",
              "      background-color: #E8F0FE;\n",
              "      border: none;\n",
              "      border-radius: 50%;\n",
              "      cursor: pointer;\n",
              "      display: none;\n",
              "      fill: #1967D2;\n",
              "      height: 32px;\n",
              "      padding: 0 0 0 0;\n",
              "      width: 32px;\n",
              "    }\n",
              "\n",
              "    .colab-df-convert:hover {\n",
              "      background-color: #E2EBFA;\n",
              "      box-shadow: 0px 1px 2px rgba(60, 64, 67, 0.3), 0px 1px 3px 1px rgba(60, 64, 67, 0.15);\n",
              "      fill: #174EA6;\n",
              "    }\n",
              "\n",
              "    [theme=dark] .colab-df-convert {\n",
              "      background-color: #3B4455;\n",
              "      fill: #D2E3FC;\n",
              "    }\n",
              "\n",
              "    [theme=dark] .colab-df-convert:hover {\n",
              "      background-color: #434B5C;\n",
              "      box-shadow: 0px 1px 3px 1px rgba(0, 0, 0, 0.15);\n",
              "      filter: drop-shadow(0px 1px 2px rgba(0, 0, 0, 0.3));\n",
              "      fill: #FFFFFF;\n",
              "    }\n",
              "  </style>\n",
              "\n",
              "      <script>\n",
              "        const buttonEl =\n",
              "          document.querySelector('#df-6e87edb6-624f-4671-89f9-4336b1dcbf21 button.colab-df-convert');\n",
              "        buttonEl.style.display =\n",
              "          google.colab.kernel.accessAllowed ? 'block' : 'none';\n",
              "\n",
              "        async function convertToInteractive(key) {\n",
              "          const element = document.querySelector('#df-6e87edb6-624f-4671-89f9-4336b1dcbf21');\n",
              "          const dataTable =\n",
              "            await google.colab.kernel.invokeFunction('convertToInteractive',\n",
              "                                                     [key], {});\n",
              "          if (!dataTable) return;\n",
              "\n",
              "          const docLinkHtml = 'Like what you see? Visit the ' +\n",
              "            '<a target=\"_blank\" href=https://colab.research.google.com/notebooks/data_table.ipynb>data table notebook</a>'\n",
              "            + ' to learn more about interactive tables.';\n",
              "          element.innerHTML = '';\n",
              "          dataTable['output_type'] = 'display_data';\n",
              "          await google.colab.output.renderOutput(dataTable, element);\n",
              "          const docLink = document.createElement('div');\n",
              "          docLink.innerHTML = docLinkHtml;\n",
              "          element.appendChild(docLink);\n",
              "        }\n",
              "      </script>\n",
              "    </div>\n",
              "  </div>\n",
              "  "
            ]
          },
          "metadata": {},
          "execution_count": 167
        }
      ],
      "source": [
        "y_pred_final.head()"
      ]
    },
    {
      "cell_type": "code",
      "execution_count": 168,
      "metadata": {
        "id": "ZlRb0_mCZQjC"
      },
      "outputs": [],
      "source": [
        "# Renaming the column \n",
        "\n",
        "y_pred_final= y_pred_final.rename(columns={ 0 : 'Converted_Prob'})"
      ]
    },
    {
      "cell_type": "code",
      "execution_count": null,
      "metadata": {
        "id": "qm8TzlcBZQjC"
      },
      "outputs": [],
      "source": [
        "# Rearranging the columns\n",
        "\n",
        "y_pred_final = y_pred_final.reindex_axis(['LeadId','Converted','Converted_Prob'], axis=1)"
      ]
    },
    {
      "cell_type": "code",
      "execution_count": 170,
      "metadata": {
        "colab": {
          "base_uri": "https://localhost:8080/",
          "height": 206
        },
        "id": "iZ8dTw90ZQjC",
        "outputId": "cd093d15-27c7-4ba4-fbbd-23f1eb0c0a0f"
      },
      "outputs": [
        {
          "output_type": "execute_result",
          "data": {
            "text/plain": [
              "   Converted  LeadId  Converted_Prob\n",
              "0          1    2296        0.900237\n",
              "1          0    8697        0.646428\n",
              "2          0    7378        0.220178\n",
              "3          0    8631        0.624710\n",
              "4          1    4799        0.929538"
            ],
            "text/html": [
              "\n",
              "  <div id=\"df-350ca7f5-81d3-4b67-bd67-49da77f04734\">\n",
              "    <div class=\"colab-df-container\">\n",
              "      <div>\n",
              "<style scoped>\n",
              "    .dataframe tbody tr th:only-of-type {\n",
              "        vertical-align: middle;\n",
              "    }\n",
              "\n",
              "    .dataframe tbody tr th {\n",
              "        vertical-align: top;\n",
              "    }\n",
              "\n",
              "    .dataframe thead th {\n",
              "        text-align: right;\n",
              "    }\n",
              "</style>\n",
              "<table border=\"1\" class=\"dataframe\">\n",
              "  <thead>\n",
              "    <tr style=\"text-align: right;\">\n",
              "      <th></th>\n",
              "      <th>Converted</th>\n",
              "      <th>LeadId</th>\n",
              "      <th>Converted_Prob</th>\n",
              "    </tr>\n",
              "  </thead>\n",
              "  <tbody>\n",
              "    <tr>\n",
              "      <th>0</th>\n",
              "      <td>1</td>\n",
              "      <td>2296</td>\n",
              "      <td>0.900237</td>\n",
              "    </tr>\n",
              "    <tr>\n",
              "      <th>1</th>\n",
              "      <td>0</td>\n",
              "      <td>8697</td>\n",
              "      <td>0.646428</td>\n",
              "    </tr>\n",
              "    <tr>\n",
              "      <th>2</th>\n",
              "      <td>0</td>\n",
              "      <td>7378</td>\n",
              "      <td>0.220178</td>\n",
              "    </tr>\n",
              "    <tr>\n",
              "      <th>3</th>\n",
              "      <td>0</td>\n",
              "      <td>8631</td>\n",
              "      <td>0.624710</td>\n",
              "    </tr>\n",
              "    <tr>\n",
              "      <th>4</th>\n",
              "      <td>1</td>\n",
              "      <td>4799</td>\n",
              "      <td>0.929538</td>\n",
              "    </tr>\n",
              "  </tbody>\n",
              "</table>\n",
              "</div>\n",
              "      <button class=\"colab-df-convert\" onclick=\"convertToInteractive('df-350ca7f5-81d3-4b67-bd67-49da77f04734')\"\n",
              "              title=\"Convert this dataframe to an interactive table.\"\n",
              "              style=\"display:none;\">\n",
              "        \n",
              "  <svg xmlns=\"http://www.w3.org/2000/svg\" height=\"24px\"viewBox=\"0 0 24 24\"\n",
              "       width=\"24px\">\n",
              "    <path d=\"M0 0h24v24H0V0z\" fill=\"none\"/>\n",
              "    <path d=\"M18.56 5.44l.94 2.06.94-2.06 2.06-.94-2.06-.94-.94-2.06-.94 2.06-2.06.94zm-11 1L8.5 8.5l.94-2.06 2.06-.94-2.06-.94L8.5 2.5l-.94 2.06-2.06.94zm10 10l.94 2.06.94-2.06 2.06-.94-2.06-.94-.94-2.06-.94 2.06-2.06.94z\"/><path d=\"M17.41 7.96l-1.37-1.37c-.4-.4-.92-.59-1.43-.59-.52 0-1.04.2-1.43.59L10.3 9.45l-7.72 7.72c-.78.78-.78 2.05 0 2.83L4 21.41c.39.39.9.59 1.41.59.51 0 1.02-.2 1.41-.59l7.78-7.78 2.81-2.81c.8-.78.8-2.07 0-2.86zM5.41 20L4 18.59l7.72-7.72 1.47 1.35L5.41 20z\"/>\n",
              "  </svg>\n",
              "      </button>\n",
              "      \n",
              "  <style>\n",
              "    .colab-df-container {\n",
              "      display:flex;\n",
              "      flex-wrap:wrap;\n",
              "      gap: 12px;\n",
              "    }\n",
              "\n",
              "    .colab-df-convert {\n",
              "      background-color: #E8F0FE;\n",
              "      border: none;\n",
              "      border-radius: 50%;\n",
              "      cursor: pointer;\n",
              "      display: none;\n",
              "      fill: #1967D2;\n",
              "      height: 32px;\n",
              "      padding: 0 0 0 0;\n",
              "      width: 32px;\n",
              "    }\n",
              "\n",
              "    .colab-df-convert:hover {\n",
              "      background-color: #E2EBFA;\n",
              "      box-shadow: 0px 1px 2px rgba(60, 64, 67, 0.3), 0px 1px 3px 1px rgba(60, 64, 67, 0.15);\n",
              "      fill: #174EA6;\n",
              "    }\n",
              "\n",
              "    [theme=dark] .colab-df-convert {\n",
              "      background-color: #3B4455;\n",
              "      fill: #D2E3FC;\n",
              "    }\n",
              "\n",
              "    [theme=dark] .colab-df-convert:hover {\n",
              "      background-color: #434B5C;\n",
              "      box-shadow: 0px 1px 3px 1px rgba(0, 0, 0, 0.15);\n",
              "      filter: drop-shadow(0px 1px 2px rgba(0, 0, 0, 0.3));\n",
              "      fill: #FFFFFF;\n",
              "    }\n",
              "  </style>\n",
              "\n",
              "      <script>\n",
              "        const buttonEl =\n",
              "          document.querySelector('#df-350ca7f5-81d3-4b67-bd67-49da77f04734 button.colab-df-convert');\n",
              "        buttonEl.style.display =\n",
              "          google.colab.kernel.accessAllowed ? 'block' : 'none';\n",
              "\n",
              "        async function convertToInteractive(key) {\n",
              "          const element = document.querySelector('#df-350ca7f5-81d3-4b67-bd67-49da77f04734');\n",
              "          const dataTable =\n",
              "            await google.colab.kernel.invokeFunction('convertToInteractive',\n",
              "                                                     [key], {});\n",
              "          if (!dataTable) return;\n",
              "\n",
              "          const docLinkHtml = 'Like what you see? Visit the ' +\n",
              "            '<a target=\"_blank\" href=https://colab.research.google.com/notebooks/data_table.ipynb>data table notebook</a>'\n",
              "            + ' to learn more about interactive tables.';\n",
              "          element.innerHTML = '';\n",
              "          dataTable['output_type'] = 'display_data';\n",
              "          await google.colab.output.renderOutput(dataTable, element);\n",
              "          const docLink = document.createElement('div');\n",
              "          docLink.innerHTML = docLinkHtml;\n",
              "          element.appendChild(docLink);\n",
              "        }\n",
              "      </script>\n",
              "    </div>\n",
              "  </div>\n",
              "  "
            ]
          },
          "metadata": {},
          "execution_count": 170
        }
      ],
      "source": [
        "y_pred_final.head()"
      ]
    },
    {
      "cell_type": "code",
      "execution_count": 171,
      "metadata": {
        "id": "Z6OFAeUZZQjC"
      },
      "outputs": [],
      "source": [
        "# Based on cut off threshold using accuracy, sensitivity and specificity of 0.37%\n",
        "\n",
        "y_pred_final['final_predicted'] = y_pred_final.Converted_Prob.map(lambda x: 1 if x > 0.37 else 0)"
      ]
    },
    {
      "cell_type": "code",
      "execution_count": 172,
      "metadata": {
        "colab": {
          "base_uri": "https://localhost:8080/",
          "height": 206
        },
        "id": "BENkSf7sZQjC",
        "outputId": "236c504c-0194-4d51-969e-d1b8ae56d412"
      },
      "outputs": [
        {
          "output_type": "execute_result",
          "data": {
            "text/plain": [
              "   Converted  LeadId  Converted_Prob  final_predicted\n",
              "0          1    2296        0.900237                1\n",
              "1          0    8697        0.646428                1\n",
              "2          0    7378        0.220178                0\n",
              "3          0    8631        0.624710                1\n",
              "4          1    4799        0.929538                1"
            ],
            "text/html": [
              "\n",
              "  <div id=\"df-4e5f454f-e91e-4551-a3d6-e02c32288649\">\n",
              "    <div class=\"colab-df-container\">\n",
              "      <div>\n",
              "<style scoped>\n",
              "    .dataframe tbody tr th:only-of-type {\n",
              "        vertical-align: middle;\n",
              "    }\n",
              "\n",
              "    .dataframe tbody tr th {\n",
              "        vertical-align: top;\n",
              "    }\n",
              "\n",
              "    .dataframe thead th {\n",
              "        text-align: right;\n",
              "    }\n",
              "</style>\n",
              "<table border=\"1\" class=\"dataframe\">\n",
              "  <thead>\n",
              "    <tr style=\"text-align: right;\">\n",
              "      <th></th>\n",
              "      <th>Converted</th>\n",
              "      <th>LeadId</th>\n",
              "      <th>Converted_Prob</th>\n",
              "      <th>final_predicted</th>\n",
              "    </tr>\n",
              "  </thead>\n",
              "  <tbody>\n",
              "    <tr>\n",
              "      <th>0</th>\n",
              "      <td>1</td>\n",
              "      <td>2296</td>\n",
              "      <td>0.900237</td>\n",
              "      <td>1</td>\n",
              "    </tr>\n",
              "    <tr>\n",
              "      <th>1</th>\n",
              "      <td>0</td>\n",
              "      <td>8697</td>\n",
              "      <td>0.646428</td>\n",
              "      <td>1</td>\n",
              "    </tr>\n",
              "    <tr>\n",
              "      <th>2</th>\n",
              "      <td>0</td>\n",
              "      <td>7378</td>\n",
              "      <td>0.220178</td>\n",
              "      <td>0</td>\n",
              "    </tr>\n",
              "    <tr>\n",
              "      <th>3</th>\n",
              "      <td>0</td>\n",
              "      <td>8631</td>\n",
              "      <td>0.624710</td>\n",
              "      <td>1</td>\n",
              "    </tr>\n",
              "    <tr>\n",
              "      <th>4</th>\n",
              "      <td>1</td>\n",
              "      <td>4799</td>\n",
              "      <td>0.929538</td>\n",
              "      <td>1</td>\n",
              "    </tr>\n",
              "  </tbody>\n",
              "</table>\n",
              "</div>\n",
              "      <button class=\"colab-df-convert\" onclick=\"convertToInteractive('df-4e5f454f-e91e-4551-a3d6-e02c32288649')\"\n",
              "              title=\"Convert this dataframe to an interactive table.\"\n",
              "              style=\"display:none;\">\n",
              "        \n",
              "  <svg xmlns=\"http://www.w3.org/2000/svg\" height=\"24px\"viewBox=\"0 0 24 24\"\n",
              "       width=\"24px\">\n",
              "    <path d=\"M0 0h24v24H0V0z\" fill=\"none\"/>\n",
              "    <path d=\"M18.56 5.44l.94 2.06.94-2.06 2.06-.94-2.06-.94-.94-2.06-.94 2.06-2.06.94zm-11 1L8.5 8.5l.94-2.06 2.06-.94-2.06-.94L8.5 2.5l-.94 2.06-2.06.94zm10 10l.94 2.06.94-2.06 2.06-.94-2.06-.94-.94-2.06-.94 2.06-2.06.94z\"/><path d=\"M17.41 7.96l-1.37-1.37c-.4-.4-.92-.59-1.43-.59-.52 0-1.04.2-1.43.59L10.3 9.45l-7.72 7.72c-.78.78-.78 2.05 0 2.83L4 21.41c.39.39.9.59 1.41.59.51 0 1.02-.2 1.41-.59l7.78-7.78 2.81-2.81c.8-.78.8-2.07 0-2.86zM5.41 20L4 18.59l7.72-7.72 1.47 1.35L5.41 20z\"/>\n",
              "  </svg>\n",
              "      </button>\n",
              "      \n",
              "  <style>\n",
              "    .colab-df-container {\n",
              "      display:flex;\n",
              "      flex-wrap:wrap;\n",
              "      gap: 12px;\n",
              "    }\n",
              "\n",
              "    .colab-df-convert {\n",
              "      background-color: #E8F0FE;\n",
              "      border: none;\n",
              "      border-radius: 50%;\n",
              "      cursor: pointer;\n",
              "      display: none;\n",
              "      fill: #1967D2;\n",
              "      height: 32px;\n",
              "      padding: 0 0 0 0;\n",
              "      width: 32px;\n",
              "    }\n",
              "\n",
              "    .colab-df-convert:hover {\n",
              "      background-color: #E2EBFA;\n",
              "      box-shadow: 0px 1px 2px rgba(60, 64, 67, 0.3), 0px 1px 3px 1px rgba(60, 64, 67, 0.15);\n",
              "      fill: #174EA6;\n",
              "    }\n",
              "\n",
              "    [theme=dark] .colab-df-convert {\n",
              "      background-color: #3B4455;\n",
              "      fill: #D2E3FC;\n",
              "    }\n",
              "\n",
              "    [theme=dark] .colab-df-convert:hover {\n",
              "      background-color: #434B5C;\n",
              "      box-shadow: 0px 1px 3px 1px rgba(0, 0, 0, 0.15);\n",
              "      filter: drop-shadow(0px 1px 2px rgba(0, 0, 0, 0.3));\n",
              "      fill: #FFFFFF;\n",
              "    }\n",
              "  </style>\n",
              "\n",
              "      <script>\n",
              "        const buttonEl =\n",
              "          document.querySelector('#df-4e5f454f-e91e-4551-a3d6-e02c32288649 button.colab-df-convert');\n",
              "        buttonEl.style.display =\n",
              "          google.colab.kernel.accessAllowed ? 'block' : 'none';\n",
              "\n",
              "        async function convertToInteractive(key) {\n",
              "          const element = document.querySelector('#df-4e5f454f-e91e-4551-a3d6-e02c32288649');\n",
              "          const dataTable =\n",
              "            await google.colab.kernel.invokeFunction('convertToInteractive',\n",
              "                                                     [key], {});\n",
              "          if (!dataTable) return;\n",
              "\n",
              "          const docLinkHtml = 'Like what you see? Visit the ' +\n",
              "            '<a target=\"_blank\" href=https://colab.research.google.com/notebooks/data_table.ipynb>data table notebook</a>'\n",
              "            + ' to learn more about interactive tables.';\n",
              "          element.innerHTML = '';\n",
              "          dataTable['output_type'] = 'display_data';\n",
              "          await google.colab.output.renderOutput(dataTable, element);\n",
              "          const docLink = document.createElement('div');\n",
              "          docLink.innerHTML = docLinkHtml;\n",
              "          element.appendChild(docLink);\n",
              "        }\n",
              "      </script>\n",
              "    </div>\n",
              "  </div>\n",
              "  "
            ]
          },
          "metadata": {},
          "execution_count": 172
        }
      ],
      "source": [
        "y_pred_final.head()"
      ]
    },
    {
      "cell_type": "code",
      "execution_count": 173,
      "metadata": {
        "colab": {
          "base_uri": "https://localhost:8080/",
          "height": 677
        },
        "id": "P2yPDAU6ZQjC",
        "outputId": "ace5f04b-a8fc-4046-e5fa-34ef09409063"
      },
      "outputs": [
        {
          "output_type": "execute_result",
          "data": {
            "text/plain": [
              "    Converted  LeadId  Converted_Prob  final_predicted  lead_score\n",
              "0           1    2296        0.900237                1          90\n",
              "1           0    8697        0.646428                1          65\n",
              "2           0    7378        0.220178                0          22\n",
              "3           0    8631        0.624710                1          62\n",
              "4           1    4799        0.929538                1          93\n",
              "5           0    4503        0.357159                0          36\n",
              "6           0    7129        0.864322                1          86\n",
              "7           0    1717        0.144057                0          14\n",
              "8           0    8398        0.866519                1          87\n",
              "9           1    5116        0.255602                0          26\n",
              "10          0    1838        0.213434                0          21\n",
              "11          1    5057        0.435444                1          44\n",
              "12          0    7015        0.010076                0           1\n",
              "13          0    6352        0.150591                0          15\n",
              "14          0     575        0.098334                0          10\n",
              "15          1    4597        0.159692                0          16\n",
              "16          0    8355        0.610163                1          61\n",
              "17          1    8574        0.503334                1          50\n",
              "18          0    4207        0.018933                0           2\n",
              "19          1    4420        0.752599                1          75"
            ],
            "text/html": [
              "\n",
              "  <div id=\"df-340232a3-6d17-4fcb-8284-c44d69a5fdb3\">\n",
              "    <div class=\"colab-df-container\">\n",
              "      <div>\n",
              "<style scoped>\n",
              "    .dataframe tbody tr th:only-of-type {\n",
              "        vertical-align: middle;\n",
              "    }\n",
              "\n",
              "    .dataframe tbody tr th {\n",
              "        vertical-align: top;\n",
              "    }\n",
              "\n",
              "    .dataframe thead th {\n",
              "        text-align: right;\n",
              "    }\n",
              "</style>\n",
              "<table border=\"1\" class=\"dataframe\">\n",
              "  <thead>\n",
              "    <tr style=\"text-align: right;\">\n",
              "      <th></th>\n",
              "      <th>Converted</th>\n",
              "      <th>LeadId</th>\n",
              "      <th>Converted_Prob</th>\n",
              "      <th>final_predicted</th>\n",
              "      <th>lead_score</th>\n",
              "    </tr>\n",
              "  </thead>\n",
              "  <tbody>\n",
              "    <tr>\n",
              "      <th>0</th>\n",
              "      <td>1</td>\n",
              "      <td>2296</td>\n",
              "      <td>0.900237</td>\n",
              "      <td>1</td>\n",
              "      <td>90</td>\n",
              "    </tr>\n",
              "    <tr>\n",
              "      <th>1</th>\n",
              "      <td>0</td>\n",
              "      <td>8697</td>\n",
              "      <td>0.646428</td>\n",
              "      <td>1</td>\n",
              "      <td>65</td>\n",
              "    </tr>\n",
              "    <tr>\n",
              "      <th>2</th>\n",
              "      <td>0</td>\n",
              "      <td>7378</td>\n",
              "      <td>0.220178</td>\n",
              "      <td>0</td>\n",
              "      <td>22</td>\n",
              "    </tr>\n",
              "    <tr>\n",
              "      <th>3</th>\n",
              "      <td>0</td>\n",
              "      <td>8631</td>\n",
              "      <td>0.624710</td>\n",
              "      <td>1</td>\n",
              "      <td>62</td>\n",
              "    </tr>\n",
              "    <tr>\n",
              "      <th>4</th>\n",
              "      <td>1</td>\n",
              "      <td>4799</td>\n",
              "      <td>0.929538</td>\n",
              "      <td>1</td>\n",
              "      <td>93</td>\n",
              "    </tr>\n",
              "    <tr>\n",
              "      <th>5</th>\n",
              "      <td>0</td>\n",
              "      <td>4503</td>\n",
              "      <td>0.357159</td>\n",
              "      <td>0</td>\n",
              "      <td>36</td>\n",
              "    </tr>\n",
              "    <tr>\n",
              "      <th>6</th>\n",
              "      <td>0</td>\n",
              "      <td>7129</td>\n",
              "      <td>0.864322</td>\n",
              "      <td>1</td>\n",
              "      <td>86</td>\n",
              "    </tr>\n",
              "    <tr>\n",
              "      <th>7</th>\n",
              "      <td>0</td>\n",
              "      <td>1717</td>\n",
              "      <td>0.144057</td>\n",
              "      <td>0</td>\n",
              "      <td>14</td>\n",
              "    </tr>\n",
              "    <tr>\n",
              "      <th>8</th>\n",
              "      <td>0</td>\n",
              "      <td>8398</td>\n",
              "      <td>0.866519</td>\n",
              "      <td>1</td>\n",
              "      <td>87</td>\n",
              "    </tr>\n",
              "    <tr>\n",
              "      <th>9</th>\n",
              "      <td>1</td>\n",
              "      <td>5116</td>\n",
              "      <td>0.255602</td>\n",
              "      <td>0</td>\n",
              "      <td>26</td>\n",
              "    </tr>\n",
              "    <tr>\n",
              "      <th>10</th>\n",
              "      <td>0</td>\n",
              "      <td>1838</td>\n",
              "      <td>0.213434</td>\n",
              "      <td>0</td>\n",
              "      <td>21</td>\n",
              "    </tr>\n",
              "    <tr>\n",
              "      <th>11</th>\n",
              "      <td>1</td>\n",
              "      <td>5057</td>\n",
              "      <td>0.435444</td>\n",
              "      <td>1</td>\n",
              "      <td>44</td>\n",
              "    </tr>\n",
              "    <tr>\n",
              "      <th>12</th>\n",
              "      <td>0</td>\n",
              "      <td>7015</td>\n",
              "      <td>0.010076</td>\n",
              "      <td>0</td>\n",
              "      <td>1</td>\n",
              "    </tr>\n",
              "    <tr>\n",
              "      <th>13</th>\n",
              "      <td>0</td>\n",
              "      <td>6352</td>\n",
              "      <td>0.150591</td>\n",
              "      <td>0</td>\n",
              "      <td>15</td>\n",
              "    </tr>\n",
              "    <tr>\n",
              "      <th>14</th>\n",
              "      <td>0</td>\n",
              "      <td>575</td>\n",
              "      <td>0.098334</td>\n",
              "      <td>0</td>\n",
              "      <td>10</td>\n",
              "    </tr>\n",
              "    <tr>\n",
              "      <th>15</th>\n",
              "      <td>1</td>\n",
              "      <td>4597</td>\n",
              "      <td>0.159692</td>\n",
              "      <td>0</td>\n",
              "      <td>16</td>\n",
              "    </tr>\n",
              "    <tr>\n",
              "      <th>16</th>\n",
              "      <td>0</td>\n",
              "      <td>8355</td>\n",
              "      <td>0.610163</td>\n",
              "      <td>1</td>\n",
              "      <td>61</td>\n",
              "    </tr>\n",
              "    <tr>\n",
              "      <th>17</th>\n",
              "      <td>1</td>\n",
              "      <td>8574</td>\n",
              "      <td>0.503334</td>\n",
              "      <td>1</td>\n",
              "      <td>50</td>\n",
              "    </tr>\n",
              "    <tr>\n",
              "      <th>18</th>\n",
              "      <td>0</td>\n",
              "      <td>4207</td>\n",
              "      <td>0.018933</td>\n",
              "      <td>0</td>\n",
              "      <td>2</td>\n",
              "    </tr>\n",
              "    <tr>\n",
              "      <th>19</th>\n",
              "      <td>1</td>\n",
              "      <td>4420</td>\n",
              "      <td>0.752599</td>\n",
              "      <td>1</td>\n",
              "      <td>75</td>\n",
              "    </tr>\n",
              "  </tbody>\n",
              "</table>\n",
              "</div>\n",
              "      <button class=\"colab-df-convert\" onclick=\"convertToInteractive('df-340232a3-6d17-4fcb-8284-c44d69a5fdb3')\"\n",
              "              title=\"Convert this dataframe to an interactive table.\"\n",
              "              style=\"display:none;\">\n",
              "        \n",
              "  <svg xmlns=\"http://www.w3.org/2000/svg\" height=\"24px\"viewBox=\"0 0 24 24\"\n",
              "       width=\"24px\">\n",
              "    <path d=\"M0 0h24v24H0V0z\" fill=\"none\"/>\n",
              "    <path d=\"M18.56 5.44l.94 2.06.94-2.06 2.06-.94-2.06-.94-.94-2.06-.94 2.06-2.06.94zm-11 1L8.5 8.5l.94-2.06 2.06-.94-2.06-.94L8.5 2.5l-.94 2.06-2.06.94zm10 10l.94 2.06.94-2.06 2.06-.94-2.06-.94-.94-2.06-.94 2.06-2.06.94z\"/><path d=\"M17.41 7.96l-1.37-1.37c-.4-.4-.92-.59-1.43-.59-.52 0-1.04.2-1.43.59L10.3 9.45l-7.72 7.72c-.78.78-.78 2.05 0 2.83L4 21.41c.39.39.9.59 1.41.59.51 0 1.02-.2 1.41-.59l7.78-7.78 2.81-2.81c.8-.78.8-2.07 0-2.86zM5.41 20L4 18.59l7.72-7.72 1.47 1.35L5.41 20z\"/>\n",
              "  </svg>\n",
              "      </button>\n",
              "      \n",
              "  <style>\n",
              "    .colab-df-container {\n",
              "      display:flex;\n",
              "      flex-wrap:wrap;\n",
              "      gap: 12px;\n",
              "    }\n",
              "\n",
              "    .colab-df-convert {\n",
              "      background-color: #E8F0FE;\n",
              "      border: none;\n",
              "      border-radius: 50%;\n",
              "      cursor: pointer;\n",
              "      display: none;\n",
              "      fill: #1967D2;\n",
              "      height: 32px;\n",
              "      padding: 0 0 0 0;\n",
              "      width: 32px;\n",
              "    }\n",
              "\n",
              "    .colab-df-convert:hover {\n",
              "      background-color: #E2EBFA;\n",
              "      box-shadow: 0px 1px 2px rgba(60, 64, 67, 0.3), 0px 1px 3px 1px rgba(60, 64, 67, 0.15);\n",
              "      fill: #174EA6;\n",
              "    }\n",
              "\n",
              "    [theme=dark] .colab-df-convert {\n",
              "      background-color: #3B4455;\n",
              "      fill: #D2E3FC;\n",
              "    }\n",
              "\n",
              "    [theme=dark] .colab-df-convert:hover {\n",
              "      background-color: #434B5C;\n",
              "      box-shadow: 0px 1px 3px 1px rgba(0, 0, 0, 0.15);\n",
              "      filter: drop-shadow(0px 1px 2px rgba(0, 0, 0, 0.3));\n",
              "      fill: #FFFFFF;\n",
              "    }\n",
              "  </style>\n",
              "\n",
              "      <script>\n",
              "        const buttonEl =\n",
              "          document.querySelector('#df-340232a3-6d17-4fcb-8284-c44d69a5fdb3 button.colab-df-convert');\n",
              "        buttonEl.style.display =\n",
              "          google.colab.kernel.accessAllowed ? 'block' : 'none';\n",
              "\n",
              "        async function convertToInteractive(key) {\n",
              "          const element = document.querySelector('#df-340232a3-6d17-4fcb-8284-c44d69a5fdb3');\n",
              "          const dataTable =\n",
              "            await google.colab.kernel.invokeFunction('convertToInteractive',\n",
              "                                                     [key], {});\n",
              "          if (!dataTable) return;\n",
              "\n",
              "          const docLinkHtml = 'Like what you see? Visit the ' +\n",
              "            '<a target=\"_blank\" href=https://colab.research.google.com/notebooks/data_table.ipynb>data table notebook</a>'\n",
              "            + ' to learn more about interactive tables.';\n",
              "          element.innerHTML = '';\n",
              "          dataTable['output_type'] = 'display_data';\n",
              "          await google.colab.output.renderOutput(dataTable, element);\n",
              "          const docLink = document.createElement('div');\n",
              "          docLink.innerHTML = docLinkHtml;\n",
              "          element.appendChild(docLink);\n",
              "        }\n",
              "      </script>\n",
              "    </div>\n",
              "  </div>\n",
              "  "
            ]
          },
          "metadata": {},
          "execution_count": 173
        }
      ],
      "source": [
        "# Now let us calculate the lead score\n",
        "\n",
        "y_pred_final['lead_score'] = y_pred_final.Converted_Prob.map(lambda x: round(x*100))\n",
        "y_pred_final.head(20)"
      ]
    },
    {
      "cell_type": "code",
      "execution_count": 174,
      "metadata": {
        "colab": {
          "base_uri": "https://localhost:8080/"
        },
        "id": "jvbF7K1HZQjD",
        "outputId": "f521e15c-01e1-4402-8270-ac5ec05893bd"
      },
      "outputs": [
        {
          "output_type": "execute_result",
          "data": {
            "text/plain": [
              "1    810\n",
              "0    205\n",
              "Name: final_predicted, dtype: int64"
            ]
          },
          "metadata": {},
          "execution_count": 174
        }
      ],
      "source": [
        "# checking if 80% cases are correctly predicted based on the converted column.\n",
        "\n",
        "# get the total of final predicted conversion or non conversion counts from the actual converted rates\n",
        "\n",
        "checking_test_df = y_pred_final.loc[y_pred_final['Converted']==1,['Converted','final_predicted']]\n",
        "checking_test_df['final_predicted'].value_counts()"
      ]
    },
    {
      "cell_type": "code",
      "execution_count": 175,
      "metadata": {
        "colab": {
          "base_uri": "https://localhost:8080/"
        },
        "id": "_eRfnNG5ZQjD",
        "outputId": "5c76e51f-cdb2-486a-d235-68c853ea8cd8"
      },
      "outputs": [
        {
          "output_type": "execute_result",
          "data": {
            "text/plain": [
              "0.7852216748768472"
            ]
          },
          "metadata": {},
          "execution_count": 175
        }
      ],
      "source": [
        "# check the precentage of final_predicted conversions on test data\n",
        "\n",
        "797/float(797+218)"
      ]
    },
    {
      "cell_type": "markdown",
      "metadata": {
        "id": "mFAn7Nk-ZQjD"
      },
      "source": [
        "##### Hence we can see that the final prediction of conversions have a target rate of 79% (78.5%) (Around 1 % short of the predictions made on training data set)"
      ]
    },
    {
      "cell_type": "markdown",
      "metadata": {
        "id": "Hp2MlHgAZQjD"
      },
      "source": [
        "##### Overall Metrics - Accuracy, Confusion Metrics, Sensitivity, Specificity  on test set"
      ]
    },
    {
      "cell_type": "code",
      "execution_count": 176,
      "metadata": {
        "colab": {
          "base_uri": "https://localhost:8080/"
        },
        "id": "AFjq2CS_ZQjH",
        "outputId": "151dd6f3-b2c9-4b3a-bf13-b678ba76476d"
      },
      "outputs": [
        {
          "output_type": "execute_result",
          "data": {
            "text/plain": [
              "0.813953488372093"
            ]
          },
          "metadata": {},
          "execution_count": 176
        }
      ],
      "source": [
        "# Let's check the accuracy.\n",
        "\n",
        "metrics.accuracy_score(y_pred_final.Converted, y_pred_final.final_predicted)"
      ]
    },
    {
      "cell_type": "code",
      "execution_count": 177,
      "metadata": {
        "colab": {
          "base_uri": "https://localhost:8080/"
        },
        "id": "cToXut8sZQjH",
        "outputId": "ab68a36d-31dd-4b04-effe-b9a1b660ffef"
      },
      "outputs": [
        {
          "output_type": "execute_result",
          "data": {
            "text/plain": [
              "array([[1395,  299],\n",
              "       [ 205,  810]])"
            ]
          },
          "metadata": {},
          "execution_count": 177
        }
      ],
      "source": [
        "confusion2 = metrics.confusion_matrix(y_pred_final.Converted, y_pred_final.final_predicted )\n",
        "confusion2"
      ]
    },
    {
      "cell_type": "code",
      "execution_count": 178,
      "metadata": {
        "id": "129NS02bZQjH"
      },
      "outputs": [],
      "source": [
        "TP = confusion2[1,1] # true positive \n",
        "TN = confusion2[0,0] # true negatives\n",
        "FP = confusion2[0,1] # false positives\n",
        "FN = confusion2[1,0] # false negatives"
      ]
    },
    {
      "cell_type": "code",
      "execution_count": 179,
      "metadata": {
        "colab": {
          "base_uri": "https://localhost:8080/"
        },
        "id": "py-rm9QZZQjH",
        "outputId": "b869ad01-c4b0-40b5-82bd-76f40df7e25f"
      },
      "outputs": [
        {
          "output_type": "execute_result",
          "data": {
            "text/plain": [
              "0.7980295566502463"
            ]
          },
          "metadata": {},
          "execution_count": 179
        }
      ],
      "source": [
        "# Let's see the sensitivity of our logistic regression model\n",
        "TP / float(TP+FN)"
      ]
    },
    {
      "cell_type": "code",
      "execution_count": 180,
      "metadata": {
        "colab": {
          "base_uri": "https://localhost:8080/"
        },
        "id": "wN1WVP-mZQjH",
        "outputId": "9af280de-bc14-473a-b3ad-c37a0c286b7a"
      },
      "outputs": [
        {
          "output_type": "execute_result",
          "data": {
            "text/plain": [
              "0.8234946871310508"
            ]
          },
          "metadata": {},
          "execution_count": 180
        }
      ],
      "source": [
        "# Let us calculate specificity\n",
        "TN / float(TN+FP)"
      ]
    },
    {
      "cell_type": "markdown",
      "metadata": {
        "id": "6tmfiVCGZQjI"
      },
      "source": [
        "##### Precision and Recall metrics for the test set "
      ]
    },
    {
      "cell_type": "code",
      "execution_count": 181,
      "metadata": {
        "colab": {
          "base_uri": "https://localhost:8080/"
        },
        "id": "cLkSaI42ZQjI",
        "outputId": "39fb3ebe-2cde-46b3-dfe9-b96b6ccd6748"
      },
      "outputs": [
        {
          "output_type": "stream",
          "name": "stdout",
          "text": [
            "precision  0.7303877366997295\n",
            "recall  0.7980295566502463\n"
          ]
        }
      ],
      "source": [
        "# precision\n",
        "print('precision ',precision_score(y_pred_final.Converted, y_pred_final.final_predicted))\n",
        "\n",
        "# recall\n",
        "print('recall ',recall_score(y_pred_final.Converted, y_pred_final.final_predicted))"
      ]
    },
    {
      "cell_type": "code",
      "execution_count": 182,
      "metadata": {
        "colab": {
          "base_uri": "https://localhost:8080/",
          "height": 265
        },
        "id": "vdsS_Cd3ZQjI",
        "outputId": "60580641-5b3d-40e5-c758-95ca4150e8b5"
      },
      "outputs": [
        {
          "output_type": "display_data",
          "data": {
            "text/plain": [
              "<Figure size 432x288 with 1 Axes>"
            ],
            "image/png": "[encoded data removed]"
          },
          "metadata": {
            "needs_background": "light"
          }
        }
      ],
      "source": [
        "\n",
        "p, r, thresholds = precision_recall_curve(y_pred_final.Converted, y_pred_final.Converted_Prob)\n",
        "\n",
        "plt.plot(thresholds, p[:-1], \"g-\")\n",
        "plt.plot(thresholds, r[:-1], \"r-\")\n",
        "plt.show()"
      ]
    },
    {
      "cell_type": "markdown",
      "metadata": {
        "id": "9MOUjePoZQjI"
      },
      "source": [
        "Conclusion :\n",
        "    \n",
        "    - While we have checked both Sensitivity-Specificity as well as Precision and Recall Metrics, we have considered the\n",
        "      optimal \n",
        "      cut off based on Sensitivity and Specificity for calculating the final prediction.\n",
        "    - Accuracy, Sensitivity and Specificity values of test set are around 81%, 79% and 82% which are approximately closer to \n",
        "      the respective values calculated using trained set.\n",
        "    - Also the lead score calculated in the trained set of data shows the conversion rate on the final predicted model is \n",
        "      around 80%\n",
        "    - Hence overall this model seems to be good.   "
      ]
    },
    {
      "cell_type": "code",
      "source": [],
      "metadata": {
        "id": "uk4N__HlbK8i"
      },
      "execution_count": null,
      "outputs": []
    }
  ],
  "metadata": {
    "kernelspec": {
      "display_name": "Python 3.9.7 ('base')",
      "language": "python",
      "name": "python3"
    },
    "language_info": {
      "codemirror_mode": {
        "name": "ipython",
        "version": 3
      },
      "file_extension": ".py",
      "mimetype": "text/x-python",
      "name": "python",
      "nbconvert_exporter": "python",
      "pygments_lexer": "ipython3",
      "version": "3.9.7"
    },
    "vscode": {
      "interpreter": {
        "hash": "87ba2fee7332d1c745829aec5b652c61a2e31b1fa2e909631efeb875e5896198"
      }
    },
    "colab": {
      "provenance": []
    }
  },
  "nbformat": 4,
  "nbformat_minor": 0
}